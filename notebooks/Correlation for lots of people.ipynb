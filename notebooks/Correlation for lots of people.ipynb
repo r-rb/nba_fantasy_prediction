{
 "cells": [
  {
   "cell_type": "code",
   "execution_count": 35,
   "metadata": {},
   "outputs": [],
   "source": [
    "import seaborn as sns\n",
    "import matplotlib.pyplot as plt\n",
    "%matplotlib tk\n",
    "import pandas as pd\n",
    "import pickle\n",
    "import numpy as np\n",
    "import datetime as dt\n",
    "import pandas as pd\n",
    "sns.set()\n",
    "from scipy.stats.stats import pearsonr"
   ]
  },
  {
   "cell_type": "code",
   "execution_count": 13,
   "metadata": {},
   "outputs": [],
   "source": [
    "def create_input_features(pid, n, df, feats):\n",
    "    rows = df.loc[ df['player_id'] == pid]\n",
    "    rows = rows.sort_values(\"game_date\")\n",
    "\n",
    "    X = np.zeros(( (len(rows) - (n), (len(feats)*n)) ))\n",
    "    y= np.zeros((len(rows) - (n)))\n",
    "\n",
    "    for i in range(n, (len(rows) - 1)):\n",
    "        last_n = rows.iloc[(i - n) : i]\n",
    "        #X[(i - n),0] = pid\n",
    "        for a,feat in enumerate(feats):\n",
    "            start_idx = a*n\n",
    "            end_idx = start_idx + n\n",
    "            X[(i - n),start_idx:end_idx] = last_n[feat].tolist()\n",
    "        y[(i - n)] = rows.iloc[i][\"fantasy_points\"]\n",
    "        \n",
    "    return X, y"
   ]
  },
  {
   "cell_type": "code",
   "execution_count": 14,
   "metadata": {},
   "outputs": [],
   "source": [
    "# Base DataFrame\n",
    "df = pd.read_pickle('../data/player_game_table.pkl')"
   ]
  },
  {
   "cell_type": "code",
   "execution_count": 61,
   "metadata": {},
   "outputs": [],
   "source": [
    "# How many games in the past do we want to consider.\n",
    "n = 20\n",
    "\n",
    "# Who we wanna check.\n",
    "pid_list = ['201935','201939','200768']\n",
    "\n",
    "# What we wanna check.\n",
    "features = ['ast','blk','dreb','fg3_pct','fg3a','fg3m','fg_pct','fga','fgm','ft_pct',\n",
    "            'fta','ftm','min','oreb','pts','reb','stl','to','fantasy_points']\n",
    "\n",
    "# Initialise a array to store the pearson\n",
    "ps_vals = np.zeros( (len(pid_list), n, len(features)) )\n",
    "\n",
    "# Loop over all pid X feature X game number combinations.\n",
    "for idx,pid in enumerate(pid_list):\n",
    "    X, y = create_input_features(pid, n, df, features)\n",
    "    for g in range(len(features)):\n",
    "        pearsons = np.zeros((n))\n",
    "        for i in range(n):\n",
    "            last_i = X[:,i::n]\n",
    "            pearsons[i] = pearsonr(last_i[:,g],y)[0]\n",
    "        ps_vals[idx,:,g] = pearsons"
   ]
  },
  {
   "cell_type": "code",
   "execution_count": 62,
   "metadata": {},
   "outputs": [],
   "source": [
    "# Visualise colour maps of the size n X number of features.\n",
    "# Artificially colour values to 0.2 to 0.5\n",
    "for i in range(len(pid_list)):\n",
    "    plt.figure(i)\n",
    "    sns.heatmap(ps_vals[i,:,:],square = True,linewidths=.5,vmin = 0.0,vmax = 0.6,xticklabels = features)\n",
    "    plt.title(pid_list[i])\n",
    "plt.show()\n"
   ]
  },
  {
   "cell_type": "code",
   "execution_count": null,
   "metadata": {},
   "outputs": [],
   "source": []
  }
 ],
 "metadata": {
  "kernelspec": {
   "display_name": "Python 3",
   "language": "python",
   "name": "python3"
  },
  "language_info": {
   "codemirror_mode": {
    "name": "ipython",
    "version": 3
   },
   "file_extension": ".py",
   "mimetype": "text/x-python",
   "name": "python",
   "nbconvert_exporter": "python",
   "pygments_lexer": "ipython3",
   "version": "3.6.5"
  }
 },
 "nbformat": 4,
 "nbformat_minor": 2
}
