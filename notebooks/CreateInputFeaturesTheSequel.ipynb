{
 "cells": [
  {
   "cell_type": "code",
   "execution_count": 1,
   "metadata": {},
   "outputs": [],
   "source": [
    "import matplotlib.pyplot as plt\n",
    "import pandas as pd\n",
    "import pickle\n",
    "import numpy as np\n",
    "import datetime as dt\n",
    "import pprint as pp\n",
    "import pandas as pd\n",
    "from IPython.display import display\n",
    "\n"
   ]
  },
  {
   "cell_type": "code",
   "execution_count": 2,
   "metadata": {},
   "outputs": [],
   "source": [
    "df = pd.read_pickle('../data/player_game_table.pkl')\n",
    "df2 = pd.read_pickle('./player_vs_table_3.pkl')\n",
    "\n",
    "features = ['ast','blk','dreb','fg3a','fg3m','fga','fgm','fta','ftm','min','oreb', 'pts','reb','stl','to',\n",
    "            'fantasy_points']\n",
    "matchup_features = ['fgm','fga','fg3m','fg3a','ftm','fta','oreb','dreb','reb','ast','tov','stl','blk','pts',\"fantasy_points\"]"
   ]
  },
  {
   "cell_type": "code",
   "execution_count": 18,
   "metadata": {},
   "outputs": [],
   "source": [
    "def create_input_features(pid, n, df, feats):\n",
    "    rows = df.loc[ (df['player_id'] == pid) & (df['season'] == \"2017-2018\")]\n",
    "    rows = rows.sort_values(\"game_date\")\n",
    "\n",
    "    X = np.zeros(( (len(rows) - (n), (len(feats)*n)+len(matchup_features))))\n",
    "    y= np.zeros((len(rows) - (n)))\n",
    "\n",
    "    for i in range(n, (len(rows) - 1)):\n",
    "        last_n = rows.iloc[(i - n) : i]\n",
    "        #X[(i - n),0] = pid\n",
    "        fp_opp = []\n",
    "        min_opp = []\n",
    "        \n",
    "        for a,feat in enumerate(feats):\n",
    "            start_idx = a*n\n",
    "            end_idx = start_idx + n\n",
    "            X[(i - n),start_idx:end_idx] = last_n[feat].tolist()\n",
    "        print(\"Progress is being made\")\n",
    "        for b,mufeat in enumerate(matchup_features):\n",
    "            #Calculate matchup statistics\n",
    "            current_game = df.iloc[i].game_id\n",
    "            pids = df.loc[df.game_id == current_game].player_id\n",
    "            for pid in pids:\n",
    "                x = df2.loc[(df2.player_id =='2544') & (df2.player_vs_id == pid) & (df2.season == '2016-17')]\n",
    "                if len(x)>0:\n",
    "                    fp_opp.append(x[mufeat].values[0])\n",
    "                    min_opp.append(x[\"min\"].values[0])\n",
    "                    \n",
    "            feature_average = np.ma.average(fp_opp,weights = min_opp)\n",
    "            X[(i-n), len(feats)*n+b] = feature_average\n",
    "            \n",
    "        y[i-n] = rows.iloc[i][\"fantasy_points\"]\n",
    "        \n",
    "    return X, y"
   ]
  },
  {
   "cell_type": "code",
   "execution_count": 20,
   "metadata": {},
   "outputs": [
    {
     "name": "stdout",
     "output_type": "stream",
     "text": [
      "Progress is being made\n",
      "Progress is being made\n",
      "Progress is being made\n",
      "Progress is being made\n",
      "Progress is being made\n",
      "Progress is being made\n",
      "Progress is being made\n",
      "Progress is being made\n",
      "Progress is being made\n",
      "Progress is being made\n",
      "Progress is being made\n",
      "Progress is being made\n",
      "Progress is being made\n",
      "Progress is being made\n",
      "Progress is being made\n",
      "Progress is being made\n",
      "Progress is being made\n",
      "Progress is being made\n",
      "Progress is being made\n",
      "Progress is being made\n",
      "Progress is being made\n",
      "Progress is being made\n",
      "Progress is being made\n",
      "Progress is being made\n",
      "Progress is being made\n",
      "Progress is being made\n",
      "Progress is being made\n",
      "Progress is being made\n",
      "Progress is being made\n",
      "Progress is being made\n",
      "Progress is being made\n",
      "Progress is being made\n",
      "Progress is being made\n",
      "Progress is being made\n",
      "Progress is being made\n",
      "Progress is being made\n",
      "Progress is being made\n",
      "Progress is being made\n",
      "Progress is being made\n",
      "Progress is being made\n",
      "Progress is being made\n",
      "Progress is being made\n",
      "Progress is being made\n",
      "Progress is being made\n",
      "Progress is being made\n",
      "Progress is being made\n",
      "Progress is being made\n",
      "Progress is being made\n",
      "Progress is being made\n",
      "Progress is being made\n",
      "Progress is being made\n",
      "Progress is being made\n",
      "Progress is being made\n",
      "Progress is being made\n",
      "Progress is being made\n",
      "Progress is being made\n",
      "Progress is being made\n",
      "Progress is being made\n",
      "Progress is being made\n",
      "Progress is being made\n",
      "Progress is being made\n",
      "Progress is being made\n",
      "Progress is being made\n",
      "Progress is being made\n",
      "Progress is being made\n",
      "Progress is being made\n",
      "Progress is being made\n",
      "Progress is being made\n",
      "Progress is being made\n",
      "Progress is being made\n",
      "Progress is being made\n",
      "Progress is being made\n",
      "Progress is being made\n",
      "Progress is being made\n",
      "Progress is being made\n",
      "Progress is being made\n"
     ]
    },
    {
     "data": {
      "image/png": "[encoded data removed]",
      "text/plain": [
       "<Figure size 432x288 with 1 Axes>"
      ]
     },
     "metadata": {
      "needs_background": "light"
     },
     "output_type": "display_data"
    }
   ],
   "source": [
    "X, y = create_input_features('2544', 5, df, features)\n",
    "lebron_dict = {}\n",
    "lebron_dict[\"X\"] = X\n",
    "lebron_dict[\"y\"] = y\n",
    "\n",
    "with open('lebron_2018.pkl', 'wb') as fp:\n",
    "    pickle.dump(lebron_dict, fp, protocol=pickle.HIGHEST_PROTOCOL)\n",
    "\n",
    "\n",
    "plt.plot([i for i in range(len(y))],y)\n",
    "plt.show()"
   ]
  }
 ],
 "metadata": {
  "kernelspec": {
   "display_name": "Python 3",
   "language": "python",
   "name": "python3"
  },
  "language_info": {
   "codemirror_mode": {
    "name": "ipython",
    "version": 3
   },
   "file_extension": ".py",
   "mimetype": "text/x-python",
   "name": "python",
   "nbconvert_exporter": "python",
   "pygments_lexer": "ipython3",
   "version": "3.7.0"
  }
 },
 "nbformat": 4,
 "nbformat_minor": 2
}
