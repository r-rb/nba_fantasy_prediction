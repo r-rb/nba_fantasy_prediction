{
 "cells": [
  {
   "cell_type": "code",
   "execution_count": 66,
   "metadata": {},
   "outputs": [],
   "source": [
    "import matplotlib.pyplot as plt\n",
    "import pandas as pd\n",
    "import pickle\n",
    "import numpy as np\n",
    "import datetime as dt\n",
    "import pprint as pp\n",
    "import pandas as pd\n",
    "%matplotlib tk\n",
    "from sklearn.preprocessing import StandardScaler,MinMaxScaler"
   ]
  },
  {
   "cell_type": "markdown",
   "metadata": {},
   "source": [
    "# Load in input features"
   ]
  },
  {
   "cell_type": "code",
   "execution_count": 88,
   "metadata": {},
   "outputs": [],
   "source": [
    "X = np.load(\"./X.npy\")\n",
    "y = np.load(\"./y.npy\")\n",
    "y = y[:-1]\n",
    "X = X[:-1]\n",
    "X_avg = np.zeros((681,22))\n",
    "\n",
    "y = y - np.mean(X[:,-5:len(X[:,0])],axis=1)\n",
    "for i in range(22):\n",
    "    X_avg[:,i] = np.mean(X[:,5*i:5+5*i],axis =1)\n",
    "    \n",
    "scaler = MinMaxScaler()\n",
    "\n",
    "X = scaler.fit_transform(X,y)"
   ]
  },
  {
   "cell_type": "markdown",
   "metadata": {},
   "source": [
    "# Visualise target"
   ]
  },
  {
   "cell_type": "code",
   "execution_count": 90,
   "metadata": {},
   "outputs": [
    {
     "name": "stdout",
     "output_type": "stream",
     "text": [
      "681\n"
     ]
    }
   ],
   "source": [
    "plt.plot(list(range(0,len(y))),y)\n",
    "\n",
    "plt.show()\n",
    "print(len(y))"
   ]
  },
  {
   "cell_type": "markdown",
   "metadata": {},
   "source": [
    "# SVR"
   ]
  },
  {
   "cell_type": "code",
   "execution_count": 100,
   "metadata": {},
   "outputs": [
    {
     "name": "stdout",
     "output_type": "stream",
     "text": [
      "sigmoid\n"
     ]
    }
   ],
   "source": [
    "from sklearn.svm import SVR\n",
    "\n",
    "SVR_container = []\n",
    "\n",
    "SVR_container.append(SVR(C=50.0, cache_size=500, coef0=1.0, degree=3, epsilon=0.001, gamma='auto',\n",
    "  kernel='sigmoid', max_iter=-1, shrinking=True, tol=0.01, verbose=True))\n",
    "\n",
    "SVR_container.append(SVR(C=50.0, cache_size=500, coef0=0.0, degree=4, epsilon=0.001, gamma='auto',\n",
    "  kernel='poly', max_iter=-1, shrinking=True, tol=0.01, verbose=True))\n",
    "\n",
    "SVR_container.append(SVR(C=50.0, cache_size=500, coef0=1.0, degree=3, epsilon=0.001, gamma='auto',\n",
    "  kernel='rbf', max_iter=-1, shrinking=True, tol=0.01, verbose=True))1\n",
    "\n",
    "print(SVR_container[0].kernel)"
   ]
  },
  {
   "cell_type": "code",
   "execution_count": 101,
   "metadata": {},
   "outputs": [
    {
     "name": "stdout",
     "output_type": "stream",
     "text": [
      "[LibSVM]-0.009565987241904939\n",
      "[LibSVM]0.007969930436398598\n",
      "[LibSVM]-0.04764346292139199\n"
     ]
    }
   ],
   "source": [
    "# Training:\n",
    "n = 500\n",
    "\n",
    "for svr in SVR_container:\n",
    "    svr.fit(X[:n],y[:n])\n",
    "    y_pred = svr.predict(X)\n",
    "    # Only score unseen inputs.\n",
    "    print(svr.score(X[n:],y[n:]))\n",
    "    plt.figure()\n",
    "    plt.title(svr.kernel)\n",
    "    plt.plot(list(range(len(y) )),y,'b')\n",
    "    plt.plot(list(range(len(y_pred) )),y_pred,'r')\n"
   ]
  }
 ],
 "metadata": {
  "kernelspec": {
   "display_name": "Python 3",
   "language": "python",
   "name": "python3"
  },
  "language_info": {
   "codemirror_mode": {
    "name": "ipython",
    "version": 3
   },
   "file_extension": ".py",
   "mimetype": "text/x-python",
   "name": "python",
   "nbconvert_exporter": "python",
   "pygments_lexer": "ipython3",
   "version": "3.6.5"
  }
 },
 "nbformat": 4,
 "nbformat_minor": 2
}
