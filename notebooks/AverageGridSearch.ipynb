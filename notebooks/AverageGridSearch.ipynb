{
 "cells": [
  {
   "cell_type": "code",
   "execution_count": 1,
   "metadata": {},
   "outputs": [],
   "source": [
    "import matplotlib.pyplot as plt\n",
    "import pandas as pd\n",
    "import pickle\n",
    "import numpy as np\n",
    "import datetime as dt\n",
    "import pprint as pp\n",
    "import pandas as pd\n",
    "from IPython.display import display\n",
    "from sklearn import svm, datasets\n",
    "from sklearn.model_selection import GridSearchCV\n",
    "from sklearn.ensemble import RandomForestRegressor\n",
    "from sklearn.preprocessing import StandardScaler\n",
    "from sklearn.model_selection import ParameterGrid\n",
    "from sklearn.model_selection import ParameterSampler\n",
    "from sklearn.feature_extraction import DictVectorizer\n",
    "%matplotlib tk\n",
    "from sklearn.model_selection import train_test_split\n",
    "from simulated_annealing.optimize import SimulatedAnneal"
   ]
  },
  {
   "cell_type": "code",
   "execution_count": 2,
   "metadata": {},
   "outputs": [],
   "source": [
    "input_features = ['ast','blk','min', 'pts','reb',\n",
    "                  'stl','to','fantasy_points', 'team_against','player_team', 'min_points', 'max_points',\n",
    "                  'position', 'home_game', 'ave_points_team', 'ave_points_vs_team', 'name']\n",
    "with open('nfl_featuers.pkl', 'rb') as fp:\n",
    "    input_data = pickle.load(fp)"
   ]
  },
  {
   "cell_type": "code",
   "execution_count": 3,
   "metadata": {},
   "outputs": [
    {
     "name": "stdout",
     "output_type": "stream",
     "text": [
      "0  out of  51215\n",
      "1000  out of  51215\n",
      "2000  out of  51215\n",
      "3000  out of  51215\n",
      "4000  out of  51215\n",
      "5000  out of  51215\n",
      "6000  out of  51215\n",
      "7000  out of  51215\n",
      "8000  out of  51215\n",
      "9000  out of  51215\n",
      "10000  out of  51215\n",
      "11000  out of  51215\n",
      "12000  out of  51215\n",
      "13000  out of  51215\n",
      "14000  out of  51215\n",
      "15000  out of  51215\n",
      "16000  out of  51215\n",
      "17000  out of  51215\n",
      "18000  out of  51215\n",
      "19000  out of  51215\n",
      "20000  out of  51215\n",
      "21000  out of  51215\n",
      "22000  out of  51215\n",
      "23000  out of  51215\n",
      "24000  out of  51215\n",
      "25000  out of  51215\n",
      "26000  out of  51215\n",
      "27000  out of  51215\n",
      "28000  out of  51215\n",
      "29000  out of  51215\n",
      "30000  out of  51215\n",
      "31000  out of  51215\n",
      "32000  out of  51215\n",
      "33000  out of  51215\n",
      "34000  out of  51215\n",
      "35000  out of  51215\n",
      "36000  out of  51215\n",
      "37000  out of  51215\n",
      "38000  out of  51215\n",
      "39000  out of  51215\n",
      "40000  out of  51215\n",
      "41000  out of  51215\n",
      "42000  out of  51215\n",
      "43000  out of  51215\n",
      "44000  out of  51215\n",
      "45000  out of  51215\n",
      "46000  out of  51215\n",
      "47000  out of  51215\n",
      "48000  out of  51215\n",
      "49000  out of  51215\n",
      "50000  out of  51215\n",
      "51000  out of  51215\n"
     ]
    }
   ],
   "source": [
    "length = len(input_data['ast'])\n",
    "pre_data_format = []\n",
    "X = np.zeros((length, len(input_features)))\n",
    "y = np.zeros(length)\n",
    "count = 0\n",
    "\n",
    "for i in range(0, length):\n",
    "    temp_dict = {}\n",
    "    if not(count%1000):\n",
    "        print(count, \" out of \", length)\n",
    "\n",
    "    for a,feat in enumerate(input_features):\n",
    "            temp_dict[feat] = input_data[feat][i]\n",
    "    pre_data_format.append(temp_dict)\n",
    "\n",
    "    y[count] = input_data[\"output_feature\"][i]\n",
    "\n",
    "    count += 1"
   ]
  },
  {
   "cell_type": "code",
   "execution_count": 4,
   "metadata": {},
   "outputs": [
    {
     "data": {
      "text/plain": [
       "['ast',\n",
       " 'ave_points_team',\n",
       " 'ave_points_vs_team',\n",
       " 'blk',\n",
       " 'fantasy_points',\n",
       " 'home_game',\n",
       " 'max_points',\n",
       " 'min',\n",
       " 'min_points',\n",
       " 'name=AJ Hammons',\n",
       " 'name=Aaron Brooks',\n",
       " 'name=Aaron Gordon',\n",
       " 'name=Aaron Harrison',\n",
       " 'name=Abdel Nader',\n",
       " 'name=Adreian Payne',\n",
       " 'name=Al Horford',\n",
       " 'name=Al Jefferson',\n",
       " 'name=Al-Farouq Aminu',\n",
       " 'name=Alan Anderson',\n",
       " 'name=Alan Williams',\n",
       " 'name=Alec Burks',\n",
       " 'name=Alec Peters',\n",
       " 'name=Alex Abrines',\n",
       " 'name=Alex Caruso',\n",
       " 'name=Alex Len',\n",
       " 'name=Alex Poythress',\n",
       " 'name=Alexis Ajinca',\n",
       " 'name=Alfonzo McKinnie',\n",
       " 'name=Allen Crabbe',\n",
       " 'name=Alonzo Gee',\n",
       " 'name=Amir Johnson',\n",
       " 'name=Anderson Varejao',\n",
       " 'name=Andre Drummond',\n",
       " 'name=Andre Iguodala',\n",
       " 'name=Andre Ingram',\n",
       " 'name=Andre Roberson',\n",
       " 'name=Andrew Bogut',\n",
       " 'name=Andrew Harrison',\n",
       " 'name=Andrew Nicholson',\n",
       " 'name=Andrew White III',\n",
       " 'name=Andrew Wiggins',\n",
       " 'name=Ante Zizic',\n",
       " 'name=Anthony Bennett',\n",
       " 'name=Anthony Brown',\n",
       " 'name=Anthony Davis',\n",
       " 'name=Anthony Morrow',\n",
       " 'name=Anthony Tolliver',\n",
       " 'name=Antonio Blakeney',\n",
       " 'name=Antonius Cleveland',\n",
       " 'name=Archie Goodwin',\n",
       " 'name=Arinze Onuaku',\n",
       " 'name=Aron Baynes',\n",
       " 'name=Arron Afflalo',\n",
       " 'name=Austin Rivers',\n",
       " 'name=Avery Bradley',\n",
       " 'name=Axel Toupane',\n",
       " 'name=Bam Adebayo',\n",
       " 'name=Ben Bentil',\n",
       " 'name=Ben McLemore',\n",
       " 'name=Ben Moore',\n",
       " 'name=Ben Simmons',\n",
       " 'name=Beno Udrih',\n",
       " 'name=Bismack Biyombo',\n",
       " 'name=Blake Griffin',\n",
       " 'name=Boban Marjanovic',\n",
       " 'name=Bobby Brown',\n",
       " 'name=Bobby Portis',\n",
       " 'name=Bogdan Bogdanovic',\n",
       " 'name=Bojan Bogdanovic',\n",
       " 'name=Boris Diaw',\n",
       " 'name=Bradley Beal',\n",
       " 'name=Brandan Wright',\n",
       " 'name=Brandon Bass',\n",
       " 'name=Brandon Ingram',\n",
       " 'name=Brandon Jennings',\n",
       " 'name=Brandon Knight',\n",
       " 'name=Brandon Paul',\n",
       " 'name=Brandon Rush',\n",
       " 'name=Brian Roberts',\n",
       " 'name=Briante Weber',\n",
       " 'name=Brice Johnson',\n",
       " 'name=Brook Lopez',\n",
       " 'name=Bruno Caboclo',\n",
       " 'name=Bryn Forbes',\n",
       " 'name=Buddy Hield',\n",
       " 'name=C.J. Watson',\n",
       " 'name=C.J. Williams',\n",
       " 'name=CJ McCollum',\n",
       " 'name=CJ Miles',\n",
       " 'name=CJ Wilcox',\n",
       " 'name=Caleb Swanigan',\n",
       " 'name=Cameron Payne',\n",
       " 'name=Caris LeVert',\n",
       " 'name=Carmelo Anthony',\n",
       " 'name=Cedi Osman',\n",
       " 'name=Chandler Parsons',\n",
       " 'name=Channing Frye',\n",
       " 'name=Charles Cooke',\n",
       " 'name=Chasson Randle',\n",
       " 'name=Cheick Diallo',\n",
       " 'name=Chinanu Onuaku',\n",
       " 'name=Chris Andersen',\n",
       " 'name=Chris McCullough',\n",
       " 'name=Chris Paul',\n",
       " 'name=Christian Wood',\n",
       " 'name=Clint Capela',\n",
       " 'name=Cody Zeller',\n",
       " 'name=Cole Aldrich',\n",
       " 'name=Corey Brewer',\n",
       " 'name=Cory Joseph',\n",
       " 'name=Courtney Lee',\n",
       " 'name=Cristiano Felicio',\n",
       " \"name=D'Angelo Russell\",\n",
       " 'name=D.J. Augustin',\n",
       " 'name=D.J. Wilson',\n",
       " 'name=Dakari Johnson',\n",
       " 'name=Damian Jones',\n",
       " 'name=Damian Lillard',\n",
       " 'name=Damien Wilkins',\n",
       " 'name=Damion Lee',\n",
       " 'name=Damjan Rudez',\n",
       " 'name=Damyean Dotson',\n",
       " 'name=Daniel Hamilton',\n",
       " 'name=Daniel Ochefu',\n",
       " 'name=Daniel Theis',\n",
       " 'name=Danilo Gallinari',\n",
       " 'name=Danny Green',\n",
       " 'name=Dante Cunningham',\n",
       " 'name=Dante Exum',\n",
       " 'name=Danuel House',\n",
       " 'name=Dario Saric',\n",
       " 'name=Darius Miller',\n",
       " 'name=Darrell Arthur',\n",
       " 'name=Darren Collison',\n",
       " 'name=Darrun Hilliard',\n",
       " 'name=David Lee',\n",
       " 'name=David Nwaba',\n",
       " 'name=David Stockton',\n",
       " 'name=David West',\n",
       " 'name=Davis Bertans',\n",
       " 'name=Davon Reed',\n",
       " \"name=De'Aaron Fox\",\n",
       " 'name=DeAndre Jordan',\n",
       " 'name=DeAndre Liggins',\n",
       " \"name=DeAndre' Bembry\",\n",
       " 'name=DeMar DeRozan',\n",
       " 'name=DeMarcus Cousins',\n",
       " 'name=DeMarre Carroll',\n",
       " 'name=Dejounte Murray',\n",
       " 'name=Delon Wright',\n",
       " 'name=Demetrius Jackson',\n",
       " 'name=Dennis Schroder',\n",
       " 'name=Dennis Smith Jr.',\n",
       " 'name=Denzel Valentine',\n",
       " 'name=Deron Williams',\n",
       " 'name=Derrick Favors',\n",
       " 'name=Derrick Jones Jr.',\n",
       " 'name=Derrick Rose',\n",
       " 'name=Derrick Walton Jr.',\n",
       " 'name=Derrick White',\n",
       " 'name=Derrick Williams',\n",
       " 'name=Devin Booker',\n",
       " 'name=Devin Harris',\n",
       " 'name=Dewayne Dedmon',\n",
       " 'name=Deyonta Davis',\n",
       " 'name=Diamond Stone',\n",
       " 'name=Dillon Brooks',\n",
       " 'name=Dion Waiters',\n",
       " 'name=Dirk Nowitzki',\n",
       " 'name=Domantas Sabonis',\n",
       " 'name=Donatas Motiejunas',\n",
       " 'name=Donovan Mitchell',\n",
       " 'name=Dorian Finney-Smith',\n",
       " 'name=Doug McDermott',\n",
       " 'name=Dragan Bender',\n",
       " 'name=Draymond Green',\n",
       " 'name=Dwayne Bacon',\n",
       " 'name=Dwight Buycks',\n",
       " 'name=Dwight Howard',\n",
       " 'name=Dwight Powell',\n",
       " 'name=Dwyane Wade',\n",
       " \"name=E'Twaun Moore\",\n",
       " 'name=Ed Davis',\n",
       " 'name=Edy Tavares',\n",
       " 'name=Ekpe Udoh',\n",
       " 'name=Elfrid Payton',\n",
       " 'name=Elijah Millsap',\n",
       " 'name=Emeka Okafor',\n",
       " 'name=Emmanuel Mudiay',\n",
       " 'name=Enes Kanter',\n",
       " 'name=Eric Bledsoe',\n",
       " 'name=Eric Gordon',\n",
       " 'name=Eric Moreland',\n",
       " 'name=Erik McCree',\n",
       " 'name=Ersan Ilyasova',\n",
       " 'name=Evan Fournier',\n",
       " 'name=Evan Turner',\n",
       " 'name=Frank Kaminsky',\n",
       " 'name=Frank Mason',\n",
       " 'name=Frank Ntilikina',\n",
       " 'name=Fred VanVleet',\n",
       " 'name=Furkan Korkmaz',\n",
       " 'name=Garrett Temple',\n",
       " 'name=Gary Harris',\n",
       " 'name=Gary Neal',\n",
       " 'name=Gary Payton II',\n",
       " 'name=George Hill',\n",
       " 'name=Georges Niang',\n",
       " 'name=Georgios Papagiannis',\n",
       " 'name=Gerald Green',\n",
       " 'name=Gerald Henderson',\n",
       " 'name=Gian Clavell',\n",
       " 'name=Giannis Antetokounmpo',\n",
       " 'name=Glenn Robinson III',\n",
       " 'name=Goran Dragic',\n",
       " 'name=Gordon Hayward',\n",
       " 'name=Gorgui Dieng',\n",
       " 'name=Greg Monroe',\n",
       " 'name=Greivis Vasquez',\n",
       " 'name=Guerschon Yabusele',\n",
       " 'name=Harrison Barnes',\n",
       " 'name=Hassan Whiteside',\n",
       " 'name=Henry Ellenson',\n",
       " 'name=Hollis Thompson',\n",
       " 'name=Ian Clark',\n",
       " 'name=Ian Mahinmi',\n",
       " 'name=Ike Anigbogu',\n",
       " 'name=Iman Shumpert',\n",
       " 'name=Isaiah Canaan',\n",
       " 'name=Isaiah Hicks',\n",
       " 'name=Isaiah Taylor',\n",
       " 'name=Isaiah Thomas',\n",
       " 'name=Isaiah Whitehead',\n",
       " 'name=Ish Smith',\n",
       " 'name=Ivan Rabb',\n",
       " 'name=Ivica Zubac',\n",
       " 'name=J.J. Barea',\n",
       " 'name=JJ Redick',\n",
       " 'name=JR Smith',\n",
       " 'name=JaKarr Sampson',\n",
       " 'name=JaMychal Green',\n",
       " 'name=JaVale McGee',\n",
       " 'name=Jabari Bird',\n",
       " 'name=Jabari Parker',\n",
       " 'name=Jack Cooley',\n",
       " 'name=Jacob Pullen',\n",
       " 'name=Jacob Wiley',\n",
       " 'name=Jae Crowder',\n",
       " 'name=Jahlil Okafor',\n",
       " 'name=Jake Layman',\n",
       " 'name=Jakob Poeltl',\n",
       " 'name=Jalen Jones',\n",
       " 'name=Jamal Crawford',\n",
       " 'name=Jamal Murray',\n",
       " 'name=Jameel Warney',\n",
       " 'name=Jameer Nelson',\n",
       " 'name=Jamel Artis',\n",
       " 'name=James Ennis III',\n",
       " 'name=James Harden',\n",
       " 'name=James Johnson',\n",
       " 'name=James Jones',\n",
       " 'name=James Michael McAdoo',\n",
       " 'name=James Webb III',\n",
       " 'name=James Young',\n",
       " 'name=Jamil Wilson',\n",
       " 'name=Jared Dudley',\n",
       " 'name=Jared Sullinger',\n",
       " 'name=Jarell Eddie',\n",
       " 'name=Jarell Martin',\n",
       " 'name=Jarnell Stokes',\n",
       " 'name=Jarrett Allen',\n",
       " 'name=Jarrett Jack',\n",
       " 'name=Jarrod Uthoff',\n",
       " 'name=Jason Smith',\n",
       " 'name=Jason Terry',\n",
       " 'name=Jawun Evans',\n",
       " 'name=Jaylen Brown',\n",
       " 'name=Jaylen Morris',\n",
       " 'name=Jayson Tatum',\n",
       " 'name=Jeff Green',\n",
       " 'name=Jeff Teague',\n",
       " 'name=Jeff Withey',\n",
       " 'name=Jerami Grant',\n",
       " 'name=Jeremy Lamb',\n",
       " 'name=Jeremy Lin',\n",
       " 'name=Jerian Grant',\n",
       " 'name=Jerryd Bayless',\n",
       " 'name=Jimmy Butler',\n",
       " 'name=Joakim Noah',\n",
       " 'name=Jodie Meeks',\n",
       " 'name=Joe Harris',\n",
       " 'name=Joe Ingles',\n",
       " 'name=Joe Johnson',\n",
       " 'name=Joe Young',\n",
       " 'name=Joel Anthony',\n",
       " 'name=Joel Bolomboy',\n",
       " 'name=Joel Embiid',\n",
       " 'name=Joffrey Lauvergne',\n",
       " 'name=John Collins',\n",
       " 'name=John Henson',\n",
       " 'name=John Holland',\n",
       " 'name=John Jenkins',\n",
       " 'name=John Lucas III',\n",
       " 'name=John Wall',\n",
       " 'name=Johnathan Motley',\n",
       " \"name=Johnny O'Bryant III\",\n",
       " 'name=Jon Leuer',\n",
       " 'name=Jonas Jerebko',\n",
       " 'name=Jonas Valanciunas',\n",
       " 'name=Jonathan Gibson',\n",
       " 'name=Jonathan Isaac',\n",
       " 'name=Jonathon Simmons',\n",
       " 'name=Jordan Bell',\n",
       " 'name=Jordan Clarkson',\n",
       " 'name=Jordan Crawford',\n",
       " 'name=Jordan Farmar',\n",
       " 'name=Jordan Hill',\n",
       " 'name=Jordan McRae',\n",
       " 'name=Jordan Mickey',\n",
       " 'name=Jose Calderon',\n",
       " 'name=Josh Gray',\n",
       " 'name=Josh Hart',\n",
       " 'name=Josh Huestis',\n",
       " 'name=Josh Jackson',\n",
       " 'name=Josh Magette',\n",
       " 'name=Josh McRoberts',\n",
       " 'name=Josh Richardson',\n",
       " 'name=Josh Smith',\n",
       " 'name=Jrue Holiday',\n",
       " 'name=Juancho Hernangomez',\n",
       " 'name=Julius Randle',\n",
       " 'name=Julyan Stone',\n",
       " 'name=Justin Anderson',\n",
       " 'name=Justin Hamilton',\n",
       " 'name=Justin Harper',\n",
       " 'name=Justin Holiday',\n",
       " 'name=Justin Jackson',\n",
       " 'name=Justise Winslow',\n",
       " 'name=Jusuf Nurkic',\n",
       " 'name=KJ McDaniels',\n",
       " 'name=Kadeem Allen',\n",
       " 'name=Karl-Anthony Towns',\n",
       " 'name=Kawhi Leonard',\n",
       " 'name=Kay Felder',\n",
       " 'name=Kelly Olynyk',\n",
       " 'name=Kelly Oubre Jr.',\n",
       " 'name=Kemba Walker',\n",
       " 'name=Kenneth Faried',\n",
       " 'name=Kent Bazemore',\n",
       " 'name=Kentavious Caldwell-Pope',\n",
       " 'name=Kevin Durant',\n",
       " 'name=Kevin Love',\n",
       " 'name=Kevin Seraphin',\n",
       " 'name=Kevon Looney',\n",
       " 'name=Khem Birch',\n",
       " 'name=Khris Middleton',\n",
       " 'name=Klay Thompson',\n",
       " 'name=Kobi Simmons',\n",
       " 'name=Kosta Koufos',\n",
       " 'name=Kris Dunn',\n",
       " 'name=Kris Humphries',\n",
       " 'name=Kristaps Porzingis',\n",
       " 'name=Kyle Anderson',\n",
       " 'name=Kyle Collinsworth',\n",
       " 'name=Kyle Korver',\n",
       " 'name=Kyle Kuzma',\n",
       " 'name=Kyle Lowry',\n",
       " \"name=Kyle O'Quinn\",\n",
       " 'name=Kyle Singler',\n",
       " 'name=Kyle Wiltjer',\n",
       " 'name=Kyrie Irving',\n",
       " 'name=LaMarcus Aldridge',\n",
       " 'name=Lamar Patterson',\n",
       " 'name=Lance Stephenson',\n",
       " 'name=Lance Thomas',\n",
       " 'name=Langston Galloway',\n",
       " 'name=Larry Drew II',\n",
       " 'name=Larry Nance Jr.',\n",
       " 'name=Larry Sanders',\n",
       " 'name=Lauri Markkanen',\n",
       " 'name=Lavoy Allen',\n",
       " 'name=LeBron James',\n",
       " 'name=Leandro Barbosa',\n",
       " 'name=London Perrantes',\n",
       " 'name=Lonzo Ball',\n",
       " 'name=Lorenzo Brown',\n",
       " 'name=Lou Williams',\n",
       " 'name=Luc Mbah a Moute',\n",
       " 'name=Lucas Nogueira',\n",
       " 'name=Luis Montero',\n",
       " 'name=Luis Scola',\n",
       " 'name=Luke Babbitt',\n",
       " 'name=Luke Kennard',\n",
       " 'name=Luke Kornet',\n",
       " 'name=Luol Deng',\n",
       " 'name=Malachi Richardson',\n",
       " 'name=Malcolm Brogdon',\n",
       " 'name=Malcolm Delaney',\n",
       " 'name=Malcolm Miller',\n",
       " 'name=Malik Beasley',\n",
       " 'name=Malik Monk',\n",
       " 'name=Mangok Mathiang',\n",
       " 'name=Manny Harris',\n",
       " 'name=Manu Ginobili',\n",
       " 'name=MarShon Brooks',\n",
       " 'name=Marc Gasol',\n",
       " 'name=Marcelo Huertas',\n",
       " 'name=Marcin Gortat',\n",
       " 'name=Marco Belinelli',\n",
       " 'name=Marcus Georges-Hunt',\n",
       " 'name=Marcus Morris',\n",
       " 'name=Marcus Paige',\n",
       " 'name=Marcus Smart',\n",
       " 'name=Marcus Thornton',\n",
       " 'name=Mario Chalmers',\n",
       " 'name=Mario Hezonja',\n",
       " 'name=Markel Brown',\n",
       " 'name=Markelle Fultz',\n",
       " 'name=Markieff Morris',\n",
       " 'name=Marquese Chriss',\n",
       " 'name=Marquis Teague',\n",
       " 'name=Marreese Speights',\n",
       " 'name=Marshall Plumlee',\n",
       " 'name=Marvin Williams',\n",
       " 'name=Mason Plumlee',\n",
       " 'name=Matt Barnes',\n",
       " 'name=Matt Costello',\n",
       " 'name=Matt Williams Jr.',\n",
       " 'name=Matthew Dellavedova',\n",
       " 'name=Maurice Harkless',\n",
       " 'name=Maurice Ndour',\n",
       " 'name=Maxi Kleber',\n",
       " 'name=Metta World Peace',\n",
       " 'name=Meyers Leonard',\n",
       " 'name=Michael Beasley',\n",
       " 'name=Michael Carter-Williams',\n",
       " 'name=Michael Gbinije',\n",
       " 'name=Michael Kidd-Gilchrist',\n",
       " 'name=Mike Conley',\n",
       " 'name=Mike Dunleavy',\n",
       " 'name=Mike James',\n",
       " 'name=Mike Miller',\n",
       " 'name=Mike Muscala',\n",
       " 'name=Mike Scott',\n",
       " 'name=Mike Tobey',\n",
       " 'name=Miles Plumlee',\n",
       " 'name=Milos Teodosic',\n",
       " 'name=Milton Doyle',\n",
       " 'name=Mindaugas Kuzminskas',\n",
       " 'name=Mirza Teletovic',\n",
       " 'name=Monta Ellis',\n",
       " 'name=Monte Morris',\n",
       " 'name=Montrezl Harrell',\n",
       " 'name=Myke Henry',\n",
       " 'name=Myles Turner',\n",
       " 'name=Nate Wolters',\n",
       " 'name=Nemanja Bjelica',\n",
       " 'name=Nene',\n",
       " 'name=Nerlens Noel',\n",
       " 'name=Nick Collison',\n",
       " 'name=Nick Young',\n",
       " 'name=Nicolas Batum',\n",
       " 'name=Nicolas Brussino',\n",
       " 'name=Nicolas Laprovittola',\n",
       " 'name=Nigel Hayes',\n",
       " 'name=Nik Stauskas',\n",
       " 'name=Nikola Jokic',\n",
       " 'name=Nikola Mirotic',\n",
       " 'name=Nikola Vucevic',\n",
       " 'name=Noah Vonleh',\n",
       " 'name=Norman Powell',\n",
       " 'name=Norris Cole',\n",
       " 'name=OG Anunoby',\n",
       " 'name=Okaro White',\n",
       " 'name=Omari Johnson',\n",
       " 'name=Omer Asik',\n",
       " 'name=Omri Casspi',\n",
       " 'name=Otto Porter Jr.',\n",
       " 'name=PJ Dozier',\n",
       " 'name=PJ Tucker',\n",
       " 'name=Pascal Siakam',\n",
       " 'name=Pat Connaughton',\n",
       " 'name=Patricio Garino',\n",
       " 'name=Patrick Beverley',\n",
       " 'name=Patrick McCaw',\n",
       " 'name=Patrick Patterson',\n",
       " 'name=Patty Mills',\n",
       " 'name=Pau Gasol',\n",
       " 'name=Paul George',\n",
       " 'name=Paul Millsap',\n",
       " 'name=Paul Pierce',\n",
       " 'name=Paul Zipser',\n",
       " 'name=Pierre Jackson',\n",
       " 'name=Quincy Acy',\n",
       " 'name=Quincy Pondexter',\n",
       " 'name=Quinn Cook',\n",
       " 'name=RJ Hunter',\n",
       " 'name=Rajon Rondo',\n",
       " 'name=Rakeem Christmas',\n",
       " 'name=Ramon Sessions',\n",
       " 'name=Randy Foye',\n",
       " 'name=Rashad Vaughn',\n",
       " 'name=Raul Neto',\n",
       " 'name=Raymond Felton',\n",
       " 'name=Reggie Bullock',\n",
       " 'name=Reggie Hearn',\n",
       " 'name=Reggie Jackson',\n",
       " 'name=Reggie Williams',\n",
       " 'name=Richard Jefferson',\n",
       " 'name=Richaun Holmes',\n",
       " 'name=Ricky Rubio',\n",
       " 'name=Robert Covington',\n",
       " 'name=Robin Lopez',\n",
       " 'name=Rodney Hood',\n",
       " 'name=Rodney McGruder',\n",
       " 'name=Rodney Purvis',\n",
       " 'name=Rodney Stuckey',\n",
       " 'name=Ron Baker',\n",
       " 'name=Rondae Hollis-Jefferson',\n",
       " 'name=Ronnie Price',\n",
       " 'name=Roy Hibbert',\n",
       " \"name=Royce O'Neale\",\n",
       " 'name=Rudy Gay',\n",
       " 'name=Rudy Gobert',\n",
       " 'name=Russell Westbrook',\n",
       " 'name=Ryan Anderson',\n",
       " 'name=Ryan Arcidiacono',\n",
       " 'name=Ryan Kelly',\n",
       " 'name=Salah Mejri',\n",
       " 'name=Sam Dekker',\n",
       " 'name=Sasha Vujacic',\n",
       " 'name=Sean Kilpatrick',\n",
       " 'name=Semaj Christon',\n",
       " 'name=Semi Ojeleye',\n",
       " 'name=Serge Ibaka',\n",
       " 'name=Sergio Rodriguez',\n",
       " 'name=Seth Curry',\n",
       " 'name=Shabazz Muhammad',\n",
       " 'name=Shabazz Napier',\n",
       " 'name=Shane Larkin',\n",
       " 'name=Shaquille Harrison',\n",
       " 'name=Shaun Livingston',\n",
       " 'name=Shawn Long',\n",
       " 'name=Sheldon Mac',\n",
       " 'name=Shelvin Mack',\n",
       " 'name=Sindarius Thornwell',\n",
       " 'name=Skal Labissiere',\n",
       " 'name=Solomon Hill',\n",
       " 'name=Spencer Dinwiddie',\n",
       " 'name=Spencer Hawes',\n",
       " 'name=Stanley Johnson',\n",
       " 'name=Stephen Curry',\n",
       " 'name=Stephen Zimmerman',\n",
       " 'name=Sterling Brown',\n",
       " 'name=Steve Novak',\n",
       " 'name=Steven Adams',\n",
       " 'name=T.J. McConnell',\n",
       " 'name=TJ Leaf',\n",
       " 'name=TJ Warren',\n",
       " 'name=Taj Gibson',\n",
       " 'name=Tarik Black',\n",
       " 'name=Taurean Prince',\n",
       " 'name=Terrance Ferguson',\n",
       " 'name=Terrence Jones',\n",
       " 'name=Terrence Ross',\n",
       " 'name=Terry Rozier',\n",
       " 'name=Thabo Sefolosha',\n",
       " 'name=Thaddeus Young',\n",
       " 'name=Thomas Bryant',\n",
       " 'name=Thomas Robinson',\n",
       " 'name=Thon Maker',\n",
       " 'name=Tiago Splitter',\n",
       " 'name=Tim Frazier',\n",
       " 'name=Tim Hardaway Jr.',\n",
       " 'name=Tim Quarterman',\n",
       " 'name=Timofey Mozgov',\n",
       " 'name=Timothe Luwawu-Cabarrot',\n",
       " 'name=Tobias Harris',\n",
       " 'name=Tomas Satoransky',\n",
       " 'name=Toney Douglas',\n",
       " 'name=Tony Allen',\n",
       " 'name=Tony Bradley',\n",
       " 'name=Tony Parker',\n",
       " 'name=Tony Snell',\n",
       " 'name=Torrey Craig',\n",
       " 'name=Travis Wear',\n",
       " 'name=Treveon Graham',\n",
       " 'name=Trevor Ariza',\n",
       " 'name=Trevor Booker',\n",
       " 'name=Trey Burke',\n",
       " 'name=Trey Lyles',\n",
       " 'name=Tristan Thompson',\n",
       " 'name=Troy Daniels',\n",
       " 'name=Troy Williams',\n",
       " 'name=Ty Lawson',\n",
       " 'name=Tyler Cavanaugh',\n",
       " 'name=Tyler Dorsey',\n",
       " 'name=Tyler Ennis',\n",
       " 'name=Tyler Johnson',\n",
       " 'name=Tyler Ulis',\n",
       " 'name=Tyler Zeller',\n",
       " 'name=Tyreke Evans',\n",
       " 'name=Tyrone Wallace',\n",
       " 'name=Tyson Chandler',\n",
       " 'name=Tyus Jones',\n",
       " 'name=Udonis Haslem',\n",
       " 'name=Vander Blue',\n",
       " 'name=Victor Oladipo',\n",
       " 'name=Vince Carter',\n",
       " 'name=Vincent Hunter',\n",
       " 'name=Wade Baldwin IV',\n",
       " 'name=Walter Lemon Jr.',\n",
       " 'name=Wayne Ellington',\n",
       " 'name=Wayne Selden',\n",
       " 'name=Wes Iwundu',\n",
       " 'name=Wesley Johnson',\n",
       " 'name=Wesley Matthews',\n",
       " 'name=Will Barton',\n",
       " 'name=Willie Cauley-Stein',\n",
       " 'name=Willie Reed',\n",
       " 'name=Willy Hernangomez',\n",
       " 'name=Wilson Chandler',\n",
       " 'name=Xavier Munford',\n",
       " 'name=Xavier Rathan-Mayes',\n",
       " 'name=Xavier Silas',\n",
       " 'name=Yogi Ferrell',\n",
       " 'name=Zach Collins',\n",
       " 'name=Zach LaVine',\n",
       " 'name=Zach Randolph',\n",
       " 'name=Zaza Pachulia',\n",
       " 'name=Zhou Qi',\n",
       " 'player_team=ATL',\n",
       " 'player_team=BKN',\n",
       " 'player_team=BOS',\n",
       " 'player_team=CHA',\n",
       " 'player_team=CHI',\n",
       " 'player_team=CLE',\n",
       " 'player_team=DAL',\n",
       " 'player_team=DEN',\n",
       " 'player_team=DET',\n",
       " 'player_team=GSW',\n",
       " 'player_team=HOU',\n",
       " 'player_team=IND',\n",
       " 'player_team=LAC',\n",
       " 'player_team=LAL',\n",
       " 'player_team=MEM',\n",
       " 'player_team=MIA',\n",
       " 'player_team=MIL',\n",
       " 'player_team=MIN',\n",
       " 'player_team=NOP',\n",
       " 'player_team=NYK',\n",
       " 'player_team=OKC',\n",
       " 'player_team=ORL',\n",
       " 'player_team=PHI',\n",
       " 'player_team=PHX',\n",
       " 'player_team=POR',\n",
       " 'player_team=SAC',\n",
       " 'player_team=SAS',\n",
       " 'player_team=TOR',\n",
       " 'player_team=UTA',\n",
       " 'player_team=WAS',\n",
       " 'position=',\n",
       " 'position=C',\n",
       " 'position=F',\n",
       " 'position=G',\n",
       " 'pts',\n",
       " 'reb',\n",
       " 'stl',\n",
       " 'team_against=ATL',\n",
       " 'team_against=BOS',\n",
       " 'team_against=CHA',\n",
       " 'team_against=CHI',\n",
       " 'team_against=CLE',\n",
       " 'team_against=DAL',\n",
       " 'team_against=DEN',\n",
       " 'team_against=DET',\n",
       " 'team_against=GSW',\n",
       " 'team_against=HOU',\n",
       " 'team_against=IND',\n",
       " 'team_against=LAC',\n",
       " 'team_against=LAL',\n",
       " 'team_against=MEM',\n",
       " 'team_against=MIA',\n",
       " 'team_against=MIL',\n",
       " 'team_against=MIN',\n",
       " 'team_against=NJN',\n",
       " 'team_against=NOP',\n",
       " 'team_against=NYK',\n",
       " 'team_against=OKC',\n",
       " 'team_against=ORL',\n",
       " 'team_against=PHI',\n",
       " 'team_against=PHO',\n",
       " 'team_against=POR',\n",
       " 'team_against=SAC',\n",
       " 'team_against=SAS',\n",
       " 'team_against=TOR',\n",
       " 'team_against=UTA',\n",
       " 'team_against=WAS',\n",
       " 'to']"
      ]
     },
     "execution_count": 4,
     "metadata": {},
     "output_type": "execute_result"
    }
   ],
   "source": [
    "vec = DictVectorizer()\n",
    "vec.fit_transform(pre_data_format).toarray()\n",
    "vec.get_feature_names()"
   ]
  },
  {
   "cell_type": "code",
   "execution_count": 5,
   "metadata": {},
   "outputs": [],
   "source": [
    "scaler = StandardScaler()\n",
    "X = vec.fit_transform(pre_data_format).toarray()"
   ]
  },
  {
   "cell_type": "code",
   "execution_count": 6,
   "metadata": {},
   "outputs": [
    {
     "name": "stdout",
     "output_type": "stream",
     "text": [
      "ast  :  1.0\n",
      "ave_points_team  :  92.0\n",
      "ave_points_vs_team  :  0.0\n",
      "blk  :  0.0\n",
      "fantasy_points  :  17.3\n",
      "home_game  :  1.0\n",
      "max_points  :  17.3\n",
      "min  :  28.4\n",
      "min_points  :  17.3\n",
      "name=AJ Hammons  :  0.0\n",
      "name=Aaron Brooks  :  0.0\n",
      "name=Aaron Gordon  :  0.0\n",
      "name=Aaron Harrison  :  0.0\n",
      "name=Abdel Nader  :  0.0\n",
      "name=Adreian Payne  :  0.0\n",
      "name=Al Horford  :  0.0\n",
      "name=Al Jefferson  :  0.0\n",
      "name=Al-Farouq Aminu  :  1.0\n",
      "name=Alan Anderson  :  0.0\n",
      "name=Alan Williams  :  0.0\n",
      "name=Alec Burks  :  0.0\n",
      "name=Alec Peters  :  0.0\n",
      "name=Alex Abrines  :  0.0\n",
      "name=Alex Caruso  :  0.0\n",
      "name=Alex Len  :  0.0\n",
      "name=Alex Poythress  :  0.0\n",
      "name=Alexis Ajinca  :  0.0\n",
      "name=Alfonzo McKinnie  :  0.0\n",
      "name=Allen Crabbe  :  0.0\n",
      "name=Alonzo Gee  :  0.0\n",
      "name=Amir Johnson  :  0.0\n",
      "name=Anderson Varejao  :  0.0\n",
      "name=Andre Drummond  :  0.0\n",
      "name=Andre Iguodala  :  0.0\n",
      "name=Andre Ingram  :  0.0\n",
      "name=Andre Roberson  :  0.0\n",
      "name=Andrew Bogut  :  0.0\n",
      "name=Andrew Harrison  :  0.0\n",
      "name=Andrew Nicholson  :  0.0\n",
      "name=Andrew White III  :  0.0\n",
      "name=Andrew Wiggins  :  0.0\n",
      "name=Ante Zizic  :  0.0\n",
      "name=Anthony Bennett  :  0.0\n",
      "name=Anthony Brown  :  0.0\n",
      "name=Anthony Davis  :  0.0\n",
      "name=Anthony Morrow  :  0.0\n",
      "name=Anthony Tolliver  :  0.0\n",
      "name=Antonio Blakeney  :  0.0\n",
      "name=Antonius Cleveland  :  0.0\n",
      "name=Archie Goodwin  :  0.0\n",
      "name=Arinze Onuaku  :  0.0\n",
      "name=Aron Baynes  :  0.0\n",
      "name=Arron Afflalo  :  0.0\n",
      "name=Austin Rivers  :  0.0\n",
      "name=Avery Bradley  :  0.0\n",
      "name=Axel Toupane  :  0.0\n",
      "name=Bam Adebayo  :  0.0\n",
      "name=Ben Bentil  :  0.0\n",
      "name=Ben McLemore  :  0.0\n",
      "name=Ben Moore  :  0.0\n",
      "name=Ben Simmons  :  0.0\n",
      "name=Beno Udrih  :  0.0\n",
      "name=Bismack Biyombo  :  0.0\n",
      "name=Blake Griffin  :  0.0\n",
      "name=Boban Marjanovic  :  0.0\n",
      "name=Bobby Brown  :  0.0\n",
      "name=Bobby Portis  :  0.0\n",
      "name=Bogdan Bogdanovic  :  0.0\n",
      "name=Bojan Bogdanovic  :  0.0\n",
      "name=Boris Diaw  :  0.0\n",
      "name=Bradley Beal  :  0.0\n",
      "name=Brandan Wright  :  0.0\n",
      "name=Brandon Bass  :  0.0\n",
      "name=Brandon Ingram  :  0.0\n",
      "name=Brandon Jennings  :  0.0\n",
      "name=Brandon Knight  :  0.0\n",
      "name=Brandon Paul  :  0.0\n",
      "name=Brandon Rush  :  0.0\n",
      "name=Brian Roberts  :  0.0\n",
      "name=Briante Weber  :  0.0\n",
      "name=Brice Johnson  :  0.0\n",
      "name=Brook Lopez  :  0.0\n",
      "name=Bruno Caboclo  :  0.0\n",
      "name=Bryn Forbes  :  0.0\n",
      "name=Buddy Hield  :  0.0\n",
      "name=C.J. Watson  :  0.0\n",
      "name=C.J. Williams  :  0.0\n",
      "name=CJ McCollum  :  0.0\n",
      "name=CJ Miles  :  0.0\n",
      "name=CJ Wilcox  :  0.0\n",
      "name=Caleb Swanigan  :  0.0\n",
      "name=Cameron Payne  :  0.0\n",
      "name=Caris LeVert  :  0.0\n",
      "name=Carmelo Anthony  :  0.0\n",
      "name=Cedi Osman  :  0.0\n",
      "name=Chandler Parsons  :  0.0\n",
      "name=Channing Frye  :  0.0\n",
      "name=Charles Cooke  :  0.0\n",
      "name=Chasson Randle  :  0.0\n",
      "name=Cheick Diallo  :  0.0\n",
      "name=Chinanu Onuaku  :  0.0\n",
      "name=Chris Andersen  :  0.0\n",
      "name=Chris McCullough  :  0.0\n",
      "name=Chris Paul  :  0.0\n",
      "name=Christian Wood  :  0.0\n",
      "name=Clint Capela  :  0.0\n",
      "name=Cody Zeller  :  0.0\n",
      "name=Cole Aldrich  :  0.0\n",
      "name=Corey Brewer  :  0.0\n",
      "name=Cory Joseph  :  0.0\n",
      "name=Courtney Lee  :  0.0\n",
      "name=Cristiano Felicio  :  0.0\n",
      "name=D'Angelo Russell  :  0.0\n",
      "name=D.J. Augustin  :  0.0\n",
      "name=D.J. Wilson  :  0.0\n",
      "name=Dakari Johnson  :  0.0\n",
      "name=Damian Jones  :  0.0\n",
      "name=Damian Lillard  :  0.0\n",
      "name=Damien Wilkins  :  0.0\n",
      "name=Damion Lee  :  0.0\n",
      "name=Damjan Rudez  :  0.0\n",
      "name=Damyean Dotson  :  0.0\n",
      "name=Daniel Hamilton  :  0.0\n",
      "name=Daniel Ochefu  :  0.0\n",
      "name=Daniel Theis  :  0.0\n",
      "name=Danilo Gallinari  :  0.0\n",
      "name=Danny Green  :  0.0\n",
      "name=Dante Cunningham  :  0.0\n",
      "name=Dante Exum  :  0.0\n",
      "name=Danuel House  :  0.0\n",
      "name=Dario Saric  :  0.0\n",
      "name=Darius Miller  :  0.0\n",
      "name=Darrell Arthur  :  0.0\n",
      "name=Darren Collison  :  0.0\n",
      "name=Darrun Hilliard  :  0.0\n",
      "name=David Lee  :  0.0\n",
      "name=David Nwaba  :  0.0\n",
      "name=David Stockton  :  0.0\n",
      "name=David West  :  0.0\n",
      "name=Davis Bertans  :  0.0\n",
      "name=Davon Reed  :  0.0\n",
      "name=De'Aaron Fox  :  0.0\n",
      "name=DeAndre Jordan  :  0.0\n",
      "name=DeAndre Liggins  :  0.0\n",
      "name=DeAndre' Bembry  :  0.0\n",
      "name=DeMar DeRozan  :  0.0\n",
      "name=DeMarcus Cousins  :  0.0\n",
      "name=DeMarre Carroll  :  0.0\n",
      "name=Dejounte Murray  :  0.0\n",
      "name=Delon Wright  :  0.0\n",
      "name=Demetrius Jackson  :  0.0\n",
      "name=Dennis Schroder  :  0.0\n",
      "name=Dennis Smith Jr.  :  0.0\n",
      "name=Denzel Valentine  :  0.0\n",
      "name=Deron Williams  :  0.0\n",
      "name=Derrick Favors  :  0.0\n",
      "name=Derrick Jones Jr.  :  0.0\n",
      "name=Derrick Rose  :  0.0\n",
      "name=Derrick Walton Jr.  :  0.0\n",
      "name=Derrick White  :  0.0\n",
      "name=Derrick Williams  :  0.0\n",
      "name=Devin Booker  :  0.0\n",
      "name=Devin Harris  :  0.0\n",
      "name=Dewayne Dedmon  :  0.0\n",
      "name=Deyonta Davis  :  0.0\n",
      "name=Diamond Stone  :  0.0\n",
      "name=Dillon Brooks  :  0.0\n",
      "name=Dion Waiters  :  0.0\n",
      "name=Dirk Nowitzki  :  0.0\n",
      "name=Domantas Sabonis  :  0.0\n",
      "name=Donatas Motiejunas  :  0.0\n",
      "name=Donovan Mitchell  :  0.0\n",
      "name=Dorian Finney-Smith  :  0.0\n",
      "name=Doug McDermott  :  0.0\n",
      "name=Dragan Bender  :  0.0\n",
      "name=Draymond Green  :  0.0\n",
      "name=Dwayne Bacon  :  0.0\n",
      "name=Dwight Buycks  :  0.0\n",
      "name=Dwight Howard  :  0.0\n",
      "name=Dwight Powell  :  0.0\n",
      "name=Dwyane Wade  :  0.0\n",
      "name=E'Twaun Moore  :  0.0\n",
      "name=Ed Davis  :  0.0\n",
      "name=Edy Tavares  :  0.0\n",
      "name=Ekpe Udoh  :  0.0\n",
      "name=Elfrid Payton  :  0.0\n",
      "name=Elijah Millsap  :  0.0\n",
      "name=Emeka Okafor  :  0.0\n",
      "name=Emmanuel Mudiay  :  0.0\n",
      "name=Enes Kanter  :  0.0\n",
      "name=Eric Bledsoe  :  0.0\n",
      "name=Eric Gordon  :  0.0\n",
      "name=Eric Moreland  :  0.0\n",
      "name=Erik McCree  :  0.0\n",
      "name=Ersan Ilyasova  :  0.0\n",
      "name=Evan Fournier  :  0.0\n",
      "name=Evan Turner  :  0.0\n",
      "name=Frank Kaminsky  :  0.0\n",
      "name=Frank Mason  :  0.0\n",
      "name=Frank Ntilikina  :  0.0\n",
      "name=Fred VanVleet  :  0.0\n",
      "name=Furkan Korkmaz  :  0.0\n",
      "name=Garrett Temple  :  0.0\n",
      "name=Gary Harris  :  0.0\n",
      "name=Gary Neal  :  0.0\n",
      "name=Gary Payton II  :  0.0\n",
      "name=George Hill  :  0.0\n",
      "name=Georges Niang  :  0.0\n",
      "name=Georgios Papagiannis  :  0.0\n",
      "name=Gerald Green  :  0.0\n",
      "name=Gerald Henderson  :  0.0\n",
      "name=Gian Clavell  :  0.0\n",
      "name=Giannis Antetokounmpo  :  0.0\n",
      "name=Glenn Robinson III  :  0.0\n",
      "name=Goran Dragic  :  0.0\n",
      "name=Gordon Hayward  :  0.0\n",
      "name=Gorgui Dieng  :  0.0\n",
      "name=Greg Monroe  :  0.0\n",
      "name=Greivis Vasquez  :  0.0\n",
      "name=Guerschon Yabusele  :  0.0\n",
      "name=Harrison Barnes  :  0.0\n",
      "name=Hassan Whiteside  :  0.0\n",
      "name=Henry Ellenson  :  0.0\n",
      "name=Hollis Thompson  :  0.0\n",
      "name=Ian Clark  :  0.0\n",
      "name=Ian Mahinmi  :  0.0\n",
      "name=Ike Anigbogu  :  0.0\n",
      "name=Iman Shumpert  :  0.0\n",
      "name=Isaiah Canaan  :  0.0\n",
      "name=Isaiah Hicks  :  0.0\n",
      "name=Isaiah Taylor  :  0.0\n",
      "name=Isaiah Thomas  :  0.0\n",
      "name=Isaiah Whitehead  :  0.0\n",
      "name=Ish Smith  :  0.0\n",
      "name=Ivan Rabb  :  0.0\n",
      "name=Ivica Zubac  :  0.0\n",
      "name=J.J. Barea  :  0.0\n",
      "name=JJ Redick  :  0.0\n",
      "name=JR Smith  :  0.0\n",
      "name=JaKarr Sampson  :  0.0\n",
      "name=JaMychal Green  :  0.0\n",
      "name=JaVale McGee  :  0.0\n",
      "name=Jabari Bird  :  0.0\n",
      "name=Jabari Parker  :  0.0\n",
      "name=Jack Cooley  :  0.0\n",
      "name=Jacob Pullen  :  0.0\n",
      "name=Jacob Wiley  :  0.0\n",
      "name=Jae Crowder  :  0.0\n",
      "name=Jahlil Okafor  :  0.0\n",
      "name=Jake Layman  :  0.0\n",
      "name=Jakob Poeltl  :  0.0\n",
      "name=Jalen Jones  :  0.0\n",
      "name=Jamal Crawford  :  0.0\n",
      "name=Jamal Murray  :  0.0\n",
      "name=Jameel Warney  :  0.0\n",
      "name=Jameer Nelson  :  0.0\n",
      "name=Jamel Artis  :  0.0\n",
      "name=James Ennis III  :  0.0\n",
      "name=James Harden  :  0.0\n",
      "name=James Johnson  :  0.0\n",
      "name=James Jones  :  0.0\n",
      "name=James Michael McAdoo  :  0.0\n",
      "name=James Webb III  :  0.0\n",
      "name=James Young  :  0.0\n",
      "name=Jamil Wilson  :  0.0\n",
      "name=Jared Dudley  :  0.0\n",
      "name=Jared Sullinger  :  0.0\n",
      "name=Jarell Eddie  :  0.0\n",
      "name=Jarell Martin  :  0.0\n",
      "name=Jarnell Stokes  :  0.0\n",
      "name=Jarrett Allen  :  0.0\n",
      "name=Jarrett Jack  :  0.0\n",
      "name=Jarrod Uthoff  :  0.0\n",
      "name=Jason Smith  :  0.0\n",
      "name=Jason Terry  :  0.0\n",
      "name=Jawun Evans  :  0.0\n",
      "name=Jaylen Brown  :  0.0\n",
      "name=Jaylen Morris  :  0.0\n",
      "name=Jayson Tatum  :  0.0\n",
      "name=Jeff Green  :  0.0\n",
      "name=Jeff Teague  :  0.0\n",
      "name=Jeff Withey  :  0.0\n",
      "name=Jerami Grant  :  0.0\n",
      "name=Jeremy Lamb  :  0.0\n",
      "name=Jeremy Lin  :  0.0\n",
      "name=Jerian Grant  :  0.0\n",
      "name=Jerryd Bayless  :  0.0\n",
      "name=Jimmy Butler  :  0.0\n",
      "name=Joakim Noah  :  0.0\n",
      "name=Jodie Meeks  :  0.0\n",
      "name=Joe Harris  :  0.0\n",
      "name=Joe Ingles  :  0.0\n",
      "name=Joe Johnson  :  0.0\n",
      "name=Joe Young  :  0.0\n",
      "name=Joel Anthony  :  0.0\n",
      "name=Joel Bolomboy  :  0.0\n",
      "name=Joel Embiid  :  0.0\n",
      "name=Joffrey Lauvergne  :  0.0\n",
      "name=John Collins  :  0.0\n",
      "name=John Henson  :  0.0\n",
      "name=John Holland  :  0.0\n",
      "name=John Jenkins  :  0.0\n",
      "name=John Lucas III  :  0.0\n",
      "name=John Wall  :  0.0\n",
      "name=Johnathan Motley  :  0.0\n",
      "name=Johnny O'Bryant III  :  0.0\n",
      "name=Jon Leuer  :  0.0\n",
      "name=Jonas Jerebko  :  0.0\n",
      "name=Jonas Valanciunas  :  0.0\n",
      "name=Jonathan Gibson  :  0.0\n",
      "name=Jonathan Isaac  :  0.0\n",
      "name=Jonathon Simmons  :  0.0\n",
      "name=Jordan Bell  :  0.0\n",
      "name=Jordan Clarkson  :  0.0\n",
      "name=Jordan Crawford  :  0.0\n",
      "name=Jordan Farmar  :  0.0\n",
      "name=Jordan Hill  :  0.0\n",
      "name=Jordan McRae  :  0.0\n",
      "name=Jordan Mickey  :  0.0\n",
      "name=Jose Calderon  :  0.0\n",
      "name=Josh Gray  :  0.0\n",
      "name=Josh Hart  :  0.0\n",
      "name=Josh Huestis  :  0.0\n",
      "name=Josh Jackson  :  0.0\n",
      "name=Josh Magette  :  0.0\n",
      "name=Josh McRoberts  :  0.0\n",
      "name=Josh Richardson  :  0.0\n",
      "name=Josh Smith  :  0.0\n",
      "name=Jrue Holiday  :  0.0\n",
      "name=Juancho Hernangomez  :  0.0\n",
      "name=Julius Randle  :  0.0\n",
      "name=Julyan Stone  :  0.0\n",
      "name=Justin Anderson  :  0.0\n",
      "name=Justin Hamilton  :  0.0\n",
      "name=Justin Harper  :  0.0\n",
      "name=Justin Holiday  :  0.0\n",
      "name=Justin Jackson  :  0.0\n",
      "name=Justise Winslow  :  0.0\n",
      "name=Jusuf Nurkic  :  0.0\n",
      "name=KJ McDaniels  :  0.0\n",
      "name=Kadeem Allen  :  0.0\n",
      "name=Karl-Anthony Towns  :  0.0\n",
      "name=Kawhi Leonard  :  0.0\n",
      "name=Kay Felder  :  0.0\n",
      "name=Kelly Olynyk  :  0.0\n",
      "name=Kelly Oubre Jr.  :  0.0\n",
      "name=Kemba Walker  :  0.0\n",
      "name=Kenneth Faried  :  0.0\n",
      "name=Kent Bazemore  :  0.0\n",
      "name=Kentavious Caldwell-Pope  :  0.0\n",
      "name=Kevin Durant  :  0.0\n",
      "name=Kevin Love  :  0.0\n",
      "name=Kevin Seraphin  :  0.0\n",
      "name=Kevon Looney  :  0.0\n",
      "name=Khem Birch  :  0.0\n",
      "name=Khris Middleton  :  0.0\n",
      "name=Klay Thompson  :  0.0\n",
      "name=Kobi Simmons  :  0.0\n",
      "name=Kosta Koufos  :  0.0\n",
      "name=Kris Dunn  :  0.0\n",
      "name=Kris Humphries  :  0.0\n",
      "name=Kristaps Porzingis  :  0.0\n",
      "name=Kyle Anderson  :  0.0\n",
      "name=Kyle Collinsworth  :  0.0\n",
      "name=Kyle Korver  :  0.0\n",
      "name=Kyle Kuzma  :  0.0\n",
      "name=Kyle Lowry  :  0.0\n",
      "name=Kyle O'Quinn  :  0.0\n",
      "name=Kyle Singler  :  0.0\n",
      "name=Kyle Wiltjer  :  0.0\n",
      "name=Kyrie Irving  :  0.0\n",
      "name=LaMarcus Aldridge  :  0.0\n",
      "name=Lamar Patterson  :  0.0\n",
      "name=Lance Stephenson  :  0.0\n",
      "name=Lance Thomas  :  0.0\n",
      "name=Langston Galloway  :  0.0\n",
      "name=Larry Drew II  :  0.0\n",
      "name=Larry Nance Jr.  :  0.0\n",
      "name=Larry Sanders  :  0.0\n",
      "name=Lauri Markkanen  :  0.0\n",
      "name=Lavoy Allen  :  0.0\n",
      "name=LeBron James  :  0.0\n",
      "name=Leandro Barbosa  :  0.0\n",
      "name=London Perrantes  :  0.0\n",
      "name=Lonzo Ball  :  0.0\n",
      "name=Lorenzo Brown  :  0.0\n",
      "name=Lou Williams  :  0.0\n",
      "name=Luc Mbah a Moute  :  0.0\n",
      "name=Lucas Nogueira  :  0.0\n",
      "name=Luis Montero  :  0.0\n",
      "name=Luis Scola  :  0.0\n",
      "name=Luke Babbitt  :  0.0\n",
      "name=Luke Kennard  :  0.0\n",
      "name=Luke Kornet  :  0.0\n",
      "name=Luol Deng  :  0.0\n",
      "name=Malachi Richardson  :  0.0\n",
      "name=Malcolm Brogdon  :  0.0\n",
      "name=Malcolm Delaney  :  0.0\n",
      "name=Malcolm Miller  :  0.0\n",
      "name=Malik Beasley  :  0.0\n",
      "name=Malik Monk  :  0.0\n",
      "name=Mangok Mathiang  :  0.0\n",
      "name=Manny Harris  :  0.0\n",
      "name=Manu Ginobili  :  0.0\n",
      "name=MarShon Brooks  :  0.0\n",
      "name=Marc Gasol  :  0.0\n",
      "name=Marcelo Huertas  :  0.0\n",
      "name=Marcin Gortat  :  0.0\n",
      "name=Marco Belinelli  :  0.0\n",
      "name=Marcus Georges-Hunt  :  0.0\n",
      "name=Marcus Morris  :  0.0\n",
      "name=Marcus Paige  :  0.0\n",
      "name=Marcus Smart  :  0.0\n",
      "name=Marcus Thornton  :  0.0\n",
      "name=Mario Chalmers  :  0.0\n",
      "name=Mario Hezonja  :  0.0\n",
      "name=Markel Brown  :  0.0\n",
      "name=Markelle Fultz  :  0.0\n",
      "name=Markieff Morris  :  0.0\n",
      "name=Marquese Chriss  :  0.0\n",
      "name=Marquis Teague  :  0.0\n",
      "name=Marreese Speights  :  0.0\n",
      "name=Marshall Plumlee  :  0.0\n",
      "name=Marvin Williams  :  0.0\n",
      "name=Mason Plumlee  :  0.0\n",
      "name=Matt Barnes  :  0.0\n",
      "name=Matt Costello  :  0.0\n",
      "name=Matt Williams Jr.  :  0.0\n",
      "name=Matthew Dellavedova  :  0.0\n",
      "name=Maurice Harkless  :  0.0\n",
      "name=Maurice Ndour  :  0.0\n",
      "name=Maxi Kleber  :  0.0\n",
      "name=Metta World Peace  :  0.0\n",
      "name=Meyers Leonard  :  0.0\n",
      "name=Michael Beasley  :  0.0\n",
      "name=Michael Carter-Williams  :  0.0\n",
      "name=Michael Gbinije  :  0.0\n",
      "name=Michael Kidd-Gilchrist  :  0.0\n",
      "name=Mike Conley  :  0.0\n",
      "name=Mike Dunleavy  :  0.0\n",
      "name=Mike James  :  0.0\n",
      "name=Mike Miller  :  0.0\n",
      "name=Mike Muscala  :  0.0\n",
      "name=Mike Scott  :  0.0\n",
      "name=Mike Tobey  :  0.0\n",
      "name=Miles Plumlee  :  0.0\n",
      "name=Milos Teodosic  :  0.0\n",
      "name=Milton Doyle  :  0.0\n",
      "name=Mindaugas Kuzminskas  :  0.0\n",
      "name=Mirza Teletovic  :  0.0\n",
      "name=Monta Ellis  :  0.0\n",
      "name=Monte Morris  :  0.0\n",
      "name=Montrezl Harrell  :  0.0\n",
      "name=Myke Henry  :  0.0\n",
      "name=Myles Turner  :  0.0\n",
      "name=Nate Wolters  :  0.0\n",
      "name=Nemanja Bjelica  :  0.0\n",
      "name=Nene  :  0.0\n",
      "name=Nerlens Noel  :  0.0\n",
      "name=Nick Collison  :  0.0\n",
      "name=Nick Young  :  0.0\n",
      "name=Nicolas Batum  :  0.0\n",
      "name=Nicolas Brussino  :  0.0\n",
      "name=Nicolas Laprovittola  :  0.0\n",
      "name=Nigel Hayes  :  0.0\n",
      "name=Nik Stauskas  :  0.0\n",
      "name=Nikola Jokic  :  0.0\n",
      "name=Nikola Mirotic  :  0.0\n",
      "name=Nikola Vucevic  :  0.0\n",
      "name=Noah Vonleh  :  0.0\n",
      "name=Norman Powell  :  0.0\n",
      "name=Norris Cole  :  0.0\n",
      "name=OG Anunoby  :  0.0\n",
      "name=Okaro White  :  0.0\n",
      "name=Omari Johnson  :  0.0\n",
      "name=Omer Asik  :  0.0\n",
      "name=Omri Casspi  :  0.0\n",
      "name=Otto Porter Jr.  :  0.0\n",
      "name=PJ Dozier  :  0.0\n",
      "name=PJ Tucker  :  0.0\n",
      "name=Pascal Siakam  :  0.0\n",
      "name=Pat Connaughton  :  0.0\n",
      "name=Patricio Garino  :  0.0\n",
      "name=Patrick Beverley  :  0.0\n",
      "name=Patrick McCaw  :  0.0\n",
      "name=Patrick Patterson  :  0.0\n",
      "name=Patty Mills  :  0.0\n",
      "name=Pau Gasol  :  0.0\n",
      "name=Paul George  :  0.0\n",
      "name=Paul Millsap  :  0.0\n",
      "name=Paul Pierce  :  0.0\n",
      "name=Paul Zipser  :  0.0\n",
      "name=Pierre Jackson  :  0.0\n",
      "name=Quincy Acy  :  0.0\n",
      "name=Quincy Pondexter  :  0.0\n",
      "name=Quinn Cook  :  0.0\n",
      "name=RJ Hunter  :  0.0\n",
      "name=Rajon Rondo  :  0.0\n",
      "name=Rakeem Christmas  :  0.0\n",
      "name=Ramon Sessions  :  0.0\n",
      "name=Randy Foye  :  0.0\n",
      "name=Rashad Vaughn  :  0.0\n",
      "name=Raul Neto  :  0.0\n",
      "name=Raymond Felton  :  0.0\n",
      "name=Reggie Bullock  :  0.0\n",
      "name=Reggie Hearn  :  0.0\n",
      "name=Reggie Jackson  :  0.0\n",
      "name=Reggie Williams  :  0.0\n",
      "name=Richard Jefferson  :  0.0\n",
      "name=Richaun Holmes  :  0.0\n",
      "name=Ricky Rubio  :  0.0\n",
      "name=Robert Covington  :  0.0\n",
      "name=Robin Lopez  :  0.0\n",
      "name=Rodney Hood  :  0.0\n",
      "name=Rodney McGruder  :  0.0\n",
      "name=Rodney Purvis  :  0.0\n",
      "name=Rodney Stuckey  :  0.0\n",
      "name=Ron Baker  :  0.0\n",
      "name=Rondae Hollis-Jefferson  :  0.0\n",
      "name=Ronnie Price  :  0.0\n",
      "name=Roy Hibbert  :  0.0\n",
      "name=Royce O'Neale  :  0.0\n",
      "name=Rudy Gay  :  0.0\n",
      "name=Rudy Gobert  :  0.0\n",
      "name=Russell Westbrook  :  0.0\n",
      "name=Ryan Anderson  :  0.0\n",
      "name=Ryan Arcidiacono  :  0.0\n",
      "name=Ryan Kelly  :  0.0\n",
      "name=Salah Mejri  :  0.0\n",
      "name=Sam Dekker  :  0.0\n",
      "name=Sasha Vujacic  :  0.0\n",
      "name=Sean Kilpatrick  :  0.0\n",
      "name=Semaj Christon  :  0.0\n",
      "name=Semi Ojeleye  :  0.0\n",
      "name=Serge Ibaka  :  0.0\n",
      "name=Sergio Rodriguez  :  0.0\n",
      "name=Seth Curry  :  0.0\n",
      "name=Shabazz Muhammad  :  0.0\n",
      "name=Shabazz Napier  :  0.0\n",
      "name=Shane Larkin  :  0.0\n",
      "name=Shaquille Harrison  :  0.0\n",
      "name=Shaun Livingston  :  0.0\n",
      "name=Shawn Long  :  0.0\n",
      "name=Sheldon Mac  :  0.0\n",
      "name=Shelvin Mack  :  0.0\n",
      "name=Sindarius Thornwell  :  0.0\n",
      "name=Skal Labissiere  :  0.0\n",
      "name=Solomon Hill  :  0.0\n",
      "name=Spencer Dinwiddie  :  0.0\n",
      "name=Spencer Hawes  :  0.0\n",
      "name=Stanley Johnson  :  0.0\n",
      "name=Stephen Curry  :  0.0\n",
      "name=Stephen Zimmerman  :  0.0\n",
      "name=Sterling Brown  :  0.0\n",
      "name=Steve Novak  :  0.0\n",
      "name=Steven Adams  :  0.0\n",
      "name=T.J. McConnell  :  0.0\n",
      "name=TJ Leaf  :  0.0\n",
      "name=TJ Warren  :  0.0\n",
      "name=Taj Gibson  :  0.0\n",
      "name=Tarik Black  :  0.0\n",
      "name=Taurean Prince  :  0.0\n",
      "name=Terrance Ferguson  :  0.0\n",
      "name=Terrence Jones  :  0.0\n",
      "name=Terrence Ross  :  0.0\n",
      "name=Terry Rozier  :  0.0\n",
      "name=Thabo Sefolosha  :  0.0\n",
      "name=Thaddeus Young  :  0.0\n",
      "name=Thomas Bryant  :  0.0\n",
      "name=Thomas Robinson  :  0.0\n",
      "name=Thon Maker  :  0.0\n",
      "name=Tiago Splitter  :  0.0\n",
      "name=Tim Frazier  :  0.0\n",
      "name=Tim Hardaway Jr.  :  0.0\n",
      "name=Tim Quarterman  :  0.0\n",
      "name=Timofey Mozgov  :  0.0\n",
      "name=Timothe Luwawu-Cabarrot  :  0.0\n",
      "name=Tobias Harris  :  0.0\n",
      "name=Tomas Satoransky  :  0.0\n",
      "name=Toney Douglas  :  0.0\n",
      "name=Tony Allen  :  0.0\n",
      "name=Tony Bradley  :  0.0\n",
      "name=Tony Parker  :  0.0\n",
      "name=Tony Snell  :  0.0\n",
      "name=Torrey Craig  :  0.0\n",
      "name=Travis Wear  :  0.0\n",
      "name=Treveon Graham  :  0.0\n",
      "name=Trevor Ariza  :  0.0\n",
      "name=Trevor Booker  :  0.0\n",
      "name=Trey Burke  :  0.0\n",
      "name=Trey Lyles  :  0.0\n",
      "name=Tristan Thompson  :  0.0\n",
      "name=Troy Daniels  :  0.0\n",
      "name=Troy Williams  :  0.0\n",
      "name=Ty Lawson  :  0.0\n",
      "name=Tyler Cavanaugh  :  0.0\n",
      "name=Tyler Dorsey  :  0.0\n",
      "name=Tyler Ennis  :  0.0\n",
      "name=Tyler Johnson  :  0.0\n",
      "name=Tyler Ulis  :  0.0\n",
      "name=Tyler Zeller  :  0.0\n",
      "name=Tyreke Evans  :  0.0\n",
      "name=Tyrone Wallace  :  0.0\n",
      "name=Tyson Chandler  :  0.0\n",
      "name=Tyus Jones  :  0.0\n",
      "name=Udonis Haslem  :  0.0\n",
      "name=Vander Blue  :  0.0\n",
      "name=Victor Oladipo  :  0.0\n",
      "name=Vince Carter  :  0.0\n",
      "name=Vincent Hunter  :  0.0\n",
      "name=Wade Baldwin IV  :  0.0\n",
      "name=Walter Lemon Jr.  :  0.0\n",
      "name=Wayne Ellington  :  0.0\n",
      "name=Wayne Selden  :  0.0\n",
      "name=Wes Iwundu  :  0.0\n",
      "name=Wesley Johnson  :  0.0\n",
      "name=Wesley Matthews  :  0.0\n",
      "name=Will Barton  :  0.0\n",
      "name=Willie Cauley-Stein  :  0.0\n",
      "name=Willie Reed  :  0.0\n",
      "name=Willy Hernangomez  :  0.0\n",
      "name=Wilson Chandler  :  0.0\n",
      "name=Xavier Munford  :  0.0\n",
      "name=Xavier Rathan-Mayes  :  0.0\n",
      "name=Xavier Silas  :  0.0\n",
      "name=Yogi Ferrell  :  0.0\n",
      "name=Zach Collins  :  0.0\n",
      "name=Zach LaVine  :  0.0\n",
      "name=Zach Randolph  :  0.0\n",
      "name=Zaza Pachulia  :  0.0\n",
      "name=Zhou Qi  :  0.0\n",
      "player_team=ATL  :  0.0\n",
      "player_team=BKN  :  0.0\n",
      "player_team=BOS  :  0.0\n",
      "player_team=CHA  :  0.0\n",
      "player_team=CHI  :  0.0\n",
      "player_team=CLE  :  0.0\n",
      "player_team=DAL  :  0.0\n",
      "player_team=DEN  :  0.0\n",
      "player_team=DET  :  0.0\n",
      "player_team=GSW  :  0.0\n",
      "player_team=HOU  :  0.0\n",
      "player_team=IND  :  0.0\n",
      "player_team=LAC  :  0.0\n",
      "player_team=LAL  :  0.0\n",
      "player_team=MEM  :  0.0\n",
      "player_team=MIA  :  0.0\n",
      "player_team=MIL  :  0.0\n",
      "player_team=MIN  :  0.0\n",
      "player_team=NOP  :  0.0\n",
      "player_team=NYK  :  0.0\n",
      "player_team=OKC  :  0.0\n",
      "player_team=ORL  :  0.0\n",
      "player_team=PHI  :  0.0\n",
      "player_team=PHX  :  0.0\n",
      "player_team=POR  :  1.0\n",
      "player_team=SAC  :  0.0\n",
      "player_team=SAS  :  0.0\n",
      "player_team=TOR  :  0.0\n",
      "player_team=UTA  :  0.0\n",
      "player_team=WAS  :  0.0\n",
      "position=  :  0.0\n",
      "position=C  :  0.0\n",
      "position=F  :  1.0\n",
      "position=G  :  0.0\n",
      "pts  :  9.0\n",
      "reb  :  4.0\n",
      "stl  :  1.0\n",
      "team_against=ATL  :  0.0\n",
      "team_against=BOS  :  0.0\n",
      "team_against=CHA  :  0.0\n",
      "team_against=CHI  :  0.0\n",
      "team_against=CLE  :  0.0\n",
      "team_against=DAL  :  0.0\n",
      "team_against=DEN  :  0.0\n",
      "team_against=DET  :  0.0\n",
      "team_against=GSW  :  0.0\n",
      "team_against=HOU  :  0.0\n",
      "team_against=IND  :  0.0\n",
      "team_against=LAC  :  1.0\n",
      "team_against=LAL  :  0.0\n",
      "team_against=MEM  :  0.0\n",
      "team_against=MIA  :  0.0\n",
      "team_against=MIL  :  0.0\n",
      "team_against=MIN  :  0.0\n",
      "team_against=NJN  :  0.0\n",
      "team_against=NOP  :  0.0\n",
      "team_against=NYK  :  0.0\n",
      "team_against=OKC  :  0.0\n",
      "team_against=ORL  :  0.0\n",
      "team_against=PHI  :  0.0\n",
      "team_against=PHO  :  0.0\n",
      "team_against=POR  :  0.0\n",
      "team_against=SAC  :  0.0\n",
      "team_against=SAS  :  0.0\n",
      "team_against=TOR  :  0.0\n",
      "team_against=UTA  :  0.0\n",
      "team_against=WAS  :  0.0\n",
      "to  :  1.0\n"
     ]
    }
   ],
   "source": [
    "for l,v in zip(vec.get_feature_names(),X[0,:]):\n",
    "    print(l,' : ', v)"
   ]
  },
  {
   "cell_type": "code",
   "execution_count": 7,
   "metadata": {},
   "outputs": [],
   "source": [
    "X_train, X_test, y_train, y_test = train_test_split(X, y, test_size=0.90, random_state=0)"
   ]
  },
  {
   "cell_type": "code",
   "execution_count": 14,
   "metadata": {},
   "outputs": [
    {
     "name": "stdout",
     "output_type": "stream",
     "text": [
      "681408\n",
      "====================================\n",
      "\n",
      "INFO: Number of possible iterations given cooling schedule: 1092\n",
      "\n"
     ]
    },
    {
     "name": "stderr",
     "output_type": "stream",
     "text": [
      "[Parallel(n_jobs=4)]: Using backend LokyBackend with 4 concurrent workers.\n",
      "[Parallel(n_jobs=4)]: Done   3 out of   3 | elapsed:    1.6s finished\n",
      "[Parallel(n_jobs=4)]: Using backend LokyBackend with 4 concurrent workers.\n",
      "[Parallel(n_jobs=4)]: Done   3 out of   3 | elapsed:    0.9s finished\n",
      "[Parallel(n_jobs=4)]: Using backend LokyBackend with 4 concurrent workers.\n"
     ]
    },
    {
     "name": "stdout",
     "output_type": "stream",
     "text": [
      "2 T: 100.00000, score: 0.511151, std: 0.006942, params: {'max_features': 100, 'min_samples_split': 361, 'n_estimators': 100, 'max_depth': 442, 'random_state': 0, 'n_jobs': 4}\n",
      "3 T: 100.00000, score: 0.511151, std: 0.006942, params: {'max_features': 100, 'min_samples_split': 361, 'n_estimators': 100, 'max_depth': 442, 'random_state': 0, 'n_jobs': 4}\n"
     ]
    },
    {
     "name": "stderr",
     "output_type": "stream",
     "text": [
      "[Parallel(n_jobs=4)]: Done   3 out of   3 | elapsed:    0.9s finished\n",
      "[Parallel(n_jobs=4)]: Using backend LokyBackend with 4 concurrent workers.\n"
     ]
    },
    {
     "name": "stdout",
     "output_type": "stream",
     "text": [
      "4 T: 100.00000, score: 0.511151, std: 0.006942, params: {'max_features': 100, 'min_samples_split': 361, 'n_estimators': 100, 'max_depth': 208, 'random_state': 0, 'n_jobs': 4}\n"
     ]
    },
    {
     "name": "stderr",
     "output_type": "stream",
     "text": [
      "[Parallel(n_jobs=4)]: Done   3 out of   3 | elapsed:    0.8s finished\n",
      "[Parallel(n_jobs=4)]: Using backend LokyBackend with 4 concurrent workers.\n"
     ]
    },
    {
     "name": "stdout",
     "output_type": "stream",
     "text": [
      "5 T: 100.00000, score: 0.511151, std: 0.006942, params: {'max_features': 100, 'min_samples_split': 361, 'n_estimators': 100, 'max_depth': 73, 'random_state': 0, 'n_jobs': 4}\n"
     ]
    },
    {
     "name": "stderr",
     "output_type": "stream",
     "text": [
      "[Parallel(n_jobs=4)]: Done   3 out of   3 | elapsed:    2.8s finished\n",
      "[Parallel(n_jobs=4)]: Using backend LokyBackend with 4 concurrent workers.\n"
     ]
    },
    {
     "name": "stdout",
     "output_type": "stream",
     "text": [
      "6 T: 100.00000, score: 0.512123, std: 0.007619, params: {'max_features': 640, 'min_samples_split': 361, 'n_estimators': 100, 'max_depth': 73, 'random_state': 0, 'n_jobs': 4}\n",
      "7 T: 100.00000, score: 0.512123, std: 0.007619, params: {'max_features': 640, 'min_samples_split': 361, 'n_estimators': 100, 'max_depth': 73, 'random_state': 0, 'n_jobs': 4}\n"
     ]
    },
    {
     "name": "stderr",
     "output_type": "stream",
     "text": [
      "[Parallel(n_jobs=4)]: Done   3 out of   3 | elapsed:    2.3s finished\n",
      "[Parallel(n_jobs=4)]: Using backend LokyBackend with 4 concurrent workers.\n"
     ]
    },
    {
     "name": "stdout",
     "output_type": "stream",
     "text": [
      "8 T: 100.00000, score: 0.500534, std: 0.009086, params: {'max_features': 640, 'min_samples_split': 667, 'n_estimators': 100, 'max_depth': 73, 'random_state': 0, 'n_jobs': 4}\n"
     ]
    },
    {
     "name": "stderr",
     "output_type": "stream",
     "text": [
      "[Parallel(n_jobs=4)]: Done   3 out of   3 | elapsed:    3.0s finished\n",
      "[Parallel(n_jobs=4)]: Using backend LokyBackend with 4 concurrent workers.\n"
     ]
    },
    {
     "name": "stdout",
     "output_type": "stream",
     "text": [
      "9 T: 100.00000, score: 0.511977, std: 0.008001, params: {'max_features': 640, 'min_samples_split': 343, 'n_estimators': 100, 'max_depth': 73, 'random_state': 0, 'n_jobs': 4}\n",
      "10 T: 100.00000, score: 0.511977, std: 0.008001, params: {'max_features': 640, 'min_samples_split': 343, 'n_estimators': 100, 'max_depth': 73, 'random_state': 0, 'n_jobs': 4}\n",
      "11 T: 100.00000, score: 0.511977, std: 0.008001, params: {'max_features': 640, 'min_samples_split': 343, 'n_estimators': 100, 'max_depth': 73, 'random_state': 0, 'n_jobs': 4}\n"
     ]
    },
    {
     "name": "stderr",
     "output_type": "stream",
     "text": [
      "[Parallel(n_jobs=4)]: Done   3 out of   3 | elapsed:    1.3s finished\n",
      "[Parallel(n_jobs=4)]: Using backend LokyBackend with 4 concurrent workers.\n"
     ]
    },
    {
     "name": "stdout",
     "output_type": "stream",
     "text": [
      "12 T: 90.00000, score: 0.516217, std: 0.009949, params: {'max_features': 235, 'min_samples_split': 343, 'n_estimators': 100, 'max_depth': 73, 'random_state': 0, 'n_jobs': 4}\n"
     ]
    },
    {
     "name": "stderr",
     "output_type": "stream",
     "text": [
      "[Parallel(n_jobs=4)]: Done   3 out of   3 | elapsed:    1.4s finished\n",
      "[Parallel(n_jobs=4)]: Using backend LokyBackend with 4 concurrent workers.\n"
     ]
    },
    {
     "name": "stdout",
     "output_type": "stream",
     "text": [
      "13 T: 90.00000, score: 0.516217, std: 0.009949, params: {'max_features': 235, 'min_samples_split': 343, 'n_estimators': 100, 'max_depth': 640, 'random_state': 0, 'n_jobs': 4}\n",
      "14 T: 90.00000, score: 0.516217, std: 0.009949, params: {'max_features': 235, 'min_samples_split': 343, 'n_estimators': 100, 'max_depth': 640, 'random_state': 0, 'n_jobs': 4}\n"
     ]
    },
    {
     "name": "stderr",
     "output_type": "stream",
     "text": [
      "[Parallel(n_jobs=4)]: Done   3 out of   3 | elapsed:    1.5s finished\n",
      "[Parallel(n_jobs=4)]: Using backend LokyBackend with 4 concurrent workers.\n"
     ]
    },
    {
     "name": "stdout",
     "output_type": "stream",
     "text": [
      "15 T: 90.00000, score: 0.516217, std: 0.009949, params: {'max_features': 235, 'min_samples_split': 343, 'n_estimators': 100, 'max_depth': 802, 'random_state': 0, 'n_jobs': 4}\n",
      "16 T: 90.00000, score: 0.516217, std: 0.009949, params: {'max_features': 235, 'min_samples_split': 343, 'n_estimators': 100, 'max_depth': 802, 'random_state': 0, 'n_jobs': 4}\n",
      "17 T: 90.00000, score: 0.516217, std: 0.009949, params: {'max_features': 235, 'min_samples_split': 343, 'n_estimators': 100, 'max_depth': 802, 'random_state': 0, 'n_jobs': 4}\n",
      "18 T: 90.00000, score: 0.516217, std: 0.009949, params: {'max_features': 235, 'min_samples_split': 343, 'n_estimators': 100, 'max_depth': 802, 'random_state': 0, 'n_jobs': 4}\n",
      "19 T: 90.00000, score: 0.516217, std: 0.009949, params: {'max_features': 235, 'min_samples_split': 343, 'n_estimators': 100, 'max_depth': 802, 'random_state': 0, 'n_jobs': 4}\n",
      "20 T: 90.00000, score: 0.516217, std: 0.009949, params: {'max_features': 235, 'min_samples_split': 343, 'n_estimators': 100, 'max_depth': 802, 'random_state': 0, 'n_jobs': 4}\n"
     ]
    },
    {
     "name": "stderr",
     "output_type": "stream",
     "text": [
      "[Parallel(n_jobs=4)]: Done   3 out of   3 | elapsed:    1.8s finished\n",
      "[Parallel(n_jobs=4)]: Using backend LokyBackend with 4 concurrent workers.\n"
     ]
    },
    {
     "name": "stdout",
     "output_type": "stream",
     "text": [
      "21 T: 90.00000, score: 0.515943, std: 0.006507, params: {'max_features': 334, 'min_samples_split': 343, 'n_estimators': 100, 'max_depth': 802, 'random_state': 0, 'n_jobs': 4}\n",
      "22 T: 81.00000, score: 0.515943, std: 0.006507, params: {'max_features': 334, 'min_samples_split': 343, 'n_estimators': 100, 'max_depth': 802, 'random_state': 0, 'n_jobs': 4}\n"
     ]
    },
    {
     "name": "stderr",
     "output_type": "stream",
     "text": [
      "[Parallel(n_jobs=4)]: Done   3 out of   3 | elapsed:    2.1s finished\n",
      "[Parallel(n_jobs=4)]: Using backend LokyBackend with 4 concurrent workers.\n"
     ]
    },
    {
     "name": "stdout",
     "output_type": "stream",
     "text": [
      "23 T: 81.00000, score: 0.528148, std: 0.010803, params: {'max_features': 334, 'min_samples_split': 190, 'n_estimators': 100, 'max_depth': 802, 'random_state': 0, 'n_jobs': 4}\n"
     ]
    },
    {
     "name": "stderr",
     "output_type": "stream",
     "text": [
      "[Parallel(n_jobs=4)]: Done   3 out of   3 | elapsed:    1.9s finished\n",
      "[Parallel(n_jobs=4)]: Using backend LokyBackend with 4 concurrent workers.\n"
     ]
    },
    {
     "name": "stdout",
     "output_type": "stream",
     "text": [
      "24 T: 81.00000, score: 0.518899, std: 0.007539, params: {'max_features': 334, 'min_samples_split': 289, 'n_estimators': 100, 'max_depth': 802, 'random_state': 0, 'n_jobs': 4}\n"
     ]
    },
    {
     "name": "stderr",
     "output_type": "stream",
     "text": [
      "[Parallel(n_jobs=4)]: Done   3 out of   3 | elapsed:    1.9s finished\n",
      "[Parallel(n_jobs=4)]: Using backend LokyBackend with 4 concurrent workers.\n"
     ]
    },
    {
     "name": "stdout",
     "output_type": "stream",
     "text": [
      "25 T: 81.00000, score: 0.523174, std: 0.010547, params: {'max_features': 334, 'min_samples_split': 262, 'n_estimators': 100, 'max_depth': 802, 'random_state': 0, 'n_jobs': 4}\n",
      "26 T: 81.00000, score: 0.523174, std: 0.010547, params: {'max_features': 334, 'min_samples_split': 262, 'n_estimators': 100, 'max_depth': 802, 'random_state': 0, 'n_jobs': 4}\n"
     ]
    },
    {
     "name": "stderr",
     "output_type": "stream",
     "text": [
      "[Parallel(n_jobs=4)]: Done   3 out of   3 | elapsed:    2.2s finished\n",
      "[Parallel(n_jobs=4)]: Using backend LokyBackend with 4 concurrent workers.\n"
     ]
    },
    {
     "name": "stdout",
     "output_type": "stream",
     "text": [
      "27 T: 81.00000, score: 0.523518, std: 0.010222, params: {'max_features': 370, 'min_samples_split': 262, 'n_estimators': 100, 'max_depth': 802, 'random_state': 0, 'n_jobs': 4}\n"
     ]
    },
    {
     "name": "stderr",
     "output_type": "stream",
     "text": [
      "[Parallel(n_jobs=4)]: Done   3 out of   3 | elapsed:    2.3s finished\n",
      "[Parallel(n_jobs=4)]: Using backend LokyBackend with 4 concurrent workers.\n"
     ]
    },
    {
     "name": "stdout",
     "output_type": "stream",
     "text": [
      "28 T: 81.00000, score: 0.527376, std: 0.011841, params: {'max_features': 370, 'min_samples_split': 118, 'n_estimators': 100, 'max_depth': 802, 'random_state': 0, 'n_jobs': 4}\n",
      "29 T: 81.00000, score: 0.527376, std: 0.011841, params: {'max_features': 370, 'min_samples_split': 118, 'n_estimators': 100, 'max_depth': 802, 'random_state': 0, 'n_jobs': 4}\n"
     ]
    },
    {
     "name": "stderr",
     "output_type": "stream",
     "text": [
      "[Parallel(n_jobs=4)]: Done   3 out of   3 | elapsed:    1.5s finished\n",
      "[Parallel(n_jobs=4)]: Using backend LokyBackend with 4 concurrent workers.\n"
     ]
    },
    {
     "name": "stdout",
     "output_type": "stream",
     "text": [
      "30 T: 81.00000, score: 0.499117, std: 0.006114, params: {'max_features': 370, 'min_samples_split': 685, 'n_estimators': 100, 'max_depth': 802, 'random_state': 0, 'n_jobs': 4}\n",
      "31 T: 81.00000, score: 0.499117, std: 0.006114, params: {'max_features': 370, 'min_samples_split': 685, 'n_estimators': 100, 'max_depth': 802, 'random_state': 0, 'n_jobs': 4}\n"
     ]
    },
    {
     "name": "stderr",
     "output_type": "stream",
     "text": [
      "[Parallel(n_jobs=4)]: Done   3 out of   3 | elapsed:    1.8s finished\n",
      "[Parallel(n_jobs=4)]: Using backend LokyBackend with 4 concurrent workers.\n"
     ]
    },
    {
     "name": "stdout",
     "output_type": "stream",
     "text": [
      "32 T: 72.90000, score: 0.512637, std: 0.006242, params: {'max_features': 370, 'min_samples_split': 469, 'n_estimators': 100, 'max_depth': 802, 'random_state': 0, 'n_jobs': 4}\n"
     ]
    },
    {
     "name": "stderr",
     "output_type": "stream",
     "text": [
      "[Parallel(n_jobs=4)]: Done   3 out of   3 | elapsed:    0.6s finished\n",
      "[Parallel(n_jobs=4)]: Using backend LokyBackend with 4 concurrent workers.\n"
     ]
    },
    {
     "name": "stdout",
     "output_type": "stream",
     "text": [
      "33 T: 72.90000, score: 0.495794, std: 0.008310, params: {'max_features': 55, 'min_samples_split': 469, 'n_estimators': 100, 'max_depth': 802, 'random_state': 0, 'n_jobs': 4}\n",
      "34 T: 72.90000, score: 0.495794, std: 0.008310, params: {'max_features': 55, 'min_samples_split': 469, 'n_estimators': 100, 'max_depth': 802, 'random_state': 0, 'n_jobs': 4}\n",
      "35 T: 72.90000, score: 0.495794, std: 0.008310, params: {'max_features': 55, 'min_samples_split': 469, 'n_estimators': 100, 'max_depth': 802, 'random_state': 0, 'n_jobs': 4}\n",
      "36 T: 72.90000, score: 0.495794, std: 0.008310, params: {'max_features': 55, 'min_samples_split': 469, 'n_estimators': 100, 'max_depth': 802, 'random_state': 0, 'n_jobs': 4}\n"
     ]
    },
    {
     "name": "stderr",
     "output_type": "stream",
     "text": [
      "[Parallel(n_jobs=4)]: Done   3 out of   3 | elapsed:    1.0s finished\n",
      "[Parallel(n_jobs=4)]: Using backend LokyBackend with 4 concurrent workers.\n"
     ]
    },
    {
     "name": "stdout",
     "output_type": "stream",
     "text": [
      "37 T: 72.90000, score: 0.530353, std: 0.008645, params: {'max_features': 55, 'min_samples_split': 37, 'n_estimators': 100, 'max_depth': 802, 'random_state': 0, 'n_jobs': 4}\n",
      "38 T: 72.90000, score: 0.530353, std: 0.008645, params: {'max_features': 55, 'min_samples_split': 37, 'n_estimators': 100, 'max_depth': 802, 'random_state': 0, 'n_jobs': 4}\n",
      "39 T: 72.90000, score: 0.530353, std: 0.008645, params: {'max_features': 55, 'min_samples_split': 37, 'n_estimators': 100, 'max_depth': 802, 'random_state': 0, 'n_jobs': 4}\n"
     ]
    },
    {
     "name": "stderr",
     "output_type": "stream",
     "text": [
      "[Parallel(n_jobs=4)]: Done   3 out of   3 | elapsed:    1.0s finished\n",
      "[Parallel(n_jobs=4)]: Using backend LokyBackend with 4 concurrent workers.\n"
     ]
    },
    {
     "name": "stdout",
     "output_type": "stream",
     "text": [
      "40 T: 72.90000, score: 0.530353, std: 0.008645, params: {'max_features': 55, 'min_samples_split': 37, 'n_estimators': 100, 'max_depth': 253, 'random_state': 0, 'n_jobs': 4}\n",
      "41 T: 72.90000, score: 0.530353, std: 0.008645, params: {'max_features': 55, 'min_samples_split': 37, 'n_estimators': 100, 'max_depth': 253, 'random_state': 0, 'n_jobs': 4}\n",
      "42 T: 65.61000, score: 0.530353, std: 0.008645, params: {'max_features': 55, 'min_samples_split': 37, 'n_estimators': 100, 'max_depth': 253, 'random_state': 0, 'n_jobs': 4}\n",
      "43 T: 65.61000, score: 0.530353, std: 0.008645, params: {'max_features': 55, 'min_samples_split': 37, 'n_estimators': 100, 'max_depth': 253, 'random_state': 0, 'n_jobs': 4}\n",
      "44 T: 65.61000, score: 0.530353, std: 0.008645, params: {'max_features': 55, 'min_samples_split': 37, 'n_estimators': 100, 'max_depth': 253, 'random_state': 0, 'n_jobs': 4}\n"
     ]
    },
    {
     "name": "stderr",
     "output_type": "stream",
     "text": [
      "[Parallel(n_jobs=4)]: Done   3 out of   3 | elapsed:    1.9s finished\n",
      "[Parallel(n_jobs=4)]: Using backend LokyBackend with 4 concurrent workers.\n"
     ]
    },
    {
     "name": "stdout",
     "output_type": "stream",
     "text": [
      "45 T: 65.61000, score: 0.527684, std: 0.011336, params: {'max_features': 217, 'min_samples_split': 37, 'n_estimators': 100, 'max_depth': 253, 'random_state': 0, 'n_jobs': 4}\n",
      "46 T: 65.61000, score: 0.527684, std: 0.011336, params: {'max_features': 217, 'min_samples_split': 37, 'n_estimators': 100, 'max_depth': 253, 'random_state': 0, 'n_jobs': 4}\n",
      "47 T: 65.61000, score: 0.527684, std: 0.011336, params: {'max_features': 217, 'min_samples_split': 37, 'n_estimators': 100, 'max_depth': 253, 'random_state': 0, 'n_jobs': 4}\n"
     ]
    },
    {
     "name": "stderr",
     "output_type": "stream",
     "text": [
      "[Parallel(n_jobs=4)]: Done   3 out of   3 | elapsed:    1.9s finished\n",
      "[Parallel(n_jobs=4)]: Using backend LokyBackend with 4 concurrent workers.\n"
     ]
    },
    {
     "name": "stdout",
     "output_type": "stream",
     "text": [
      "48 T: 65.61000, score: 0.527684, std: 0.011336, params: {'max_features': 217, 'min_samples_split': 37, 'n_estimators': 100, 'max_depth': 424, 'random_state': 0, 'n_jobs': 4}\n"
     ]
    },
    {
     "name": "stderr",
     "output_type": "stream",
     "text": [
      "[Parallel(n_jobs=4)]: Done   3 out of   3 | elapsed:    1.7s finished\n",
      "[Parallel(n_jobs=4)]: Using backend LokyBackend with 4 concurrent workers.\n"
     ]
    },
    {
     "name": "stdout",
     "output_type": "stream",
     "text": [
      "49 T: 65.61000, score: 0.527684, std: 0.011336, params: {'max_features': 217, 'min_samples_split': 37, 'n_estimators': 100, 'max_depth': 289, 'random_state': 0, 'n_jobs': 4}\n"
     ]
    },
    {
     "name": "stderr",
     "output_type": "stream",
     "text": [
      "[Parallel(n_jobs=4)]: Done   3 out of   3 | elapsed:    1.8s finished\n",
      "[Parallel(n_jobs=4)]: Using backend LokyBackend with 4 concurrent workers.\n"
     ]
    },
    {
     "name": "stdout",
     "output_type": "stream",
     "text": [
      "50 T: 65.61000, score: 0.527684, std: 0.011336, params: {'max_features': 217, 'min_samples_split': 37, 'n_estimators': 100, 'max_depth': 568, 'random_state': 0, 'n_jobs': 4}\n"
     ]
    },
    {
     "name": "stderr",
     "output_type": "stream",
     "text": [
      "[Parallel(n_jobs=4)]: Done   3 out of   3 | elapsed:    1.8s finished\n",
      "[Parallel(n_jobs=4)]: Using backend LokyBackend with 4 concurrent workers.\n"
     ]
    },
    {
     "name": "stdout",
     "output_type": "stream",
     "text": [
      "51 T: 65.61000, score: 0.530311, std: 0.010106, params: {'max_features': 217, 'min_samples_split': 73, 'n_estimators': 100, 'max_depth': 568, 'random_state': 0, 'n_jobs': 4}\n",
      "52 T: 59.04900, score: 0.530311, std: 0.010106, params: {'max_features': 217, 'min_samples_split': 73, 'n_estimators': 100, 'max_depth': 568, 'random_state': 0, 'n_jobs': 4}\n"
     ]
    },
    {
     "name": "stderr",
     "output_type": "stream",
     "text": [
      "[Parallel(n_jobs=4)]: Done   3 out of   3 | elapsed:    1.1s finished\n",
      "[Parallel(n_jobs=4)]: Using backend LokyBackend with 4 concurrent workers.\n"
     ]
    },
    {
     "name": "stdout",
     "output_type": "stream",
     "text": [
      "53 T: 59.04900, score: 0.491532, std: 0.008594, params: {'max_features': 217, 'min_samples_split': 694, 'n_estimators': 100, 'max_depth': 568, 'random_state': 0, 'n_jobs': 4}\n",
      "54 T: 59.04900, score: 0.491532, std: 0.008594, params: {'max_features': 217, 'min_samples_split': 694, 'n_estimators': 100, 'max_depth': 568, 'random_state': 0, 'n_jobs': 4}\n"
     ]
    },
    {
     "name": "stderr",
     "output_type": "stream",
     "text": [
      "[Parallel(n_jobs=4)]: Done   3 out of   3 | elapsed:    1.0s finished\n",
      "[Parallel(n_jobs=4)]: Using backend LokyBackend with 4 concurrent workers.\n"
     ]
    },
    {
     "name": "stdout",
     "output_type": "stream",
     "text": [
      "55 T: 59.04900, score: 0.491532, std: 0.008594, params: {'max_features': 217, 'min_samples_split': 694, 'n_estimators': 100, 'max_depth': 964, 'random_state': 0, 'n_jobs': 4}\n",
      "56 T: 59.04900, score: 0.491532, std: 0.008594, params: {'max_features': 217, 'min_samples_split': 694, 'n_estimators': 100, 'max_depth': 568, 'random_state': 0, 'n_jobs': 4}\n"
     ]
    },
    {
     "name": "stderr",
     "output_type": "stream",
     "text": [
      "[Parallel(n_jobs=4)]: Done   3 out of   3 | elapsed:    2.6s finished\n",
      "[Parallel(n_jobs=4)]: Using backend LokyBackend with 4 concurrent workers.\n"
     ]
    },
    {
     "name": "stdout",
     "output_type": "stream",
     "text": [
      "57 T: 59.04900, score: 0.499222, std: 0.009059, params: {'max_features': 658, 'min_samples_split': 694, 'n_estimators': 100, 'max_depth': 568, 'random_state': 0, 'n_jobs': 4}\n",
      "58 T: 59.04900, score: 0.499222, std: 0.009059, params: {'max_features': 658, 'min_samples_split': 694, 'n_estimators': 100, 'max_depth': 568, 'random_state': 0, 'n_jobs': 4}\n",
      "59 T: 59.04900, score: 0.499222, std: 0.009059, params: {'max_features': 658, 'min_samples_split': 694, 'n_estimators': 100, 'max_depth': 568, 'random_state': 0, 'n_jobs': 4}\n",
      "60 T: 59.04900, score: 0.499222, std: 0.009059, params: {'max_features': 658, 'min_samples_split': 694, 'n_estimators': 100, 'max_depth': 568, 'random_state': 0, 'n_jobs': 4}\n",
      "61 T: 59.04900, score: 0.499222, std: 0.009059, params: {'max_features': 658, 'min_samples_split': 694, 'n_estimators': 100, 'max_depth': 568, 'random_state': 0, 'n_jobs': 4}\n"
     ]
    },
    {
     "name": "stderr",
     "output_type": "stream",
     "text": [
      "[Parallel(n_jobs=4)]: Done   3 out of   3 | elapsed:    2.8s finished\n",
      "[Parallel(n_jobs=4)]: Using backend LokyBackend with 4 concurrent workers.\n"
     ]
    },
    {
     "name": "stdout",
     "output_type": "stream",
     "text": [
      "62 T: 53.14410, score: 0.499222, std: 0.009059, params: {'max_features': 658, 'min_samples_split': 694, 'n_estimators': 100, 'max_depth': 694, 'random_state': 0, 'n_jobs': 4}\n"
     ]
    },
    {
     "name": "stderr",
     "output_type": "stream",
     "text": [
      "[Parallel(n_jobs=4)]: Done   3 out of   3 | elapsed:    2.6s finished\n",
      "[Parallel(n_jobs=4)]: Using backend LokyBackend with 4 concurrent workers.\n"
     ]
    },
    {
     "name": "stdout",
     "output_type": "stream",
     "text": [
      "63 T: 53.14410, score: 0.499278, std: 0.009231, params: {'max_features': 667, 'min_samples_split': 694, 'n_estimators': 100, 'max_depth': 694, 'random_state': 0, 'n_jobs': 4}\n"
     ]
    },
    {
     "name": "stderr",
     "output_type": "stream",
     "text": [
      "[Parallel(n_jobs=4)]: Done   3 out of   3 | elapsed:    2.8s finished\n",
      "[Parallel(n_jobs=4)]: Using backend LokyBackend with 4 concurrent workers.\n"
     ]
    },
    {
     "name": "stdout",
     "output_type": "stream",
     "text": [
      "64 T: 53.14410, score: 0.511236, std: 0.008060, params: {'max_features': 667, 'min_samples_split': 460, 'n_estimators': 100, 'max_depth': 694, 'random_state': 0, 'n_jobs': 4}\n",
      "65 T: 53.14410, score: 0.511236, std: 0.008060, params: {'max_features': 667, 'min_samples_split': 460, 'n_estimators': 100, 'max_depth': 694, 'random_state': 0, 'n_jobs': 4}\n"
     ]
    },
    {
     "name": "stderr",
     "output_type": "stream",
     "text": [
      "[Parallel(n_jobs=4)]: Done   3 out of   3 | elapsed:    3.3s finished\n",
      "[Parallel(n_jobs=4)]: Using backend LokyBackend with 4 concurrent workers.\n"
     ]
    },
    {
     "name": "stdout",
     "output_type": "stream",
     "text": [
      "66 T: 53.14410, score: 0.512279, std: 0.007965, params: {'max_features': 667, 'min_samples_split': 307, 'n_estimators': 100, 'max_depth': 694, 'random_state': 0, 'n_jobs': 4}\n",
      "67 T: 53.14410, score: 0.512279, std: 0.007965, params: {'max_features': 667, 'min_samples_split': 307, 'n_estimators': 100, 'max_depth': 694, 'random_state': 0, 'n_jobs': 4}\n"
     ]
    },
    {
     "name": "stderr",
     "output_type": "stream",
     "text": [
      "[Parallel(n_jobs=4)]: Done   3 out of   3 | elapsed:    1.9s finished\n",
      "[Parallel(n_jobs=4)]: Using backend LokyBackend with 4 concurrent workers.\n"
     ]
    },
    {
     "name": "stdout",
     "output_type": "stream",
     "text": [
      "68 T: 53.14410, score: 0.517258, std: 0.006818, params: {'max_features': 334, 'min_samples_split': 307, 'n_estimators': 100, 'max_depth': 694, 'random_state': 0, 'n_jobs': 4}\n"
     ]
    },
    {
     "name": "stderr",
     "output_type": "stream",
     "text": [
      "[Parallel(n_jobs=4)]: Done   3 out of   3 | elapsed:    2.6s finished\n",
      "[Parallel(n_jobs=4)]: Using backend LokyBackend with 4 concurrent workers.\n"
     ]
    },
    {
     "name": "stdout",
     "output_type": "stream",
     "text": [
      "69 T: 53.14410, score: 0.525394, std: 0.010672, params: {'max_features': 334, 'min_samples_split': 46, 'n_estimators': 100, 'max_depth': 694, 'random_state': 0, 'n_jobs': 4}\n",
      "70 T: 53.14410, score: 0.525394, std: 0.010672, params: {'max_features': 334, 'min_samples_split': 46, 'n_estimators': 100, 'max_depth': 694, 'random_state': 0, 'n_jobs': 4}\n",
      "71 T: 53.14410, score: 0.525394, std: 0.010672, params: {'max_features': 334, 'min_samples_split': 46, 'n_estimators': 100, 'max_depth': 694, 'random_state': 0, 'n_jobs': 4}\n",
      "72 T: 47.82969, score: 0.525394, std: 0.010672, params: {'max_features': 334, 'min_samples_split': 46, 'n_estimators': 100, 'max_depth': 694, 'random_state': 0, 'n_jobs': 4}\n"
     ]
    },
    {
     "name": "stderr",
     "output_type": "stream",
     "text": [
      "[Parallel(n_jobs=4)]: Done   3 out of   3 | elapsed:    1.4s finished\n",
      "[Parallel(n_jobs=4)]: Using backend LokyBackend with 4 concurrent workers.\n"
     ]
    },
    {
     "name": "stdout",
     "output_type": "stream",
     "text": [
      "73 T: 47.82969, score: 0.504144, std: 0.007536, params: {'max_features': 334, 'min_samples_split': 613, 'n_estimators': 100, 'max_depth': 694, 'random_state': 0, 'n_jobs': 4}\n",
      "74 T: 47.82969, score: 0.504144, std: 0.007536, params: {'max_features': 334, 'min_samples_split': 613, 'n_estimators': 100, 'max_depth': 694, 'random_state': 0, 'n_jobs': 4}\n"
     ]
    },
    {
     "name": "stderr",
     "output_type": "stream",
     "text": [
      "[Parallel(n_jobs=4)]: Done   3 out of   3 | elapsed:    1.5s finished\n",
      "[Parallel(n_jobs=4)]: Using backend LokyBackend with 4 concurrent workers.\n"
     ]
    },
    {
     "name": "stdout",
     "output_type": "stream",
     "text": [
      "75 T: 47.82969, score: 0.505889, std: 0.007779, params: {'max_features': 334, 'min_samples_split': 595, 'n_estimators': 100, 'max_depth': 694, 'random_state': 0, 'n_jobs': 4}\n",
      "76 T: 47.82969, score: 0.505889, std: 0.007779, params: {'max_features': 334, 'min_samples_split': 595, 'n_estimators': 100, 'max_depth': 694, 'random_state': 0, 'n_jobs': 4}\n"
     ]
    },
    {
     "name": "stderr",
     "output_type": "stream",
     "text": [
      "[Parallel(n_jobs=4)]: Done   3 out of   3 | elapsed:    1.6s finished\n",
      "[Parallel(n_jobs=4)]: Using backend LokyBackend with 4 concurrent workers.\n"
     ]
    },
    {
     "name": "stdout",
     "output_type": "stream",
     "text": [
      "77 T: 47.82969, score: 0.518899, std: 0.007539, params: {'max_features': 334, 'min_samples_split': 289, 'n_estimators': 100, 'max_depth': 694, 'random_state': 0, 'n_jobs': 4}\n",
      "78 T: 47.82969, score: 0.518899, std: 0.007539, params: {'max_features': 334, 'min_samples_split': 289, 'n_estimators': 100, 'max_depth': 694, 'random_state': 0, 'n_jobs': 4}\n",
      "79 T: 47.82969, score: 0.518899, std: 0.007539, params: {'max_features': 334, 'min_samples_split': 289, 'n_estimators': 100, 'max_depth': 694, 'random_state': 0, 'n_jobs': 4}\n"
     ]
    },
    {
     "name": "stderr",
     "output_type": "stream",
     "text": [
      "[Parallel(n_jobs=4)]: Done   3 out of   3 | elapsed:    1.9s finished\n",
      "[Parallel(n_jobs=4)]: Using backend LokyBackend with 4 concurrent workers.\n"
     ]
    },
    {
     "name": "stdout",
     "output_type": "stream",
     "text": [
      "80 T: 47.82969, score: 0.518899, std: 0.007539, params: {'max_features': 334, 'min_samples_split': 289, 'n_estimators': 100, 'max_depth': 649, 'random_state': 0, 'n_jobs': 4}\n",
      "81 T: 47.82969, score: 0.518899, std: 0.007539, params: {'max_features': 334, 'min_samples_split': 289, 'n_estimators': 100, 'max_depth': 649, 'random_state': 0, 'n_jobs': 4}\n",
      "82 T: 43.04672, score: 0.518899, std: 0.007539, params: {'max_features': 334, 'min_samples_split': 289, 'n_estimators': 100, 'max_depth': 649, 'random_state': 0, 'n_jobs': 4}\n",
      "83 T: 43.04672, score: 0.518899, std: 0.007539, params: {'max_features': 334, 'min_samples_split': 289, 'n_estimators': 100, 'max_depth': 649, 'random_state': 0, 'n_jobs': 4}\n"
     ]
    },
    {
     "name": "stderr",
     "output_type": "stream",
     "text": [
      "[Parallel(n_jobs=4)]: Done   3 out of   3 | elapsed:    2.2s finished\n",
      "[Parallel(n_jobs=4)]: Using backend LokyBackend with 4 concurrent workers.\n"
     ]
    },
    {
     "name": "stdout",
     "output_type": "stream",
     "text": [
      "84 T: 43.04672, score: 0.529813, std: 0.011938, params: {'max_features': 334, 'min_samples_split': 109, 'n_estimators': 100, 'max_depth': 649, 'random_state': 0, 'n_jobs': 4}\n"
     ]
    },
    {
     "name": "stderr",
     "output_type": "stream",
     "text": [
      "[Parallel(n_jobs=4)]: Done   3 out of   3 | elapsed:    1.6s finished\n",
      "[Parallel(n_jobs=4)]: Using backend LokyBackend with 4 concurrent workers.\n"
     ]
    },
    {
     "name": "stdout",
     "output_type": "stream",
     "text": [
      "85 T: 43.04672, score: 0.511169, std: 0.007160, params: {'max_features': 334, 'min_samples_split': 496, 'n_estimators': 100, 'max_depth': 649, 'random_state': 0, 'n_jobs': 4}\n"
     ]
    },
    {
     "name": "stderr",
     "output_type": "stream",
     "text": [
      "[Parallel(n_jobs=4)]: Done   3 out of   3 | elapsed:    1.7s finished\n",
      "[Parallel(n_jobs=4)]: Using backend LokyBackend with 4 concurrent workers.\n"
     ]
    },
    {
     "name": "stdout",
     "output_type": "stream",
     "text": [
      "86 T: 43.04672, score: 0.511169, std: 0.007160, params: {'max_features': 334, 'min_samples_split': 496, 'n_estimators': 100, 'max_depth': 613, 'random_state': 0, 'n_jobs': 4}\n"
     ]
    },
    {
     "name": "stderr",
     "output_type": "stream",
     "text": [
      "[Parallel(n_jobs=4)]: Done   3 out of   3 | elapsed:    2.9s finished\n",
      "[Parallel(n_jobs=4)]: Using backend LokyBackend with 4 concurrent workers.\n"
     ]
    },
    {
     "name": "stdout",
     "output_type": "stream",
     "text": [
      "87 T: 43.04672, score: 0.510072, std: 0.008319, params: {'max_features': 694, 'min_samples_split': 496, 'n_estimators': 100, 'max_depth': 613, 'random_state': 0, 'n_jobs': 4}\n"
     ]
    },
    {
     "name": "stderr",
     "output_type": "stream",
     "text": [
      "[Parallel(n_jobs=4)]: Done   3 out of   3 | elapsed:    1.2s finished\n",
      "[Parallel(n_jobs=4)]: Using backend LokyBackend with 4 concurrent workers.\n"
     ]
    },
    {
     "name": "stdout",
     "output_type": "stream",
     "text": [
      "88 T: 43.04672, score: 0.509489, std: 0.009324, params: {'max_features': 217, 'min_samples_split': 496, 'n_estimators': 100, 'max_depth': 613, 'random_state': 0, 'n_jobs': 4}\n"
     ]
    },
    {
     "name": "stderr",
     "output_type": "stream",
     "text": [
      "[Parallel(n_jobs=4)]: Done   3 out of   3 | elapsed:    1.3s finished\n",
      "[Parallel(n_jobs=4)]: Using backend LokyBackend with 4 concurrent workers.\n"
     ]
    },
    {
     "name": "stdout",
     "output_type": "stream",
     "text": [
      "89 T: 43.04672, score: 0.509489, std: 0.009324, params: {'max_features': 217, 'min_samples_split': 496, 'n_estimators': 100, 'max_depth': 37, 'random_state': 0, 'n_jobs': 4}\n",
      "90 T: 43.04672, score: 0.509489, std: 0.009324, params: {'max_features': 217, 'min_samples_split': 496, 'n_estimators': 100, 'max_depth': 37, 'random_state': 0, 'n_jobs': 4}\n",
      "91 T: 43.04672, score: 0.509489, std: 0.009324, params: {'max_features': 217, 'min_samples_split': 496, 'n_estimators': 100, 'max_depth': 37, 'random_state': 0, 'n_jobs': 4}\n",
      "92 T: 38.74205, score: 0.509489, std: 0.009324, params: {'max_features': 217, 'min_samples_split': 496, 'n_estimators': 100, 'max_depth': 37, 'random_state': 0, 'n_jobs': 4}\n",
      "93 T: 38.74205, score: 0.509489, std: 0.009324, params: {'max_features': 217, 'min_samples_split': 496, 'n_estimators': 100, 'max_depth': 37, 'random_state': 0, 'n_jobs': 4}\n"
     ]
    },
    {
     "name": "stderr",
     "output_type": "stream",
     "text": [
      "[Parallel(n_jobs=4)]: Done   3 out of   3 | elapsed:    0.7s finished\n",
      "[Parallel(n_jobs=4)]: Using backend LokyBackend with 4 concurrent workers.\n"
     ]
    },
    {
     "name": "stdout",
     "output_type": "stream",
     "text": [
      "94 T: 38.74205, score: 0.499809, std: 0.007880, params: {'max_features': 100, 'min_samples_split': 496, 'n_estimators': 100, 'max_depth': 37, 'random_state': 0, 'n_jobs': 4}\n",
      "95 T: 38.74205, score: 0.499809, std: 0.007880, params: {'max_features': 100, 'min_samples_split': 496, 'n_estimators': 100, 'max_depth': 37, 'random_state': 0, 'n_jobs': 4}\n"
     ]
    },
    {
     "name": "stderr",
     "output_type": "stream",
     "text": [
      "[Parallel(n_jobs=4)]: Done   3 out of   3 | elapsed:    0.7s finished\n",
      "[Parallel(n_jobs=4)]: Using backend LokyBackend with 4 concurrent workers.\n"
     ]
    },
    {
     "name": "stdout",
     "output_type": "stream",
     "text": [
      "96 T: 38.74205, score: 0.499809, std: 0.007880, params: {'max_features': 100, 'min_samples_split': 496, 'n_estimators': 100, 'max_depth': 568, 'random_state': 0, 'n_jobs': 4}\n",
      "97 T: 38.74205, score: 0.499809, std: 0.007880, params: {'max_features': 100, 'min_samples_split': 496, 'n_estimators': 100, 'max_depth': 568, 'random_state': 0, 'n_jobs': 4}\n",
      "98 T: 38.74205, score: 0.499809, std: 0.007880, params: {'max_features': 100, 'min_samples_split': 496, 'n_estimators': 100, 'max_depth': 568, 'random_state': 0, 'n_jobs': 4}\n",
      "99 T: 38.74205, score: 0.499809, std: 0.007880, params: {'max_features': 100, 'min_samples_split': 496, 'n_estimators': 100, 'max_depth': 568, 'random_state': 0, 'n_jobs': 4}\n",
      "100 T: 38.74205, score: 0.499809, std: 0.007880, params: {'max_features': 100, 'min_samples_split': 496, 'n_estimators': 100, 'max_depth': 568, 'random_state': 0, 'n_jobs': 4}\n"
     ]
    },
    {
     "name": "stderr",
     "output_type": "stream",
     "text": [
      "[Parallel(n_jobs=4)]: Done   3 out of   3 | elapsed:    0.7s finished\n",
      "[Parallel(n_jobs=4)]: Using backend LokyBackend with 4 concurrent workers.\n"
     ]
    },
    {
     "name": "stdout",
     "output_type": "stream",
     "text": [
      "101 T: 38.74205, score: 0.499809, std: 0.007880, params: {'max_features': 100, 'min_samples_split': 496, 'n_estimators': 100, 'max_depth': 838, 'random_state': 0, 'n_jobs': 4}\n"
     ]
    },
    {
     "name": "stderr",
     "output_type": "stream",
     "text": [
      "[Parallel(n_jobs=4)]: Done   3 out of   3 | elapsed:    2.0s finished\n",
      "[Parallel(n_jobs=4)]: Using backend LokyBackend with 4 concurrent workers.\n"
     ]
    },
    {
     "name": "stdout",
     "output_type": "stream",
     "text": [
      "102 T: 34.86784, score: 0.512422, std: 0.006840, params: {'max_features': 424, 'min_samples_split': 496, 'n_estimators': 100, 'max_depth': 838, 'random_state': 0, 'n_jobs': 4}\n"
     ]
    },
    {
     "name": "stderr",
     "output_type": "stream",
     "text": [
      "[Parallel(n_jobs=4)]: Done   3 out of   3 | elapsed:    1.5s finished\n",
      "[Parallel(n_jobs=4)]: Using backend LokyBackend with 4 concurrent workers.\n"
     ]
    },
    {
     "name": "stdout",
     "output_type": "stream",
     "text": [
      "103 T: 34.86784, score: 0.510887, std: 0.006138, params: {'max_features': 325, 'min_samples_split': 496, 'n_estimators': 100, 'max_depth': 838, 'random_state': 0, 'n_jobs': 4}\n"
     ]
    },
    {
     "name": "stderr",
     "output_type": "stream",
     "text": [
      "[Parallel(n_jobs=4)]: Done   3 out of   3 | elapsed:    1.6s finished\n",
      "[Parallel(n_jobs=4)]: Using backend LokyBackend with 4 concurrent workers.\n"
     ]
    },
    {
     "name": "stdout",
     "output_type": "stream",
     "text": [
      "104 T: 34.86784, score: 0.510887, std: 0.006138, params: {'max_features': 325, 'min_samples_split': 496, 'n_estimators': 100, 'max_depth': 217, 'random_state': 0, 'n_jobs': 4}\n"
     ]
    },
    {
     "name": "stderr",
     "output_type": "stream",
     "text": [
      "[Parallel(n_jobs=4)]: Done   3 out of   3 | elapsed:    1.7s finished\n",
      "[Parallel(n_jobs=4)]: Using backend LokyBackend with 4 concurrent workers.\n"
     ]
    },
    {
     "name": "stdout",
     "output_type": "stream",
     "text": [
      "105 T: 34.86784, score: 0.512717, std: 0.007690, params: {'max_features': 325, 'min_samples_split': 433, 'n_estimators': 100, 'max_depth': 217, 'random_state': 0, 'n_jobs': 4}\n",
      "106 T: 34.86784, score: 0.512717, std: 0.007690, params: {'max_features': 325, 'min_samples_split': 433, 'n_estimators': 100, 'max_depth': 217, 'random_state': 0, 'n_jobs': 4}\n",
      "107 T: 34.86784, score: 0.512717, std: 0.007690, params: {'max_features': 325, 'min_samples_split': 433, 'n_estimators': 100, 'max_depth': 217, 'random_state': 0, 'n_jobs': 4}\n",
      "108 T: 34.86784, score: 0.512717, std: 0.007690, params: {'max_features': 325, 'min_samples_split': 433, 'n_estimators': 100, 'max_depth': 217, 'random_state': 0, 'n_jobs': 4}\n",
      "109 T: 34.86784, score: 0.512717, std: 0.007690, params: {'max_features': 325, 'min_samples_split': 433, 'n_estimators': 100, 'max_depth': 217, 'random_state': 0, 'n_jobs': 4}\n",
      "110 T: 34.86784, score: 0.512717, std: 0.007690, params: {'max_features': 325, 'min_samples_split': 433, 'n_estimators': 100, 'max_depth': 217, 'random_state': 0, 'n_jobs': 4}\n"
     ]
    },
    {
     "name": "stderr",
     "output_type": "stream",
     "text": [
      "[Parallel(n_jobs=4)]: Done   3 out of   3 | elapsed:    2.4s finished\n",
      "[Parallel(n_jobs=4)]: Using backend LokyBackend with 4 concurrent workers.\n"
     ]
    },
    {
     "name": "stdout",
     "output_type": "stream",
     "text": [
      "111 T: 34.86784, score: 0.512859, std: 0.008103, params: {'max_features': 532, 'min_samples_split': 433, 'n_estimators': 100, 'max_depth': 217, 'random_state': 0, 'n_jobs': 4}\n",
      "112 T: 31.38106, score: 0.512859, std: 0.008103, params: {'max_features': 532, 'min_samples_split': 433, 'n_estimators': 100, 'max_depth': 217, 'random_state': 0, 'n_jobs': 4}\n"
     ]
    },
    {
     "name": "stderr",
     "output_type": "stream",
     "text": [
      "[Parallel(n_jobs=4)]: Done   3 out of   3 | elapsed:    2.3s finished\n",
      "[Parallel(n_jobs=4)]: Using backend LokyBackend with 4 concurrent workers.\n"
     ]
    },
    {
     "name": "stdout",
     "output_type": "stream",
     "text": [
      "113 T: 31.38106, score: 0.511995, std: 0.006656, params: {'max_features': 496, 'min_samples_split': 433, 'n_estimators': 100, 'max_depth': 217, 'random_state': 0, 'n_jobs': 4}\n",
      "114 T: 31.38106, score: 0.511995, std: 0.006656, params: {'max_features': 496, 'min_samples_split': 433, 'n_estimators': 100, 'max_depth': 217, 'random_state': 0, 'n_jobs': 4}\n"
     ]
    },
    {
     "name": "stderr",
     "output_type": "stream",
     "text": [
      "[Parallel(n_jobs=4)]: Done   3 out of   3 | elapsed:    1.3s finished\n",
      "[Parallel(n_jobs=4)]: Using backend LokyBackend with 4 concurrent workers.\n"
     ]
    },
    {
     "name": "stdout",
     "output_type": "stream",
     "text": [
      "115 T: 31.38106, score: 0.511701, std: 0.008664, params: {'max_features': 217, 'min_samples_split': 433, 'n_estimators': 100, 'max_depth': 217, 'random_state': 0, 'n_jobs': 4}\n"
     ]
    },
    {
     "name": "stderr",
     "output_type": "stream",
     "text": [
      "[Parallel(n_jobs=4)]: Done   3 out of   3 | elapsed:    1.1s finished\n",
      "[Parallel(n_jobs=4)]: Using backend LokyBackend with 4 concurrent workers.\n"
     ]
    },
    {
     "name": "stdout",
     "output_type": "stream",
     "text": [
      "116 T: 31.38106, score: 0.511701, std: 0.008664, params: {'max_features': 217, 'min_samples_split': 433, 'n_estimators': 100, 'max_depth': 298, 'random_state': 0, 'n_jobs': 4}\n",
      "117 T: 31.38106, score: 0.511701, std: 0.008664, params: {'max_features': 217, 'min_samples_split': 433, 'n_estimators': 100, 'max_depth': 298, 'random_state': 0, 'n_jobs': 4}\n"
     ]
    },
    {
     "name": "stderr",
     "output_type": "stream",
     "text": [
      "[Parallel(n_jobs=4)]: Done   3 out of   3 | elapsed:    1.3s finished\n",
      "[Parallel(n_jobs=4)]: Using backend LokyBackend with 4 concurrent workers.\n"
     ]
    },
    {
     "name": "stdout",
     "output_type": "stream",
     "text": [
      "118 T: 31.38106, score: 0.511701, std: 0.008664, params: {'max_features': 217, 'min_samples_split': 433, 'n_estimators': 100, 'max_depth': 379, 'random_state': 0, 'n_jobs': 4}\n",
      "119 T: 31.38106, score: 0.511701, std: 0.008664, params: {'max_features': 217, 'min_samples_split': 433, 'n_estimators': 100, 'max_depth': 379, 'random_state': 0, 'n_jobs': 4}\n"
     ]
    },
    {
     "name": "stderr",
     "output_type": "stream",
     "text": [
      "[Parallel(n_jobs=4)]: Done   3 out of   3 | elapsed:    2.3s finished\n",
      "[Parallel(n_jobs=4)]: Using backend LokyBackend with 4 concurrent workers.\n"
     ]
    },
    {
     "name": "stdout",
     "output_type": "stream",
     "text": [
      "120 T: 31.38106, score: 0.512771, std: 0.007603, params: {'max_features': 514, 'min_samples_split': 433, 'n_estimators': 100, 'max_depth': 379, 'random_state': 0, 'n_jobs': 4}\n"
     ]
    },
    {
     "name": "stderr",
     "output_type": "stream",
     "text": [
      "[Parallel(n_jobs=4)]: Done   3 out of   3 | elapsed:    2.5s finished\n",
      "[Parallel(n_jobs=4)]: Using backend LokyBackend with 4 concurrent workers.\n"
     ]
    },
    {
     "name": "stdout",
     "output_type": "stream",
     "text": [
      "121 T: 31.38106, score: 0.512771, std: 0.007603, params: {'max_features': 514, 'min_samples_split': 433, 'n_estimators': 100, 'max_depth': 352, 'random_state': 0, 'n_jobs': 4}\n"
     ]
    },
    {
     "name": "stderr",
     "output_type": "stream",
     "text": [
      "[Parallel(n_jobs=4)]: Done   3 out of   3 | elapsed:    2.4s finished\n",
      "[Parallel(n_jobs=4)]: Using backend LokyBackend with 4 concurrent workers.\n"
     ]
    },
    {
     "name": "stdout",
     "output_type": "stream",
     "text": [
      "122 T: 28.24295, score: 0.511551, std: 0.007199, params: {'max_features': 514, 'min_samples_split': 487, 'n_estimators': 100, 'max_depth': 352, 'random_state': 0, 'n_jobs': 4}\n"
     ]
    },
    {
     "name": "stderr",
     "output_type": "stream",
     "text": [
      "[Parallel(n_jobs=4)]: Done   3 out of   3 | elapsed:    1.1s finished\n",
      "[Parallel(n_jobs=4)]: Using backend LokyBackend with 4 concurrent workers.\n"
     ]
    },
    {
     "name": "stdout",
     "output_type": "stream",
     "text": [
      "123 T: 28.24295, score: 0.506557, std: 0.007774, params: {'max_features': 172, 'min_samples_split': 487, 'n_estimators': 100, 'max_depth': 352, 'random_state': 0, 'n_jobs': 4}\n"
     ]
    },
    {
     "name": "stderr",
     "output_type": "stream",
     "text": [
      "[Parallel(n_jobs=4)]: Done   3 out of   3 | elapsed:    1.1s finished\n",
      "[Parallel(n_jobs=4)]: Using backend LokyBackend with 4 concurrent workers.\n"
     ]
    },
    {
     "name": "stdout",
     "output_type": "stream",
     "text": [
      "124 T: 28.24295, score: 0.506557, std: 0.007774, params: {'max_features': 172, 'min_samples_split': 487, 'n_estimators': 100, 'max_depth': 784, 'random_state': 0, 'n_jobs': 4}\n",
      "125 T: 28.24295, score: 0.506557, std: 0.007774, params: {'max_features': 172, 'min_samples_split': 487, 'n_estimators': 100, 'max_depth': 784, 'random_state': 0, 'n_jobs': 4}\n"
     ]
    },
    {
     "name": "stderr",
     "output_type": "stream",
     "text": [
      "[Parallel(n_jobs=4)]: Done   3 out of   3 | elapsed:    2.3s finished\n",
      "[Parallel(n_jobs=4)]: Using backend LokyBackend with 4 concurrent workers.\n"
     ]
    },
    {
     "name": "stdout",
     "output_type": "stream",
     "text": [
      "126 T: 28.24295, score: 0.511515, std: 0.007305, params: {'max_features': 505, 'min_samples_split': 487, 'n_estimators': 100, 'max_depth': 784, 'random_state': 0, 'n_jobs': 4}\n",
      "127 T: 28.24295, score: 0.511515, std: 0.007305, params: {'max_features': 505, 'min_samples_split': 487, 'n_estimators': 100, 'max_depth': 784, 'random_state': 0, 'n_jobs': 4}\n",
      "128 T: 28.24295, score: 0.511515, std: 0.007305, params: {'max_features': 505, 'min_samples_split': 487, 'n_estimators': 100, 'max_depth': 784, 'random_state': 0, 'n_jobs': 4}\n"
     ]
    },
    {
     "name": "stderr",
     "output_type": "stream",
     "text": [
      "[Parallel(n_jobs=4)]: Done   3 out of   3 | elapsed:    2.4s finished\n",
      "[Parallel(n_jobs=4)]: Using backend LokyBackend with 4 concurrent workers.\n"
     ]
    },
    {
     "name": "stdout",
     "output_type": "stream",
     "text": [
      "129 T: 28.24295, score: 0.511515, std: 0.007305, params: {'max_features': 505, 'min_samples_split': 487, 'n_estimators': 100, 'max_depth': 334, 'random_state': 0, 'n_jobs': 4}\n",
      "130 T: 28.24295, score: 0.511515, std: 0.007305, params: {'max_features': 505, 'min_samples_split': 487, 'n_estimators': 100, 'max_depth': 334, 'random_state': 0, 'n_jobs': 4}\n"
     ]
    },
    {
     "name": "stderr",
     "output_type": "stream",
     "text": [
      "[Parallel(n_jobs=4)]: Done   3 out of   3 | elapsed:    1.2s finished\n",
      "[Parallel(n_jobs=4)]: Using backend LokyBackend with 4 concurrent workers.\n"
     ]
    },
    {
     "name": "stdout",
     "output_type": "stream",
     "text": [
      "131 T: 28.24295, score: 0.388702, std: 0.004494, params: {'max_features': 505, 'min_samples_split': 487, 'n_estimators': 100, 'max_depth': 1, 'random_state': 0, 'n_jobs': 4}\n"
     ]
    },
    {
     "name": "stderr",
     "output_type": "stream",
     "text": [
      "[Parallel(n_jobs=4)]: Done   3 out of   3 | elapsed:    2.4s finished\n",
      "[Parallel(n_jobs=4)]: Using backend LokyBackend with 4 concurrent workers.\n"
     ]
    },
    {
     "name": "stdout",
     "output_type": "stream",
     "text": [
      "132 T: 25.41866, score: 0.511515, std: 0.007305, params: {'max_features': 505, 'min_samples_split': 487, 'n_estimators': 100, 'max_depth': 955, 'random_state': 0, 'n_jobs': 4}\n"
     ]
    },
    {
     "name": "stderr",
     "output_type": "stream",
     "text": [
      "[Parallel(n_jobs=4)]: Done   3 out of   3 | elapsed:    2.5s finished\n",
      "[Parallel(n_jobs=4)]: Using backend LokyBackend with 4 concurrent workers.\n"
     ]
    },
    {
     "name": "stdout",
     "output_type": "stream",
     "text": [
      "133 T: 25.41866, score: 0.512280, std: 0.007131, params: {'max_features': 505, 'min_samples_split': 433, 'n_estimators': 100, 'max_depth': 955, 'random_state': 0, 'n_jobs': 4}\n"
     ]
    },
    {
     "name": "stderr",
     "output_type": "stream",
     "text": [
      "[Parallel(n_jobs=4)]: Done   3 out of   3 | elapsed:    3.2s finished\n",
      "[Parallel(n_jobs=4)]: Using backend LokyBackend with 4 concurrent workers.\n"
     ]
    },
    {
     "name": "stdout",
     "output_type": "stream",
     "text": [
      "134 T: 25.41866, score: 0.526111, std: 0.010618, params: {'max_features': 505, 'min_samples_split': 109, 'n_estimators': 100, 'max_depth': 955, 'random_state': 0, 'n_jobs': 4}\n",
      "135 T: 25.41866, score: 0.526111, std: 0.010618, params: {'max_features': 505, 'min_samples_split': 109, 'n_estimators': 100, 'max_depth': 955, 'random_state': 0, 'n_jobs': 4}\n",
      "136 T: 25.41866, score: 0.526111, std: 0.010618, params: {'max_features': 505, 'min_samples_split': 109, 'n_estimators': 100, 'max_depth': 955, 'random_state': 0, 'n_jobs': 4}\n",
      "137 T: 25.41866, score: 0.526111, std: 0.010618, params: {'max_features': 505, 'min_samples_split': 109, 'n_estimators': 100, 'max_depth': 955, 'random_state': 0, 'n_jobs': 4}\n"
     ]
    },
    {
     "name": "stderr",
     "output_type": "stream",
     "text": [
      "[Parallel(n_jobs=4)]: Done   3 out of   3 | elapsed:    3.4s finished\n",
      "[Parallel(n_jobs=4)]: Using backend LokyBackend with 4 concurrent workers.\n"
     ]
    },
    {
     "name": "stdout",
     "output_type": "stream",
     "text": [
      "138 T: 25.41866, score: 0.522660, std: 0.011739, params: {'max_features': 505, 'min_samples_split': 46, 'n_estimators': 100, 'max_depth': 955, 'random_state': 0, 'n_jobs': 4}\n",
      "139 T: 25.41866, score: 0.522660, std: 0.011739, params: {'max_features': 505, 'min_samples_split': 46, 'n_estimators': 100, 'max_depth': 955, 'random_state': 0, 'n_jobs': 4}\n"
     ]
    },
    {
     "name": "stderr",
     "output_type": "stream",
     "text": [
      "[Parallel(n_jobs=4)]: Done   3 out of   3 | elapsed:    2.1s finished\n",
      "[Parallel(n_jobs=4)]: Using backend LokyBackend with 4 concurrent workers.\n"
     ]
    },
    {
     "name": "stdout",
     "output_type": "stream",
     "text": [
      "140 T: 25.41866, score: 0.506057, std: 0.007855, params: {'max_features': 505, 'min_samples_split': 604, 'n_estimators': 100, 'max_depth': 955, 'random_state': 0, 'n_jobs': 4}\n"
     ]
    },
    {
     "name": "stderr",
     "output_type": "stream",
     "text": [
      "[Parallel(n_jobs=4)]: Done   3 out of   3 | elapsed:    2.2s finished\n",
      "[Parallel(n_jobs=4)]: Using backend LokyBackend with 4 concurrent workers.\n"
     ]
    },
    {
     "name": "stdout",
     "output_type": "stream",
     "text": [
      "141 T: 25.41866, score: 0.506057, std: 0.007855, params: {'max_features': 505, 'min_samples_split': 604, 'n_estimators': 100, 'max_depth': 271, 'random_state': 0, 'n_jobs': 4}\n"
     ]
    },
    {
     "name": "stderr",
     "output_type": "stream",
     "text": [
      "[Parallel(n_jobs=4)]: Done   3 out of   3 | elapsed:    2.0s finished\n",
      "[Parallel(n_jobs=4)]: Using backend LokyBackend with 4 concurrent workers.\n"
     ]
    },
    {
     "name": "stdout",
     "output_type": "stream",
     "text": [
      "142 T: 22.87679, score: 0.501306, std: 0.008559, params: {'max_features': 505, 'min_samples_split': 676, 'n_estimators': 100, 'max_depth': 271, 'random_state': 0, 'n_jobs': 4}\n",
      "143 T: 22.87679, score: 0.501306, std: 0.008559, params: {'max_features': 505, 'min_samples_split': 676, 'n_estimators': 100, 'max_depth': 271, 'random_state': 0, 'n_jobs': 4}\n"
     ]
    },
    {
     "name": "stderr",
     "output_type": "stream",
     "text": [
      "[Parallel(n_jobs=4)]: Done   3 out of   3 | elapsed:    2.0s finished\n",
      "[Parallel(n_jobs=4)]: Using backend LokyBackend with 4 concurrent workers.\n"
     ]
    },
    {
     "name": "stdout",
     "output_type": "stream",
     "text": [
      "144 T: 22.87679, score: 0.501306, std: 0.008559, params: {'max_features': 505, 'min_samples_split': 676, 'n_estimators': 100, 'max_depth': 154, 'random_state': 0, 'n_jobs': 4}\n",
      "145 T: 22.87679, score: 0.501306, std: 0.008559, params: {'max_features': 505, 'min_samples_split': 676, 'n_estimators': 100, 'max_depth': 154, 'random_state': 0, 'n_jobs': 4}\n"
     ]
    },
    {
     "name": "stderr",
     "output_type": "stream",
     "text": [
      "[Parallel(n_jobs=4)]: Done   3 out of   3 | elapsed:    1.8s finished\n",
      "[Parallel(n_jobs=4)]: Using backend LokyBackend with 4 concurrent workers.\n"
     ]
    },
    {
     "name": "stdout",
     "output_type": "stream",
     "text": [
      "146 T: 22.87679, score: 0.501306, std: 0.008559, params: {'max_features': 505, 'min_samples_split': 676, 'n_estimators': 100, 'max_depth': 559, 'random_state': 0, 'n_jobs': 4}\n",
      "147 T: 22.87679, score: 0.501306, std: 0.008559, params: {'max_features': 505, 'min_samples_split': 676, 'n_estimators': 100, 'max_depth': 559, 'random_state': 0, 'n_jobs': 4}\n"
     ]
    },
    {
     "name": "stderr",
     "output_type": "stream",
     "text": [
      "[Parallel(n_jobs=4)]: Done   3 out of   3 | elapsed:    3.0s finished\n",
      "[Parallel(n_jobs=4)]: Using backend LokyBackend with 4 concurrent workers.\n"
     ]
    },
    {
     "name": "stdout",
     "output_type": "stream",
     "text": [
      "148 T: 22.87679, score: 0.526833, std: 0.013455, params: {'max_features': 505, 'min_samples_split': 163, 'n_estimators': 100, 'max_depth': 559, 'random_state': 0, 'n_jobs': 4}\n"
     ]
    },
    {
     "name": "stderr",
     "output_type": "stream",
     "text": [
      "[Parallel(n_jobs=4)]: Done   3 out of   3 | elapsed:    3.1s finished\n",
      "[Parallel(n_jobs=4)]: Using backend LokyBackend with 4 concurrent workers.\n"
     ]
    },
    {
     "name": "stdout",
     "output_type": "stream",
     "text": [
      "149 T: 22.87679, score: 0.526833, std: 0.013455, params: {'max_features': 505, 'min_samples_split': 163, 'n_estimators': 100, 'max_depth': 586, 'random_state': 0, 'n_jobs': 4}\n"
     ]
    },
    {
     "name": "stderr",
     "output_type": "stream",
     "text": [
      "[Parallel(n_jobs=4)]: Done   3 out of   3 | elapsed:    3.3s finished\n",
      "[Parallel(n_jobs=4)]: Using backend LokyBackend with 4 concurrent workers.\n"
     ]
    },
    {
     "name": "stdout",
     "output_type": "stream",
     "text": [
      "150 T: 22.87679, score: 0.526111, std: 0.010618, params: {'max_features': 505, 'min_samples_split': 109, 'n_estimators': 100, 'max_depth': 586, 'random_state': 0, 'n_jobs': 4}\n"
     ]
    },
    {
     "name": "stderr",
     "output_type": "stream",
     "text": [
      "[Parallel(n_jobs=4)]: Done   3 out of   3 | elapsed:    3.0s finished\n",
      "[Parallel(n_jobs=4)]: Using backend LokyBackend with 4 concurrent workers.\n"
     ]
    },
    {
     "name": "stdout",
     "output_type": "stream",
     "text": [
      "151 T: 22.87679, score: 0.527248, std: 0.010812, params: {'max_features': 406, 'min_samples_split': 109, 'n_estimators': 100, 'max_depth': 586, 'random_state': 0, 'n_jobs': 4}\n",
      "152 T: 20.58911, score: 0.527248, std: 0.010812, params: {'max_features': 406, 'min_samples_split': 109, 'n_estimators': 100, 'max_depth': 586, 'random_state': 0, 'n_jobs': 4}\n",
      "153 T: 20.58911, score: 0.527248, std: 0.010812, params: {'max_features': 406, 'min_samples_split': 109, 'n_estimators': 100, 'max_depth': 586, 'random_state': 0, 'n_jobs': 4}\n"
     ]
    },
    {
     "name": "stderr",
     "output_type": "stream",
     "text": [
      "[Parallel(n_jobs=4)]: Done   3 out of   3 | elapsed:    2.8s finished\n",
      "[Parallel(n_jobs=4)]: Using backend LokyBackend with 4 concurrent workers.\n"
     ]
    },
    {
     "name": "stdout",
     "output_type": "stream",
     "text": [
      "154 T: 20.58911, score: 0.527248, std: 0.010812, params: {'max_features': 406, 'min_samples_split': 109, 'n_estimators': 100, 'max_depth': 190, 'random_state': 0, 'n_jobs': 4}\n",
      "155 T: 20.58911, score: 0.527248, std: 0.010812, params: {'max_features': 406, 'min_samples_split': 109, 'n_estimators': 100, 'max_depth': 190, 'random_state': 0, 'n_jobs': 4}\n"
     ]
    },
    {
     "name": "stderr",
     "output_type": "stream",
     "text": [
      "[Parallel(n_jobs=4)]: Done   3 out of   3 | elapsed:    0.8s finished\n",
      "[Parallel(n_jobs=4)]: Using backend LokyBackend with 4 concurrent workers.\n"
     ]
    },
    {
     "name": "stdout",
     "output_type": "stream",
     "text": [
      "156 T: 20.58911, score: 0.528820, std: 0.006874, params: {'max_features': 46, 'min_samples_split': 109, 'n_estimators': 100, 'max_depth': 190, 'random_state': 0, 'n_jobs': 4}\n",
      "157 T: 20.58911, score: 0.528820, std: 0.006874, params: {'max_features': 46, 'min_samples_split': 109, 'n_estimators': 100, 'max_depth': 190, 'random_state': 0, 'n_jobs': 4}\n"
     ]
    },
    {
     "name": "stderr",
     "output_type": "stream",
     "text": [
      "[Parallel(n_jobs=4)]: Done   3 out of   3 | elapsed:    0.8s finished\n",
      "[Parallel(n_jobs=4)]: Using backend LokyBackend with 4 concurrent workers.\n"
     ]
    },
    {
     "name": "stdout",
     "output_type": "stream",
     "text": [
      "158 T: 20.58911, score: 0.528820, std: 0.006874, params: {'max_features': 46, 'min_samples_split': 109, 'n_estimators': 100, 'max_depth': 559, 'random_state': 0, 'n_jobs': 4}\n"
     ]
    },
    {
     "name": "stderr",
     "output_type": "stream",
     "text": [
      "[Parallel(n_jobs=4)]: Done   3 out of   3 | elapsed:    0.6s finished\n",
      "[Parallel(n_jobs=4)]: Using backend LokyBackend with 4 concurrent workers.\n"
     ]
    },
    {
     "name": "stdout",
     "output_type": "stream",
     "text": [
      "159 T: 20.58911, score: 0.486923, std: 0.003953, params: {'max_features': 46, 'min_samples_split': 550, 'n_estimators': 100, 'max_depth': 559, 'random_state': 0, 'n_jobs': 4}\n"
     ]
    },
    {
     "name": "stderr",
     "output_type": "stream",
     "text": [
      "[Parallel(n_jobs=4)]: Done   3 out of   3 | elapsed:    0.6s finished\n",
      "[Parallel(n_jobs=4)]: Using backend LokyBackend with 4 concurrent workers.\n"
     ]
    },
    {
     "name": "stdout",
     "output_type": "stream",
     "text": [
      "160 T: 20.58911, score: 0.486923, std: 0.003953, params: {'max_features': 46, 'min_samples_split': 550, 'n_estimators': 100, 'max_depth': 910, 'random_state': 0, 'n_jobs': 4}\n",
      "161 T: 20.58911, score: 0.486923, std: 0.003953, params: {'max_features': 46, 'min_samples_split': 550, 'n_estimators': 100, 'max_depth': 910, 'random_state': 0, 'n_jobs': 4}\n",
      "162 T: 18.53020, score: 0.486923, std: 0.003953, params: {'max_features': 46, 'min_samples_split': 550, 'n_estimators': 100, 'max_depth': 910, 'random_state': 0, 'n_jobs': 4}\n",
      "163 T: 18.53020, score: 0.486923, std: 0.003953, params: {'max_features': 46, 'min_samples_split': 550, 'n_estimators': 100, 'max_depth': 910, 'random_state': 0, 'n_jobs': 4}\n",
      "164 T: 18.53020, score: 0.486923, std: 0.003953, params: {'max_features': 46, 'min_samples_split': 550, 'n_estimators': 100, 'max_depth': 910, 'random_state': 0, 'n_jobs': 4}\n",
      "165 T: 18.53020, score: 0.486923, std: 0.003953, params: {'max_features': 46, 'min_samples_split': 550, 'n_estimators': 100, 'max_depth': 910, 'random_state': 0, 'n_jobs': 4}\n"
     ]
    },
    {
     "name": "stderr",
     "output_type": "stream",
     "text": [
      "[Parallel(n_jobs=4)]: Done   3 out of   3 | elapsed:    0.7s finished\n",
      "[Parallel(n_jobs=4)]: Using backend LokyBackend with 4 concurrent workers.\n"
     ]
    },
    {
     "name": "stdout",
     "output_type": "stream",
     "text": [
      "166 T: 18.53020, score: 0.490655, std: 0.006454, params: {'max_features': 46, 'min_samples_split': 514, 'n_estimators': 100, 'max_depth': 910, 'random_state': 0, 'n_jobs': 4}\n"
     ]
    },
    {
     "name": "stderr",
     "output_type": "stream",
     "text": [
      "[Parallel(n_jobs=4)]: Done   3 out of   3 | elapsed:    2.9s finished\n",
      "[Parallel(n_jobs=4)]: Using backend LokyBackend with 4 concurrent workers.\n"
     ]
    },
    {
     "name": "stdout",
     "output_type": "stream",
     "text": [
      "167 T: 18.53020, score: 0.510803, std: 0.007384, params: {'max_features': 622, 'min_samples_split': 514, 'n_estimators': 100, 'max_depth': 910, 'random_state': 0, 'n_jobs': 4}\n"
     ]
    },
    {
     "name": "stderr",
     "output_type": "stream",
     "text": [
      "[Parallel(n_jobs=4)]: Done   3 out of   3 | elapsed:    2.6s finished\n",
      "[Parallel(n_jobs=4)]: Using backend LokyBackend with 4 concurrent workers.\n"
     ]
    },
    {
     "name": "stdout",
     "output_type": "stream",
     "text": [
      "168 T: 18.53020, score: 0.510803, std: 0.007384, params: {'max_features': 622, 'min_samples_split': 514, 'n_estimators': 100, 'max_depth': 991, 'random_state': 0, 'n_jobs': 4}\n",
      "169 T: 18.53020, score: 0.510803, std: 0.007384, params: {'max_features': 622, 'min_samples_split': 514, 'n_estimators': 100, 'max_depth': 991, 'random_state': 0, 'n_jobs': 4}\n"
     ]
    },
    {
     "name": "stderr",
     "output_type": "stream",
     "text": [
      "[Parallel(n_jobs=4)]: Done   3 out of   3 | elapsed:    2.3s finished\n",
      "[Parallel(n_jobs=4)]: Using backend LokyBackend with 4 concurrent workers.\n"
     ]
    },
    {
     "name": "stdout",
     "output_type": "stream",
     "text": [
      "170 T: 18.53020, score: 0.499969, std: 0.007974, params: {'max_features': 622, 'min_samples_split': 694, 'n_estimators': 100, 'max_depth': 991, 'random_state': 0, 'n_jobs': 4}\n"
     ]
    },
    {
     "name": "stderr",
     "output_type": "stream",
     "text": [
      "[Parallel(n_jobs=4)]: Done   3 out of   3 | elapsed:    2.6s finished\n",
      "[Parallel(n_jobs=4)]: Using backend LokyBackend with 4 concurrent workers.\n"
     ]
    },
    {
     "name": "stdout",
     "output_type": "stream",
     "text": [
      "171 T: 18.53020, score: 0.499969, std: 0.007974, params: {'max_features': 622, 'min_samples_split': 694, 'n_estimators': 100, 'max_depth': 919, 'random_state': 0, 'n_jobs': 4}\n",
      "172 T: 16.67718, score: 0.499969, std: 0.007974, params: {'max_features': 622, 'min_samples_split': 694, 'n_estimators': 100, 'max_depth': 919, 'random_state': 0, 'n_jobs': 4}\n"
     ]
    },
    {
     "name": "stderr",
     "output_type": "stream",
     "text": [
      "[Parallel(n_jobs=4)]: Done   3 out of   3 | elapsed:    3.0s finished\n",
      "[Parallel(n_jobs=4)]: Using backend LokyBackend with 4 concurrent workers.\n"
     ]
    },
    {
     "name": "stdout",
     "output_type": "stream",
     "text": [
      "173 T: 16.67718, score: 0.513437, std: 0.007954, params: {'max_features': 622, 'min_samples_split': 298, 'n_estimators': 100, 'max_depth': 919, 'random_state': 0, 'n_jobs': 4}\n",
      "174 T: 16.67718, score: 0.513437, std: 0.007954, params: {'max_features': 622, 'min_samples_split': 298, 'n_estimators': 100, 'max_depth': 919, 'random_state': 0, 'n_jobs': 4}\n"
     ]
    },
    {
     "name": "stderr",
     "output_type": "stream",
     "text": [
      "[Parallel(n_jobs=4)]: Done   3 out of   3 | elapsed:    3.1s finished\n",
      "[Parallel(n_jobs=4)]: Using backend LokyBackend with 4 concurrent workers.\n"
     ]
    },
    {
     "name": "stdout",
     "output_type": "stream",
     "text": [
      "175 T: 16.67718, score: 0.513437, std: 0.007954, params: {'max_features': 622, 'min_samples_split': 298, 'n_estimators': 100, 'max_depth': 226, 'random_state': 0, 'n_jobs': 4}\n"
     ]
    },
    {
     "name": "stderr",
     "output_type": "stream",
     "text": [
      "[Parallel(n_jobs=4)]: Done   3 out of   3 | elapsed:    3.1s finished\n",
      "[Parallel(n_jobs=4)]: Using backend LokyBackend with 4 concurrent workers.\n"
     ]
    },
    {
     "name": "stdout",
     "output_type": "stream",
     "text": [
      "176 T: 16.67718, score: 0.513437, std: 0.007954, params: {'max_features': 622, 'min_samples_split': 298, 'n_estimators': 100, 'max_depth': 586, 'random_state': 0, 'n_jobs': 4}\n",
      "177 T: 16.67718, score: 0.513437, std: 0.007954, params: {'max_features': 622, 'min_samples_split': 298, 'n_estimators': 100, 'max_depth': 586, 'random_state': 0, 'n_jobs': 4}\n"
     ]
    },
    {
     "name": "stderr",
     "output_type": "stream",
     "text": [
      "[Parallel(n_jobs=4)]: Done   3 out of   3 | elapsed:    3.2s finished\n",
      "[Parallel(n_jobs=4)]: Using backend LokyBackend with 4 concurrent workers.\n"
     ]
    },
    {
     "name": "stdout",
     "output_type": "stream",
     "text": [
      "178 T: 16.67718, score: 0.513437, std: 0.007954, params: {'max_features': 622, 'min_samples_split': 298, 'n_estimators': 100, 'max_depth': 766, 'random_state': 0, 'n_jobs': 4}\n",
      "179 T: 16.67718, score: 0.513437, std: 0.007954, params: {'max_features': 622, 'min_samples_split': 298, 'n_estimators': 100, 'max_depth': 766, 'random_state': 0, 'n_jobs': 4}\n",
      "180 T: 16.67718, score: 0.513437, std: 0.007954, params: {'max_features': 622, 'min_samples_split': 298, 'n_estimators': 100, 'max_depth': 766, 'random_state': 0, 'n_jobs': 4}\n"
     ]
    },
    {
     "name": "stderr",
     "output_type": "stream",
     "text": [
      "[Parallel(n_jobs=4)]: Done   3 out of   3 | elapsed:    3.1s finished\n",
      "[Parallel(n_jobs=4)]: Using backend LokyBackend with 4 concurrent workers.\n"
     ]
    },
    {
     "name": "stdout",
     "output_type": "stream",
     "text": [
      "181 T: 16.67718, score: 0.513437, std: 0.007954, params: {'max_features': 622, 'min_samples_split': 298, 'n_estimators': 100, 'max_depth': 1000, 'random_state': 0, 'n_jobs': 4}\n"
     ]
    },
    {
     "name": "stderr",
     "output_type": "stream",
     "text": [
      "[Parallel(n_jobs=4)]: Done   3 out of   3 | elapsed:    3.1s finished\n",
      "[Parallel(n_jobs=4)]: Using backend LokyBackend with 4 concurrent workers.\n"
     ]
    },
    {
     "name": "stdout",
     "output_type": "stream",
     "text": [
      "182 T: 15.00946, score: 0.510402, std: 0.007091, params: {'max_features': 622, 'min_samples_split': 541, 'n_estimators': 100, 'max_depth': 1000, 'random_state': 0, 'n_jobs': 4}\n",
      "183 T: 15.00946, score: 0.510402, std: 0.007091, params: {'max_features': 622, 'min_samples_split': 541, 'n_estimators': 100, 'max_depth': 1000, 'random_state': 0, 'n_jobs': 4}\n",
      "184 T: 15.00946, score: 0.510402, std: 0.007091, params: {'max_features': 622, 'min_samples_split': 541, 'n_estimators': 100, 'max_depth': 1000, 'random_state': 0, 'n_jobs': 4}\n"
     ]
    },
    {
     "name": "stderr",
     "output_type": "stream",
     "text": [
      "[Parallel(n_jobs=4)]: Done   3 out of   3 | elapsed:    2.7s finished\n",
      "[Parallel(n_jobs=4)]: Using backend LokyBackend with 4 concurrent workers.\n"
     ]
    },
    {
     "name": "stdout",
     "output_type": "stream",
     "text": [
      "185 T: 15.00946, score: 0.510402, std: 0.007091, params: {'max_features': 622, 'min_samples_split': 541, 'n_estimators': 100, 'max_depth': 136, 'random_state': 0, 'n_jobs': 4}\n",
      "186 T: 15.00946, score: 0.510402, std: 0.007091, params: {'max_features': 622, 'min_samples_split': 541, 'n_estimators': 100, 'max_depth': 136, 'random_state': 0, 'n_jobs': 4}\n"
     ]
    },
    {
     "name": "stderr",
     "output_type": "stream",
     "text": [
      "[Parallel(n_jobs=4)]: Done   3 out of   3 | elapsed:    3.3s finished\n",
      "[Parallel(n_jobs=4)]: Using backend LokyBackend with 4 concurrent workers.\n"
     ]
    },
    {
     "name": "stdout",
     "output_type": "stream",
     "text": [
      "187 T: 15.00946, score: 0.525865, std: 0.013125, params: {'max_features': 622, 'min_samples_split': 208, 'n_estimators': 100, 'max_depth': 136, 'random_state': 0, 'n_jobs': 4}\n"
     ]
    },
    {
     "name": "stderr",
     "output_type": "stream",
     "text": [
      "[Parallel(n_jobs=4)]: Done   3 out of   3 | elapsed:    3.9s finished\n",
      "[Parallel(n_jobs=4)]: Using backend LokyBackend with 4 concurrent workers.\n"
     ]
    },
    {
     "name": "stdout",
     "output_type": "stream",
     "text": [
      "188 T: 15.00946, score: 0.525865, std: 0.013125, params: {'max_features': 622, 'min_samples_split': 208, 'n_estimators': 100, 'max_depth': 343, 'random_state': 0, 'n_jobs': 4}\n"
     ]
    },
    {
     "name": "stderr",
     "output_type": "stream",
     "text": [
      "[Parallel(n_jobs=4)]: Done   3 out of   3 | elapsed:    3.4s finished\n",
      "[Parallel(n_jobs=4)]: Using backend LokyBackend with 4 concurrent workers.\n"
     ]
    },
    {
     "name": "stdout",
     "output_type": "stream",
     "text": [
      "189 T: 15.00946, score: 0.525865, std: 0.013125, params: {'max_features': 622, 'min_samples_split': 208, 'n_estimators': 100, 'max_depth': 163, 'random_state': 0, 'n_jobs': 4}\n"
     ]
    },
    {
     "name": "stderr",
     "output_type": "stream",
     "text": [
      "[Parallel(n_jobs=4)]: Done   3 out of   3 | elapsed:    1.3s finished\n",
      "[Parallel(n_jobs=4)]: Using backend LokyBackend with 4 concurrent workers.\n"
     ]
    },
    {
     "name": "stdout",
     "output_type": "stream",
     "text": [
      "190 T: 15.00946, score: 0.527272, std: 0.007735, params: {'max_features': 172, 'min_samples_split': 208, 'n_estimators': 100, 'max_depth': 163, 'random_state': 0, 'n_jobs': 4}\n"
     ]
    },
    {
     "name": "stderr",
     "output_type": "stream",
     "text": [
      "[Parallel(n_jobs=4)]: Done   3 out of   3 | elapsed:    1.4s finished\n",
      "[Parallel(n_jobs=4)]: Using backend LokyBackend with 4 concurrent workers.\n"
     ]
    },
    {
     "name": "stdout",
     "output_type": "stream",
     "text": [
      "191 T: 15.00946, score: 0.527272, std: 0.007735, params: {'max_features': 172, 'min_samples_split': 208, 'n_estimators': 100, 'max_depth': 460, 'random_state': 0, 'n_jobs': 4}\n"
     ]
    },
    {
     "name": "stderr",
     "output_type": "stream",
     "text": [
      "[Parallel(n_jobs=4)]: Done   3 out of   3 | elapsed:    1.8s finished\n",
      "[Parallel(n_jobs=4)]: Using backend LokyBackend with 4 concurrent workers.\n"
     ]
    },
    {
     "name": "stdout",
     "output_type": "stream",
     "text": [
      "192 T: 13.50852, score: 0.527973, std: 0.011769, params: {'max_features': 271, 'min_samples_split': 208, 'n_estimators': 100, 'max_depth': 460, 'random_state': 0, 'n_jobs': 4}\n"
     ]
    },
    {
     "name": "stderr",
     "output_type": "stream",
     "text": [
      "[Parallel(n_jobs=4)]: Done   3 out of   3 | elapsed:    1.9s finished\n",
      "[Parallel(n_jobs=4)]: Using backend LokyBackend with 4 concurrent workers.\n"
     ]
    },
    {
     "name": "stdout",
     "output_type": "stream",
     "text": [
      "193 T: 13.50852, score: 0.527973, std: 0.011769, params: {'max_features': 271, 'min_samples_split': 208, 'n_estimators': 100, 'max_depth': 163, 'random_state': 0, 'n_jobs': 4}\n",
      "194 T: 13.50852, score: 0.527973, std: 0.011769, params: {'max_features': 271, 'min_samples_split': 208, 'n_estimators': 100, 'max_depth': 163, 'random_state': 0, 'n_jobs': 4}\n"
     ]
    },
    {
     "name": "stderr",
     "output_type": "stream",
     "text": [
      "[Parallel(n_jobs=4)]: Done   3 out of   3 | elapsed:    1.6s finished\n",
      "[Parallel(n_jobs=4)]: Using backend LokyBackend with 4 concurrent workers.\n"
     ]
    },
    {
     "name": "stdout",
     "output_type": "stream",
     "text": [
      "195 T: 13.50852, score: 0.527593, std: 0.008969, params: {'max_features': 235, 'min_samples_split': 208, 'n_estimators': 100, 'max_depth': 163, 'random_state': 0, 'n_jobs': 4}\n"
     ]
    },
    {
     "name": "stderr",
     "output_type": "stream",
     "text": [
      "[Parallel(n_jobs=4)]: Done   3 out of   3 | elapsed:    1.5s finished\n",
      "[Parallel(n_jobs=4)]: Using backend LokyBackend with 4 concurrent workers.\n"
     ]
    },
    {
     "name": "stdout",
     "output_type": "stream",
     "text": [
      "196 T: 13.50852, score: 0.527593, std: 0.008969, params: {'max_features': 235, 'min_samples_split': 208, 'n_estimators': 100, 'max_depth': 172, 'random_state': 0, 'n_jobs': 4}\n"
     ]
    },
    {
     "name": "stderr",
     "output_type": "stream",
     "text": [
      "[Parallel(n_jobs=4)]: Done   3 out of   3 | elapsed:    1.2s finished\n",
      "[Parallel(n_jobs=4)]: Using backend LokyBackend with 4 concurrent workers.\n"
     ]
    },
    {
     "name": "stdout",
     "output_type": "stream",
     "text": [
      "197 T: 13.50852, score: 0.509815, std: 0.007140, params: {'max_features': 235, 'min_samples_split': 496, 'n_estimators': 100, 'max_depth': 172, 'random_state': 0, 'n_jobs': 4}\n",
      "198 T: 13.50852, score: 0.509815, std: 0.007140, params: {'max_features': 235, 'min_samples_split': 496, 'n_estimators': 100, 'max_depth': 172, 'random_state': 0, 'n_jobs': 4}\n",
      "199 T: 13.50852, score: 0.509815, std: 0.007140, params: {'max_features': 235, 'min_samples_split': 496, 'n_estimators': 100, 'max_depth': 172, 'random_state': 0, 'n_jobs': 4}\n"
     ]
    },
    {
     "name": "stderr",
     "output_type": "stream",
     "text": [
      "[Parallel(n_jobs=4)]: Done   3 out of   3 | elapsed:    3.0s finished\n",
      "[Parallel(n_jobs=4)]: Using backend LokyBackend with 4 concurrent workers.\n"
     ]
    },
    {
     "name": "stdout",
     "output_type": "stream",
     "text": [
      "200 T: 13.50852, score: 0.511005, std: 0.008145, params: {'max_features': 640, 'min_samples_split': 496, 'n_estimators': 100, 'max_depth': 172, 'random_state': 0, 'n_jobs': 4}\n",
      "201 T: 13.50852, score: 0.511005, std: 0.008145, params: {'max_features': 640, 'min_samples_split': 496, 'n_estimators': 100, 'max_depth': 172, 'random_state': 0, 'n_jobs': 4}\n",
      "202 T: 12.15767, score: 0.511005, std: 0.008145, params: {'max_features': 640, 'min_samples_split': 496, 'n_estimators': 100, 'max_depth': 172, 'random_state': 0, 'n_jobs': 4}\n"
     ]
    },
    {
     "name": "stderr",
     "output_type": "stream",
     "text": [
      "[Parallel(n_jobs=4)]: Done   3 out of   3 | elapsed:    4.4s finished\n",
      "[Parallel(n_jobs=4)]: Using backend LokyBackend with 4 concurrent workers.\n"
     ]
    },
    {
     "name": "stdout",
     "output_type": "stream",
     "text": [
      "203 T: 12.15767, score: 0.521997, std: 0.012282, params: {'max_features': 640, 'min_samples_split': 55, 'n_estimators': 100, 'max_depth': 172, 'random_state': 0, 'n_jobs': 4}\n"
     ]
    },
    {
     "name": "stderr",
     "output_type": "stream",
     "text": [
      "[Parallel(n_jobs=4)]: Done   3 out of   3 | elapsed:    0.9s finished\n",
      "[Parallel(n_jobs=4)]: Using backend LokyBackend with 4 concurrent workers.\n"
     ]
    },
    {
     "name": "stdout",
     "output_type": "stream",
     "text": [
      "204 T: 12.15767, score: 0.531202, std: 0.008153, params: {'max_features': 46, 'min_samples_split': 55, 'n_estimators': 100, 'max_depth': 172, 'random_state': 0, 'n_jobs': 4}\n"
     ]
    },
    {
     "name": "stderr",
     "output_type": "stream",
     "text": [
      "[Parallel(n_jobs=4)]: Done   3 out of   3 | elapsed:    3.2s finished\n",
      "[Parallel(n_jobs=4)]: Using backend LokyBackend with 4 concurrent workers.\n"
     ]
    },
    {
     "name": "stdout",
     "output_type": "stream",
     "text": [
      "205 T: 12.15767, score: 0.525079, std: 0.012996, params: {'max_features': 442, 'min_samples_split': 55, 'n_estimators': 100, 'max_depth': 172, 'random_state': 0, 'n_jobs': 4}\n"
     ]
    },
    {
     "name": "stderr",
     "output_type": "stream",
     "text": [
      "[Parallel(n_jobs=4)]: Done   3 out of   3 | elapsed:    2.4s finished\n",
      "[Parallel(n_jobs=4)]: Using backend LokyBackend with 4 concurrent workers.\n"
     ]
    },
    {
     "name": "stdout",
     "output_type": "stream",
     "text": [
      "206 T: 12.15767, score: 0.514930, std: 0.006681, params: {'max_features': 442, 'min_samples_split': 334, 'n_estimators': 100, 'max_depth': 172, 'random_state': 0, 'n_jobs': 4}\n",
      "207 T: 12.15767, score: 0.514930, std: 0.006681, params: {'max_features': 442, 'min_samples_split': 334, 'n_estimators': 100, 'max_depth': 172, 'random_state': 0, 'n_jobs': 4}\n"
     ]
    },
    {
     "name": "stderr",
     "output_type": "stream",
     "text": [
      "[Parallel(n_jobs=4)]: Done   3 out of   3 | elapsed:    2.0s finished\n",
      "[Parallel(n_jobs=4)]: Using backend LokyBackend with 4 concurrent workers.\n"
     ]
    },
    {
     "name": "stdout",
     "output_type": "stream",
     "text": [
      "208 T: 12.15767, score: 0.511688, std: 0.006048, params: {'max_features': 442, 'min_samples_split': 505, 'n_estimators': 100, 'max_depth': 172, 'random_state': 0, 'n_jobs': 4}\n",
      "209 T: 12.15767, score: 0.511688, std: 0.006048, params: {'max_features': 442, 'min_samples_split': 505, 'n_estimators': 100, 'max_depth': 172, 'random_state': 0, 'n_jobs': 4}\n"
     ]
    },
    {
     "name": "stderr",
     "output_type": "stream",
     "text": [
      "[Parallel(n_jobs=4)]: Done   3 out of   3 | elapsed:    2.3s finished\n",
      "[Parallel(n_jobs=4)]: Using backend LokyBackend with 4 concurrent workers.\n"
     ]
    },
    {
     "name": "stdout",
     "output_type": "stream",
     "text": [
      "210 T: 12.15767, score: 0.514676, std: 0.007217, params: {'max_features': 442, 'min_samples_split': 343, 'n_estimators': 100, 'max_depth': 172, 'random_state': 0, 'n_jobs': 4}\n",
      "211 T: 12.15767, score: 0.514676, std: 0.007217, params: {'max_features': 442, 'min_samples_split': 343, 'n_estimators': 100, 'max_depth': 172, 'random_state': 0, 'n_jobs': 4}\n"
     ]
    },
    {
     "name": "stderr",
     "output_type": "stream",
     "text": [
      "[Parallel(n_jobs=4)]: Done   3 out of   3 | elapsed:    1.2s finished\n",
      "[Parallel(n_jobs=4)]: Using backend LokyBackend with 4 concurrent workers.\n"
     ]
    },
    {
     "name": "stdout",
     "output_type": "stream",
     "text": [
      "212 T: 10.94190, score: 0.515060, std: 0.006738, params: {'max_features': 199, 'min_samples_split': 343, 'n_estimators': 100, 'max_depth': 172, 'random_state': 0, 'n_jobs': 4}\n"
     ]
    },
    {
     "name": "stderr",
     "output_type": "stream",
     "text": [
      "[Parallel(n_jobs=4)]: Done   3 out of   3 | elapsed:    1.3s finished\n",
      "[Parallel(n_jobs=4)]: Using backend LokyBackend with 4 concurrent workers.\n"
     ]
    },
    {
     "name": "stdout",
     "output_type": "stream",
     "text": [
      "213 T: 10.94190, score: 0.515735, std: 0.007261, params: {'max_features': 199, 'min_samples_split': 334, 'n_estimators': 100, 'max_depth': 172, 'random_state': 0, 'n_jobs': 4}\n"
     ]
    },
    {
     "name": "stderr",
     "output_type": "stream",
     "text": [
      "[Parallel(n_jobs=4)]: Done   3 out of   3 | elapsed:    1.2s finished\n",
      "[Parallel(n_jobs=4)]: Using backend LokyBackend with 4 concurrent workers.\n"
     ]
    },
    {
     "name": "stdout",
     "output_type": "stream",
     "text": [
      "214 T: 10.94190, score: 0.515887, std: 0.005956, params: {'max_features': 163, 'min_samples_split': 334, 'n_estimators': 100, 'max_depth': 172, 'random_state': 0, 'n_jobs': 4}\n"
     ]
    },
    {
     "name": "stderr",
     "output_type": "stream",
     "text": [
      "[Parallel(n_jobs=4)]: Done   3 out of   3 | elapsed:    1.1s finished\n",
      "[Parallel(n_jobs=4)]: Using backend LokyBackend with 4 concurrent workers.\n"
     ]
    },
    {
     "name": "stdout",
     "output_type": "stream",
     "text": [
      "215 T: 10.94190, score: 0.515887, std: 0.005956, params: {'max_features': 163, 'min_samples_split': 334, 'n_estimators': 100, 'max_depth': 217, 'random_state': 0, 'n_jobs': 4}\n",
      "216 T: 10.94190, score: 0.515887, std: 0.005956, params: {'max_features': 163, 'min_samples_split': 334, 'n_estimators': 100, 'max_depth': 217, 'random_state': 0, 'n_jobs': 4}\n"
     ]
    },
    {
     "name": "stderr",
     "output_type": "stream",
     "text": [
      "[Parallel(n_jobs=4)]: Done   3 out of   3 | elapsed:    1.3s finished\n",
      "[Parallel(n_jobs=4)]: Using backend LokyBackend with 4 concurrent workers.\n"
     ]
    },
    {
     "name": "stdout",
     "output_type": "stream",
     "text": [
      "217 T: 10.94190, score: 0.526054, std: 0.009691, params: {'max_features': 163, 'min_samples_split': 208, 'n_estimators': 100, 'max_depth': 217, 'random_state': 0, 'n_jobs': 4}\n",
      "218 T: 10.94190, score: 0.526054, std: 0.009691, params: {'max_features': 163, 'min_samples_split': 208, 'n_estimators': 100, 'max_depth': 217, 'random_state': 0, 'n_jobs': 4}\n",
      "219 T: 10.94190, score: 0.526054, std: 0.009691, params: {'max_features': 163, 'min_samples_split': 208, 'n_estimators': 100, 'max_depth': 217, 'random_state': 0, 'n_jobs': 4}\n",
      "220 T: 10.94190, score: 0.526054, std: 0.009691, params: {'max_features': 163, 'min_samples_split': 208, 'n_estimators': 100, 'max_depth': 217, 'random_state': 0, 'n_jobs': 4}\n",
      "221 T: 10.94190, score: 0.526054, std: 0.009691, params: {'max_features': 163, 'min_samples_split': 208, 'n_estimators': 100, 'max_depth': 217, 'random_state': 0, 'n_jobs': 4}\n"
     ]
    },
    {
     "name": "stderr",
     "output_type": "stream",
     "text": [
      "[Parallel(n_jobs=4)]: Done   3 out of   3 | elapsed:    1.1s finished\n",
      "[Parallel(n_jobs=4)]: Using backend LokyBackend with 4 concurrent workers.\n"
     ]
    },
    {
     "name": "stdout",
     "output_type": "stream",
     "text": [
      "222 T: 9.84771, score: 0.516509, std: 0.007182, params: {'max_features': 163, 'min_samples_split': 316, 'n_estimators': 100, 'max_depth': 217, 'random_state': 0, 'n_jobs': 4}\n",
      "223 T: 9.84771, score: 0.516509, std: 0.007182, params: {'max_features': 163, 'min_samples_split': 316, 'n_estimators': 100, 'max_depth': 217, 'random_state': 0, 'n_jobs': 4}\n"
     ]
    },
    {
     "name": "stderr",
     "output_type": "stream",
     "text": [
      "[Parallel(n_jobs=4)]: Done   3 out of   3 | elapsed:    1.1s finished\n",
      "[Parallel(n_jobs=4)]: Using backend LokyBackend with 4 concurrent workers.\n"
     ]
    },
    {
     "name": "stdout",
     "output_type": "stream",
     "text": [
      "224 T: 9.84771, score: 0.514550, std: 0.006831, params: {'max_features': 163, 'min_samples_split': 361, 'n_estimators': 100, 'max_depth': 217, 'random_state': 0, 'n_jobs': 4}\n"
     ]
    },
    {
     "name": "stderr",
     "output_type": "stream",
     "text": [
      "[Parallel(n_jobs=4)]: Done   3 out of   3 | elapsed:    1.4s finished\n",
      "[Parallel(n_jobs=4)]: Using backend LokyBackend with 4 concurrent workers.\n"
     ]
    },
    {
     "name": "stdout",
     "output_type": "stream",
     "text": [
      "225 T: 9.84771, score: 0.530181, std: 0.008745, params: {'max_features': 163, 'min_samples_split': 145, 'n_estimators': 100, 'max_depth': 217, 'random_state': 0, 'n_jobs': 4}\n",
      "226 T: 9.84771, score: 0.530181, std: 0.008745, params: {'max_features': 163, 'min_samples_split': 145, 'n_estimators': 100, 'max_depth': 217, 'random_state': 0, 'n_jobs': 4}\n",
      "227 T: 9.84771, score: 0.530181, std: 0.008745, params: {'max_features': 163, 'min_samples_split': 145, 'n_estimators': 100, 'max_depth': 217, 'random_state': 0, 'n_jobs': 4}\n"
     ]
    },
    {
     "name": "stderr",
     "output_type": "stream",
     "text": [
      "[Parallel(n_jobs=4)]: Done   3 out of   3 | elapsed:    1.0s finished\n",
      "[Parallel(n_jobs=4)]: Using backend LokyBackend with 4 concurrent workers.\n"
     ]
    },
    {
     "name": "stdout",
     "output_type": "stream",
     "text": [
      "228 T: 9.84771, score: 0.530541, std: 0.008938, params: {'max_features': 118, 'min_samples_split': 145, 'n_estimators': 100, 'max_depth': 217, 'random_state': 0, 'n_jobs': 4}\n"
     ]
    },
    {
     "name": "stderr",
     "output_type": "stream",
     "text": [
      "[Parallel(n_jobs=4)]: Done   3 out of   3 | elapsed:    1.1s finished\n",
      "[Parallel(n_jobs=4)]: Using backend LokyBackend with 4 concurrent workers.\n"
     ]
    },
    {
     "name": "stdout",
     "output_type": "stream",
     "text": [
      "229 T: 9.84771, score: 0.530541, std: 0.008938, params: {'max_features': 118, 'min_samples_split': 145, 'n_estimators': 100, 'max_depth': 631, 'random_state': 0, 'n_jobs': 4}\n",
      "230 T: 9.84771, score: 0.530541, std: 0.008938, params: {'max_features': 118, 'min_samples_split': 145, 'n_estimators': 100, 'max_depth': 631, 'random_state': 0, 'n_jobs': 4}\n",
      "231 T: 9.84771, score: 0.530541, std: 0.008938, params: {'max_features': 118, 'min_samples_split': 145, 'n_estimators': 100, 'max_depth': 631, 'random_state': 0, 'n_jobs': 4}\n"
     ]
    },
    {
     "name": "stderr",
     "output_type": "stream",
     "text": [
      "[Parallel(n_jobs=4)]: Done   3 out of   3 | elapsed:    1.1s finished\n",
      "[Parallel(n_jobs=4)]: Using backend LokyBackend with 4 concurrent workers.\n"
     ]
    },
    {
     "name": "stdout",
     "output_type": "stream",
     "text": [
      "232 T: 8.86294, score: 0.530541, std: 0.008938, params: {'max_features': 118, 'min_samples_split': 145, 'n_estimators': 100, 'max_depth': 586, 'random_state': 0, 'n_jobs': 4}\n",
      "233 T: 8.86294, score: 0.530541, std: 0.008938, params: {'max_features': 118, 'min_samples_split': 145, 'n_estimators': 100, 'max_depth': 586, 'random_state': 0, 'n_jobs': 4}\n",
      "234 T: 8.86294, score: 0.530541, std: 0.008938, params: {'max_features': 118, 'min_samples_split': 145, 'n_estimators': 100, 'max_depth': 586, 'random_state': 0, 'n_jobs': 4}\n"
     ]
    },
    {
     "name": "stderr",
     "output_type": "stream",
     "text": [
      "[Parallel(n_jobs=4)]: Done   3 out of   3 | elapsed:    0.7s finished\n",
      "[Parallel(n_jobs=4)]: Using backend LokyBackend with 4 concurrent workers.\n"
     ]
    },
    {
     "name": "stdout",
     "output_type": "stream",
     "text": [
      "235 T: 8.86294, score: 0.482549, std: 0.003766, params: {'max_features': 118, 'min_samples_split': 694, 'n_estimators': 100, 'max_depth': 586, 'random_state': 0, 'n_jobs': 4}\n",
      "236 T: 8.86294, score: 0.482549, std: 0.003766, params: {'max_features': 118, 'min_samples_split': 694, 'n_estimators': 100, 'max_depth': 586, 'random_state': 0, 'n_jobs': 4}\n"
     ]
    },
    {
     "name": "stderr",
     "output_type": "stream",
     "text": [
      "[Parallel(n_jobs=4)]: Done   3 out of   3 | elapsed:    1.0s finished\n",
      "[Parallel(n_jobs=4)]: Using backend LokyBackend with 4 concurrent workers.\n"
     ]
    },
    {
     "name": "stdout",
     "output_type": "stream",
     "text": [
      "237 T: 8.86294, score: 0.520876, std: 0.005666, params: {'max_features': 118, 'min_samples_split': 262, 'n_estimators': 100, 'max_depth': 586, 'random_state': 0, 'n_jobs': 4}\n"
     ]
    },
    {
     "name": "stderr",
     "output_type": "stream",
     "text": [
      "[Parallel(n_jobs=4)]: Done   3 out of   3 | elapsed:    1.0s finished\n",
      "[Parallel(n_jobs=4)]: Using backend LokyBackend with 4 concurrent workers.\n"
     ]
    },
    {
     "name": "stdout",
     "output_type": "stream",
     "text": [
      "238 T: 8.86294, score: 0.520876, std: 0.005666, params: {'max_features': 118, 'min_samples_split': 262, 'n_estimators': 100, 'max_depth': 568, 'random_state': 0, 'n_jobs': 4}\n"
     ]
    },
    {
     "name": "stderr",
     "output_type": "stream",
     "text": [
      "[Parallel(n_jobs=4)]: Done   3 out of   3 | elapsed:    1.0s finished\n",
      "[Parallel(n_jobs=4)]: Using backend LokyBackend with 4 concurrent workers.\n"
     ]
    },
    {
     "name": "stdout",
     "output_type": "stream",
     "text": [
      "239 T: 8.86294, score: 0.520876, std: 0.005666, params: {'max_features': 118, 'min_samples_split': 262, 'n_estimators': 100, 'max_depth': 451, 'random_state': 0, 'n_jobs': 4}\n",
      "240 T: 8.86294, score: 0.520876, std: 0.005666, params: {'max_features': 118, 'min_samples_split': 262, 'n_estimators': 100, 'max_depth': 451, 'random_state': 0, 'n_jobs': 4}\n",
      "241 T: 8.86294, score: 0.520876, std: 0.005666, params: {'max_features': 118, 'min_samples_split': 262, 'n_estimators': 100, 'max_depth': 451, 'random_state': 0, 'n_jobs': 4}\n",
      "242 T: 7.97664, score: 0.520876, std: 0.005666, params: {'max_features': 118, 'min_samples_split': 262, 'n_estimators': 100, 'max_depth': 451, 'random_state': 0, 'n_jobs': 4}\n"
     ]
    },
    {
     "name": "stderr",
     "output_type": "stream",
     "text": [
      "[Parallel(n_jobs=4)]: Done   3 out of   3 | elapsed:    0.9s finished\n",
      "[Parallel(n_jobs=4)]: Using backend LokyBackend with 4 concurrent workers.\n"
     ]
    },
    {
     "name": "stdout",
     "output_type": "stream",
     "text": [
      "243 T: 7.97664, score: 0.519624, std: 0.006432, params: {'max_features': 82, 'min_samples_split': 262, 'n_estimators': 100, 'max_depth': 451, 'random_state': 0, 'n_jobs': 4}\n",
      "244 T: 7.97664, score: 0.519624, std: 0.006432, params: {'max_features': 82, 'min_samples_split': 262, 'n_estimators': 100, 'max_depth': 451, 'random_state': 0, 'n_jobs': 4}\n",
      "245 T: 7.97664, score: 0.519624, std: 0.006432, params: {'max_features': 82, 'min_samples_split': 262, 'n_estimators': 100, 'max_depth': 451, 'random_state': 0, 'n_jobs': 4}\n"
     ]
    },
    {
     "name": "stderr",
     "output_type": "stream",
     "text": [
      "[Parallel(n_jobs=4)]: Done   3 out of   3 | elapsed:    0.8s finished\n",
      "[Parallel(n_jobs=4)]: Using backend LokyBackend with 4 concurrent workers.\n"
     ]
    },
    {
     "name": "stdout",
     "output_type": "stream",
     "text": [
      "246 T: 7.97664, score: 0.516655, std: 0.007076, params: {'max_features': 55, 'min_samples_split': 262, 'n_estimators': 100, 'max_depth': 451, 'random_state': 0, 'n_jobs': 4}\n"
     ]
    },
    {
     "name": "stderr",
     "output_type": "stream",
     "text": [
      "[Parallel(n_jobs=4)]: Done   3 out of   3 | elapsed:    0.6s finished\n",
      "[Parallel(n_jobs=4)]: Using backend LokyBackend with 4 concurrent workers.\n"
     ]
    },
    {
     "name": "stdout",
     "output_type": "stream",
     "text": [
      "247 T: 7.97664, score: 0.516655, std: 0.007076, params: {'max_features': 55, 'min_samples_split': 262, 'n_estimators': 100, 'max_depth': 766, 'random_state': 0, 'n_jobs': 4}\n"
     ]
    },
    {
     "name": "stderr",
     "output_type": "stream",
     "text": [
      "[Parallel(n_jobs=4)]: Done   3 out of   3 | elapsed:    0.7s finished\n",
      "[Parallel(n_jobs=4)]: Using backend LokyBackend with 4 concurrent workers.\n"
     ]
    },
    {
     "name": "stdout",
     "output_type": "stream",
     "text": [
      "248 T: 7.97664, score: 0.516655, std: 0.007076, params: {'max_features': 55, 'min_samples_split': 262, 'n_estimators': 100, 'max_depth': 334, 'random_state': 0, 'n_jobs': 4}\n",
      "249 T: 7.97664, score: 0.516655, std: 0.007076, params: {'max_features': 55, 'min_samples_split': 262, 'n_estimators': 100, 'max_depth': 334, 'random_state': 0, 'n_jobs': 4}\n"
     ]
    },
    {
     "name": "stderr",
     "output_type": "stream",
     "text": [
      "[Parallel(n_jobs=4)]: Done   3 out of   3 | elapsed:    1.0s finished\n",
      "[Parallel(n_jobs=4)]: Using backend LokyBackend with 4 concurrent workers.\n"
     ]
    },
    {
     "name": "stdout",
     "output_type": "stream",
     "text": [
      "250 T: 7.97664, score: 0.521299, std: 0.007093, params: {'max_features': 127, 'min_samples_split': 262, 'n_estimators': 100, 'max_depth': 334, 'random_state': 0, 'n_jobs': 4}\n",
      "251 T: 7.97664, score: 0.521299, std: 0.007093, params: {'max_features': 127, 'min_samples_split': 262, 'n_estimators': 100, 'max_depth': 334, 'random_state': 0, 'n_jobs': 4}\n"
     ]
    },
    {
     "name": "stderr",
     "output_type": "stream",
     "text": [
      "[Parallel(n_jobs=4)]: Done   3 out of   3 | elapsed:    3.3s finished\n",
      "[Parallel(n_jobs=4)]: Using backend LokyBackend with 4 concurrent workers.\n"
     ]
    },
    {
     "name": "stdout",
     "output_type": "stream",
     "text": [
      "252 T: 7.17898, score: 0.521682, std: 0.011173, params: {'max_features': 631, 'min_samples_split': 262, 'n_estimators': 100, 'max_depth': 334, 'random_state': 0, 'n_jobs': 4}\n"
     ]
    },
    {
     "name": "stderr",
     "output_type": "stream",
     "text": [
      "[Parallel(n_jobs=4)]: Done   3 out of   3 | elapsed:    3.5s finished\n",
      "[Parallel(n_jobs=4)]: Using backend LokyBackend with 4 concurrent workers.\n"
     ]
    },
    {
     "name": "stdout",
     "output_type": "stream",
     "text": [
      "253 T: 7.17898, score: 0.525342, std: 0.013340, params: {'max_features': 631, 'min_samples_split': 181, 'n_estimators': 100, 'max_depth': 334, 'random_state': 0, 'n_jobs': 4}\n"
     ]
    },
    {
     "name": "stderr",
     "output_type": "stream",
     "text": [
      "[Parallel(n_jobs=4)]: Done   3 out of   3 | elapsed:    3.1s finished\n",
      "[Parallel(n_jobs=4)]: Using backend LokyBackend with 4 concurrent workers.\n"
     ]
    },
    {
     "name": "stdout",
     "output_type": "stream",
     "text": [
      "254 T: 7.17898, score: 0.512353, std: 0.008092, params: {'max_features': 631, 'min_samples_split': 307, 'n_estimators': 100, 'max_depth': 334, 'random_state': 0, 'n_jobs': 4}\n"
     ]
    },
    {
     "name": "stderr",
     "output_type": "stream",
     "text": [
      "[Parallel(n_jobs=4)]: Done   3 out of   3 | elapsed:    3.1s finished\n",
      "[Parallel(n_jobs=4)]: Using backend LokyBackend with 4 concurrent workers.\n"
     ]
    },
    {
     "name": "stdout",
     "output_type": "stream",
     "text": [
      "255 T: 7.17898, score: 0.512353, std: 0.008092, params: {'max_features': 631, 'min_samples_split': 307, 'n_estimators': 100, 'max_depth': 703, 'random_state': 0, 'n_jobs': 4}\n"
     ]
    },
    {
     "name": "stderr",
     "output_type": "stream",
     "text": [
      "[Parallel(n_jobs=4)]: Done   3 out of   3 | elapsed:    2.8s finished\n",
      "[Parallel(n_jobs=4)]: Using backend LokyBackend with 4 concurrent workers.\n"
     ]
    },
    {
     "name": "stdout",
     "output_type": "stream",
     "text": [
      "256 T: 7.17898, score: 0.512353, std: 0.008092, params: {'max_features': 631, 'min_samples_split': 307, 'n_estimators': 100, 'max_depth': 235, 'random_state': 0, 'n_jobs': 4}\n",
      "257 T: 7.17898, score: 0.512353, std: 0.008092, params: {'max_features': 631, 'min_samples_split': 307, 'n_estimators': 100, 'max_depth': 235, 'random_state': 0, 'n_jobs': 4}\n"
     ]
    },
    {
     "name": "stderr",
     "output_type": "stream",
     "text": [
      "[Parallel(n_jobs=4)]: Done   3 out of   3 | elapsed:    2.7s finished\n",
      "[Parallel(n_jobs=4)]: Using backend LokyBackend with 4 concurrent workers.\n"
     ]
    },
    {
     "name": "stdout",
     "output_type": "stream",
     "text": [
      "258 T: 7.17898, score: 0.500912, std: 0.009688, params: {'max_features': 631, 'min_samples_split': 676, 'n_estimators': 100, 'max_depth': 235, 'random_state': 0, 'n_jobs': 4}\n"
     ]
    },
    {
     "name": "stderr",
     "output_type": "stream",
     "text": [
      "[Parallel(n_jobs=4)]: Done   3 out of   3 | elapsed:    3.6s finished\n",
      "[Parallel(n_jobs=4)]: Using backend LokyBackend with 4 concurrent workers.\n"
     ]
    },
    {
     "name": "stdout",
     "output_type": "stream",
     "text": [
      "259 T: 7.17898, score: 0.525794, std: 0.013248, params: {'max_features': 631, 'min_samples_split': 163, 'n_estimators': 100, 'max_depth': 235, 'random_state': 0, 'n_jobs': 4}\n",
      "260 T: 7.17898, score: 0.525794, std: 0.013248, params: {'max_features': 631, 'min_samples_split': 163, 'n_estimators': 100, 'max_depth': 235, 'random_state': 0, 'n_jobs': 4}\n",
      "261 T: 7.17898, score: 0.525794, std: 0.013248, params: {'max_features': 631, 'min_samples_split': 163, 'n_estimators': 100, 'max_depth': 235, 'random_state': 0, 'n_jobs': 4}\n"
     ]
    },
    {
     "name": "stderr",
     "output_type": "stream",
     "text": [
      "[Parallel(n_jobs=4)]: Done   3 out of   3 | elapsed:    1.1s finished\n",
      "[Parallel(n_jobs=4)]: Using backend LokyBackend with 4 concurrent workers.\n"
     ]
    },
    {
     "name": "stdout",
     "output_type": "stream",
     "text": [
      "262 T: 6.46108, score: 0.527966, std: 0.006834, params: {'max_features': 136, 'min_samples_split': 163, 'n_estimators': 100, 'max_depth': 235, 'random_state': 0, 'n_jobs': 4}\n"
     ]
    },
    {
     "name": "stderr",
     "output_type": "stream",
     "text": [
      "[Parallel(n_jobs=4)]: Done   3 out of   3 | elapsed:    1.6s finished\n",
      "[Parallel(n_jobs=4)]: Using backend LokyBackend with 4 concurrent workers.\n"
     ]
    },
    {
     "name": "stdout",
     "output_type": "stream",
     "text": [
      "263 T: 6.46108, score: 0.522356, std: 0.009652, params: {'max_features': 136, 'min_samples_split': 10, 'n_estimators': 100, 'max_depth': 235, 'random_state': 0, 'n_jobs': 4}\n"
     ]
    },
    {
     "name": "stderr",
     "output_type": "stream",
     "text": [
      "[Parallel(n_jobs=4)]: Done   3 out of   3 | elapsed:    1.7s finished\n",
      "[Parallel(n_jobs=4)]: Using backend LokyBackend with 4 concurrent workers.\n"
     ]
    },
    {
     "name": "stdout",
     "output_type": "stream",
     "text": [
      "264 T: 6.46108, score: 0.522356, std: 0.009652, params: {'max_features': 136, 'min_samples_split': 10, 'n_estimators': 100, 'max_depth': 127, 'random_state': 0, 'n_jobs': 4}\n"
     ]
    },
    {
     "name": "stderr",
     "output_type": "stream",
     "text": [
      "[Parallel(n_jobs=4)]: Done   3 out of   3 | elapsed:    1.1s finished\n",
      "[Parallel(n_jobs=4)]: Using backend LokyBackend with 4 concurrent workers.\n"
     ]
    },
    {
     "name": "stdout",
     "output_type": "stream",
     "text": [
      "265 T: 6.46108, score: 0.519631, std: 0.005167, params: {'max_features': 136, 'min_samples_split': 289, 'n_estimators': 100, 'max_depth': 127, 'random_state': 0, 'n_jobs': 4}\n",
      "266 T: 6.46108, score: 0.519631, std: 0.005167, params: {'max_features': 136, 'min_samples_split': 289, 'n_estimators': 100, 'max_depth': 127, 'random_state': 0, 'n_jobs': 4}\n"
     ]
    },
    {
     "name": "stderr",
     "output_type": "stream",
     "text": [
      "[Parallel(n_jobs=4)]: Done   3 out of   3 | elapsed:    0.9s finished\n",
      "[Parallel(n_jobs=4)]: Using backend LokyBackend with 4 concurrent workers.\n"
     ]
    },
    {
     "name": "stdout",
     "output_type": "stream",
     "text": [
      "267 T: 6.46108, score: 0.512994, std: 0.006473, params: {'max_features': 136, 'min_samples_split': 370, 'n_estimators': 100, 'max_depth': 127, 'random_state': 0, 'n_jobs': 4}\n"
     ]
    },
    {
     "name": "stderr",
     "output_type": "stream",
     "text": [
      "[Parallel(n_jobs=4)]: Done   3 out of   3 | elapsed:    0.8s finished\n"
     ]
    },
    {
     "name": "stdout",
     "output_type": "stream",
     "text": [
      "268 T: 6.46108, score: 0.511061, std: 0.004071, params: {'max_features': 91, 'min_samples_split': 370, 'n_estimators': 100, 'max_depth': 127, 'random_state': 0, 'n_jobs': 4}\n",
      "269 T: 6.46108, score: 0.511061, std: 0.004071, params: {'max_features': 91, 'min_samples_split': 370, 'n_estimators': 100, 'max_depth': 127, 'random_state': 0, 'n_jobs': 4}\n",
      "270 T: 6.46108, score: 0.511061, std: 0.004071, params: {'max_features': 91, 'min_samples_split': 370, 'n_estimators': 100, 'max_depth': 127, 'random_state': 0, 'n_jobs': 4}\n",
      "271 T: 6.46108, score: 0.511061, std: 0.004071, params: {'max_features': 91, 'min_samples_split': 370, 'n_estimators': 100, 'max_depth': 127, 'random_state': 0, 'n_jobs': 4}\n",
      "\n",
      " BEST:\n",
      "0.531202142412452 {'max_features': 46, 'min_samples_split': 55, 'n_estimators': 100, 'max_depth': 172, 'random_state': 0, 'n_jobs': 4}\n"
     ]
    }
   ],
   "source": [
    "rfr = RandomForestRegressor()\n",
    "\n",
    "param_grid = { \"max_features\": list(range(1,701,9)),\n",
    "                \"min_samples_split\": list(range(1,701,9)),\n",
    "                \"n_estimators\": [100],\n",
    "                \"max_depth\": list(range(1,1001,9)),\n",
    "                \"random_state\": [0],\n",
    "                 \"n_jobs\": [4]}\n",
    "combs =1 \n",
    "for k,v in param_grid.items():\n",
    "    combs *= len(v)\n",
    "print(combs)\n",
    "\n",
    "print('====================================')\n",
    "\n",
    "# Initialize Simulated Annealing and fit\n",
    "sa = SimulatedAnneal(rfr, param_grid, T=100.0, T_min=0.001, alpha=0.9,\n",
    "                         verbose=True,scoring='r2',n_jobs = 4)\n",
    "sa.fit(X_train, y_train)\n",
    "\n",
    "\n",
    "print('\\n BEST:')\n",
    "print(sa.best_score_, sa.best_params_)\n",
    "optimized_rfr = sa.best_estimator_\n",
    "y_test_pred = optimized_rfr.predict(X_test)"
   ]
  },
  {
   "cell_type": "code",
   "execution_count": 15,
   "metadata": {},
   "outputs": [
    {
     "data": {
      "image/png": "[encoded data removed]",
      "text/plain": [
       "<Figure size 432x288 with 1 Axes>"
      ]
     },
     "metadata": {
      "needs_background": "light"
     },
     "output_type": "display_data"
    },
    {
     "name": "stdout",
     "output_type": "stream",
     "text": [
      "0.5471909254906389\n"
     ]
    }
   ],
   "source": [
    "# plt.plot(list(range(len(y_test) )),y_test_pred,'b')\n",
    "# plt.axhline(y = np.average(y))\n",
    "plt.plot(list(range(len(y_test) )),y_test_pred,'r')\n",
    "plt.show()\n",
    "print(optimized_rfr.score(X_test,y_test))"
   ]
  },
  {
   "cell_type": "code",
   "execution_count": 20,
   "metadata": {},
   "outputs": [],
   "source": [
    "filename = '../data/optimized_rfr_nflstats_0.1.pkl'\n",
    "pickle.dump(rfr, open(filename, 'wb'))"
   ]
  },
  {
   "cell_type": "code",
   "execution_count": 24,
   "metadata": {},
   "outputs": [
    {
     "name": "stdout",
     "output_type": "stream",
     "text": [
      "\n",
      "WARNING: The value for max_iter=300 does not constrain the number of iterations for the specified cooling schedule (3).  Setting max_iter=3\n",
      "\n",
      "INFO: Number of possible iterations given cooling schedule: 3\n",
      "\n"
     ]
    },
    {
     "name": "stderr",
     "output_type": "stream",
     "text": [
      "[Parallel(n_jobs=4)]: Using backend LokyBackend with 4 concurrent workers.\n",
      "[Parallel(n_jobs=4)]: Done   2 out of   2 | elapsed:   10.8s finished\n",
      "[Parallel(n_jobs=4)]: Using backend LokyBackend with 4 concurrent workers.\n",
      "[Parallel(n_jobs=4)]: Done   2 out of   2 | elapsed:    9.9s finished\n",
      "[Parallel(n_jobs=4)]: Using backend LokyBackend with 4 concurrent workers.\n"
     ]
    },
    {
     "name": "stdout",
     "output_type": "stream",
     "text": [
      "2 T: 10.00000, score: 0.453074, std: 0.002453, params: {'C': 21.544, 'epsilon': 2.154, 'tol': 0.0}\n"
     ]
    },
    {
     "name": "stderr",
     "output_type": "stream",
     "text": [
      "[Parallel(n_jobs=4)]: Done   2 out of   2 | elapsed:   11.0s finished\n",
      "[Parallel(n_jobs=4)]: Using backend LokyBackend with 4 concurrent workers.\n"
     ]
    },
    {
     "name": "stdout",
     "output_type": "stream",
     "text": [
      "3 T: 10.00000, score: 0.444242, std: 0.002358, params: {'C': 21.544, 'epsilon': 1.0, 'tol': 0.0}\n"
     ]
    },
    {
     "name": "stderr",
     "output_type": "stream",
     "text": [
      "[Parallel(n_jobs=4)]: Done   2 out of   2 | elapsed:    8.5s finished\n",
      "[Parallel(n_jobs=4)]: Using backend LokyBackend with 4 concurrent workers.\n"
     ]
    },
    {
     "name": "stdout",
     "output_type": "stream",
     "text": [
      "4 T: 10.00000, score: 0.461771, std: 0.000341, params: {'C': 21.544, 'epsilon': 3.594, 'tol': 0.0}\n"
     ]
    },
    {
     "name": "stderr",
     "output_type": "stream",
     "text": [
      "[Parallel(n_jobs=4)]: Done   2 out of   2 | elapsed:    9.1s finished\n",
      "[Parallel(n_jobs=4)]: Using backend LokyBackend with 4 concurrent workers.\n"
     ]
    },
    {
     "name": "stdout",
     "output_type": "stream",
     "text": [
      "5 T: 10.00000, score: 0.412357, std: 0.010057, params: {'C': 464.159, 'epsilon': 3.594, 'tol': 0.0}\n"
     ]
    },
    {
     "name": "stderr",
     "output_type": "stream",
     "text": [
      "[Parallel(n_jobs=4)]: Done   2 out of   2 | elapsed:    9.1s finished\n",
      "[Parallel(n_jobs=4)]: Using backend LokyBackend with 4 concurrent workers.\n"
     ]
    },
    {
     "name": "stdout",
     "output_type": "stream",
     "text": [
      "6 T: 10.00000, score: 0.395301, std: 0.012014, params: {'C': 4641.589, 'epsilon': 3.594, 'tol': 0.0}\n"
     ]
    },
    {
     "name": "stderr",
     "output_type": "stream",
     "text": [
      "[Parallel(n_jobs=4)]: Done   2 out of   2 | elapsed:    9.8s finished\n",
      "[Parallel(n_jobs=4)]: Using backend LokyBackend with 4 concurrent workers.\n"
     ]
    },
    {
     "name": "stdout",
     "output_type": "stream",
     "text": [
      "7 T: 10.00000, score: 0.382368, std: 0.011461, params: {'C': 4641.589, 'epsilon': 2.783, 'tol': 0.0}\n"
     ]
    },
    {
     "name": "stderr",
     "output_type": "stream",
     "text": [
      "[Parallel(n_jobs=4)]: Done   2 out of   2 | elapsed:    9.5s finished\n",
      "[Parallel(n_jobs=4)]: Using backend LokyBackend with 4 concurrent workers.\n"
     ]
    },
    {
     "name": "stdout",
     "output_type": "stream",
     "text": [
      "8 T: 10.00000, score: 0.382640, std: 0.011614, params: {'C': 4641.589, 'epsilon': 2.783, 'tol': 0.278}\n"
     ]
    },
    {
     "name": "stderr",
     "output_type": "stream",
     "text": [
      "[Parallel(n_jobs=4)]: Done   2 out of   2 | elapsed:    9.2s finished\n",
      "[Parallel(n_jobs=4)]: Using backend LokyBackend with 4 concurrent workers.\n"
     ]
    },
    {
     "name": "stdout",
     "output_type": "stream",
     "text": [
      "9 T: 10.00000, score: 0.457357, std: 0.002262, params: {'C': 21.544, 'epsilon': 2.783, 'tol': 0.278}\n"
     ]
    },
    {
     "name": "stderr",
     "output_type": "stream",
     "text": [
      "[Parallel(n_jobs=4)]: Done   2 out of   2 | elapsed:    9.5s finished\n",
      "[Parallel(n_jobs=4)]: Using backend LokyBackend with 4 concurrent workers.\n"
     ]
    },
    {
     "name": "stdout",
     "output_type": "stream",
     "text": [
      "10 T: 10.00000, score: 0.397791, std: 0.012055, params: {'C': 1000.0, 'epsilon': 2.783, 'tol': 0.278}\n"
     ]
    },
    {
     "name": "stderr",
     "output_type": "stream",
     "text": [
      "[Parallel(n_jobs=4)]: Done   2 out of   2 | elapsed:    5.4s finished\n",
      "c:\\users\\rayner\\appdata\\local\\programs\\python\\python36\\lib\\site-packages\\sklearn\\svm\\base.py:196: FutureWarning: The default value of gamma will change from 'auto' to 'scale' in version 0.22 to account better for unscaled features. Set gamma explicitly to 'auto' or 'scale' to avoid this warning.\n",
      "  \"avoid this warning.\", FutureWarning)\n"
     ]
    },
    {
     "name": "stdout",
     "output_type": "stream",
     "text": [
      "11 T: 10.00000, score: 0.436974, std: 0.018153, params: {'C': 1000.0, 'epsilon': 7.743, 'tol': 0.278}\n",
      "0.4617709018133385 {'C': 21.544346900318832, 'epsilon': 3.5938136638046276, 'tol': 5.994842503189409e-06}\n"
     ]
    }
   ],
   "source": [
    "scaler = StandardScaler()\n",
    "X = scaler.fit_transform(X)\n",
    "X_train, X_test, y_train, y_test = train_test_split(X, y, test_size=0.90, random_state=0)\n",
    "from sklearn.svm import SVR\n",
    "\n",
    "svr_params = {'C':np.logspace(1.0, 4.0, num=10),\n",
    "              'epsilon': np.logspace(0, 1, num=10),\n",
    "              'tol': np.logspace(-6, 1, num=10),\n",
    "             }       \n",
    "svr = SVR(kernel = 'rbf')\n",
    "\n",
    "sa = SimulatedAnneal(svr, svr_params, T=10.0, T_min=9, alpha=0.75,\n",
    "                         verbose=True, scoring='r2',n_jobs = 4,cv=2)\n",
    "sa.fit(X_train, y_train)\n",
    "\n",
    "# Print the best score and the best params\n",
    "print(sa.best_score_, sa.best_params_)\n",
    "# Use the best estimator to predict classes\n",
    "optimized_clf = sa.best_estimator_\n",
    "y_test_pred = optimized_clf.predict(X_test)"
   ]
  },
  {
   "cell_type": "code",
   "execution_count": 16,
   "metadata": {
    "scrolled": true
   },
   "outputs": [
    {
     "ename": "NameError",
     "evalue": "name 'train_n' is not defined",
     "output_type": "error",
     "traceback": [
      "\u001b[1;31m---------------------------------------------------------------------------\u001b[0m",
      "\u001b[1;31mNameError\u001b[0m                                 Traceback (most recent call last)",
      "\u001b[1;32m<ipython-input-16-288c1f0c2bba>\u001b[0m in \u001b[0;36m<module>\u001b[1;34m\u001b[0m\n\u001b[1;32m----> 1\u001b[1;33m \u001b[0mplt\u001b[0m\u001b[1;33m.\u001b[0m\u001b[0mplot\u001b[0m\u001b[1;33m(\u001b[0m\u001b[0mlist\u001b[0m\u001b[1;33m(\u001b[0m\u001b[0mrange\u001b[0m\u001b[1;33m(\u001b[0m\u001b[0mtrain_n\u001b[0m\u001b[1;33m,\u001b[0m\u001b[0mlen\u001b[0m\u001b[1;33m(\u001b[0m\u001b[0my\u001b[0m\u001b[1;33m)\u001b[0m\u001b[1;33m)\u001b[0m\u001b[1;33m)\u001b[0m\u001b[1;33m,\u001b[0m\u001b[0mrfr\u001b[0m\u001b[1;33m.\u001b[0m\u001b[0mpredict\u001b[0m\u001b[1;33m(\u001b[0m\u001b[0mX\u001b[0m\u001b[1;33m[\u001b[0m\u001b[0mtrain_n\u001b[0m\u001b[1;33m:\u001b[0m\u001b[1;33m]\u001b[0m\u001b[1;33m)\u001b[0m \u001b[1;33m,\u001b[0m\u001b[1;34m'r'\u001b[0m\u001b[1;33m)\u001b[0m\u001b[1;33m\u001b[0m\u001b[0m\n\u001b[0m\u001b[0;32m      2\u001b[0m \u001b[1;33m\u001b[0m\u001b[0m\n\u001b[0;32m      3\u001b[0m \u001b[0mplt\u001b[0m\u001b[1;33m.\u001b[0m\u001b[0mshow\u001b[0m\u001b[1;33m(\u001b[0m\u001b[1;33m)\u001b[0m\u001b[1;33m\u001b[0m\u001b[0m\n\u001b[0;32m      4\u001b[0m \u001b[0mprint\u001b[0m\u001b[1;33m(\u001b[0m\u001b[0mrfr\u001b[0m\u001b[1;33m.\u001b[0m\u001b[0mscore\u001b[0m\u001b[1;33m(\u001b[0m\u001b[0mX\u001b[0m\u001b[1;33m[\u001b[0m\u001b[0mtrain_n\u001b[0m\u001b[1;33m:\u001b[0m\u001b[1;33m]\u001b[0m\u001b[1;33m,\u001b[0m\u001b[0my\u001b[0m\u001b[1;33m[\u001b[0m\u001b[0mtrain_n\u001b[0m\u001b[1;33m:\u001b[0m\u001b[1;33m]\u001b[0m\u001b[1;33m)\u001b[0m\u001b[1;33m)\u001b[0m\u001b[1;33m\u001b[0m\u001b[0m\n",
      "\u001b[1;31mNameError\u001b[0m: name 'train_n' is not defined"
     ]
    }
   ],
   "source": [
    "plt.plot(list(range(train_n,len(y))),rfr.predict(X[train_n:]) ,'r')\n",
    "\n",
    "plt.show()\n",
    "print(rfr.score(X[train_n:],y[train_n:]))"
   ]
  },
  {
   "cell_type": "code",
   "execution_count": 26,
   "metadata": {},
   "outputs": [
    {
     "name": "stdout",
     "output_type": "stream",
     "text": [
      "0.4100099796068903\n",
      "-0.2958419595708836\n",
      "93.5778268931566\n"
     ]
    }
   ],
   "source": [
    "residual = y_test_pred - y_test\n",
    "\n",
    "count = [v for v in list(residual) if np.abs(v) < 5]\n",
    "plt.plot(list(range(len(y_test))))\n",
    "print(len(count)/len(residual))\n",
    "print(np.mean(residual))\n",
    "\n",
    "print(np.var(residual))\n",
    "\n"
   ]
  }
 ],
 "metadata": {
  "kernelspec": {
   "display_name": "Python 3",
   "language": "python",
   "name": "python3"
  },
  "language_info": {
   "codemirror_mode": {
    "name": "ipython",
    "version": 3
   },
   "file_extension": ".py",
   "mimetype": "text/x-python",
   "name": "python",
   "nbconvert_exporter": "python",
   "pygments_lexer": "ipython3",
   "version": "3.6.4"
  }
 },
 "nbformat": 4,
 "nbformat_minor": 2
}
