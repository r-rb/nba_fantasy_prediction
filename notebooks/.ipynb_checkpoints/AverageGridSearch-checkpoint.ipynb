{
 "cells": [
  {
   "cell_type": "code",
   "execution_count": 1,
   "metadata": {},
   "outputs": [],
   "source": [
    "import matplotlib.pyplot as plt\n",
    "import pandas as pd\n",
    "import pickle\n",
    "import numpy as np\n",
    "import datetime as dt\n",
    "import pprint as pp\n",
    "import pandas as pd\n",
    "from IPython.display import display\n",
    "from sklearn import svm, datasets\n",
    "from sklearn.model_selection import GridSearchCV\n",
    "from sklearn.ensemble import RandomForestRegressor\n",
    "from sklearn.preprocessing import StandardScaler\n",
    "from sklearn.model_selection import ParameterGrid\n",
    "from sklearn.model_selection import ParameterSampler\n",
    "from sklearn.feature_extraction import DictVectorizer\n",
    "%matplotlib tk\n",
    "from sklearn.model_selection import train_test_split\n",
    "from simulated_annealing.optimize import SimulatedAnneal"
   ]
  },
  {
   "cell_type": "code",
   "execution_count": 2,
   "metadata": {},
   "outputs": [],
   "source": [
    "input_features = ['ast','blk','min', 'pts','reb',\n",
    "                  'stl','to','fantasy_points', 'team_against','player_team', 'min_points', 'max_points',\n",
    "                  'position', 'home_game', 'ave_points_team', 'ave_points_vs_team', 'name']\n",
    "with open('nfl_featuers.pkl', 'rb') as fp:\n",
    "    input_data = pickle.load(fp)"
   ]
  },
  {
   "cell_type": "code",
   "execution_count": 3,
   "metadata": {},
   "outputs": [
    {
     "name": "stdout",
     "output_type": "stream",
     "text": [
      "0  out of  51215\n",
      "1000  out of  51215\n",
      "2000  out of  51215\n",
      "3000  out of  51215\n",
      "4000  out of  51215\n",
      "5000  out of  51215\n",
      "6000  out of  51215\n",
      "7000  out of  51215\n",
      "8000  out of  51215\n",
      "9000  out of  51215\n",
      "10000  out of  51215\n",
      "11000  out of  51215\n",
      "12000  out of  51215\n",
      "13000  out of  51215\n",
      "14000  out of  51215\n",
      "15000  out of  51215\n",
      "16000  out of  51215\n",
      "17000  out of  51215\n",
      "18000  out of  51215\n",
      "19000  out of  51215\n",
      "20000  out of  51215\n",
      "21000  out of  51215\n",
      "22000  out of  51215\n",
      "23000  out of  51215\n",
      "24000  out of  51215\n",
      "25000  out of  51215\n",
      "26000  out of  51215\n",
      "27000  out of  51215\n",
      "28000  out of  51215\n",
      "29000  out of  51215\n",
      "30000  out of  51215\n",
      "31000  out of  51215\n",
      "32000  out of  51215\n",
      "33000  out of  51215\n",
      "34000  out of  51215\n",
      "35000  out of  51215\n",
      "36000  out of  51215\n",
      "37000  out of  51215\n",
      "38000  out of  51215\n",
      "39000  out of  51215\n",
      "40000  out of  51215\n",
      "41000  out of  51215\n",
      "42000  out of  51215\n",
      "43000  out of  51215\n",
      "44000  out of  51215\n",
      "45000  out of  51215\n",
      "46000  out of  51215\n",
      "47000  out of  51215\n",
      "48000  out of  51215\n",
      "49000  out of  51215\n",
      "50000  out of  51215\n",
      "51000  out of  51215\n"
     ]
    }
   ],
   "source": [
    "length = len(input_data['ast'])\n",
    "pre_data_format = []\n",
    "X = np.zeros((length, len(input_features)))\n",
    "y = np.zeros(length)\n",
    "count = 0\n",
    "\n",
    "for i in range(0, length):\n",
    "    temp_dict = {}\n",
    "    if not(count%1000):\n",
    "        print(count, \" out of \", length)\n",
    "\n",
    "    for a,feat in enumerate(input_features):\n",
    "            temp_dict[feat] = input_data[feat][i]\n",
    "    pre_data_format.append(temp_dict)\n",
    "\n",
    "    y[count] = input_data[\"output_feature\"][i]\n",
    "\n",
    "    count += 1"
   ]
  },
  {
   "cell_type": "code",
   "execution_count": 4,
   "metadata": {},
   "outputs": [
    {
     "data": {
      "text/plain": [
       "['ast',\n",
       " 'ave_points_team',\n",
       " 'ave_points_vs_team',\n",
       " 'blk',\n",
       " 'fantasy_points',\n",
       " 'home_game',\n",
       " 'max_points',\n",
       " 'min',\n",
       " 'min_points',\n",
       " 'name=AJ Hammons',\n",
       " 'name=Aaron Brooks',\n",
       " 'name=Aaron Gordon',\n",
       " 'name=Aaron Harrison',\n",
       " 'name=Abdel Nader',\n",
       " 'name=Adreian Payne',\n",
       " 'name=Al Horford',\n",
       " 'name=Al Jefferson',\n",
       " 'name=Al-Farouq Aminu',\n",
       " 'name=Alan Anderson',\n",
       " 'name=Alan Williams',\n",
       " 'name=Alec Burks',\n",
       " 'name=Alec Peters',\n",
       " 'name=Alex Abrines',\n",
       " 'name=Alex Caruso',\n",
       " 'name=Alex Len',\n",
       " 'name=Alex Poythress',\n",
       " 'name=Alexis Ajinca',\n",
       " 'name=Alfonzo McKinnie',\n",
       " 'name=Allen Crabbe',\n",
       " 'name=Alonzo Gee',\n",
       " 'name=Amir Johnson',\n",
       " 'name=Anderson Varejao',\n",
       " 'name=Andre Drummond',\n",
       " 'name=Andre Iguodala',\n",
       " 'name=Andre Ingram',\n",
       " 'name=Andre Roberson',\n",
       " 'name=Andrew Bogut',\n",
       " 'name=Andrew Harrison',\n",
       " 'name=Andrew Nicholson',\n",
       " 'name=Andrew White III',\n",
       " 'name=Andrew Wiggins',\n",
       " 'name=Ante Zizic',\n",
       " 'name=Anthony Bennett',\n",
       " 'name=Anthony Brown',\n",
       " 'name=Anthony Davis',\n",
       " 'name=Anthony Morrow',\n",
       " 'name=Anthony Tolliver',\n",
       " 'name=Antonio Blakeney',\n",
       " 'name=Antonius Cleveland',\n",
       " 'name=Archie Goodwin',\n",
       " 'name=Arinze Onuaku',\n",
       " 'name=Aron Baynes',\n",
       " 'name=Arron Afflalo',\n",
       " 'name=Austin Rivers',\n",
       " 'name=Avery Bradley',\n",
       " 'name=Axel Toupane',\n",
       " 'name=Bam Adebayo',\n",
       " 'name=Ben Bentil',\n",
       " 'name=Ben McLemore',\n",
       " 'name=Ben Moore',\n",
       " 'name=Ben Simmons',\n",
       " 'name=Beno Udrih',\n",
       " 'name=Bismack Biyombo',\n",
       " 'name=Blake Griffin',\n",
       " 'name=Boban Marjanovic',\n",
       " 'name=Bobby Brown',\n",
       " 'name=Bobby Portis',\n",
       " 'name=Bogdan Bogdanovic',\n",
       " 'name=Bojan Bogdanovic',\n",
       " 'name=Boris Diaw',\n",
       " 'name=Bradley Beal',\n",
       " 'name=Brandan Wright',\n",
       " 'name=Brandon Bass',\n",
       " 'name=Brandon Ingram',\n",
       " 'name=Brandon Jennings',\n",
       " 'name=Brandon Knight',\n",
       " 'name=Brandon Paul',\n",
       " 'name=Brandon Rush',\n",
       " 'name=Brian Roberts',\n",
       " 'name=Briante Weber',\n",
       " 'name=Brice Johnson',\n",
       " 'name=Brook Lopez',\n",
       " 'name=Bruno Caboclo',\n",
       " 'name=Bryn Forbes',\n",
       " 'name=Buddy Hield',\n",
       " 'name=C.J. Watson',\n",
       " 'name=C.J. Williams',\n",
       " 'name=CJ McCollum',\n",
       " 'name=CJ Miles',\n",
       " 'name=CJ Wilcox',\n",
       " 'name=Caleb Swanigan',\n",
       " 'name=Cameron Payne',\n",
       " 'name=Caris LeVert',\n",
       " 'name=Carmelo Anthony',\n",
       " 'name=Cedi Osman',\n",
       " 'name=Chandler Parsons',\n",
       " 'name=Channing Frye',\n",
       " 'name=Charles Cooke',\n",
       " 'name=Chasson Randle',\n",
       " 'name=Cheick Diallo',\n",
       " 'name=Chinanu Onuaku',\n",
       " 'name=Chris Andersen',\n",
       " 'name=Chris McCullough',\n",
       " 'name=Chris Paul',\n",
       " 'name=Christian Wood',\n",
       " 'name=Clint Capela',\n",
       " 'name=Cody Zeller',\n",
       " 'name=Cole Aldrich',\n",
       " 'name=Corey Brewer',\n",
       " 'name=Cory Joseph',\n",
       " 'name=Courtney Lee',\n",
       " 'name=Cristiano Felicio',\n",
       " \"name=D'Angelo Russell\",\n",
       " 'name=D.J. Augustin',\n",
       " 'name=D.J. Wilson',\n",
       " 'name=Dakari Johnson',\n",
       " 'name=Damian Jones',\n",
       " 'name=Damian Lillard',\n",
       " 'name=Damien Wilkins',\n",
       " 'name=Damion Lee',\n",
       " 'name=Damjan Rudez',\n",
       " 'name=Damyean Dotson',\n",
       " 'name=Daniel Hamilton',\n",
       " 'name=Daniel Ochefu',\n",
       " 'name=Daniel Theis',\n",
       " 'name=Danilo Gallinari',\n",
       " 'name=Danny Green',\n",
       " 'name=Dante Cunningham',\n",
       " 'name=Dante Exum',\n",
       " 'name=Danuel House',\n",
       " 'name=Dario Saric',\n",
       " 'name=Darius Miller',\n",
       " 'name=Darrell Arthur',\n",
       " 'name=Darren Collison',\n",
       " 'name=Darrun Hilliard',\n",
       " 'name=David Lee',\n",
       " 'name=David Nwaba',\n",
       " 'name=David Stockton',\n",
       " 'name=David West',\n",
       " 'name=Davis Bertans',\n",
       " 'name=Davon Reed',\n",
       " \"name=De'Aaron Fox\",\n",
       " 'name=DeAndre Jordan',\n",
       " 'name=DeAndre Liggins',\n",
       " \"name=DeAndre' Bembry\",\n",
       " 'name=DeMar DeRozan',\n",
       " 'name=DeMarcus Cousins',\n",
       " 'name=DeMarre Carroll',\n",
       " 'name=Dejounte Murray',\n",
       " 'name=Delon Wright',\n",
       " 'name=Demetrius Jackson',\n",
       " 'name=Dennis Schroder',\n",
       " 'name=Dennis Smith Jr.',\n",
       " 'name=Denzel Valentine',\n",
       " 'name=Deron Williams',\n",
       " 'name=Derrick Favors',\n",
       " 'name=Derrick Jones Jr.',\n",
       " 'name=Derrick Rose',\n",
       " 'name=Derrick Walton Jr.',\n",
       " 'name=Derrick White',\n",
       " 'name=Derrick Williams',\n",
       " 'name=Devin Booker',\n",
       " 'name=Devin Harris',\n",
       " 'name=Dewayne Dedmon',\n",
       " 'name=Deyonta Davis',\n",
       " 'name=Diamond Stone',\n",
       " 'name=Dillon Brooks',\n",
       " 'name=Dion Waiters',\n",
       " 'name=Dirk Nowitzki',\n",
       " 'name=Domantas Sabonis',\n",
       " 'name=Donatas Motiejunas',\n",
       " 'name=Donovan Mitchell',\n",
       " 'name=Dorian Finney-Smith',\n",
       " 'name=Doug McDermott',\n",
       " 'name=Dragan Bender',\n",
       " 'name=Draymond Green',\n",
       " 'name=Dwayne Bacon',\n",
       " 'name=Dwight Buycks',\n",
       " 'name=Dwight Howard',\n",
       " 'name=Dwight Powell',\n",
       " 'name=Dwyane Wade',\n",
       " \"name=E'Twaun Moore\",\n",
       " 'name=Ed Davis',\n",
       " 'name=Edy Tavares',\n",
       " 'name=Ekpe Udoh',\n",
       " 'name=Elfrid Payton',\n",
       " 'name=Elijah Millsap',\n",
       " 'name=Emeka Okafor',\n",
       " 'name=Emmanuel Mudiay',\n",
       " 'name=Enes Kanter',\n",
       " 'name=Eric Bledsoe',\n",
       " 'name=Eric Gordon',\n",
       " 'name=Eric Moreland',\n",
       " 'name=Erik McCree',\n",
       " 'name=Ersan Ilyasova',\n",
       " 'name=Evan Fournier',\n",
       " 'name=Evan Turner',\n",
       " 'name=Frank Kaminsky',\n",
       " 'name=Frank Mason',\n",
       " 'name=Frank Ntilikina',\n",
       " 'name=Fred VanVleet',\n",
       " 'name=Furkan Korkmaz',\n",
       " 'name=Garrett Temple',\n",
       " 'name=Gary Harris',\n",
       " 'name=Gary Neal',\n",
       " 'name=Gary Payton II',\n",
       " 'name=George Hill',\n",
       " 'name=Georges Niang',\n",
       " 'name=Georgios Papagiannis',\n",
       " 'name=Gerald Green',\n",
       " 'name=Gerald Henderson',\n",
       " 'name=Gian Clavell',\n",
       " 'name=Giannis Antetokounmpo',\n",
       " 'name=Glenn Robinson III',\n",
       " 'name=Goran Dragic',\n",
       " 'name=Gordon Hayward',\n",
       " 'name=Gorgui Dieng',\n",
       " 'name=Greg Monroe',\n",
       " 'name=Greivis Vasquez',\n",
       " 'name=Guerschon Yabusele',\n",
       " 'name=Harrison Barnes',\n",
       " 'name=Hassan Whiteside',\n",
       " 'name=Henry Ellenson',\n",
       " 'name=Hollis Thompson',\n",
       " 'name=Ian Clark',\n",
       " 'name=Ian Mahinmi',\n",
       " 'name=Ike Anigbogu',\n",
       " 'name=Iman Shumpert',\n",
       " 'name=Isaiah Canaan',\n",
       " 'name=Isaiah Hicks',\n",
       " 'name=Isaiah Taylor',\n",
       " 'name=Isaiah Thomas',\n",
       " 'name=Isaiah Whitehead',\n",
       " 'name=Ish Smith',\n",
       " 'name=Ivan Rabb',\n",
       " 'name=Ivica Zubac',\n",
       " 'name=J.J. Barea',\n",
       " 'name=JJ Redick',\n",
       " 'name=JR Smith',\n",
       " 'name=JaKarr Sampson',\n",
       " 'name=JaMychal Green',\n",
       " 'name=JaVale McGee',\n",
       " 'name=Jabari Bird',\n",
       " 'name=Jabari Parker',\n",
       " 'name=Jack Cooley',\n",
       " 'name=Jacob Pullen',\n",
       " 'name=Jacob Wiley',\n",
       " 'name=Jae Crowder',\n",
       " 'name=Jahlil Okafor',\n",
       " 'name=Jake Layman',\n",
       " 'name=Jakob Poeltl',\n",
       " 'name=Jalen Jones',\n",
       " 'name=Jamal Crawford',\n",
       " 'name=Jamal Murray',\n",
       " 'name=Jameel Warney',\n",
       " 'name=Jameer Nelson',\n",
       " 'name=Jamel Artis',\n",
       " 'name=James Ennis III',\n",
       " 'name=James Harden',\n",
       " 'name=James Johnson',\n",
       " 'name=James Jones',\n",
       " 'name=James Michael McAdoo',\n",
       " 'name=James Webb III',\n",
       " 'name=James Young',\n",
       " 'name=Jamil Wilson',\n",
       " 'name=Jared Dudley',\n",
       " 'name=Jared Sullinger',\n",
       " 'name=Jarell Eddie',\n",
       " 'name=Jarell Martin',\n",
       " 'name=Jarnell Stokes',\n",
       " 'name=Jarrett Allen',\n",
       " 'name=Jarrett Jack',\n",
       " 'name=Jarrod Uthoff',\n",
       " 'name=Jason Smith',\n",
       " 'name=Jason Terry',\n",
       " 'name=Jawun Evans',\n",
       " 'name=Jaylen Brown',\n",
       " 'name=Jaylen Morris',\n",
       " 'name=Jayson Tatum',\n",
       " 'name=Jeff Green',\n",
       " 'name=Jeff Teague',\n",
       " 'name=Jeff Withey',\n",
       " 'name=Jerami Grant',\n",
       " 'name=Jeremy Lamb',\n",
       " 'name=Jeremy Lin',\n",
       " 'name=Jerian Grant',\n",
       " 'name=Jerryd Bayless',\n",
       " 'name=Jimmy Butler',\n",
       " 'name=Joakim Noah',\n",
       " 'name=Jodie Meeks',\n",
       " 'name=Joe Harris',\n",
       " 'name=Joe Ingles',\n",
       " 'name=Joe Johnson',\n",
       " 'name=Joe Young',\n",
       " 'name=Joel Anthony',\n",
       " 'name=Joel Bolomboy',\n",
       " 'name=Joel Embiid',\n",
       " 'name=Joffrey Lauvergne',\n",
       " 'name=John Collins',\n",
       " 'name=John Henson',\n",
       " 'name=John Holland',\n",
       " 'name=John Jenkins',\n",
       " 'name=John Lucas III',\n",
       " 'name=John Wall',\n",
       " 'name=Johnathan Motley',\n",
       " \"name=Johnny O'Bryant III\",\n",
       " 'name=Jon Leuer',\n",
       " 'name=Jonas Jerebko',\n",
       " 'name=Jonas Valanciunas',\n",
       " 'name=Jonathan Gibson',\n",
       " 'name=Jonathan Isaac',\n",
       " 'name=Jonathon Simmons',\n",
       " 'name=Jordan Bell',\n",
       " 'name=Jordan Clarkson',\n",
       " 'name=Jordan Crawford',\n",
       " 'name=Jordan Farmar',\n",
       " 'name=Jordan Hill',\n",
       " 'name=Jordan McRae',\n",
       " 'name=Jordan Mickey',\n",
       " 'name=Jose Calderon',\n",
       " 'name=Josh Gray',\n",
       " 'name=Josh Hart',\n",
       " 'name=Josh Huestis',\n",
       " 'name=Josh Jackson',\n",
       " 'name=Josh Magette',\n",
       " 'name=Josh McRoberts',\n",
       " 'name=Josh Richardson',\n",
       " 'name=Josh Smith',\n",
       " 'name=Jrue Holiday',\n",
       " 'name=Juancho Hernangomez',\n",
       " 'name=Julius Randle',\n",
       " 'name=Julyan Stone',\n",
       " 'name=Justin Anderson',\n",
       " 'name=Justin Hamilton',\n",
       " 'name=Justin Harper',\n",
       " 'name=Justin Holiday',\n",
       " 'name=Justin Jackson',\n",
       " 'name=Justise Winslow',\n",
       " 'name=Jusuf Nurkic',\n",
       " 'name=KJ McDaniels',\n",
       " 'name=Kadeem Allen',\n",
       " 'name=Karl-Anthony Towns',\n",
       " 'name=Kawhi Leonard',\n",
       " 'name=Kay Felder',\n",
       " 'name=Kelly Olynyk',\n",
       " 'name=Kelly Oubre Jr.',\n",
       " 'name=Kemba Walker',\n",
       " 'name=Kenneth Faried',\n",
       " 'name=Kent Bazemore',\n",
       " 'name=Kentavious Caldwell-Pope',\n",
       " 'name=Kevin Durant',\n",
       " 'name=Kevin Love',\n",
       " 'name=Kevin Seraphin',\n",
       " 'name=Kevon Looney',\n",
       " 'name=Khem Birch',\n",
       " 'name=Khris Middleton',\n",
       " 'name=Klay Thompson',\n",
       " 'name=Kobi Simmons',\n",
       " 'name=Kosta Koufos',\n",
       " 'name=Kris Dunn',\n",
       " 'name=Kris Humphries',\n",
       " 'name=Kristaps Porzingis',\n",
       " 'name=Kyle Anderson',\n",
       " 'name=Kyle Collinsworth',\n",
       " 'name=Kyle Korver',\n",
       " 'name=Kyle Kuzma',\n",
       " 'name=Kyle Lowry',\n",
       " \"name=Kyle O'Quinn\",\n",
       " 'name=Kyle Singler',\n",
       " 'name=Kyle Wiltjer',\n",
       " 'name=Kyrie Irving',\n",
       " 'name=LaMarcus Aldridge',\n",
       " 'name=Lamar Patterson',\n",
       " 'name=Lance Stephenson',\n",
       " 'name=Lance Thomas',\n",
       " 'name=Langston Galloway',\n",
       " 'name=Larry Drew II',\n",
       " 'name=Larry Nance Jr.',\n",
       " 'name=Larry Sanders',\n",
       " 'name=Lauri Markkanen',\n",
       " 'name=Lavoy Allen',\n",
       " 'name=LeBron James',\n",
       " 'name=Leandro Barbosa',\n",
       " 'name=London Perrantes',\n",
       " 'name=Lonzo Ball',\n",
       " 'name=Lorenzo Brown',\n",
       " 'name=Lou Williams',\n",
       " 'name=Luc Mbah a Moute',\n",
       " 'name=Lucas Nogueira',\n",
       " 'name=Luis Montero',\n",
       " 'name=Luis Scola',\n",
       " 'name=Luke Babbitt',\n",
       " 'name=Luke Kennard',\n",
       " 'name=Luke Kornet',\n",
       " 'name=Luol Deng',\n",
       " 'name=Malachi Richardson',\n",
       " 'name=Malcolm Brogdon',\n",
       " 'name=Malcolm Delaney',\n",
       " 'name=Malcolm Miller',\n",
       " 'name=Malik Beasley',\n",
       " 'name=Malik Monk',\n",
       " 'name=Mangok Mathiang',\n",
       " 'name=Manny Harris',\n",
       " 'name=Manu Ginobili',\n",
       " 'name=MarShon Brooks',\n",
       " 'name=Marc Gasol',\n",
       " 'name=Marcelo Huertas',\n",
       " 'name=Marcin Gortat',\n",
       " 'name=Marco Belinelli',\n",
       " 'name=Marcus Georges-Hunt',\n",
       " 'name=Marcus Morris',\n",
       " 'name=Marcus Paige',\n",
       " 'name=Marcus Smart',\n",
       " 'name=Marcus Thornton',\n",
       " 'name=Mario Chalmers',\n",
       " 'name=Mario Hezonja',\n",
       " 'name=Markel Brown',\n",
       " 'name=Markelle Fultz',\n",
       " 'name=Markieff Morris',\n",
       " 'name=Marquese Chriss',\n",
       " 'name=Marquis Teague',\n",
       " 'name=Marreese Speights',\n",
       " 'name=Marshall Plumlee',\n",
       " 'name=Marvin Williams',\n",
       " 'name=Mason Plumlee',\n",
       " 'name=Matt Barnes',\n",
       " 'name=Matt Costello',\n",
       " 'name=Matt Williams Jr.',\n",
       " 'name=Matthew Dellavedova',\n",
       " 'name=Maurice Harkless',\n",
       " 'name=Maurice Ndour',\n",
       " 'name=Maxi Kleber',\n",
       " 'name=Metta World Peace',\n",
       " 'name=Meyers Leonard',\n",
       " 'name=Michael Beasley',\n",
       " 'name=Michael Carter-Williams',\n",
       " 'name=Michael Gbinije',\n",
       " 'name=Michael Kidd-Gilchrist',\n",
       " 'name=Mike Conley',\n",
       " 'name=Mike Dunleavy',\n",
       " 'name=Mike James',\n",
       " 'name=Mike Miller',\n",
       " 'name=Mike Muscala',\n",
       " 'name=Mike Scott',\n",
       " 'name=Mike Tobey',\n",
       " 'name=Miles Plumlee',\n",
       " 'name=Milos Teodosic',\n",
       " 'name=Milton Doyle',\n",
       " 'name=Mindaugas Kuzminskas',\n",
       " 'name=Mirza Teletovic',\n",
       " 'name=Monta Ellis',\n",
       " 'name=Monte Morris',\n",
       " 'name=Montrezl Harrell',\n",
       " 'name=Myke Henry',\n",
       " 'name=Myles Turner',\n",
       " 'name=Nate Wolters',\n",
       " 'name=Nemanja Bjelica',\n",
       " 'name=Nene',\n",
       " 'name=Nerlens Noel',\n",
       " 'name=Nick Collison',\n",
       " 'name=Nick Young',\n",
       " 'name=Nicolas Batum',\n",
       " 'name=Nicolas Brussino',\n",
       " 'name=Nicolas Laprovittola',\n",
       " 'name=Nigel Hayes',\n",
       " 'name=Nik Stauskas',\n",
       " 'name=Nikola Jokic',\n",
       " 'name=Nikola Mirotic',\n",
       " 'name=Nikola Vucevic',\n",
       " 'name=Noah Vonleh',\n",
       " 'name=Norman Powell',\n",
       " 'name=Norris Cole',\n",
       " 'name=OG Anunoby',\n",
       " 'name=Okaro White',\n",
       " 'name=Omari Johnson',\n",
       " 'name=Omer Asik',\n",
       " 'name=Omri Casspi',\n",
       " 'name=Otto Porter Jr.',\n",
       " 'name=PJ Dozier',\n",
       " 'name=PJ Tucker',\n",
       " 'name=Pascal Siakam',\n",
       " 'name=Pat Connaughton',\n",
       " 'name=Patricio Garino',\n",
       " 'name=Patrick Beverley',\n",
       " 'name=Patrick McCaw',\n",
       " 'name=Patrick Patterson',\n",
       " 'name=Patty Mills',\n",
       " 'name=Pau Gasol',\n",
       " 'name=Paul George',\n",
       " 'name=Paul Millsap',\n",
       " 'name=Paul Pierce',\n",
       " 'name=Paul Zipser',\n",
       " 'name=Pierre Jackson',\n",
       " 'name=Quincy Acy',\n",
       " 'name=Quincy Pondexter',\n",
       " 'name=Quinn Cook',\n",
       " 'name=RJ Hunter',\n",
       " 'name=Rajon Rondo',\n",
       " 'name=Rakeem Christmas',\n",
       " 'name=Ramon Sessions',\n",
       " 'name=Randy Foye',\n",
       " 'name=Rashad Vaughn',\n",
       " 'name=Raul Neto',\n",
       " 'name=Raymond Felton',\n",
       " 'name=Reggie Bullock',\n",
       " 'name=Reggie Hearn',\n",
       " 'name=Reggie Jackson',\n",
       " 'name=Reggie Williams',\n",
       " 'name=Richard Jefferson',\n",
       " 'name=Richaun Holmes',\n",
       " 'name=Ricky Rubio',\n",
       " 'name=Robert Covington',\n",
       " 'name=Robin Lopez',\n",
       " 'name=Rodney Hood',\n",
       " 'name=Rodney McGruder',\n",
       " 'name=Rodney Purvis',\n",
       " 'name=Rodney Stuckey',\n",
       " 'name=Ron Baker',\n",
       " 'name=Rondae Hollis-Jefferson',\n",
       " 'name=Ronnie Price',\n",
       " 'name=Roy Hibbert',\n",
       " \"name=Royce O'Neale\",\n",
       " 'name=Rudy Gay',\n",
       " 'name=Rudy Gobert',\n",
       " 'name=Russell Westbrook',\n",
       " 'name=Ryan Anderson',\n",
       " 'name=Ryan Arcidiacono',\n",
       " 'name=Ryan Kelly',\n",
       " 'name=Salah Mejri',\n",
       " 'name=Sam Dekker',\n",
       " 'name=Sasha Vujacic',\n",
       " 'name=Sean Kilpatrick',\n",
       " 'name=Semaj Christon',\n",
       " 'name=Semi Ojeleye',\n",
       " 'name=Serge Ibaka',\n",
       " 'name=Sergio Rodriguez',\n",
       " 'name=Seth Curry',\n",
       " 'name=Shabazz Muhammad',\n",
       " 'name=Shabazz Napier',\n",
       " 'name=Shane Larkin',\n",
       " 'name=Shaquille Harrison',\n",
       " 'name=Shaun Livingston',\n",
       " 'name=Shawn Long',\n",
       " 'name=Sheldon Mac',\n",
       " 'name=Shelvin Mack',\n",
       " 'name=Sindarius Thornwell',\n",
       " 'name=Skal Labissiere',\n",
       " 'name=Solomon Hill',\n",
       " 'name=Spencer Dinwiddie',\n",
       " 'name=Spencer Hawes',\n",
       " 'name=Stanley Johnson',\n",
       " 'name=Stephen Curry',\n",
       " 'name=Stephen Zimmerman',\n",
       " 'name=Sterling Brown',\n",
       " 'name=Steve Novak',\n",
       " 'name=Steven Adams',\n",
       " 'name=T.J. McConnell',\n",
       " 'name=TJ Leaf',\n",
       " 'name=TJ Warren',\n",
       " 'name=Taj Gibson',\n",
       " 'name=Tarik Black',\n",
       " 'name=Taurean Prince',\n",
       " 'name=Terrance Ferguson',\n",
       " 'name=Terrence Jones',\n",
       " 'name=Terrence Ross',\n",
       " 'name=Terry Rozier',\n",
       " 'name=Thabo Sefolosha',\n",
       " 'name=Thaddeus Young',\n",
       " 'name=Thomas Bryant',\n",
       " 'name=Thomas Robinson',\n",
       " 'name=Thon Maker',\n",
       " 'name=Tiago Splitter',\n",
       " 'name=Tim Frazier',\n",
       " 'name=Tim Hardaway Jr.',\n",
       " 'name=Tim Quarterman',\n",
       " 'name=Timofey Mozgov',\n",
       " 'name=Timothe Luwawu-Cabarrot',\n",
       " 'name=Tobias Harris',\n",
       " 'name=Tomas Satoransky',\n",
       " 'name=Toney Douglas',\n",
       " 'name=Tony Allen',\n",
       " 'name=Tony Bradley',\n",
       " 'name=Tony Parker',\n",
       " 'name=Tony Snell',\n",
       " 'name=Torrey Craig',\n",
       " 'name=Travis Wear',\n",
       " 'name=Treveon Graham',\n",
       " 'name=Trevor Ariza',\n",
       " 'name=Trevor Booker',\n",
       " 'name=Trey Burke',\n",
       " 'name=Trey Lyles',\n",
       " 'name=Tristan Thompson',\n",
       " 'name=Troy Daniels',\n",
       " 'name=Troy Williams',\n",
       " 'name=Ty Lawson',\n",
       " 'name=Tyler Cavanaugh',\n",
       " 'name=Tyler Dorsey',\n",
       " 'name=Tyler Ennis',\n",
       " 'name=Tyler Johnson',\n",
       " 'name=Tyler Ulis',\n",
       " 'name=Tyler Zeller',\n",
       " 'name=Tyreke Evans',\n",
       " 'name=Tyrone Wallace',\n",
       " 'name=Tyson Chandler',\n",
       " 'name=Tyus Jones',\n",
       " 'name=Udonis Haslem',\n",
       " 'name=Vander Blue',\n",
       " 'name=Victor Oladipo',\n",
       " 'name=Vince Carter',\n",
       " 'name=Vincent Hunter',\n",
       " 'name=Wade Baldwin IV',\n",
       " 'name=Walter Lemon Jr.',\n",
       " 'name=Wayne Ellington',\n",
       " 'name=Wayne Selden',\n",
       " 'name=Wes Iwundu',\n",
       " 'name=Wesley Johnson',\n",
       " 'name=Wesley Matthews',\n",
       " 'name=Will Barton',\n",
       " 'name=Willie Cauley-Stein',\n",
       " 'name=Willie Reed',\n",
       " 'name=Willy Hernangomez',\n",
       " 'name=Wilson Chandler',\n",
       " 'name=Xavier Munford',\n",
       " 'name=Xavier Rathan-Mayes',\n",
       " 'name=Xavier Silas',\n",
       " 'name=Yogi Ferrell',\n",
       " 'name=Zach Collins',\n",
       " 'name=Zach LaVine',\n",
       " 'name=Zach Randolph',\n",
       " 'name=Zaza Pachulia',\n",
       " 'name=Zhou Qi',\n",
       " 'player_team=ATL',\n",
       " 'player_team=BKN',\n",
       " 'player_team=BOS',\n",
       " 'player_team=CHA',\n",
       " 'player_team=CHI',\n",
       " 'player_team=CLE',\n",
       " 'player_team=DAL',\n",
       " 'player_team=DEN',\n",
       " 'player_team=DET',\n",
       " 'player_team=GSW',\n",
       " 'player_team=HOU',\n",
       " 'player_team=IND',\n",
       " 'player_team=LAC',\n",
       " 'player_team=LAL',\n",
       " 'player_team=MEM',\n",
       " 'player_team=MIA',\n",
       " 'player_team=MIL',\n",
       " 'player_team=MIN',\n",
       " 'player_team=NOP',\n",
       " 'player_team=NYK',\n",
       " 'player_team=OKC',\n",
       " 'player_team=ORL',\n",
       " 'player_team=PHI',\n",
       " 'player_team=PHX',\n",
       " 'player_team=POR',\n",
       " 'player_team=SAC',\n",
       " 'player_team=SAS',\n",
       " 'player_team=TOR',\n",
       " 'player_team=UTA',\n",
       " 'player_team=WAS',\n",
       " 'position=',\n",
       " 'position=C',\n",
       " 'position=F',\n",
       " 'position=G',\n",
       " 'pts',\n",
       " 'reb',\n",
       " 'stl',\n",
       " 'team_against=ATL',\n",
       " 'team_against=BOS',\n",
       " 'team_against=CHA',\n",
       " 'team_against=CHI',\n",
       " 'team_against=CLE',\n",
       " 'team_against=DAL',\n",
       " 'team_against=DEN',\n",
       " 'team_against=DET',\n",
       " 'team_against=GSW',\n",
       " 'team_against=HOU',\n",
       " 'team_against=IND',\n",
       " 'team_against=LAC',\n",
       " 'team_against=LAL',\n",
       " 'team_against=MEM',\n",
       " 'team_against=MIA',\n",
       " 'team_against=MIL',\n",
       " 'team_against=MIN',\n",
       " 'team_against=NJN',\n",
       " 'team_against=NOP',\n",
       " 'team_against=NYK',\n",
       " 'team_against=OKC',\n",
       " 'team_against=ORL',\n",
       " 'team_against=PHI',\n",
       " 'team_against=PHO',\n",
       " 'team_against=POR',\n",
       " 'team_against=SAC',\n",
       " 'team_against=SAS',\n",
       " 'team_against=TOR',\n",
       " 'team_against=UTA',\n",
       " 'team_against=WAS',\n",
       " 'to']"
      ]
     },
     "execution_count": 4,
     "metadata": {},
     "output_type": "execute_result"
    }
   ],
   "source": [
    "vec = DictVectorizer()\n",
    "vec.fit_transform(pre_data_format).toarray()\n",
    "vec.get_feature_names()"
   ]
  },
  {
   "cell_type": "code",
   "execution_count": 13,
   "metadata": {},
   "outputs": [],
   "source": [
    "scaler = StandardScaler()\n",
    "X = vec.fit_transform(pre_data_format).toarray()"
   ]
  },
  {
   "cell_type": "code",
   "execution_count": 15,
   "metadata": {},
   "outputs": [
    {
     "name": "stdout",
     "output_type": "stream",
     "text": [
      "ast  :  1.0\n",
      "ave_points_team  :  92.0\n",
      "ave_points_vs_team  :  0.0\n",
      "blk  :  0.0\n",
      "fantasy_points  :  17.3\n",
      "home_game  :  1.0\n",
      "max_points  :  17.3\n",
      "min  :  28.4\n",
      "min_points  :  17.3\n",
      "name=AJ Hammons  :  0.0\n",
      "name=Aaron Brooks  :  0.0\n",
      "name=Aaron Gordon  :  0.0\n",
      "name=Aaron Harrison  :  0.0\n",
      "name=Abdel Nader  :  0.0\n",
      "name=Adreian Payne  :  0.0\n",
      "name=Al Horford  :  0.0\n",
      "name=Al Jefferson  :  0.0\n",
      "name=Al-Farouq Aminu  :  1.0\n",
      "name=Alan Anderson  :  0.0\n",
      "name=Alan Williams  :  0.0\n",
      "name=Alec Burks  :  0.0\n",
      "name=Alec Peters  :  0.0\n",
      "name=Alex Abrines  :  0.0\n",
      "name=Alex Caruso  :  0.0\n",
      "name=Alex Len  :  0.0\n",
      "name=Alex Poythress  :  0.0\n",
      "name=Alexis Ajinca  :  0.0\n",
      "name=Alfonzo McKinnie  :  0.0\n",
      "name=Allen Crabbe  :  0.0\n",
      "name=Alonzo Gee  :  0.0\n",
      "name=Amir Johnson  :  0.0\n",
      "name=Anderson Varejao  :  0.0\n",
      "name=Andre Drummond  :  0.0\n",
      "name=Andre Iguodala  :  0.0\n",
      "name=Andre Ingram  :  0.0\n",
      "name=Andre Roberson  :  0.0\n",
      "name=Andrew Bogut  :  0.0\n",
      "name=Andrew Harrison  :  0.0\n",
      "name=Andrew Nicholson  :  0.0\n",
      "name=Andrew White III  :  0.0\n",
      "name=Andrew Wiggins  :  0.0\n",
      "name=Ante Zizic  :  0.0\n",
      "name=Anthony Bennett  :  0.0\n",
      "name=Anthony Brown  :  0.0\n",
      "name=Anthony Davis  :  0.0\n",
      "name=Anthony Morrow  :  0.0\n",
      "name=Anthony Tolliver  :  0.0\n",
      "name=Antonio Blakeney  :  0.0\n",
      "name=Antonius Cleveland  :  0.0\n",
      "name=Archie Goodwin  :  0.0\n",
      "name=Arinze Onuaku  :  0.0\n",
      "name=Aron Baynes  :  0.0\n",
      "name=Arron Afflalo  :  0.0\n",
      "name=Austin Rivers  :  0.0\n",
      "name=Avery Bradley  :  0.0\n",
      "name=Axel Toupane  :  0.0\n",
      "name=Bam Adebayo  :  0.0\n",
      "name=Ben Bentil  :  0.0\n",
      "name=Ben McLemore  :  0.0\n",
      "name=Ben Moore  :  0.0\n",
      "name=Ben Simmons  :  0.0\n",
      "name=Beno Udrih  :  0.0\n",
      "name=Bismack Biyombo  :  0.0\n",
      "name=Blake Griffin  :  0.0\n",
      "name=Boban Marjanovic  :  0.0\n",
      "name=Bobby Brown  :  0.0\n",
      "name=Bobby Portis  :  0.0\n",
      "name=Bogdan Bogdanovic  :  0.0\n",
      "name=Bojan Bogdanovic  :  0.0\n",
      "name=Boris Diaw  :  0.0\n",
      "name=Bradley Beal  :  0.0\n",
      "name=Brandan Wright  :  0.0\n",
      "name=Brandon Bass  :  0.0\n",
      "name=Brandon Ingram  :  0.0\n",
      "name=Brandon Jennings  :  0.0\n",
      "name=Brandon Knight  :  0.0\n",
      "name=Brandon Paul  :  0.0\n",
      "name=Brandon Rush  :  0.0\n",
      "name=Brian Roberts  :  0.0\n",
      "name=Briante Weber  :  0.0\n",
      "name=Brice Johnson  :  0.0\n",
      "name=Brook Lopez  :  0.0\n",
      "name=Bruno Caboclo  :  0.0\n",
      "name=Bryn Forbes  :  0.0\n",
      "name=Buddy Hield  :  0.0\n",
      "name=C.J. Watson  :  0.0\n",
      "name=C.J. Williams  :  0.0\n",
      "name=CJ McCollum  :  0.0\n",
      "name=CJ Miles  :  0.0\n",
      "name=CJ Wilcox  :  0.0\n",
      "name=Caleb Swanigan  :  0.0\n",
      "name=Cameron Payne  :  0.0\n",
      "name=Caris LeVert  :  0.0\n",
      "name=Carmelo Anthony  :  0.0\n",
      "name=Cedi Osman  :  0.0\n",
      "name=Chandler Parsons  :  0.0\n",
      "name=Channing Frye  :  0.0\n",
      "name=Charles Cooke  :  0.0\n",
      "name=Chasson Randle  :  0.0\n",
      "name=Cheick Diallo  :  0.0\n",
      "name=Chinanu Onuaku  :  0.0\n",
      "name=Chris Andersen  :  0.0\n",
      "name=Chris McCullough  :  0.0\n",
      "name=Chris Paul  :  0.0\n",
      "name=Christian Wood  :  0.0\n",
      "name=Clint Capela  :  0.0\n",
      "name=Cody Zeller  :  0.0\n",
      "name=Cole Aldrich  :  0.0\n",
      "name=Corey Brewer  :  0.0\n",
      "name=Cory Joseph  :  0.0\n",
      "name=Courtney Lee  :  0.0\n",
      "name=Cristiano Felicio  :  0.0\n",
      "name=D'Angelo Russell  :  0.0\n",
      "name=D.J. Augustin  :  0.0\n",
      "name=D.J. Wilson  :  0.0\n",
      "name=Dakari Johnson  :  0.0\n",
      "name=Damian Jones  :  0.0\n",
      "name=Damian Lillard  :  0.0\n",
      "name=Damien Wilkins  :  0.0\n",
      "name=Damion Lee  :  0.0\n",
      "name=Damjan Rudez  :  0.0\n",
      "name=Damyean Dotson  :  0.0\n",
      "name=Daniel Hamilton  :  0.0\n",
      "name=Daniel Ochefu  :  0.0\n",
      "name=Daniel Theis  :  0.0\n",
      "name=Danilo Gallinari  :  0.0\n",
      "name=Danny Green  :  0.0\n",
      "name=Dante Cunningham  :  0.0\n",
      "name=Dante Exum  :  0.0\n",
      "name=Danuel House  :  0.0\n",
      "name=Dario Saric  :  0.0\n",
      "name=Darius Miller  :  0.0\n",
      "name=Darrell Arthur  :  0.0\n",
      "name=Darren Collison  :  0.0\n",
      "name=Darrun Hilliard  :  0.0\n",
      "name=David Lee  :  0.0\n",
      "name=David Nwaba  :  0.0\n",
      "name=David Stockton  :  0.0\n",
      "name=David West  :  0.0\n",
      "name=Davis Bertans  :  0.0\n",
      "name=Davon Reed  :  0.0\n",
      "name=De'Aaron Fox  :  0.0\n",
      "name=DeAndre Jordan  :  0.0\n",
      "name=DeAndre Liggins  :  0.0\n",
      "name=DeAndre' Bembry  :  0.0\n",
      "name=DeMar DeRozan  :  0.0\n",
      "name=DeMarcus Cousins  :  0.0\n",
      "name=DeMarre Carroll  :  0.0\n",
      "name=Dejounte Murray  :  0.0\n",
      "name=Delon Wright  :  0.0\n",
      "name=Demetrius Jackson  :  0.0\n",
      "name=Dennis Schroder  :  0.0\n",
      "name=Dennis Smith Jr.  :  0.0\n",
      "name=Denzel Valentine  :  0.0\n",
      "name=Deron Williams  :  0.0\n",
      "name=Derrick Favors  :  0.0\n",
      "name=Derrick Jones Jr.  :  0.0\n",
      "name=Derrick Rose  :  0.0\n",
      "name=Derrick Walton Jr.  :  0.0\n",
      "name=Derrick White  :  0.0\n",
      "name=Derrick Williams  :  0.0\n",
      "name=Devin Booker  :  0.0\n",
      "name=Devin Harris  :  0.0\n",
      "name=Dewayne Dedmon  :  0.0\n",
      "name=Deyonta Davis  :  0.0\n",
      "name=Diamond Stone  :  0.0\n",
      "name=Dillon Brooks  :  0.0\n",
      "name=Dion Waiters  :  0.0\n",
      "name=Dirk Nowitzki  :  0.0\n",
      "name=Domantas Sabonis  :  0.0\n",
      "name=Donatas Motiejunas  :  0.0\n",
      "name=Donovan Mitchell  :  0.0\n",
      "name=Dorian Finney-Smith  :  0.0\n",
      "name=Doug McDermott  :  0.0\n",
      "name=Dragan Bender  :  0.0\n",
      "name=Draymond Green  :  0.0\n",
      "name=Dwayne Bacon  :  0.0\n",
      "name=Dwight Buycks  :  0.0\n",
      "name=Dwight Howard  :  0.0\n",
      "name=Dwight Powell  :  0.0\n",
      "name=Dwyane Wade  :  0.0\n",
      "name=E'Twaun Moore  :  0.0\n",
      "name=Ed Davis  :  0.0\n",
      "name=Edy Tavares  :  0.0\n",
      "name=Ekpe Udoh  :  0.0\n",
      "name=Elfrid Payton  :  0.0\n",
      "name=Elijah Millsap  :  0.0\n",
      "name=Emeka Okafor  :  0.0\n",
      "name=Emmanuel Mudiay  :  0.0\n",
      "name=Enes Kanter  :  0.0\n",
      "name=Eric Bledsoe  :  0.0\n",
      "name=Eric Gordon  :  0.0\n",
      "name=Eric Moreland  :  0.0\n",
      "name=Erik McCree  :  0.0\n",
      "name=Ersan Ilyasova  :  0.0\n",
      "name=Evan Fournier  :  0.0\n",
      "name=Evan Turner  :  0.0\n",
      "name=Frank Kaminsky  :  0.0\n",
      "name=Frank Mason  :  0.0\n",
      "name=Frank Ntilikina  :  0.0\n",
      "name=Fred VanVleet  :  0.0\n",
      "name=Furkan Korkmaz  :  0.0\n",
      "name=Garrett Temple  :  0.0\n",
      "name=Gary Harris  :  0.0\n",
      "name=Gary Neal  :  0.0\n",
      "name=Gary Payton II  :  0.0\n",
      "name=George Hill  :  0.0\n",
      "name=Georges Niang  :  0.0\n",
      "name=Georgios Papagiannis  :  0.0\n",
      "name=Gerald Green  :  0.0\n",
      "name=Gerald Henderson  :  0.0\n",
      "name=Gian Clavell  :  0.0\n",
      "name=Giannis Antetokounmpo  :  0.0\n",
      "name=Glenn Robinson III  :  0.0\n",
      "name=Goran Dragic  :  0.0\n",
      "name=Gordon Hayward  :  0.0\n",
      "name=Gorgui Dieng  :  0.0\n",
      "name=Greg Monroe  :  0.0\n",
      "name=Greivis Vasquez  :  0.0\n",
      "name=Guerschon Yabusele  :  0.0\n",
      "name=Harrison Barnes  :  0.0\n",
      "name=Hassan Whiteside  :  0.0\n",
      "name=Henry Ellenson  :  0.0\n",
      "name=Hollis Thompson  :  0.0\n",
      "name=Ian Clark  :  0.0\n",
      "name=Ian Mahinmi  :  0.0\n",
      "name=Ike Anigbogu  :  0.0\n",
      "name=Iman Shumpert  :  0.0\n",
      "name=Isaiah Canaan  :  0.0\n",
      "name=Isaiah Hicks  :  0.0\n",
      "name=Isaiah Taylor  :  0.0\n",
      "name=Isaiah Thomas  :  0.0\n",
      "name=Isaiah Whitehead  :  0.0\n",
      "name=Ish Smith  :  0.0\n",
      "name=Ivan Rabb  :  0.0\n",
      "name=Ivica Zubac  :  0.0\n",
      "name=J.J. Barea  :  0.0\n",
      "name=JJ Redick  :  0.0\n",
      "name=JR Smith  :  0.0\n",
      "name=JaKarr Sampson  :  0.0\n",
      "name=JaMychal Green  :  0.0\n",
      "name=JaVale McGee  :  0.0\n",
      "name=Jabari Bird  :  0.0\n",
      "name=Jabari Parker  :  0.0\n",
      "name=Jack Cooley  :  0.0\n",
      "name=Jacob Pullen  :  0.0\n",
      "name=Jacob Wiley  :  0.0\n",
      "name=Jae Crowder  :  0.0\n",
      "name=Jahlil Okafor  :  0.0\n",
      "name=Jake Layman  :  0.0\n",
      "name=Jakob Poeltl  :  0.0\n",
      "name=Jalen Jones  :  0.0\n",
      "name=Jamal Crawford  :  0.0\n",
      "name=Jamal Murray  :  0.0\n",
      "name=Jameel Warney  :  0.0\n",
      "name=Jameer Nelson  :  0.0\n",
      "name=Jamel Artis  :  0.0\n",
      "name=James Ennis III  :  0.0\n",
      "name=James Harden  :  0.0\n",
      "name=James Johnson  :  0.0\n",
      "name=James Jones  :  0.0\n",
      "name=James Michael McAdoo  :  0.0\n",
      "name=James Webb III  :  0.0\n",
      "name=James Young  :  0.0\n",
      "name=Jamil Wilson  :  0.0\n",
      "name=Jared Dudley  :  0.0\n",
      "name=Jared Sullinger  :  0.0\n",
      "name=Jarell Eddie  :  0.0\n",
      "name=Jarell Martin  :  0.0\n",
      "name=Jarnell Stokes  :  0.0\n",
      "name=Jarrett Allen  :  0.0\n",
      "name=Jarrett Jack  :  0.0\n",
      "name=Jarrod Uthoff  :  0.0\n",
      "name=Jason Smith  :  0.0\n",
      "name=Jason Terry  :  0.0\n",
      "name=Jawun Evans  :  0.0\n",
      "name=Jaylen Brown  :  0.0\n",
      "name=Jaylen Morris  :  0.0\n",
      "name=Jayson Tatum  :  0.0\n",
      "name=Jeff Green  :  0.0\n",
      "name=Jeff Teague  :  0.0\n",
      "name=Jeff Withey  :  0.0\n",
      "name=Jerami Grant  :  0.0\n",
      "name=Jeremy Lamb  :  0.0\n",
      "name=Jeremy Lin  :  0.0\n",
      "name=Jerian Grant  :  0.0\n",
      "name=Jerryd Bayless  :  0.0\n",
      "name=Jimmy Butler  :  0.0\n",
      "name=Joakim Noah  :  0.0\n",
      "name=Jodie Meeks  :  0.0\n",
      "name=Joe Harris  :  0.0\n",
      "name=Joe Ingles  :  0.0\n",
      "name=Joe Johnson  :  0.0\n",
      "name=Joe Young  :  0.0\n",
      "name=Joel Anthony  :  0.0\n",
      "name=Joel Bolomboy  :  0.0\n",
      "name=Joel Embiid  :  0.0\n",
      "name=Joffrey Lauvergne  :  0.0\n",
      "name=John Collins  :  0.0\n",
      "name=John Henson  :  0.0\n",
      "name=John Holland  :  0.0\n",
      "name=John Jenkins  :  0.0\n",
      "name=John Lucas III  :  0.0\n",
      "name=John Wall  :  0.0\n",
      "name=Johnathan Motley  :  0.0\n",
      "name=Johnny O'Bryant III  :  0.0\n",
      "name=Jon Leuer  :  0.0\n",
      "name=Jonas Jerebko  :  0.0\n",
      "name=Jonas Valanciunas  :  0.0\n",
      "name=Jonathan Gibson  :  0.0\n",
      "name=Jonathan Isaac  :  0.0\n",
      "name=Jonathon Simmons  :  0.0\n",
      "name=Jordan Bell  :  0.0\n",
      "name=Jordan Clarkson  :  0.0\n",
      "name=Jordan Crawford  :  0.0\n",
      "name=Jordan Farmar  :  0.0\n",
      "name=Jordan Hill  :  0.0\n",
      "name=Jordan McRae  :  0.0\n",
      "name=Jordan Mickey  :  0.0\n",
      "name=Jose Calderon  :  0.0\n",
      "name=Josh Gray  :  0.0\n",
      "name=Josh Hart  :  0.0\n",
      "name=Josh Huestis  :  0.0\n",
      "name=Josh Jackson  :  0.0\n",
      "name=Josh Magette  :  0.0\n",
      "name=Josh McRoberts  :  0.0\n",
      "name=Josh Richardson  :  0.0\n",
      "name=Josh Smith  :  0.0\n",
      "name=Jrue Holiday  :  0.0\n",
      "name=Juancho Hernangomez  :  0.0\n",
      "name=Julius Randle  :  0.0\n",
      "name=Julyan Stone  :  0.0\n",
      "name=Justin Anderson  :  0.0\n",
      "name=Justin Hamilton  :  0.0\n",
      "name=Justin Harper  :  0.0\n",
      "name=Justin Holiday  :  0.0\n",
      "name=Justin Jackson  :  0.0\n",
      "name=Justise Winslow  :  0.0\n",
      "name=Jusuf Nurkic  :  0.0\n",
      "name=KJ McDaniels  :  0.0\n",
      "name=Kadeem Allen  :  0.0\n",
      "name=Karl-Anthony Towns  :  0.0\n",
      "name=Kawhi Leonard  :  0.0\n",
      "name=Kay Felder  :  0.0\n",
      "name=Kelly Olynyk  :  0.0\n",
      "name=Kelly Oubre Jr.  :  0.0\n",
      "name=Kemba Walker  :  0.0\n",
      "name=Kenneth Faried  :  0.0\n",
      "name=Kent Bazemore  :  0.0\n",
      "name=Kentavious Caldwell-Pope  :  0.0\n",
      "name=Kevin Durant  :  0.0\n",
      "name=Kevin Love  :  0.0\n",
      "name=Kevin Seraphin  :  0.0\n",
      "name=Kevon Looney  :  0.0\n",
      "name=Khem Birch  :  0.0\n",
      "name=Khris Middleton  :  0.0\n",
      "name=Klay Thompson  :  0.0\n",
      "name=Kobi Simmons  :  0.0\n",
      "name=Kosta Koufos  :  0.0\n",
      "name=Kris Dunn  :  0.0\n",
      "name=Kris Humphries  :  0.0\n",
      "name=Kristaps Porzingis  :  0.0\n",
      "name=Kyle Anderson  :  0.0\n",
      "name=Kyle Collinsworth  :  0.0\n",
      "name=Kyle Korver  :  0.0\n",
      "name=Kyle Kuzma  :  0.0\n",
      "name=Kyle Lowry  :  0.0\n",
      "name=Kyle O'Quinn  :  0.0\n",
      "name=Kyle Singler  :  0.0\n",
      "name=Kyle Wiltjer  :  0.0\n",
      "name=Kyrie Irving  :  0.0\n",
      "name=LaMarcus Aldridge  :  0.0\n",
      "name=Lamar Patterson  :  0.0\n",
      "name=Lance Stephenson  :  0.0\n",
      "name=Lance Thomas  :  0.0\n",
      "name=Langston Galloway  :  0.0\n",
      "name=Larry Drew II  :  0.0\n",
      "name=Larry Nance Jr.  :  0.0\n",
      "name=Larry Sanders  :  0.0\n",
      "name=Lauri Markkanen  :  0.0\n",
      "name=Lavoy Allen  :  0.0\n",
      "name=LeBron James  :  0.0\n",
      "name=Leandro Barbosa  :  0.0\n",
      "name=London Perrantes  :  0.0\n",
      "name=Lonzo Ball  :  0.0\n",
      "name=Lorenzo Brown  :  0.0\n",
      "name=Lou Williams  :  0.0\n",
      "name=Luc Mbah a Moute  :  0.0\n",
      "name=Lucas Nogueira  :  0.0\n",
      "name=Luis Montero  :  0.0\n",
      "name=Luis Scola  :  0.0\n",
      "name=Luke Babbitt  :  0.0\n",
      "name=Luke Kennard  :  0.0\n",
      "name=Luke Kornet  :  0.0\n",
      "name=Luol Deng  :  0.0\n",
      "name=Malachi Richardson  :  0.0\n",
      "name=Malcolm Brogdon  :  0.0\n",
      "name=Malcolm Delaney  :  0.0\n",
      "name=Malcolm Miller  :  0.0\n",
      "name=Malik Beasley  :  0.0\n",
      "name=Malik Monk  :  0.0\n",
      "name=Mangok Mathiang  :  0.0\n",
      "name=Manny Harris  :  0.0\n",
      "name=Manu Ginobili  :  0.0\n",
      "name=MarShon Brooks  :  0.0\n",
      "name=Marc Gasol  :  0.0\n",
      "name=Marcelo Huertas  :  0.0\n"
     ]
    },
    {
     "name": "stdout",
     "output_type": "stream",
     "text": [
      "name=Marcin Gortat  :  0.0\n",
      "name=Marco Belinelli  :  0.0\n",
      "name=Marcus Georges-Hunt  :  0.0\n",
      "name=Marcus Morris  :  0.0\n",
      "name=Marcus Paige  :  0.0\n",
      "name=Marcus Smart  :  0.0\n",
      "name=Marcus Thornton  :  0.0\n",
      "name=Mario Chalmers  :  0.0\n",
      "name=Mario Hezonja  :  0.0\n",
      "name=Markel Brown  :  0.0\n",
      "name=Markelle Fultz  :  0.0\n",
      "name=Markieff Morris  :  0.0\n",
      "name=Marquese Chriss  :  0.0\n",
      "name=Marquis Teague  :  0.0\n",
      "name=Marreese Speights  :  0.0\n",
      "name=Marshall Plumlee  :  0.0\n",
      "name=Marvin Williams  :  0.0\n",
      "name=Mason Plumlee  :  0.0\n",
      "name=Matt Barnes  :  0.0\n",
      "name=Matt Costello  :  0.0\n",
      "name=Matt Williams Jr.  :  0.0\n",
      "name=Matthew Dellavedova  :  0.0\n",
      "name=Maurice Harkless  :  0.0\n",
      "name=Maurice Ndour  :  0.0\n",
      "name=Maxi Kleber  :  0.0\n",
      "name=Metta World Peace  :  0.0\n",
      "name=Meyers Leonard  :  0.0\n",
      "name=Michael Beasley  :  0.0\n",
      "name=Michael Carter-Williams  :  0.0\n",
      "name=Michael Gbinije  :  0.0\n",
      "name=Michael Kidd-Gilchrist  :  0.0\n",
      "name=Mike Conley  :  0.0\n",
      "name=Mike Dunleavy  :  0.0\n",
      "name=Mike James  :  0.0\n",
      "name=Mike Miller  :  0.0\n",
      "name=Mike Muscala  :  0.0\n",
      "name=Mike Scott  :  0.0\n",
      "name=Mike Tobey  :  0.0\n",
      "name=Miles Plumlee  :  0.0\n",
      "name=Milos Teodosic  :  0.0\n",
      "name=Milton Doyle  :  0.0\n",
      "name=Mindaugas Kuzminskas  :  0.0\n",
      "name=Mirza Teletovic  :  0.0\n",
      "name=Monta Ellis  :  0.0\n",
      "name=Monte Morris  :  0.0\n",
      "name=Montrezl Harrell  :  0.0\n",
      "name=Myke Henry  :  0.0\n",
      "name=Myles Turner  :  0.0\n",
      "name=Nate Wolters  :  0.0\n",
      "name=Nemanja Bjelica  :  0.0\n",
      "name=Nene  :  0.0\n",
      "name=Nerlens Noel  :  0.0\n",
      "name=Nick Collison  :  0.0\n",
      "name=Nick Young  :  0.0\n",
      "name=Nicolas Batum  :  0.0\n",
      "name=Nicolas Brussino  :  0.0\n",
      "name=Nicolas Laprovittola  :  0.0\n",
      "name=Nigel Hayes  :  0.0\n",
      "name=Nik Stauskas  :  0.0\n",
      "name=Nikola Jokic  :  0.0\n",
      "name=Nikola Mirotic  :  0.0\n",
      "name=Nikola Vucevic  :  0.0\n",
      "name=Noah Vonleh  :  0.0\n",
      "name=Norman Powell  :  0.0\n",
      "name=Norris Cole  :  0.0\n",
      "name=OG Anunoby  :  0.0\n",
      "name=Okaro White  :  0.0\n",
      "name=Omari Johnson  :  0.0\n",
      "name=Omer Asik  :  0.0\n",
      "name=Omri Casspi  :  0.0\n",
      "name=Otto Porter Jr.  :  0.0\n",
      "name=PJ Dozier  :  0.0\n",
      "name=PJ Tucker  :  0.0\n",
      "name=Pascal Siakam  :  0.0\n",
      "name=Pat Connaughton  :  0.0\n",
      "name=Patricio Garino  :  0.0\n",
      "name=Patrick Beverley  :  0.0\n",
      "name=Patrick McCaw  :  0.0\n",
      "name=Patrick Patterson  :  0.0\n",
      "name=Patty Mills  :  0.0\n",
      "name=Pau Gasol  :  0.0\n",
      "name=Paul George  :  0.0\n",
      "name=Paul Millsap  :  0.0\n",
      "name=Paul Pierce  :  0.0\n",
      "name=Paul Zipser  :  0.0\n",
      "name=Pierre Jackson  :  0.0\n",
      "name=Quincy Acy  :  0.0\n",
      "name=Quincy Pondexter  :  0.0\n",
      "name=Quinn Cook  :  0.0\n",
      "name=RJ Hunter  :  0.0\n",
      "name=Rajon Rondo  :  0.0\n",
      "name=Rakeem Christmas  :  0.0\n",
      "name=Ramon Sessions  :  0.0\n",
      "name=Randy Foye  :  0.0\n",
      "name=Rashad Vaughn  :  0.0\n",
      "name=Raul Neto  :  0.0\n",
      "name=Raymond Felton  :  0.0\n",
      "name=Reggie Bullock  :  0.0\n",
      "name=Reggie Hearn  :  0.0\n",
      "name=Reggie Jackson  :  0.0\n",
      "name=Reggie Williams  :  0.0\n",
      "name=Richard Jefferson  :  0.0\n",
      "name=Richaun Holmes  :  0.0\n",
      "name=Ricky Rubio  :  0.0\n",
      "name=Robert Covington  :  0.0\n",
      "name=Robin Lopez  :  0.0\n",
      "name=Rodney Hood  :  0.0\n",
      "name=Rodney McGruder  :  0.0\n",
      "name=Rodney Purvis  :  0.0\n",
      "name=Rodney Stuckey  :  0.0\n",
      "name=Ron Baker  :  0.0\n",
      "name=Rondae Hollis-Jefferson  :  0.0\n",
      "name=Ronnie Price  :  0.0\n",
      "name=Roy Hibbert  :  0.0\n",
      "name=Royce O'Neale  :  0.0\n",
      "name=Rudy Gay  :  0.0\n",
      "name=Rudy Gobert  :  0.0\n",
      "name=Russell Westbrook  :  0.0\n",
      "name=Ryan Anderson  :  0.0\n",
      "name=Ryan Arcidiacono  :  0.0\n",
      "name=Ryan Kelly  :  0.0\n",
      "name=Salah Mejri  :  0.0\n",
      "name=Sam Dekker  :  0.0\n",
      "name=Sasha Vujacic  :  0.0\n",
      "name=Sean Kilpatrick  :  0.0\n",
      "name=Semaj Christon  :  0.0\n",
      "name=Semi Ojeleye  :  0.0\n",
      "name=Serge Ibaka  :  0.0\n",
      "name=Sergio Rodriguez  :  0.0\n",
      "name=Seth Curry  :  0.0\n",
      "name=Shabazz Muhammad  :  0.0\n",
      "name=Shabazz Napier  :  0.0\n",
      "name=Shane Larkin  :  0.0\n",
      "name=Shaquille Harrison  :  0.0\n",
      "name=Shaun Livingston  :  0.0\n",
      "name=Shawn Long  :  0.0\n",
      "name=Sheldon Mac  :  0.0\n",
      "name=Shelvin Mack  :  0.0\n",
      "name=Sindarius Thornwell  :  0.0\n",
      "name=Skal Labissiere  :  0.0\n",
      "name=Solomon Hill  :  0.0\n",
      "name=Spencer Dinwiddie  :  0.0\n",
      "name=Spencer Hawes  :  0.0\n",
      "name=Stanley Johnson  :  0.0\n",
      "name=Stephen Curry  :  0.0\n",
      "name=Stephen Zimmerman  :  0.0\n",
      "name=Sterling Brown  :  0.0\n",
      "name=Steve Novak  :  0.0\n",
      "name=Steven Adams  :  0.0\n",
      "name=T.J. McConnell  :  0.0\n",
      "name=TJ Leaf  :  0.0\n",
      "name=TJ Warren  :  0.0\n",
      "name=Taj Gibson  :  0.0\n",
      "name=Tarik Black  :  0.0\n",
      "name=Taurean Prince  :  0.0\n",
      "name=Terrance Ferguson  :  0.0\n",
      "name=Terrence Jones  :  0.0\n",
      "name=Terrence Ross  :  0.0\n",
      "name=Terry Rozier  :  0.0\n",
      "name=Thabo Sefolosha  :  0.0\n",
      "name=Thaddeus Young  :  0.0\n",
      "name=Thomas Bryant  :  0.0\n",
      "name=Thomas Robinson  :  0.0\n",
      "name=Thon Maker  :  0.0\n",
      "name=Tiago Splitter  :  0.0\n",
      "name=Tim Frazier  :  0.0\n",
      "name=Tim Hardaway Jr.  :  0.0\n",
      "name=Tim Quarterman  :  0.0\n",
      "name=Timofey Mozgov  :  0.0\n",
      "name=Timothe Luwawu-Cabarrot  :  0.0\n",
      "name=Tobias Harris  :  0.0\n",
      "name=Tomas Satoransky  :  0.0\n",
      "name=Toney Douglas  :  0.0\n",
      "name=Tony Allen  :  0.0\n",
      "name=Tony Bradley  :  0.0\n",
      "name=Tony Parker  :  0.0\n",
      "name=Tony Snell  :  0.0\n",
      "name=Torrey Craig  :  0.0\n",
      "name=Travis Wear  :  0.0\n",
      "name=Treveon Graham  :  0.0\n",
      "name=Trevor Ariza  :  0.0\n",
      "name=Trevor Booker  :  0.0\n",
      "name=Trey Burke  :  0.0\n",
      "name=Trey Lyles  :  0.0\n",
      "name=Tristan Thompson  :  0.0\n",
      "name=Troy Daniels  :  0.0\n",
      "name=Troy Williams  :  0.0\n",
      "name=Ty Lawson  :  0.0\n",
      "name=Tyler Cavanaugh  :  0.0\n",
      "name=Tyler Dorsey  :  0.0\n",
      "name=Tyler Ennis  :  0.0\n",
      "name=Tyler Johnson  :  0.0\n",
      "name=Tyler Ulis  :  0.0\n",
      "name=Tyler Zeller  :  0.0\n",
      "name=Tyreke Evans  :  0.0\n",
      "name=Tyrone Wallace  :  0.0\n",
      "name=Tyson Chandler  :  0.0\n",
      "name=Tyus Jones  :  0.0\n",
      "name=Udonis Haslem  :  0.0\n",
      "name=Vander Blue  :  0.0\n",
      "name=Victor Oladipo  :  0.0\n",
      "name=Vince Carter  :  0.0\n",
      "name=Vincent Hunter  :  0.0\n",
      "name=Wade Baldwin IV  :  0.0\n",
      "name=Walter Lemon Jr.  :  0.0\n",
      "name=Wayne Ellington  :  0.0\n",
      "name=Wayne Selden  :  0.0\n",
      "name=Wes Iwundu  :  0.0\n",
      "name=Wesley Johnson  :  0.0\n",
      "name=Wesley Matthews  :  0.0\n",
      "name=Will Barton  :  0.0\n",
      "name=Willie Cauley-Stein  :  0.0\n",
      "name=Willie Reed  :  0.0\n",
      "name=Willy Hernangomez  :  0.0\n",
      "name=Wilson Chandler  :  0.0\n",
      "name=Xavier Munford  :  0.0\n",
      "name=Xavier Rathan-Mayes  :  0.0\n",
      "name=Xavier Silas  :  0.0\n",
      "name=Yogi Ferrell  :  0.0\n",
      "name=Zach Collins  :  0.0\n",
      "name=Zach LaVine  :  0.0\n",
      "name=Zach Randolph  :  0.0\n",
      "name=Zaza Pachulia  :  0.0\n",
      "name=Zhou Qi  :  0.0\n",
      "player_team=ATL  :  0.0\n",
      "player_team=BKN  :  0.0\n",
      "player_team=BOS  :  0.0\n",
      "player_team=CHA  :  0.0\n",
      "player_team=CHI  :  0.0\n",
      "player_team=CLE  :  0.0\n",
      "player_team=DAL  :  0.0\n",
      "player_team=DEN  :  0.0\n",
      "player_team=DET  :  0.0\n",
      "player_team=GSW  :  0.0\n",
      "player_team=HOU  :  0.0\n",
      "player_team=IND  :  0.0\n",
      "player_team=LAC  :  0.0\n",
      "player_team=LAL  :  0.0\n",
      "player_team=MEM  :  0.0\n",
      "player_team=MIA  :  0.0\n",
      "player_team=MIL  :  0.0\n",
      "player_team=MIN  :  0.0\n",
      "player_team=NOP  :  0.0\n",
      "player_team=NYK  :  0.0\n",
      "player_team=OKC  :  0.0\n",
      "player_team=ORL  :  0.0\n",
      "player_team=PHI  :  0.0\n",
      "player_team=PHX  :  0.0\n",
      "player_team=POR  :  1.0\n",
      "player_team=SAC  :  0.0\n",
      "player_team=SAS  :  0.0\n",
      "player_team=TOR  :  0.0\n",
      "player_team=UTA  :  0.0\n",
      "player_team=WAS  :  0.0\n",
      "position=  :  0.0\n",
      "position=C  :  0.0\n",
      "position=F  :  1.0\n",
      "position=G  :  0.0\n",
      "pts  :  9.0\n",
      "reb  :  4.0\n",
      "stl  :  1.0\n",
      "team_against=ATL  :  0.0\n",
      "team_against=BOS  :  0.0\n",
      "team_against=CHA  :  0.0\n",
      "team_against=CHI  :  0.0\n",
      "team_against=CLE  :  0.0\n",
      "team_against=DAL  :  0.0\n",
      "team_against=DEN  :  0.0\n",
      "team_against=DET  :  0.0\n",
      "team_against=GSW  :  0.0\n",
      "team_against=HOU  :  0.0\n",
      "team_against=IND  :  0.0\n",
      "team_against=LAC  :  1.0\n",
      "team_against=LAL  :  0.0\n",
      "team_against=MEM  :  0.0\n",
      "team_against=MIA  :  0.0\n",
      "team_against=MIL  :  0.0\n",
      "team_against=MIN  :  0.0\n",
      "team_against=NJN  :  0.0\n",
      "team_against=NOP  :  0.0\n",
      "team_against=NYK  :  0.0\n",
      "team_against=OKC  :  0.0\n",
      "team_against=ORL  :  0.0\n",
      "team_against=PHI  :  0.0\n",
      "team_against=PHO  :  0.0\n",
      "team_against=POR  :  0.0\n",
      "team_against=SAC  :  0.0\n",
      "team_against=SAS  :  0.0\n",
      "team_against=TOR  :  0.0\n",
      "team_against=UTA  :  0.0\n",
      "team_against=WAS  :  0.0\n",
      "to  :  1.0\n"
     ]
    }
   ],
   "source": [
    "for l,v in zip(vec.get_feature_names(),X[0,:]):\n",
    "    print(l,' : ', v)"
   ]
  },
  {
   "cell_type": "code",
   "execution_count": 31,
   "metadata": {},
   "outputs": [],
   "source": [
    "X_train, X_test, y_train, y_test = train_test_split(X, y, test_size=0.90, random_state=0)"
   ]
  },
  {
   "cell_type": "code",
   "execution_count": 33,
   "metadata": {},
   "outputs": [
    {
     "name": "stdout",
     "output_type": "stream",
     "text": [
      "35100\n",
      "====================================\n",
      "\n",
      "INFO: Number of possible iterations given cooling schedule: 320\n",
      "\n"
     ]
    },
    {
     "name": "stderr",
     "output_type": "stream",
     "text": [
      "[Parallel(n_jobs=8)]: Done   3 out of   3 | elapsed:    1.7s finished\n",
      "[Parallel(n_jobs=8)]: Done   3 out of   3 | elapsed:    1.7s finished\n"
     ]
    },
    {
     "name": "stdout",
     "output_type": "stream",
     "text": [
      "2 T: 10.00000, score: 0.520153, std: 0.006669, params: {'max_features': 4, 'min_samples_split': 32, 'n_estimators': 100, 'max_depth': 164, 'random_state': 0, 'n_jobs': 8}\n",
      "3 T: 10.00000, score: 0.520153, std: 0.006669, params: {'max_features': 4, 'min_samples_split': 32, 'n_estimators': 100, 'max_depth': 164, 'random_state': 0, 'n_jobs': 8}\n",
      "4 T: 10.00000, score: 0.520153, std: 0.006669, params: {'max_features': 4, 'min_samples_split': 32, 'n_estimators': 100, 'max_depth': 164, 'random_state': 0, 'n_jobs': 8}\n",
      "5 T: 10.00000, score: 0.520153, std: 0.006669, params: {'max_features': 4, 'min_samples_split': 32, 'n_estimators': 100, 'max_depth': 164, 'random_state': 0, 'n_jobs': 8}\n"
     ]
    },
    {
     "name": "stderr",
     "output_type": "stream",
     "text": [
      "[Parallel(n_jobs=8)]: Done   3 out of   3 | elapsed:    1.7s finished\n"
     ]
    },
    {
     "name": "stdout",
     "output_type": "stream",
     "text": [
      "6 T: 10.00000, score: 0.520153, std: 0.006669, params: {'max_features': 4, 'min_samples_split': 32, 'n_estimators': 100, 'max_depth': 152, 'random_state': 0, 'n_jobs': 8}\n"
     ]
    },
    {
     "name": "stderr",
     "output_type": "stream",
     "text": [
      "[Parallel(n_jobs=8)]: Done   3 out of   3 | elapsed:    1.8s finished\n"
     ]
    },
    {
     "name": "stdout",
     "output_type": "stream",
     "text": [
      "7 T: 10.00000, score: 0.523856, std: 0.006064, params: {'max_features': 4, 'min_samples_split': 20, 'n_estimators': 100, 'max_depth': 152, 'random_state': 0, 'n_jobs': 8}\n",
      "8 T: 10.00000, score: 0.523856, std: 0.006064, params: {'max_features': 4, 'min_samples_split': 20, 'n_estimators': 100, 'max_depth': 152, 'random_state': 0, 'n_jobs': 8}\n"
     ]
    },
    {
     "name": "stderr",
     "output_type": "stream",
     "text": [
      "[Parallel(n_jobs=8)]: Done   3 out of   3 | elapsed:    1.7s finished\n"
     ]
    },
    {
     "name": "stdout",
     "output_type": "stream",
     "text": [
      "9 T: 10.00000, score: 0.514981, std: 0.006124, params: {'max_features': 4, 'min_samples_split': 56, 'n_estimators': 100, 'max_depth': 152, 'random_state': 0, 'n_jobs': 8}\n"
     ]
    },
    {
     "name": "stderr",
     "output_type": "stream",
     "text": [
      "[Parallel(n_jobs=8)]: Done   3 out of   3 | elapsed:    1.8s finished\n"
     ]
    },
    {
     "name": "stdout",
     "output_type": "stream",
     "text": [
      "10 T: 10.00000, score: 0.517978, std: 0.005152, params: {'max_features': 4, 'min_samples_split': 50, 'n_estimators': 100, 'max_depth': 152, 'random_state': 0, 'n_jobs': 8}\n"
     ]
    },
    {
     "name": "stderr",
     "output_type": "stream",
     "text": [
      "[Parallel(n_jobs=8)]: Done   3 out of   3 | elapsed:    1.8s finished\n"
     ]
    },
    {
     "name": "stdout",
     "output_type": "stream",
     "text": [
      "11 T: 10.00000, score: 0.517990, std: 0.005142, params: {'max_features': 4, 'min_samples_split': 50, 'n_estimators': 100, 'max_depth': 174, 'random_state': 0, 'n_jobs': 8}\n"
     ]
    },
    {
     "name": "stderr",
     "output_type": "stream",
     "text": [
      "[Parallel(n_jobs=8)]: Done   3 out of   3 | elapsed:    1.9s finished\n"
     ]
    },
    {
     "name": "stdout",
     "output_type": "stream",
     "text": [
      "12 T: 7.50000, score: 0.510247, std: 0.005116, params: {'max_features': 4, 'min_samples_split': 74, 'n_estimators': 100, 'max_depth': 174, 'random_state': 0, 'n_jobs': 8}\n",
      "13 T: 7.50000, score: 0.510247, std: 0.005116, params: {'max_features': 4, 'min_samples_split': 74, 'n_estimators': 100, 'max_depth': 174, 'random_state': 0, 'n_jobs': 8}\n",
      "14 T: 7.50000, score: 0.510247, std: 0.005116, params: {'max_features': 4, 'min_samples_split': 74, 'n_estimators': 100, 'max_depth': 174, 'random_state': 0, 'n_jobs': 8}\n",
      "15 T: 7.50000, score: 0.510247, std: 0.005116, params: {'max_features': 4, 'min_samples_split': 74, 'n_estimators': 100, 'max_depth': 174, 'random_state': 0, 'n_jobs': 8}\n"
     ]
    },
    {
     "name": "stderr",
     "output_type": "stream",
     "text": [
      "[Parallel(n_jobs=8)]: Done   3 out of   3 | elapsed:    1.9s finished\n"
     ]
    },
    {
     "name": "stdout",
     "output_type": "stream",
     "text": [
      "16 T: 7.50000, score: 0.526028, std: 0.006345, params: {'max_features': 12, 'min_samples_split': 74, 'n_estimators': 100, 'max_depth': 174, 'random_state': 0, 'n_jobs': 8}\n",
      "17 T: 7.50000, score: 0.526028, std: 0.006345, params: {'max_features': 12, 'min_samples_split': 74, 'n_estimators': 100, 'max_depth': 174, 'random_state': 0, 'n_jobs': 8}\n",
      "18 T: 7.50000, score: 0.526028, std: 0.006345, params: {'max_features': 12, 'min_samples_split': 74, 'n_estimators': 100, 'max_depth': 174, 'random_state': 0, 'n_jobs': 8}\n",
      "19 T: 7.50000, score: 0.526028, std: 0.006345, params: {'max_features': 12, 'min_samples_split': 74, 'n_estimators': 100, 'max_depth': 174, 'random_state': 0, 'n_jobs': 8}\n",
      "20 T: 7.50000, score: 0.526028, std: 0.006345, params: {'max_features': 12, 'min_samples_split': 74, 'n_estimators': 100, 'max_depth': 174, 'random_state': 0, 'n_jobs': 8}\n",
      "21 T: 7.50000, score: 0.510247, std: 0.005116, params: {'max_features': 4, 'min_samples_split': 74, 'n_estimators': 100, 'max_depth': 174, 'random_state': 0, 'n_jobs': 8}\n"
     ]
    },
    {
     "name": "stderr",
     "output_type": "stream",
     "text": [
      "[Parallel(n_jobs=8)]: Done   3 out of   3 | elapsed:    2.2s finished\n"
     ]
    },
    {
     "name": "stdout",
     "output_type": "stream",
     "text": [
      "22 T: 5.62500, score: 0.523935, std: 0.006539, params: {'max_features': 4, 'min_samples_split': 8, 'n_estimators': 100, 'max_depth': 174, 'random_state': 0, 'n_jobs': 8}\n"
     ]
    },
    {
     "name": "stderr",
     "output_type": "stream",
     "text": [
      "[Parallel(n_jobs=8)]: Done   3 out of   3 | elapsed:    2.1s finished\n"
     ]
    },
    {
     "name": "stdout",
     "output_type": "stream",
     "text": [
      "23 T: 5.62500, score: 0.517150, std: 0.004836, params: {'max_features': 4, 'min_samples_split': 44, 'n_estimators': 100, 'max_depth': 174, 'random_state': 0, 'n_jobs': 8}\n",
      "24 T: 5.62500, score: 0.517150, std: 0.004836, params: {'max_features': 4, 'min_samples_split': 44, 'n_estimators': 100, 'max_depth': 174, 'random_state': 0, 'n_jobs': 8}\n"
     ]
    },
    {
     "name": "stderr",
     "output_type": "stream",
     "text": [
      "[Parallel(n_jobs=8)]: Done   3 out of   3 | elapsed:    2.3s finished\n"
     ]
    },
    {
     "name": "stdout",
     "output_type": "stream",
     "text": [
      "25 T: 5.62500, score: 0.525952, std: 0.007418, params: {'max_features': 8, 'min_samples_split': 44, 'n_estimators': 100, 'max_depth': 174, 'random_state': 0, 'n_jobs': 8}\n",
      "26 T: 5.62500, score: 0.525952, std: 0.007418, params: {'max_features': 8, 'min_samples_split': 44, 'n_estimators': 100, 'max_depth': 174, 'random_state': 0, 'n_jobs': 8}\n"
     ]
    },
    {
     "name": "stderr",
     "output_type": "stream",
     "text": [
      "[Parallel(n_jobs=8)]: Done   3 out of   3 | elapsed:    2.6s finished\n"
     ]
    },
    {
     "name": "stdout",
     "output_type": "stream",
     "text": [
      "27 T: 5.62500, score: 0.524785, std: 0.007391, params: {'max_features': 8, 'min_samples_split': 4, 'n_estimators': 100, 'max_depth': 174, 'random_state': 0, 'n_jobs': 8}\n",
      "28 T: 5.62500, score: 0.524785, std: 0.007391, params: {'max_features': 8, 'min_samples_split': 4, 'n_estimators': 100, 'max_depth': 174, 'random_state': 0, 'n_jobs': 8}\n"
     ]
    },
    {
     "name": "stderr",
     "output_type": "stream",
     "text": [
      "[Parallel(n_jobs=8)]: Done   3 out of   3 | elapsed:    2.4s finished\n"
     ]
    },
    {
     "name": "stdout",
     "output_type": "stream",
     "text": [
      "29 T: 5.62500, score: 0.524785, std: 0.007391, params: {'max_features': 8, 'min_samples_split': 4, 'n_estimators': 100, 'max_depth': 166, 'random_state': 0, 'n_jobs': 8}\n"
     ]
    },
    {
     "name": "stderr",
     "output_type": "stream",
     "text": [
      "[Parallel(n_jobs=8)]: Done   3 out of   3 | elapsed:    2.0s finished\n"
     ]
    },
    {
     "name": "stdout",
     "output_type": "stream",
     "text": [
      "30 T: 5.62500, score: 0.525752, std: 0.006536, params: {'max_features': 8, 'min_samples_split': 4, 'n_estimators': 100, 'max_depth': 42, 'random_state': 0, 'n_jobs': 8}\n",
      "31 T: 5.62500, score: 0.525752, std: 0.006536, params: {'max_features': 8, 'min_samples_split': 4, 'n_estimators': 100, 'max_depth': 42, 'random_state': 0, 'n_jobs': 8}\n"
     ]
    },
    {
     "name": "stderr",
     "output_type": "stream",
     "text": [
      "[Parallel(n_jobs=8)]: Done   3 out of   3 | elapsed:    2.3s finished\n"
     ]
    },
    {
     "name": "stdout",
     "output_type": "stream",
     "text": [
      "32 T: 4.21875, score: 0.521092, std: 0.005215, params: {'max_features': 8, 'min_samples_split': 46, 'n_estimators': 100, 'max_depth': 42, 'random_state': 0, 'n_jobs': 8}\n"
     ]
    },
    {
     "name": "stderr",
     "output_type": "stream",
     "text": [
      "[Parallel(n_jobs=8)]: Done   3 out of   3 | elapsed:    1.9s finished\n"
     ]
    },
    {
     "name": "stdout",
     "output_type": "stream",
     "text": [
      "33 T: 4.21875, score: 0.528854, std: 0.006036, params: {'max_features': 12, 'min_samples_split': 46, 'n_estimators': 100, 'max_depth': 42, 'random_state': 0, 'n_jobs': 8}\n"
     ]
    },
    {
     "name": "stderr",
     "output_type": "stream",
     "text": [
      "[Parallel(n_jobs=8)]: Done   3 out of   3 | elapsed:    2.3s finished\n"
     ]
    },
    {
     "name": "stdout",
     "output_type": "stream",
     "text": [
      "34 T: 4.21875, score: 0.529785, std: 0.007250, params: {'max_features': 12, 'min_samples_split': 46, 'n_estimators': 100, 'max_depth': 54, 'random_state': 0, 'n_jobs': 8}\n",
      "35 T: 4.21875, score: 0.529785, std: 0.007250, params: {'max_features': 12, 'min_samples_split': 46, 'n_estimators': 100, 'max_depth': 54, 'random_state': 0, 'n_jobs': 8}\n"
     ]
    },
    {
     "name": "stderr",
     "output_type": "stream",
     "text": [
      "[Parallel(n_jobs=8)]: Done   3 out of   3 | elapsed:    2.0s finished\n"
     ]
    },
    {
     "name": "stdout",
     "output_type": "stream",
     "text": [
      "36 T: 4.21875, score: 0.529376, std: 0.006213, params: {'max_features': 12, 'min_samples_split': 52, 'n_estimators': 100, 'max_depth': 54, 'random_state': 0, 'n_jobs': 8}\n",
      "37 T: 4.21875, score: 0.529376, std: 0.006213, params: {'max_features': 12, 'min_samples_split': 52, 'n_estimators': 100, 'max_depth': 54, 'random_state': 0, 'n_jobs': 8}\n"
     ]
    },
    {
     "name": "stderr",
     "output_type": "stream",
     "text": [
      "[Parallel(n_jobs=8)]: Done   3 out of   3 | elapsed:    2.1s finished\n"
     ]
    },
    {
     "name": "stdout",
     "output_type": "stream",
     "text": [
      "38 T: 4.21875, score: 0.527294, std: 0.005351, params: {'max_features': 12, 'min_samples_split': 52, 'n_estimators': 100, 'max_depth': 34, 'random_state': 0, 'n_jobs': 8}\n",
      "39 T: 4.21875, score: 0.527294, std: 0.005351, params: {'max_features': 12, 'min_samples_split': 52, 'n_estimators': 100, 'max_depth': 34, 'random_state': 0, 'n_jobs': 8}\n",
      "40 T: 4.21875, score: 0.527294, std: 0.005351, params: {'max_features': 12, 'min_samples_split': 52, 'n_estimators': 100, 'max_depth': 34, 'random_state': 0, 'n_jobs': 8}\n",
      "41 T: 4.21875, score: 0.527294, std: 0.005351, params: {'max_features': 12, 'min_samples_split': 52, 'n_estimators': 100, 'max_depth': 34, 'random_state': 0, 'n_jobs': 8}\n",
      "42 T: 3.16406, score: 0.527294, std: 0.005351, params: {'max_features': 12, 'min_samples_split': 52, 'n_estimators': 100, 'max_depth': 34, 'random_state': 0, 'n_jobs': 8}\n",
      "43 T: 3.16406, score: 0.527294, std: 0.005351, params: {'max_features': 12, 'min_samples_split': 52, 'n_estimators': 100, 'max_depth': 34, 'random_state': 0, 'n_jobs': 8}\n"
     ]
    },
    {
     "name": "stderr",
     "output_type": "stream",
     "text": [
      "[Parallel(n_jobs=8)]: Done   3 out of   3 | elapsed:    1.8s finished\n"
     ]
    },
    {
     "name": "stdout",
     "output_type": "stream",
     "text": [
      "44 T: 3.16406, score: 0.410177, std: 0.001000, params: {'max_features': 2, 'min_samples_split': 52, 'n_estimators': 100, 'max_depth': 34, 'random_state': 0, 'n_jobs': 8}\n"
     ]
    },
    {
     "name": "stderr",
     "output_type": "stream",
     "text": [
      "[Parallel(n_jobs=8)]: Done   3 out of   3 | elapsed:    1.9s finished\n"
     ]
    },
    {
     "name": "stdout",
     "output_type": "stream",
     "text": [
      "45 T: 3.16406, score: 0.504038, std: 0.003130, params: {'max_features': 2, 'min_samples_split': 52, 'n_estimators': 100, 'max_depth': 152, 'random_state': 0, 'n_jobs': 8}\n",
      "46 T: 3.16406, score: 0.504038, std: 0.003130, params: {'max_features': 2, 'min_samples_split': 52, 'n_estimators': 100, 'max_depth': 152, 'random_state': 0, 'n_jobs': 8}\n"
     ]
    },
    {
     "name": "stderr",
     "output_type": "stream",
     "text": [
      "[Parallel(n_jobs=8)]: Done   3 out of   3 | elapsed:    1.9s finished\n"
     ]
    },
    {
     "name": "stdout",
     "output_type": "stream",
     "text": [
      "47 T: 3.16406, score: 0.444520, std: 0.003101, params: {'max_features': 2, 'min_samples_split': 52, 'n_estimators': 100, 'max_depth': 44, 'random_state': 0, 'n_jobs': 8}\n",
      "48 T: 3.16406, score: 0.444520, std: 0.003101, params: {'max_features': 2, 'min_samples_split': 52, 'n_estimators': 100, 'max_depth': 44, 'random_state': 0, 'n_jobs': 8}\n"
     ]
    },
    {
     "name": "stderr",
     "output_type": "stream",
     "text": [
      "[Parallel(n_jobs=8)]: Done   3 out of   3 | elapsed:    1.8s finished\n"
     ]
    },
    {
     "name": "stdout",
     "output_type": "stream",
     "text": [
      "49 T: 3.16406, score: 0.451691, std: 0.003009, params: {'max_features': 2, 'min_samples_split': 36, 'n_estimators': 100, 'max_depth': 44, 'random_state': 0, 'n_jobs': 8}\n",
      "50 T: 3.16406, score: 0.451691, std: 0.003009, params: {'max_features': 2, 'min_samples_split': 36, 'n_estimators': 100, 'max_depth': 44, 'random_state': 0, 'n_jobs': 8}\n"
     ]
    },
    {
     "name": "stderr",
     "output_type": "stream",
     "text": [
      "[Parallel(n_jobs=8)]: Done   3 out of   3 | elapsed:    1.9s finished\n"
     ]
    },
    {
     "name": "stdout",
     "output_type": "stream",
     "text": [
      "51 T: 3.16406, score: 0.496163, std: 0.004803, params: {'max_features': 2, 'min_samples_split': 36, 'n_estimators': 100, 'max_depth': 72, 'random_state': 0, 'n_jobs': 8}\n",
      "52 T: 2.37305, score: 0.496163, std: 0.004803, params: {'max_features': 2, 'min_samples_split': 36, 'n_estimators': 100, 'max_depth': 72, 'random_state': 0, 'n_jobs': 8}\n",
      "53 T: 2.37305, score: 0.496163, std: 0.004803, params: {'max_features': 2, 'min_samples_split': 36, 'n_estimators': 100, 'max_depth': 72, 'random_state': 0, 'n_jobs': 8}\n"
     ]
    },
    {
     "name": "stderr",
     "output_type": "stream",
     "text": [
      "[Parallel(n_jobs=8)]: Done   3 out of   3 | elapsed:    1.9s finished\n"
     ]
    },
    {
     "name": "stdout",
     "output_type": "stream",
     "text": [
      "54 T: 2.37305, score: 0.518164, std: 0.007726, params: {'max_features': 4, 'min_samples_split': 36, 'n_estimators': 100, 'max_depth': 72, 'random_state': 0, 'n_jobs': 8}\n",
      "55 T: 2.37305, score: 0.518164, std: 0.007726, params: {'max_features': 4, 'min_samples_split': 36, 'n_estimators': 100, 'max_depth': 72, 'random_state': 0, 'n_jobs': 8}\n",
      "56 T: 2.37305, score: 0.518164, std: 0.007726, params: {'max_features': 4, 'min_samples_split': 36, 'n_estimators': 100, 'max_depth': 72, 'random_state': 0, 'n_jobs': 8}\n",
      "57 T: 2.37305, score: 0.518164, std: 0.007726, params: {'max_features': 4, 'min_samples_split': 36, 'n_estimators': 100, 'max_depth': 72, 'random_state': 0, 'n_jobs': 8}\n"
     ]
    },
    {
     "name": "stderr",
     "output_type": "stream",
     "text": [
      "[Parallel(n_jobs=8)]: Done   3 out of   3 | elapsed:    1.9s finished\n"
     ]
    },
    {
     "name": "stdout",
     "output_type": "stream",
     "text": [
      "58 T: 2.37305, score: 0.420563, std: 0.002150, params: {'max_features': 4, 'min_samples_split': 36, 'n_estimators': 100, 'max_depth': 22, 'random_state': 0, 'n_jobs': 8}\n",
      "59 T: 2.37305, score: 0.420563, std: 0.002150, params: {'max_features': 4, 'min_samples_split': 36, 'n_estimators': 100, 'max_depth': 22, 'random_state': 0, 'n_jobs': 8}\n",
      "60 T: 2.37305, score: 0.420563, std: 0.002150, params: {'max_features': 4, 'min_samples_split': 36, 'n_estimators': 100, 'max_depth': 22, 'random_state': 0, 'n_jobs': 8}\n",
      "61 T: 2.37305, score: 0.420563, std: 0.002150, params: {'max_features': 4, 'min_samples_split': 36, 'n_estimators': 100, 'max_depth': 22, 'random_state': 0, 'n_jobs': 8}\n"
     ]
    },
    {
     "name": "stderr",
     "output_type": "stream",
     "text": [
      "[Parallel(n_jobs=8)]: Done   3 out of   3 | elapsed:    1.9s finished\n"
     ]
    },
    {
     "name": "stdout",
     "output_type": "stream",
     "text": [
      "62 T: 1.77979, score: 0.522820, std: 0.006070, params: {'max_features': 14, 'min_samples_split': 36, 'n_estimators': 100, 'max_depth': 22, 'random_state': 0, 'n_jobs': 8}\n",
      "63 T: 1.77979, score: 0.522820, std: 0.006070, params: {'max_features': 14, 'min_samples_split': 36, 'n_estimators': 100, 'max_depth': 22, 'random_state': 0, 'n_jobs': 8}\n"
     ]
    },
    {
     "name": "stderr",
     "output_type": "stream",
     "text": [
      "[Parallel(n_jobs=8)]: Done   3 out of   3 | elapsed:    1.9s finished\n"
     ]
    },
    {
     "name": "stdout",
     "output_type": "stream",
     "text": [
      "64 T: 1.77979, score: 0.522139, std: 0.005995, params: {'max_features': 14, 'min_samples_split': 38, 'n_estimators': 100, 'max_depth': 22, 'random_state': 0, 'n_jobs': 8}\n",
      "65 T: 1.77979, score: 0.522139, std: 0.005995, params: {'max_features': 14, 'min_samples_split': 38, 'n_estimators': 100, 'max_depth': 22, 'random_state': 0, 'n_jobs': 8}\n",
      "66 T: 1.77979, score: 0.522139, std: 0.005995, params: {'max_features': 14, 'min_samples_split': 38, 'n_estimators': 100, 'max_depth': 22, 'random_state': 0, 'n_jobs': 8}\n"
     ]
    },
    {
     "name": "stderr",
     "output_type": "stream",
     "text": [
      "[Parallel(n_jobs=8)]: Done   3 out of   3 | elapsed:    1.9s finished\n"
     ]
    },
    {
     "name": "stdout",
     "output_type": "stream",
     "text": [
      "67 T: 1.77979, score: 0.525486, std: 0.006011, params: {'max_features': 14, 'min_samples_split': 10, 'n_estimators': 100, 'max_depth': 22, 'random_state': 0, 'n_jobs': 8}\n",
      "68 T: 1.77979, score: 0.525486, std: 0.006011, params: {'max_features': 14, 'min_samples_split': 10, 'n_estimators': 100, 'max_depth': 22, 'random_state': 0, 'n_jobs': 8}\n",
      "69 T: 1.77979, score: 0.525486, std: 0.006011, params: {'max_features': 14, 'min_samples_split': 10, 'n_estimators': 100, 'max_depth': 22, 'random_state': 0, 'n_jobs': 8}\n",
      "70 T: 1.77979, score: 0.525486, std: 0.006011, params: {'max_features': 14, 'min_samples_split': 10, 'n_estimators': 100, 'max_depth': 22, 'random_state': 0, 'n_jobs': 8}\n"
     ]
    },
    {
     "name": "stderr",
     "output_type": "stream",
     "text": [
      "[Parallel(n_jobs=8)]: Done   3 out of   3 | elapsed:    2.1s finished\n"
     ]
    },
    {
     "name": "stdout",
     "output_type": "stream",
     "text": [
      "71 T: 1.77979, score: 0.530209, std: 0.006086, params: {'max_features': 14, 'min_samples_split': 10, 'n_estimators': 100, 'max_depth': 106, 'random_state': 0, 'n_jobs': 8}\n",
      "72 T: 1.33484, score: 0.530209, std: 0.006086, params: {'max_features': 14, 'min_samples_split': 10, 'n_estimators': 100, 'max_depth': 106, 'random_state': 0, 'n_jobs': 8}\n"
     ]
    },
    {
     "name": "stderr",
     "output_type": "stream",
     "text": [
      "[Parallel(n_jobs=8)]: Done   3 out of   3 | elapsed:    2.0s finished\n"
     ]
    },
    {
     "name": "stdout",
     "output_type": "stream",
     "text": [
      "73 T: 1.33484, score: 0.530310, std: 0.005601, params: {'max_features': 14, 'min_samples_split': 46, 'n_estimators': 100, 'max_depth': 106, 'random_state': 0, 'n_jobs': 8}\n",
      "74 T: 1.33484, score: 0.530310, std: 0.005601, params: {'max_features': 14, 'min_samples_split': 46, 'n_estimators': 100, 'max_depth': 106, 'random_state': 0, 'n_jobs': 8}\n",
      "75 T: 1.33484, score: 0.530310, std: 0.005601, params: {'max_features': 14, 'min_samples_split': 46, 'n_estimators': 100, 'max_depth': 106, 'random_state': 0, 'n_jobs': 8}\n"
     ]
    },
    {
     "name": "stderr",
     "output_type": "stream",
     "text": [
      "[Parallel(n_jobs=8)]: Done   3 out of   3 | elapsed:    2.1s finished\n"
     ]
    },
    {
     "name": "stdout",
     "output_type": "stream",
     "text": [
      "76 T: 1.33484, score: 0.532159, std: 0.006621, params: {'max_features': 14, 'min_samples_split': 32, 'n_estimators': 100, 'max_depth': 106, 'random_state': 0, 'n_jobs': 8}\n",
      "77 T: 1.33484, score: 0.532159, std: 0.006621, params: {'max_features': 14, 'min_samples_split': 32, 'n_estimators': 100, 'max_depth': 106, 'random_state': 0, 'n_jobs': 8}\n"
     ]
    },
    {
     "name": "stderr",
     "output_type": "stream",
     "text": [
      "[Parallel(n_jobs=8)]: Done   3 out of   3 | elapsed:    2.0s finished\n"
     ]
    },
    {
     "name": "stdout",
     "output_type": "stream",
     "text": [
      "78 T: 1.33484, score: 0.526408, std: 0.006350, params: {'max_features': 8, 'min_samples_split': 32, 'n_estimators': 100, 'max_depth': 106, 'random_state': 0, 'n_jobs': 8}\n"
     ]
    },
    {
     "name": "stderr",
     "output_type": "stream",
     "text": [
      "[Parallel(n_jobs=8)]: Done   3 out of   3 | elapsed:    1.9s finished\n"
     ]
    },
    {
     "name": "stdout",
     "output_type": "stream",
     "text": [
      "79 T: 1.33484, score: 0.524617, std: 0.005063, params: {'max_features': 6, 'min_samples_split': 32, 'n_estimators': 100, 'max_depth': 106, 'random_state': 0, 'n_jobs': 8}\n",
      "80 T: 1.33484, score: 0.524617, std: 0.005063, params: {'max_features': 6, 'min_samples_split': 32, 'n_estimators': 100, 'max_depth': 106, 'random_state': 0, 'n_jobs': 8}\n",
      "81 T: 1.33484, score: 0.524617, std: 0.005063, params: {'max_features': 6, 'min_samples_split': 32, 'n_estimators': 100, 'max_depth': 106, 'random_state': 0, 'n_jobs': 8}\n",
      "82 T: 1.00113, score: 0.532159, std: 0.006621, params: {'max_features': 14, 'min_samples_split': 32, 'n_estimators': 100, 'max_depth': 106, 'random_state': 0, 'n_jobs': 8}\n",
      "83 T: 1.00113, score: 0.532159, std: 0.006621, params: {'max_features': 14, 'min_samples_split': 32, 'n_estimators': 100, 'max_depth': 106, 'random_state': 0, 'n_jobs': 8}\n"
     ]
    },
    {
     "name": "stderr",
     "output_type": "stream",
     "text": [
      "[Parallel(n_jobs=8)]: Done   3 out of   3 | elapsed:    2.0s finished\n"
     ]
    },
    {
     "name": "stdout",
     "output_type": "stream",
     "text": [
      "84 T: 1.00113, score: 0.528706, std: 0.006194, params: {'max_features': 12, 'min_samples_split': 32, 'n_estimators': 100, 'max_depth': 106, 'random_state': 0, 'n_jobs': 8}\n"
     ]
    },
    {
     "name": "stderr",
     "output_type": "stream",
     "text": [
      "[Parallel(n_jobs=8)]: Done   3 out of   3 | elapsed:    1.8s finished\n"
     ]
    },
    {
     "name": "stdout",
     "output_type": "stream",
     "text": [
      "85 T: 1.00113, score: 0.519949, std: 0.006116, params: {'max_features': 4, 'min_samples_split': 32, 'n_estimators': 100, 'max_depth': 106, 'random_state': 0, 'n_jobs': 8}\n"
     ]
    },
    {
     "name": "stderr",
     "output_type": "stream",
     "text": [
      "[Parallel(n_jobs=8)]: Done   3 out of   3 | elapsed:    1.9s finished\n"
     ]
    },
    {
     "name": "stdout",
     "output_type": "stream",
     "text": [
      "86 T: 1.00113, score: 0.511596, std: 0.004547, params: {'max_features': 4, 'min_samples_split': 76, 'n_estimators': 100, 'max_depth': 106, 'random_state': 0, 'n_jobs': 8}\n"
     ]
    },
    {
     "name": "stderr",
     "output_type": "stream",
     "text": [
      "[Parallel(n_jobs=8)]: Done   3 out of   3 | elapsed:    1.9s finished\n"
     ]
    },
    {
     "name": "stdout",
     "output_type": "stream",
     "text": [
      "87 T: 1.00113, score: 0.522112, std: 0.007111, params: {'max_features': 4, 'min_samples_split': 22, 'n_estimators': 100, 'max_depth': 106, 'random_state': 0, 'n_jobs': 8}\n",
      "88 T: 1.00113, score: 0.522112, std: 0.007111, params: {'max_features': 4, 'min_samples_split': 22, 'n_estimators': 100, 'max_depth': 106, 'random_state': 0, 'n_jobs': 8}\n",
      "89 T: 1.00113, score: 0.522112, std: 0.007111, params: {'max_features': 4, 'min_samples_split': 22, 'n_estimators': 100, 'max_depth': 106, 'random_state': 0, 'n_jobs': 8}\n"
     ]
    },
    {
     "name": "stderr",
     "output_type": "stream",
     "text": [
      "[Parallel(n_jobs=8)]: Done   3 out of   3 | elapsed:    1.9s finished\n"
     ]
    },
    {
     "name": "stdout",
     "output_type": "stream",
     "text": [
      "90 T: 1.00113, score: 0.508677, std: 0.006233, params: {'max_features': 4, 'min_samples_split': 78, 'n_estimators': 100, 'max_depth': 106, 'random_state': 0, 'n_jobs': 8}\n"
     ]
    },
    {
     "name": "stderr",
     "output_type": "stream",
     "text": [
      "[Parallel(n_jobs=8)]: Done   3 out of   3 | elapsed:    1.9s finished\n"
     ]
    },
    {
     "name": "stdout",
     "output_type": "stream",
     "text": [
      "91 T: 1.00113, score: 0.512249, std: 0.004641, params: {'max_features': 4, 'min_samples_split': 68, 'n_estimators': 100, 'max_depth': 106, 'random_state': 0, 'n_jobs': 8}\n"
     ]
    },
    {
     "name": "stderr",
     "output_type": "stream",
     "text": [
      "[Parallel(n_jobs=8)]: Done   3 out of   3 | elapsed:    1.8s finished\n"
     ]
    },
    {
     "name": "stdout",
     "output_type": "stream",
     "text": [
      "92 T: 0.75085, score: 0.520374, std: 0.006567, params: {'max_features': 8, 'min_samples_split': 68, 'n_estimators': 100, 'max_depth': 106, 'random_state': 0, 'n_jobs': 8}\n",
      "93 T: 0.75085, score: 0.520374, std: 0.006567, params: {'max_features': 8, 'min_samples_split': 68, 'n_estimators': 100, 'max_depth': 106, 'random_state': 0, 'n_jobs': 8}\n"
     ]
    },
    {
     "name": "stderr",
     "output_type": "stream",
     "text": [
      "[Parallel(n_jobs=8)]: Done   3 out of   3 | elapsed:    1.9s finished\n"
     ]
    },
    {
     "name": "stdout",
     "output_type": "stream",
     "text": [
      "94 T: 0.75085, score: 0.520374, std: 0.006567, params: {'max_features': 8, 'min_samples_split': 68, 'n_estimators': 100, 'max_depth': 136, 'random_state': 0, 'n_jobs': 8}\n",
      "95 T: 0.75085, score: 0.520374, std: 0.006567, params: {'max_features': 8, 'min_samples_split': 68, 'n_estimators': 100, 'max_depth': 136, 'random_state': 0, 'n_jobs': 8}\n",
      "96 T: 0.75085, score: 0.520374, std: 0.006567, params: {'max_features': 8, 'min_samples_split': 68, 'n_estimators': 100, 'max_depth': 136, 'random_state': 0, 'n_jobs': 8}\n"
     ]
    },
    {
     "name": "stderr",
     "output_type": "stream",
     "text": [
      "[Parallel(n_jobs=8)]: Done   3 out of   3 | elapsed:    1.9s finished\n"
     ]
    },
    {
     "name": "stdout",
     "output_type": "stream",
     "text": [
      "97 T: 0.75085, score: 0.529208, std: 0.005626, params: {'max_features': 18, 'min_samples_split': 68, 'n_estimators': 100, 'max_depth': 136, 'random_state': 0, 'n_jobs': 8}\n"
     ]
    },
    {
     "name": "stderr",
     "output_type": "stream",
     "text": [
      "[Parallel(n_jobs=8)]: Done   3 out of   3 | elapsed:    1.9s finished\n"
     ]
    },
    {
     "name": "stdout",
     "output_type": "stream",
     "text": [
      "98 T: 0.75085, score: 0.528920, std: 0.005791, params: {'max_features': 18, 'min_samples_split': 68, 'n_estimators': 100, 'max_depth': 66, 'random_state': 0, 'n_jobs': 8}\n",
      "99 T: 0.75085, score: 0.528920, std: 0.005791, params: {'max_features': 18, 'min_samples_split': 68, 'n_estimators': 100, 'max_depth': 66, 'random_state': 0, 'n_jobs': 8}\n"
     ]
    },
    {
     "name": "stderr",
     "output_type": "stream",
     "text": [
      "[Parallel(n_jobs=8)]: Done   3 out of   3 | elapsed:    2.0s finished\n"
     ]
    },
    {
     "name": "stdout",
     "output_type": "stream",
     "text": [
      "100 T: 0.75085, score: 0.526955, std: 0.006084, params: {'max_features': 18, 'min_samples_split': 68, 'n_estimators': 100, 'max_depth': 22, 'random_state': 0, 'n_jobs': 8}\n"
     ]
    },
    {
     "name": "stderr",
     "output_type": "stream",
     "text": [
      "[Parallel(n_jobs=8)]: Done   3 out of   3 | elapsed:    2.0s finished\n"
     ]
    },
    {
     "name": "stdout",
     "output_type": "stream",
     "text": [
      "101 T: 0.75085, score: 0.529213, std: 0.005930, params: {'max_features': 18, 'min_samples_split': 68, 'n_estimators': 100, 'max_depth': 52, 'random_state': 0, 'n_jobs': 8}\n",
      "102 T: 0.56314, score: 0.529213, std: 0.005930, params: {'max_features': 18, 'min_samples_split': 68, 'n_estimators': 100, 'max_depth': 52, 'random_state': 0, 'n_jobs': 8}\n",
      "103 T: 0.56314, score: 0.529213, std: 0.005930, params: {'max_features': 18, 'min_samples_split': 68, 'n_estimators': 100, 'max_depth': 52, 'random_state': 0, 'n_jobs': 8}\n"
     ]
    },
    {
     "name": "stderr",
     "output_type": "stream",
     "text": [
      "[Parallel(n_jobs=8)]: Done   3 out of   3 | elapsed:    2.3s finished\n"
     ]
    },
    {
     "name": "stdout",
     "output_type": "stream",
     "text": [
      "104 T: 0.56314, score: 0.529208, std: 0.005626, params: {'max_features': 18, 'min_samples_split': 68, 'n_estimators': 100, 'max_depth': 140, 'random_state': 0, 'n_jobs': 8}\n",
      "105 T: 0.56314, score: 0.529208, std: 0.005626, params: {'max_features': 18, 'min_samples_split': 68, 'n_estimators': 100, 'max_depth': 140, 'random_state': 0, 'n_jobs': 8}\n"
     ]
    },
    {
     "name": "stderr",
     "output_type": "stream",
     "text": [
      "[Parallel(n_jobs=8)]: Done   3 out of   3 | elapsed:    1.7s finished\n"
     ]
    },
    {
     "name": "stdout",
     "output_type": "stream",
     "text": [
      "106 T: 0.56314, score: 0.235287, std: 0.006079, params: {'max_features': 18, 'min_samples_split': 68, 'n_estimators': 100, 'max_depth': 2, 'random_state': 0, 'n_jobs': 8}\n"
     ]
    },
    {
     "name": "stderr",
     "output_type": "stream",
     "text": [
      "[Parallel(n_jobs=8)]: Done   3 out of   3 | elapsed:    1.6s finished\n"
     ]
    },
    {
     "name": "stdout",
     "output_type": "stream",
     "text": [
      "107 T: 0.56314, score: 0.235323, std: 0.006029, params: {'max_features': 18, 'min_samples_split': 44, 'n_estimators': 100, 'max_depth': 2, 'random_state': 0, 'n_jobs': 8}\n",
      "108 T: 0.56314, score: 0.235323, std: 0.006029, params: {'max_features': 18, 'min_samples_split': 44, 'n_estimators': 100, 'max_depth': 2, 'random_state': 0, 'n_jobs': 8}\n"
     ]
    },
    {
     "name": "stderr",
     "output_type": "stream",
     "text": [
      "[Parallel(n_jobs=8)]: Done   3 out of   3 | elapsed:    1.6s finished\n"
     ]
    },
    {
     "name": "stdout",
     "output_type": "stream",
     "text": [
      "109 T: 0.56314, score: 0.142327, std: 0.004708, params: {'max_features': 8, 'min_samples_split': 44, 'n_estimators': 100, 'max_depth': 2, 'random_state': 0, 'n_jobs': 8}\n",
      "110 T: 0.56314, score: 0.142327, std: 0.004708, params: {'max_features': 8, 'min_samples_split': 44, 'n_estimators': 100, 'max_depth': 2, 'random_state': 0, 'n_jobs': 8}\n"
     ]
    },
    {
     "name": "stderr",
     "output_type": "stream",
     "text": [
      "[Parallel(n_jobs=8)]: Done   3 out of   3 | elapsed:    1.6s finished\n"
     ]
    },
    {
     "name": "stdout",
     "output_type": "stream",
     "text": [
      "111 T: 0.56314, score: 0.101601, std: 0.008176, params: {'max_features': 6, 'min_samples_split': 44, 'n_estimators': 100, 'max_depth': 2, 'random_state': 0, 'n_jobs': 8}\n",
      "112 T: 0.42235, score: 0.235323, std: 0.006029, params: {'max_features': 18, 'min_samples_split': 44, 'n_estimators': 100, 'max_depth': 2, 'random_state': 0, 'n_jobs': 8}\n",
      "113 T: 0.42235, score: 0.235323, std: 0.006029, params: {'max_features': 18, 'min_samples_split': 44, 'n_estimators': 100, 'max_depth': 2, 'random_state': 0, 'n_jobs': 8}\n",
      "114 T: 0.42235, score: 0.235323, std: 0.006029, params: {'max_features': 18, 'min_samples_split': 44, 'n_estimators': 100, 'max_depth': 2, 'random_state': 0, 'n_jobs': 8}\n",
      "115 T: 0.42235, score: 0.235323, std: 0.006029, params: {'max_features': 18, 'min_samples_split': 44, 'n_estimators': 100, 'max_depth': 2, 'random_state': 0, 'n_jobs': 8}\n"
     ]
    },
    {
     "name": "stderr",
     "output_type": "stream",
     "text": [
      "[Parallel(n_jobs=8)]: Done   3 out of   3 | elapsed:    1.6s finished\n"
     ]
    },
    {
     "name": "stdout",
     "output_type": "stream",
     "text": [
      "116 T: 0.42235, score: 0.235323, std: 0.006029, params: {'max_features': 18, 'min_samples_split': 40, 'n_estimators': 100, 'max_depth': 2, 'random_state': 0, 'n_jobs': 8}\n",
      "117 T: 0.42235, score: 0.235323, std: 0.006029, params: {'max_features': 18, 'min_samples_split': 40, 'n_estimators': 100, 'max_depth': 2, 'random_state': 0, 'n_jobs': 8}\n"
     ]
    },
    {
     "name": "stderr",
     "output_type": "stream",
     "text": [
      "[Parallel(n_jobs=8)]: Done   3 out of   3 | elapsed:    1.6s finished\n"
     ]
    },
    {
     "name": "stdout",
     "output_type": "stream",
     "text": [
      "118 T: 0.42235, score: 0.235323, std: 0.006029, params: {'max_features': 18, 'min_samples_split': 34, 'n_estimators': 100, 'max_depth': 2, 'random_state': 0, 'n_jobs': 8}\n"
     ]
    },
    {
     "name": "stderr",
     "output_type": "stream",
     "text": [
      "[Parallel(n_jobs=8)]: Done   3 out of   3 | elapsed:    2.0s finished\n"
     ]
    },
    {
     "name": "stdout",
     "output_type": "stream",
     "text": [
      "119 T: 0.42235, score: 0.531195, std: 0.007444, params: {'max_features': 18, 'min_samples_split': 34, 'n_estimators': 100, 'max_depth': 182, 'random_state': 0, 'n_jobs': 8}\n"
     ]
    },
    {
     "name": "stderr",
     "output_type": "stream",
     "text": [
      "[Parallel(n_jobs=8)]: Done   3 out of   3 | elapsed:    2.0s finished\n"
     ]
    },
    {
     "name": "stdout",
     "output_type": "stream",
     "text": [
      "120 T: 0.42235, score: 0.531264, std: 0.006964, params: {'max_features': 18, 'min_samples_split': 34, 'n_estimators': 100, 'max_depth': 24, 'random_state': 0, 'n_jobs': 8}\n"
     ]
    },
    {
     "name": "stderr",
     "output_type": "stream",
     "text": [
      "[Parallel(n_jobs=8)]: Done   3 out of   3 | elapsed:    2.0s finished\n"
     ]
    },
    {
     "name": "stdout",
     "output_type": "stream",
     "text": [
      "121 T: 0.42235, score: 0.527619, std: 0.006963, params: {'max_features': 16, 'min_samples_split': 34, 'n_estimators': 100, 'max_depth': 24, 'random_state': 0, 'n_jobs': 8}\n",
      "122 T: 0.31676, score: 0.527619, std: 0.006963, params: {'max_features': 16, 'min_samples_split': 34, 'n_estimators': 100, 'max_depth': 24, 'random_state': 0, 'n_jobs': 8}\n",
      "123 T: 0.31676, score: 0.527619, std: 0.006963, params: {'max_features': 16, 'min_samples_split': 34, 'n_estimators': 100, 'max_depth': 24, 'random_state': 0, 'n_jobs': 8}\n",
      "124 T: 0.31676, score: 0.527619, std: 0.006963, params: {'max_features': 16, 'min_samples_split': 34, 'n_estimators': 100, 'max_depth': 24, 'random_state': 0, 'n_jobs': 8}\n",
      "125 T: 0.31676, score: 0.527619, std: 0.006963, params: {'max_features': 16, 'min_samples_split': 34, 'n_estimators': 100, 'max_depth': 24, 'random_state': 0, 'n_jobs': 8}\n",
      "126 T: 0.31676, score: 0.527619, std: 0.006963, params: {'max_features': 16, 'min_samples_split': 34, 'n_estimators': 100, 'max_depth': 24, 'random_state': 0, 'n_jobs': 8}\n",
      "127 T: 0.31676, score: 0.527619, std: 0.006963, params: {'max_features': 16, 'min_samples_split': 34, 'n_estimators': 100, 'max_depth': 24, 'random_state': 0, 'n_jobs': 8}\n"
     ]
    },
    {
     "name": "stderr",
     "output_type": "stream",
     "text": [
      "[Parallel(n_jobs=8)]: Done   3 out of   3 | elapsed:    1.8s finished\n"
     ]
    },
    {
     "name": "stdout",
     "output_type": "stream",
     "text": [
      "128 T: 0.31676, score: 0.434133, std: 0.002020, params: {'max_features': 4, 'min_samples_split': 34, 'n_estimators': 100, 'max_depth': 24, 'random_state': 0, 'n_jobs': 8}\n"
     ]
    },
    {
     "name": "stderr",
     "output_type": "stream",
     "text": [
      "[Parallel(n_jobs=8)]: Done   3 out of   3 | elapsed:    1.9s finished\n"
     ]
    },
    {
     "name": "stdout",
     "output_type": "stream",
     "text": [
      "129 T: 0.31676, score: 0.519647, std: 0.007808, params: {'max_features': 4, 'min_samples_split': 34, 'n_estimators': 100, 'max_depth': 150, 'random_state': 0, 'n_jobs': 8}\n"
     ]
    },
    {
     "name": "stderr",
     "output_type": "stream",
     "text": [
      "[Parallel(n_jobs=8)]: Done   3 out of   3 | elapsed:    1.9s finished\n"
     ]
    },
    {
     "name": "stdout",
     "output_type": "stream",
     "text": [
      "130 T: 0.31676, score: 0.496607, std: 0.003394, params: {'max_features': 4, 'min_samples_split': 34, 'n_estimators': 100, 'max_depth': 42, 'random_state': 0, 'n_jobs': 8}\n"
     ]
    },
    {
     "name": "stderr",
     "output_type": "stream",
     "text": [
      "[Parallel(n_jobs=8)]: Done   3 out of   3 | elapsed:    1.8s finished\n"
     ]
    },
    {
     "name": "stdout",
     "output_type": "stream",
     "text": [
      "131 T: 0.31676, score: 0.507415, std: 0.007195, params: {'max_features': 4, 'min_samples_split': 10, 'n_estimators': 100, 'max_depth': 42, 'random_state': 0, 'n_jobs': 8}\n",
      "132 T: 0.23757, score: 0.507415, std: 0.007195, params: {'max_features': 4, 'min_samples_split': 10, 'n_estimators': 100, 'max_depth': 42, 'random_state': 0, 'n_jobs': 8}\n",
      "133 T: 0.23757, score: 0.507415, std: 0.007195, params: {'max_features': 4, 'min_samples_split': 10, 'n_estimators': 100, 'max_depth': 42, 'random_state': 0, 'n_jobs': 8}\n"
     ]
    },
    {
     "name": "stderr",
     "output_type": "stream",
     "text": [
      "[Parallel(n_jobs=8)]: Done   3 out of   3 | elapsed:    1.9s finished\n"
     ]
    },
    {
     "name": "stdout",
     "output_type": "stream",
     "text": [
      "134 T: 0.23757, score: 0.520960, std: 0.007418, params: {'max_features': 4, 'min_samples_split': 10, 'n_estimators': 100, 'max_depth': 58, 'random_state': 0, 'n_jobs': 8}\n"
     ]
    },
    {
     "name": "stderr",
     "output_type": "stream",
     "text": [
      "[Parallel(n_jobs=8)]: Done   3 out of   3 | elapsed:    1.9s finished\n"
     ]
    },
    {
     "name": "stdout",
     "output_type": "stream",
     "text": [
      "135 T: 0.23757, score: 0.508950, std: 0.006000, params: {'max_features': 4, 'min_samples_split': 50, 'n_estimators': 100, 'max_depth': 58, 'random_state': 0, 'n_jobs': 8}\n",
      "136 T: 0.23757, score: 0.508950, std: 0.006000, params: {'max_features': 4, 'min_samples_split': 50, 'n_estimators': 100, 'max_depth': 58, 'random_state': 0, 'n_jobs': 8}\n"
     ]
    },
    {
     "name": "stderr",
     "output_type": "stream",
     "text": [
      "[Parallel(n_jobs=8)]: Done   3 out of   3 | elapsed:    1.9s finished\n"
     ]
    },
    {
     "name": "stdout",
     "output_type": "stream",
     "text": [
      "137 T: 0.23757, score: 0.513380, std: 0.006105, params: {'max_features': 4, 'min_samples_split': 36, 'n_estimators': 100, 'max_depth': 58, 'random_state': 0, 'n_jobs': 8}\n"
     ]
    },
    {
     "name": "stderr",
     "output_type": "stream",
     "text": [
      "[Parallel(n_jobs=8)]: Done   3 out of   3 | elapsed:    2.0s finished\n"
     ]
    },
    {
     "name": "stdout",
     "output_type": "stream",
     "text": [
      "138 T: 0.23757, score: 0.520010, std: 0.006574, params: {'max_features': 4, 'min_samples_split': 36, 'n_estimators': 100, 'max_depth': 180, 'random_state': 0, 'n_jobs': 8}\n"
     ]
    },
    {
     "name": "stderr",
     "output_type": "stream",
     "text": [
      "[Parallel(n_jobs=8)]: Done   3 out of   3 | elapsed:    2.0s finished\n"
     ]
    },
    {
     "name": "stdout",
     "output_type": "stream",
     "text": [
      "139 T: 0.23757, score: 0.520042, std: 0.006535, params: {'max_features': 4, 'min_samples_split': 36, 'n_estimators': 100, 'max_depth': 140, 'random_state': 0, 'n_jobs': 8}\n"
     ]
    },
    {
     "name": "stderr",
     "output_type": "stream",
     "text": [
      "[Parallel(n_jobs=8)]: Done   3 out of   3 | elapsed:    2.0s finished\n"
     ]
    },
    {
     "name": "stdout",
     "output_type": "stream",
     "text": [
      "140 T: 0.23757, score: 0.510247, std: 0.005116, params: {'max_features': 4, 'min_samples_split': 74, 'n_estimators': 100, 'max_depth': 140, 'random_state': 0, 'n_jobs': 8}\n",
      "141 T: 0.23757, score: 0.510247, std: 0.005116, params: {'max_features': 4, 'min_samples_split': 74, 'n_estimators': 100, 'max_depth': 140, 'random_state': 0, 'n_jobs': 8}\n"
     ]
    },
    {
     "name": "stderr",
     "output_type": "stream",
     "text": [
      "[Parallel(n_jobs=8)]: Done   3 out of   3 | elapsed:    1.6s finished\n"
     ]
    },
    {
     "name": "stdout",
     "output_type": "stream",
     "text": [
      "142 T: 0.17818, score: 0.234059, std: 0.008441, params: {'max_features': 4, 'min_samples_split': 74, 'n_estimators': 100, 'max_depth': 8, 'random_state': 0, 'n_jobs': 8}\n",
      "143 T: 0.17818, score: 0.510247, std: 0.005116, params: {'max_features': 4, 'min_samples_split': 74, 'n_estimators': 100, 'max_depth': 140, 'random_state': 0, 'n_jobs': 8}\n",
      "144 T: 0.17818, score: 0.510247, std: 0.005116, params: {'max_features': 4, 'min_samples_split': 74, 'n_estimators': 100, 'max_depth': 140, 'random_state': 0, 'n_jobs': 8}\n",
      "145 T: 0.17818, score: 0.510247, std: 0.005116, params: {'max_features': 4, 'min_samples_split': 74, 'n_estimators': 100, 'max_depth': 140, 'random_state': 0, 'n_jobs': 8}\n",
      "146 T: 0.17818, score: 0.510247, std: 0.005116, params: {'max_features': 4, 'min_samples_split': 74, 'n_estimators': 100, 'max_depth': 140, 'random_state': 0, 'n_jobs': 8}\n"
     ]
    },
    {
     "name": "stderr",
     "output_type": "stream",
     "text": [
      "[Parallel(n_jobs=8)]: Done   3 out of   3 | elapsed:    2.0s finished\n"
     ]
    },
    {
     "name": "stdout",
     "output_type": "stream",
     "text": [
      "147 T: 0.17818, score: 0.517527, std: 0.006181, params: {'max_features': 6, 'min_samples_split': 74, 'n_estimators': 100, 'max_depth': 140, 'random_state': 0, 'n_jobs': 8}\n",
      "148 T: 0.17818, score: 0.517527, std: 0.006181, params: {'max_features': 6, 'min_samples_split': 74, 'n_estimators': 100, 'max_depth': 140, 'random_state': 0, 'n_jobs': 8}\n"
     ]
    },
    {
     "name": "stderr",
     "output_type": "stream",
     "text": [
      "[Parallel(n_jobs=8)]: Done   3 out of   3 | elapsed:    1.9s finished\n"
     ]
    },
    {
     "name": "stdout",
     "output_type": "stream",
     "text": [
      "149 T: 0.17818, score: 0.522828, std: 0.005742, params: {'max_features': 6, 'min_samples_split': 48, 'n_estimators': 100, 'max_depth': 140, 'random_state': 0, 'n_jobs': 8}\n"
     ]
    },
    {
     "name": "stderr",
     "output_type": "stream",
     "text": [
      "[Parallel(n_jobs=8)]: Done   3 out of   3 | elapsed:    2.0s finished\n"
     ]
    },
    {
     "name": "stdout",
     "output_type": "stream",
     "text": [
      "150 T: 0.17818, score: 0.525642, std: 0.006949, params: {'max_features': 6, 'min_samples_split': 20, 'n_estimators': 100, 'max_depth': 140, 'random_state': 0, 'n_jobs': 8}\n"
     ]
    },
    {
     "name": "stderr",
     "output_type": "stream",
     "text": [
      "[Parallel(n_jobs=8)]: Done   3 out of   3 | elapsed:    1.9s finished\n"
     ]
    },
    {
     "name": "stdout",
     "output_type": "stream",
     "text": [
      "151 T: 0.17818, score: 0.527230, std: 0.006609, params: {'max_features': 6, 'min_samples_split': 20, 'n_estimators': 100, 'max_depth': 88, 'random_state': 0, 'n_jobs': 8}\n",
      "152 T: 0.13363, score: 0.527230, std: 0.006609, params: {'max_features': 6, 'min_samples_split': 20, 'n_estimators': 100, 'max_depth': 88, 'random_state': 0, 'n_jobs': 8}\n",
      "153 T: 0.13363, score: 0.527230, std: 0.006609, params: {'max_features': 6, 'min_samples_split': 20, 'n_estimators': 100, 'max_depth': 88, 'random_state': 0, 'n_jobs': 8}\n",
      "154 T: 0.13363, score: 0.527230, std: 0.006609, params: {'max_features': 6, 'min_samples_split': 20, 'n_estimators': 100, 'max_depth': 88, 'random_state': 0, 'n_jobs': 8}\n"
     ]
    },
    {
     "name": "stderr",
     "output_type": "stream",
     "text": [
      "[Parallel(n_jobs=8)]: Done   3 out of   3 | elapsed:    1.9s finished\n"
     ]
    },
    {
     "name": "stdout",
     "output_type": "stream",
     "text": [
      "155 T: 0.13363, score: 0.526571, std: 0.007432, params: {'max_features': 8, 'min_samples_split': 20, 'n_estimators': 100, 'max_depth': 88, 'random_state': 0, 'n_jobs': 8}\n",
      "156 T: 0.13363, score: 0.526571, std: 0.007432, params: {'max_features': 8, 'min_samples_split': 20, 'n_estimators': 100, 'max_depth': 88, 'random_state': 0, 'n_jobs': 8}\n",
      "157 T: 0.13363, score: 0.526571, std: 0.007432, params: {'max_features': 8, 'min_samples_split': 20, 'n_estimators': 100, 'max_depth': 88, 'random_state': 0, 'n_jobs': 8}\n"
     ]
    },
    {
     "name": "stderr",
     "output_type": "stream",
     "text": [
      "[Parallel(n_jobs=8)]: Done   3 out of   3 | elapsed:    1.9s finished\n"
     ]
    },
    {
     "name": "stdout",
     "output_type": "stream",
     "text": [
      "158 T: 0.13363, score: 0.521287, std: 0.005349, params: {'max_features': 8, 'min_samples_split': 70, 'n_estimators': 100, 'max_depth': 88, 'random_state': 0, 'n_jobs': 8}\n",
      "159 T: 0.13363, score: 0.521287, std: 0.005349, params: {'max_features': 8, 'min_samples_split': 70, 'n_estimators': 100, 'max_depth': 88, 'random_state': 0, 'n_jobs': 8}\n"
     ]
    },
    {
     "name": "stderr",
     "output_type": "stream",
     "text": [
      "[Parallel(n_jobs=8)]: Done   3 out of   3 | elapsed:    1.9s finished\n"
     ]
    },
    {
     "name": "stdout",
     "output_type": "stream",
     "text": [
      "160 T: 0.13363, score: 0.521525, std: 0.005990, params: {'max_features': 8, 'min_samples_split': 70, 'n_estimators': 100, 'max_depth': 114, 'random_state': 0, 'n_jobs': 8}\n"
     ]
    },
    {
     "name": "stderr",
     "output_type": "stream",
     "text": [
      "[Parallel(n_jobs=8)]: Done   3 out of   3 | elapsed:    2.1s finished\n"
     ]
    },
    {
     "name": "stdout",
     "output_type": "stream",
     "text": [
      "161 T: 0.13363, score: 0.525488, std: 0.007340, params: {'max_features': 8, 'min_samples_split': 6, 'n_estimators': 100, 'max_depth': 114, 'random_state': 0, 'n_jobs': 8}\n",
      "162 T: 0.10023, score: 0.525488, std: 0.007340, params: {'max_features': 8, 'min_samples_split': 6, 'n_estimators': 100, 'max_depth': 114, 'random_state': 0, 'n_jobs': 8}\n"
     ]
    },
    {
     "name": "stderr",
     "output_type": "stream",
     "text": [
      "[Parallel(n_jobs=8)]: Done   3 out of   3 | elapsed:    2.0s finished\n"
     ]
    },
    {
     "name": "stdout",
     "output_type": "stream",
     "text": [
      "163 T: 0.10023, score: 0.524500, std: 0.008372, params: {'max_features': 8, 'min_samples_split': 6, 'n_estimators': 100, 'max_depth': 94, 'random_state': 0, 'n_jobs': 8}\n",
      "164 T: 0.10023, score: 0.524500, std: 0.008372, params: {'max_features': 8, 'min_samples_split': 6, 'n_estimators': 100, 'max_depth': 94, 'random_state': 0, 'n_jobs': 8}\n",
      "165 T: 0.10023, score: 0.524500, std: 0.008372, params: {'max_features': 8, 'min_samples_split': 6, 'n_estimators': 100, 'max_depth': 94, 'random_state': 0, 'n_jobs': 8}\n"
     ]
    },
    {
     "name": "stderr",
     "output_type": "stream",
     "text": [
      "[Parallel(n_jobs=8)]: Done   3 out of   3 | elapsed:    1.9s finished\n"
     ]
    },
    {
     "name": "stdout",
     "output_type": "stream",
     "text": [
      "166 T: 0.10023, score: 0.520298, std: 0.006457, params: {'max_features': 8, 'min_samples_split': 68, 'n_estimators': 100, 'max_depth': 94, 'random_state': 0, 'n_jobs': 8}\n"
     ]
    },
    {
     "name": "stderr",
     "output_type": "stream",
     "text": [
      "[Parallel(n_jobs=8)]: Done   3 out of   3 | elapsed:    1.9s finished\n"
     ]
    },
    {
     "name": "stdout",
     "output_type": "stream",
     "text": [
      "167 T: 0.10023, score: 0.527397, std: 0.007711, params: {'max_features': 8, 'min_samples_split': 28, 'n_estimators': 100, 'max_depth': 94, 'random_state': 0, 'n_jobs': 8}\n",
      "168 T: 0.10023, score: 0.527397, std: 0.007711, params: {'max_features': 8, 'min_samples_split': 28, 'n_estimators': 100, 'max_depth': 94, 'random_state': 0, 'n_jobs': 8}\n",
      "169 T: 0.10023, score: 0.527397, std: 0.007711, params: {'max_features': 8, 'min_samples_split': 28, 'n_estimators': 100, 'max_depth': 94, 'random_state': 0, 'n_jobs': 8}\n",
      "170 T: 0.10023, score: 0.527397, std: 0.007711, params: {'max_features': 8, 'min_samples_split': 28, 'n_estimators': 100, 'max_depth': 94, 'random_state': 0, 'n_jobs': 8}\n",
      "171 T: 0.10023, score: 0.527397, std: 0.007711, params: {'max_features': 8, 'min_samples_split': 28, 'n_estimators': 100, 'max_depth': 94, 'random_state': 0, 'n_jobs': 8}\n",
      "172 T: 0.07517, score: 0.527397, std: 0.007711, params: {'max_features': 8, 'min_samples_split': 28, 'n_estimators': 100, 'max_depth': 94, 'random_state': 0, 'n_jobs': 8}\n",
      "173 T: 0.07517, score: 0.527397, std: 0.007711, params: {'max_features': 8, 'min_samples_split': 28, 'n_estimators': 100, 'max_depth': 94, 'random_state': 0, 'n_jobs': 8}\n",
      "174 T: 0.07517, score: 0.527397, std: 0.007711, params: {'max_features': 8, 'min_samples_split': 28, 'n_estimators': 100, 'max_depth': 94, 'random_state': 0, 'n_jobs': 8}\n",
      "175 T: 0.07517, score: 0.527397, std: 0.007711, params: {'max_features': 8, 'min_samples_split': 28, 'n_estimators': 100, 'max_depth': 94, 'random_state': 0, 'n_jobs': 8}\n"
     ]
    },
    {
     "name": "stderr",
     "output_type": "stream",
     "text": [
      "[Parallel(n_jobs=8)]: Done   3 out of   3 | elapsed:    2.0s finished\n"
     ]
    },
    {
     "name": "stdout",
     "output_type": "stream",
     "text": [
      "176 T: 0.07517, score: 0.527066, std: 0.007720, params: {'max_features': 8, 'min_samples_split': 28, 'n_estimators': 100, 'max_depth': 112, 'random_state': 0, 'n_jobs': 8}\n"
     ]
    },
    {
     "name": "stderr",
     "output_type": "stream",
     "text": [
      "[Parallel(n_jobs=8)]: Done   3 out of   3 | elapsed:    1.9s finished\n"
     ]
    },
    {
     "name": "stdout",
     "output_type": "stream",
     "text": [
      "177 T: 0.07517, score: 0.527076, std: 0.007734, params: {'max_features': 8, 'min_samples_split': 28, 'n_estimators': 100, 'max_depth': 178, 'random_state': 0, 'n_jobs': 8}\n",
      "178 T: 0.07517, score: 0.527076, std: 0.007734, params: {'max_features': 8, 'min_samples_split': 28, 'n_estimators': 100, 'max_depth': 178, 'random_state': 0, 'n_jobs': 8}\n"
     ]
    },
    {
     "name": "stderr",
     "output_type": "stream",
     "text": [
      "[Parallel(n_jobs=8)]: Done   3 out of   3 | elapsed:    1.9s finished\n"
     ]
    },
    {
     "name": "stdout",
     "output_type": "stream",
     "text": [
      "179 T: 0.07517, score: 0.526284, std: 0.006122, params: {'max_features': 8, 'min_samples_split': 42, 'n_estimators': 100, 'max_depth': 178, 'random_state': 0, 'n_jobs': 8}\n"
     ]
    },
    {
     "name": "stderr",
     "output_type": "stream",
     "text": [
      "[Parallel(n_jobs=8)]: Done   3 out of   3 | elapsed:    1.9s finished\n"
     ]
    },
    {
     "name": "stdout",
     "output_type": "stream",
     "text": [
      "180 T: 0.07517, score: 0.527296, std: 0.007666, params: {'max_features': 8, 'min_samples_split': 12, 'n_estimators': 100, 'max_depth': 178, 'random_state': 0, 'n_jobs': 8}\n"
     ]
    },
    {
     "name": "stderr",
     "output_type": "stream",
     "text": [
      "[Parallel(n_jobs=8)]: Done   3 out of   3 | elapsed:    2.0s finished\n"
     ]
    },
    {
     "name": "stdout",
     "output_type": "stream",
     "text": [
      "181 T: 0.07517, score: 0.523393, std: 0.007013, params: {'max_features': 8, 'min_samples_split': 12, 'n_estimators': 100, 'max_depth': 34, 'random_state': 0, 'n_jobs': 8}\n",
      "182 T: 0.05638, score: 0.523393, std: 0.007013, params: {'max_features': 8, 'min_samples_split': 12, 'n_estimators': 100, 'max_depth': 34, 'random_state': 0, 'n_jobs': 8}\n",
      "183 T: 0.05638, score: 0.523393, std: 0.007013, params: {'max_features': 8, 'min_samples_split': 12, 'n_estimators': 100, 'max_depth': 34, 'random_state': 0, 'n_jobs': 8}\n"
     ]
    },
    {
     "name": "stderr",
     "output_type": "stream",
     "text": [
      "[Parallel(n_jobs=8)]: Done   3 out of   3 | elapsed:    1.8s finished\n"
     ]
    },
    {
     "name": "stdout",
     "output_type": "stream",
     "text": [
      "184 T: 0.05638, score: 0.515778, std: 0.005156, params: {'max_features': 8, 'min_samples_split': 60, 'n_estimators': 100, 'max_depth': 34, 'random_state': 0, 'n_jobs': 8}\n"
     ]
    },
    {
     "name": "stderr",
     "output_type": "stream",
     "text": [
      "[Parallel(n_jobs=8)]: Done   3 out of   3 | elapsed:    1.9s finished\n"
     ]
    },
    {
     "name": "stdout",
     "output_type": "stream",
     "text": [
      "185 T: 0.05638, score: 0.525414, std: 0.006208, params: {'max_features': 12, 'min_samples_split': 60, 'n_estimators': 100, 'max_depth': 34, 'random_state': 0, 'n_jobs': 8}\n"
     ]
    },
    {
     "name": "stderr",
     "output_type": "stream",
     "text": [
      "[Parallel(n_jobs=8)]: Done   3 out of   3 | elapsed:    1.9s finished\n"
     ]
    },
    {
     "name": "stdout",
     "output_type": "stream",
     "text": [
      "186 T: 0.05638, score: 0.528396, std: 0.007173, params: {'max_features': 16, 'min_samples_split': 60, 'n_estimators': 100, 'max_depth': 34, 'random_state': 0, 'n_jobs': 8}\n",
      "187 T: 0.05638, score: 0.528396, std: 0.007173, params: {'max_features': 16, 'min_samples_split': 60, 'n_estimators': 100, 'max_depth': 34, 'random_state': 0, 'n_jobs': 8}\n"
     ]
    },
    {
     "name": "stderr",
     "output_type": "stream",
     "text": [
      "[Parallel(n_jobs=8)]: Done   3 out of   3 | elapsed:    1.7s finished\n"
     ]
    },
    {
     "name": "stdout",
     "output_type": "stream",
     "text": [
      "188 T: 0.05638, score: 0.405813, std: 0.002454, params: {'max_features': 2, 'min_samples_split': 60, 'n_estimators': 100, 'max_depth': 34, 'random_state': 0, 'n_jobs': 8}\n",
      "189 T: 0.05638, score: 0.405813, std: 0.002454, params: {'max_features': 2, 'min_samples_split': 60, 'n_estimators': 100, 'max_depth': 34, 'random_state': 0, 'n_jobs': 8}\n",
      "190 T: 0.05638, score: 0.528396, std: 0.007173, params: {'max_features': 16, 'min_samples_split': 60, 'n_estimators': 100, 'max_depth': 34, 'random_state': 0, 'n_jobs': 8}\n"
     ]
    },
    {
     "name": "stderr",
     "output_type": "stream",
     "text": [
      "[Parallel(n_jobs=8)]: Done   3 out of   3 | elapsed:    1.9s finished\n"
     ]
    },
    {
     "name": "stdout",
     "output_type": "stream",
     "text": [
      "191 T: 0.05638, score: 0.528951, std: 0.007668, params: {'max_features': 16, 'min_samples_split': 60, 'n_estimators': 100, 'max_depth': 52, 'random_state': 0, 'n_jobs': 8}\n"
     ]
    },
    {
     "name": "stderr",
     "output_type": "stream",
     "text": [
      "[Parallel(n_jobs=8)]: Done   3 out of   3 | elapsed:    1.9s finished\n"
     ]
    },
    {
     "name": "stdout",
     "output_type": "stream",
     "text": [
      "192 T: 0.04228, score: 0.528590, std: 0.007052, params: {'max_features': 12, 'min_samples_split': 60, 'n_estimators': 100, 'max_depth': 52, 'random_state': 0, 'n_jobs': 8}\n"
     ]
    },
    {
     "name": "stderr",
     "output_type": "stream",
     "text": [
      "[Parallel(n_jobs=8)]: Done   3 out of   3 | elapsed:    1.8s finished\n"
     ]
    },
    {
     "name": "stdout",
     "output_type": "stream",
     "text": [
      "193 T: 0.04228, score: 0.515677, std: 0.004574, params: {'max_features': 6, 'min_samples_split': 60, 'n_estimators': 100, 'max_depth': 52, 'random_state': 0, 'n_jobs': 8}\n",
      "194 T: 0.04228, score: 0.515677, std: 0.004574, params: {'max_features': 6, 'min_samples_split': 60, 'n_estimators': 100, 'max_depth': 52, 'random_state': 0, 'n_jobs': 8}\n",
      "195 T: 0.04228, score: 0.515677, std: 0.004574, params: {'max_features': 6, 'min_samples_split': 60, 'n_estimators': 100, 'max_depth': 52, 'random_state': 0, 'n_jobs': 8}\n",
      "196 T: 0.04228, score: 0.515677, std: 0.004574, params: {'max_features': 6, 'min_samples_split': 60, 'n_estimators': 100, 'max_depth': 52, 'random_state': 0, 'n_jobs': 8}\n"
     ]
    },
    {
     "name": "stderr",
     "output_type": "stream",
     "text": [
      "[Parallel(n_jobs=8)]: Done   3 out of   3 | elapsed:    1.8s finished\n"
     ]
    },
    {
     "name": "stdout",
     "output_type": "stream",
     "text": [
      "197 T: 0.04228, score: 0.515303, std: 0.006394, params: {'max_features': 6, 'min_samples_split': 62, 'n_estimators': 100, 'max_depth': 52, 'random_state': 0, 'n_jobs': 8}\n",
      "198 T: 0.04228, score: 0.515303, std: 0.006394, params: {'max_features': 6, 'min_samples_split': 62, 'n_estimators': 100, 'max_depth': 52, 'random_state': 0, 'n_jobs': 8}\n"
     ]
    },
    {
     "name": "stderr",
     "output_type": "stream",
     "text": [
      "[Parallel(n_jobs=8)]: Done   3 out of   3 | elapsed:    1.8s finished\n"
     ]
    },
    {
     "name": "stdout",
     "output_type": "stream",
     "text": [
      "199 T: 0.04228, score: 0.504781, std: 0.006849, params: {'max_features': 4, 'min_samples_split': 62, 'n_estimators': 100, 'max_depth': 52, 'random_state': 0, 'n_jobs': 8}\n"
     ]
    },
    {
     "name": "stderr",
     "output_type": "stream",
     "text": [
      "[Parallel(n_jobs=8)]: Done   3 out of   3 | elapsed:    1.9s finished\n"
     ]
    },
    {
     "name": "stdout",
     "output_type": "stream",
     "text": [
      "200 T: 0.04228, score: 0.513996, std: 0.005990, params: {'max_features': 6, 'min_samples_split': 74, 'n_estimators': 100, 'max_depth': 52, 'random_state': 0, 'n_jobs': 8}\n",
      "201 T: 0.04228, score: 0.513996, std: 0.005990, params: {'max_features': 6, 'min_samples_split': 74, 'n_estimators': 100, 'max_depth': 52, 'random_state': 0, 'n_jobs': 8}\n",
      "202 T: 0.03171, score: 0.513996, std: 0.005990, params: {'max_features': 6, 'min_samples_split': 74, 'n_estimators': 100, 'max_depth': 52, 'random_state': 0, 'n_jobs': 8}\n"
     ]
    },
    {
     "name": "stderr",
     "output_type": "stream",
     "text": [
      "[Parallel(n_jobs=8)]: Done   3 out of   3 | elapsed:    1.6s finished\n"
     ]
    },
    {
     "name": "stdout",
     "output_type": "stream",
     "text": [
      "203 T: 0.03171, score: 0.372855, std: 0.007680, params: {'max_features': 6, 'min_samples_split': 74, 'n_estimators': 100, 'max_depth': 14, 'random_state': 0, 'n_jobs': 8}\n",
      "204 T: 0.03171, score: 0.513996, std: 0.005990, params: {'max_features': 6, 'min_samples_split': 74, 'n_estimators': 100, 'max_depth': 52, 'random_state': 0, 'n_jobs': 8}\n"
     ]
    },
    {
     "name": "stderr",
     "output_type": "stream",
     "text": [
      "[Parallel(n_jobs=8)]: Done   3 out of   3 | elapsed:    1.9s finished\n"
     ]
    },
    {
     "name": "stdout",
     "output_type": "stream",
     "text": [
      "205 T: 0.03171, score: 0.511857, std: 0.005488, params: {'max_features': 6, 'min_samples_split': 78, 'n_estimators': 100, 'max_depth': 52, 'random_state': 0, 'n_jobs': 8}\n"
     ]
    },
    {
     "name": "stderr",
     "output_type": "stream",
     "text": [
      "[Parallel(n_jobs=8)]: Done   3 out of   3 | elapsed:    1.9s finished\n"
     ]
    },
    {
     "name": "stdout",
     "output_type": "stream",
     "text": [
      "206 T: 0.03171, score: 0.527495, std: 0.005382, params: {'max_features': 14, 'min_samples_split': 78, 'n_estimators': 100, 'max_depth': 52, 'random_state': 0, 'n_jobs': 8}\n"
     ]
    },
    {
     "name": "stderr",
     "output_type": "stream",
     "text": [
      "[Parallel(n_jobs=8)]: Done   3 out of   3 | elapsed:    1.8s finished\n"
     ]
    },
    {
     "name": "stdout",
     "output_type": "stream",
     "text": [
      "207 T: 0.03171, score: 0.453067, std: 0.004355, params: {'max_features': 2, 'min_samples_split': 78, 'n_estimators': 100, 'max_depth': 52, 'random_state': 0, 'n_jobs': 8}\n"
     ]
    },
    {
     "name": "stderr",
     "output_type": "stream",
     "text": [
      "[Parallel(n_jobs=8)]: Done   3 out of   3 | elapsed:    1.9s finished\n"
     ]
    },
    {
     "name": "stdout",
     "output_type": "stream",
     "text": [
      "208 T: 0.03171, score: 0.526310, std: 0.005328, params: {'max_features': 14, 'min_samples_split': 78, 'n_estimators': 100, 'max_depth': 40, 'random_state': 0, 'n_jobs': 8}\n",
      "209 T: 0.03171, score: 0.526310, std: 0.005328, params: {'max_features': 14, 'min_samples_split': 78, 'n_estimators': 100, 'max_depth': 40, 'random_state': 0, 'n_jobs': 8}\n"
     ]
    },
    {
     "name": "stderr",
     "output_type": "stream",
     "text": [
      "[Parallel(n_jobs=8)]: Done   3 out of   3 | elapsed:    1.8s finished\n"
     ]
    },
    {
     "name": "stdout",
     "output_type": "stream",
     "text": [
      "210 T: 0.03171, score: 0.483736, std: 0.004077, params: {'max_features': 4, 'min_samples_split': 78, 'n_estimators': 100, 'max_depth': 40, 'random_state': 0, 'n_jobs': 8}\n"
     ]
    },
    {
     "name": "stderr",
     "output_type": "stream",
     "text": [
      "[Parallel(n_jobs=8)]: Done   3 out of   3 | elapsed:    1.9s finished\n"
     ]
    },
    {
     "name": "stdout",
     "output_type": "stream",
     "text": [
      "211 T: 0.03171, score: 0.531281, std: 0.005857, params: {'max_features': 14, 'min_samples_split': 28, 'n_estimators': 100, 'max_depth': 40, 'random_state': 0, 'n_jobs': 8}\n",
      "212 T: 0.02378, score: 0.531281, std: 0.005857, params: {'max_features': 14, 'min_samples_split': 28, 'n_estimators': 100, 'max_depth': 40, 'random_state': 0, 'n_jobs': 8}\n"
     ]
    },
    {
     "name": "stderr",
     "output_type": "stream",
     "text": [
      "[Parallel(n_jobs=8)]: Done   3 out of   3 | elapsed:    2.1s finished\n"
     ]
    },
    {
     "name": "stdout",
     "output_type": "stream",
     "text": [
      "213 T: 0.02378, score: 0.524410, std: 0.007511, params: {'max_features': 14, 'min_samples_split': 2, 'n_estimators': 100, 'max_depth': 40, 'random_state': 0, 'n_jobs': 8}\n"
     ]
    },
    {
     "name": "stderr",
     "output_type": "stream",
     "text": [
      "[Parallel(n_jobs=8)]: Done   3 out of   3 | elapsed:    1.9s finished\n"
     ]
    },
    {
     "name": "stdout",
     "output_type": "stream",
     "text": [
      "214 T: 0.02378, score: 0.527870, std: 0.005459, params: {'max_features': 14, 'min_samples_split': 62, 'n_estimators': 100, 'max_depth': 40, 'random_state': 0, 'n_jobs': 8}\n",
      "215 T: 0.02378, score: 0.527870, std: 0.005459, params: {'max_features': 14, 'min_samples_split': 62, 'n_estimators': 100, 'max_depth': 40, 'random_state': 0, 'n_jobs': 8}\n"
     ]
    },
    {
     "name": "stderr",
     "output_type": "stream",
     "text": [
      "[Parallel(n_jobs=8)]: Done   3 out of   3 | elapsed:    1.9s finished\n"
     ]
    },
    {
     "name": "stdout",
     "output_type": "stream",
     "text": [
      "216 T: 0.02378, score: 0.526909, std: 0.006872, params: {'max_features': 14, 'min_samples_split': 74, 'n_estimators': 100, 'max_depth': 40, 'random_state': 0, 'n_jobs': 8}\n"
     ]
    },
    {
     "name": "stderr",
     "output_type": "stream",
     "text": [
      "[Parallel(n_jobs=8)]: Done   3 out of   3 | elapsed:    1.9s finished\n"
     ]
    },
    {
     "name": "stdout",
     "output_type": "stream",
     "text": [
      "217 T: 0.02378, score: 0.526099, std: 0.005640, params: {'max_features': 14, 'min_samples_split': 74, 'n_estimators': 100, 'max_depth': 146, 'random_state': 0, 'n_jobs': 8}\n",
      "218 T: 0.02378, score: 0.526099, std: 0.005640, params: {'max_features': 14, 'min_samples_split': 74, 'n_estimators': 100, 'max_depth': 146, 'random_state': 0, 'n_jobs': 8}\n"
     ]
    },
    {
     "name": "stderr",
     "output_type": "stream",
     "text": [
      "[Parallel(n_jobs=8)]: Done   3 out of   3 | elapsed:    1.9s finished\n"
     ]
    },
    {
     "name": "stdout",
     "output_type": "stream",
     "text": [
      "219 T: 0.02378, score: 0.526099, std: 0.005640, params: {'max_features': 14, 'min_samples_split': 74, 'n_estimators': 100, 'max_depth': 88, 'random_state': 0, 'n_jobs': 8}\n",
      "220 T: 0.02378, score: 0.526099, std: 0.005640, params: {'max_features': 14, 'min_samples_split': 74, 'n_estimators': 100, 'max_depth': 88, 'random_state': 0, 'n_jobs': 8}\n"
     ]
    },
    {
     "name": "stderr",
     "output_type": "stream",
     "text": [
      "[Parallel(n_jobs=8)]: Done   3 out of   3 | elapsed:    1.9s finished\n"
     ]
    },
    {
     "name": "stdout",
     "output_type": "stream",
     "text": [
      "221 T: 0.02378, score: 0.528614, std: 0.005543, params: {'max_features': 14, 'min_samples_split': 68, 'n_estimators': 100, 'max_depth': 88, 'random_state': 0, 'n_jobs': 8}\n",
      "222 T: 0.01784, score: 0.528614, std: 0.005543, params: {'max_features': 14, 'min_samples_split': 68, 'n_estimators': 100, 'max_depth': 88, 'random_state': 0, 'n_jobs': 8}\n",
      "223 T: 0.01784, score: 0.528614, std: 0.005543, params: {'max_features': 14, 'min_samples_split': 68, 'n_estimators': 100, 'max_depth': 88, 'random_state': 0, 'n_jobs': 8}\n",
      "224 T: 0.01784, score: 0.528614, std: 0.005543, params: {'max_features': 14, 'min_samples_split': 68, 'n_estimators': 100, 'max_depth': 88, 'random_state': 0, 'n_jobs': 8}\n",
      "225 T: 0.01784, score: 0.528614, std: 0.005543, params: {'max_features': 14, 'min_samples_split': 68, 'n_estimators': 100, 'max_depth': 88, 'random_state': 0, 'n_jobs': 8}\n",
      "226 T: 0.01784, score: 0.528614, std: 0.005543, params: {'max_features': 14, 'min_samples_split': 68, 'n_estimators': 100, 'max_depth': 88, 'random_state': 0, 'n_jobs': 8}\n"
     ]
    },
    {
     "name": "stderr",
     "output_type": "stream",
     "text": [
      "[Parallel(n_jobs=8)]: Done   3 out of   3 | elapsed:    1.9s finished\n"
     ]
    },
    {
     "name": "stdout",
     "output_type": "stream",
     "text": [
      "227 T: 0.01784, score: 0.528975, std: 0.005743, params: {'max_features': 14, 'min_samples_split': 68, 'n_estimators': 100, 'max_depth': 46, 'random_state': 0, 'n_jobs': 8}\n",
      "228 T: 0.01784, score: 0.528975, std: 0.005743, params: {'max_features': 14, 'min_samples_split': 68, 'n_estimators': 100, 'max_depth': 46, 'random_state': 0, 'n_jobs': 8}\n"
     ]
    },
    {
     "name": "stderr",
     "output_type": "stream",
     "text": [
      "[Parallel(n_jobs=8)]: Done   3 out of   3 | elapsed:    2.0s finished\n"
     ]
    },
    {
     "name": "stdout",
     "output_type": "stream",
     "text": [
      "229 T: 0.01784, score: 0.529124, std: 0.005826, params: {'max_features': 14, 'min_samples_split': 38, 'n_estimators': 100, 'max_depth': 46, 'random_state': 0, 'n_jobs': 8}\n"
     ]
    },
    {
     "name": "stderr",
     "output_type": "stream",
     "text": [
      "[Parallel(n_jobs=8)]: Done   3 out of   3 | elapsed:    1.9s finished\n"
     ]
    },
    {
     "name": "stdout",
     "output_type": "stream",
     "text": [
      "230 T: 0.01784, score: 0.529121, std: 0.006239, params: {'max_features': 14, 'min_samples_split': 38, 'n_estimators': 100, 'max_depth': 106, 'random_state': 0, 'n_jobs': 8}\n"
     ]
    },
    {
     "name": "stderr",
     "output_type": "stream",
     "text": [
      "[Parallel(n_jobs=8)]: Done   3 out of   3 | elapsed:    1.9s finished\n"
     ]
    },
    {
     "name": "stdout",
     "output_type": "stream",
     "text": [
      "231 T: 0.01784, score: 0.529121, std: 0.006239, params: {'max_features': 14, 'min_samples_split': 38, 'n_estimators': 100, 'max_depth': 196, 'random_state': 0, 'n_jobs': 8}\n"
     ]
    },
    {
     "name": "stderr",
     "output_type": "stream",
     "text": [
      "[Parallel(n_jobs=8)]: Done   3 out of   3 | elapsed:    1.9s finished\n"
     ]
    },
    {
     "name": "stdout",
     "output_type": "stream",
     "text": [
      "232 T: 0.01338, score: 0.529121, std: 0.006239, params: {'max_features': 14, 'min_samples_split': 38, 'n_estimators': 100, 'max_depth': 118, 'random_state': 0, 'n_jobs': 8}\n",
      "233 T: 0.01338, score: 0.529121, std: 0.006239, params: {'max_features': 14, 'min_samples_split': 38, 'n_estimators': 100, 'max_depth': 118, 'random_state': 0, 'n_jobs': 8}\n",
      "234 T: 0.01338, score: 0.529121, std: 0.006239, params: {'max_features': 14, 'min_samples_split': 38, 'n_estimators': 100, 'max_depth': 118, 'random_state': 0, 'n_jobs': 8}\n",
      "235 T: 0.01338, score: 0.529121, std: 0.006239, params: {'max_features': 14, 'min_samples_split': 38, 'n_estimators': 100, 'max_depth': 118, 'random_state': 0, 'n_jobs': 8}\n"
     ]
    },
    {
     "name": "stderr",
     "output_type": "stream",
     "text": [
      "[Parallel(n_jobs=8)]: Done   3 out of   3 | elapsed:    2.0s finished\n"
     ]
    },
    {
     "name": "stdout",
     "output_type": "stream",
     "text": [
      "236 T: 0.01338, score: 0.523608, std: 0.007267, params: {'max_features': 6, 'min_samples_split': 38, 'n_estimators': 100, 'max_depth': 118, 'random_state': 0, 'n_jobs': 8}\n",
      "237 T: 0.01338, score: 0.523608, std: 0.007267, params: {'max_features': 6, 'min_samples_split': 38, 'n_estimators': 100, 'max_depth': 118, 'random_state': 0, 'n_jobs': 8}\n",
      "238 T: 0.01338, score: 0.523608, std: 0.007267, params: {'max_features': 6, 'min_samples_split': 38, 'n_estimators': 100, 'max_depth': 118, 'random_state': 0, 'n_jobs': 8}\n"
     ]
    },
    {
     "name": "stderr",
     "output_type": "stream",
     "text": [
      "[Parallel(n_jobs=8)]: Done   3 out of   3 | elapsed:    1.9s finished\n"
     ]
    },
    {
     "name": "stdout",
     "output_type": "stream",
     "text": [
      "239 T: 0.01338, score: 0.529561, std: 0.007388, params: {'max_features': 12, 'min_samples_split': 38, 'n_estimators': 100, 'max_depth': 118, 'random_state': 0, 'n_jobs': 8}\n"
     ]
    },
    {
     "name": "stderr",
     "output_type": "stream",
     "text": [
      "[Parallel(n_jobs=8)]: Done   3 out of   3 | elapsed:    1.9s finished\n"
     ]
    },
    {
     "name": "stdout",
     "output_type": "stream",
     "text": [
      "240 T: 0.01338, score: 0.526028, std: 0.006345, params: {'max_features': 12, 'min_samples_split': 74, 'n_estimators': 100, 'max_depth': 118, 'random_state': 0, 'n_jobs': 8}\n",
      "241 T: 0.01338, score: 0.529561, std: 0.007388, params: {'max_features': 12, 'min_samples_split': 38, 'n_estimators': 100, 'max_depth': 118, 'random_state': 0, 'n_jobs': 8}\n"
     ]
    },
    {
     "name": "stderr",
     "output_type": "stream",
     "text": [
      "[Parallel(n_jobs=8)]: Done   3 out of   3 | elapsed:    2.2s finished\n"
     ]
    },
    {
     "name": "stdout",
     "output_type": "stream",
     "text": [
      "242 T: 0.01003, score: 0.525035, std: 0.008510, params: {'max_features': 12, 'min_samples_split': 4, 'n_estimators': 100, 'max_depth': 118, 'random_state': 0, 'n_jobs': 8}\n",
      "243 T: 0.01003, score: 0.525035, std: 0.008510, params: {'max_features': 12, 'min_samples_split': 4, 'n_estimators': 100, 'max_depth': 118, 'random_state': 0, 'n_jobs': 8}\n"
     ]
    },
    {
     "name": "stderr",
     "output_type": "stream",
     "text": [
      "[Parallel(n_jobs=8)]: Done   3 out of   3 | elapsed:    1.9s finished\n"
     ]
    },
    {
     "name": "stdout",
     "output_type": "stream",
     "text": [
      "244 T: 0.01003, score: 0.529492, std: 0.007402, params: {'max_features': 12, 'min_samples_split': 36, 'n_estimators': 100, 'max_depth': 118, 'random_state': 0, 'n_jobs': 8}\n",
      "245 T: 0.01003, score: 0.529492, std: 0.007402, params: {'max_features': 12, 'min_samples_split': 36, 'n_estimators': 100, 'max_depth': 118, 'random_state': 0, 'n_jobs': 8}\n"
     ]
    },
    {
     "name": "stderr",
     "output_type": "stream",
     "text": [
      "[Parallel(n_jobs=8)]: Done   3 out of   3 | elapsed:    1.9s finished\n"
     ]
    },
    {
     "name": "stdout",
     "output_type": "stream",
     "text": [
      "246 T: 0.01003, score: 0.526936, std: 0.006256, params: {'max_features': 12, 'min_samples_split': 72, 'n_estimators': 100, 'max_depth': 118, 'random_state': 0, 'n_jobs': 8}\n",
      "247 T: 0.01003, score: 0.526936, std: 0.006256, params: {'max_features': 12, 'min_samples_split': 72, 'n_estimators': 100, 'max_depth': 118, 'random_state': 0, 'n_jobs': 8}\n",
      "248 T: 0.01003, score: 0.526936, std: 0.006256, params: {'max_features': 12, 'min_samples_split': 72, 'n_estimators': 100, 'max_depth': 118, 'random_state': 0, 'n_jobs': 8}\n"
     ]
    },
    {
     "name": "stderr",
     "output_type": "stream",
     "text": [
      "[Parallel(n_jobs=8)]: Done   3 out of   3 | elapsed:    2.0s finished\n"
     ]
    },
    {
     "name": "stdout",
     "output_type": "stream",
     "text": [
      "249 T: 0.01003, score: 0.527140, std: 0.005348, params: {'max_features': 14, 'min_samples_split': 72, 'n_estimators': 100, 'max_depth': 118, 'random_state': 0, 'n_jobs': 8}\n",
      "250 T: 0.01003, score: 0.527140, std: 0.005348, params: {'max_features': 14, 'min_samples_split': 72, 'n_estimators': 100, 'max_depth': 118, 'random_state': 0, 'n_jobs': 8}\n"
     ]
    },
    {
     "name": "stderr",
     "output_type": "stream",
     "text": [
      "[Parallel(n_jobs=8)]: Done   3 out of   3 | elapsed:    2.0s finished\n"
     ]
    },
    {
     "name": "stdout",
     "output_type": "stream",
     "text": [
      "251 T: 0.01003, score: 0.527041, std: 0.005460, params: {'max_features': 14, 'min_samples_split': 72, 'n_estimators': 100, 'max_depth': 68, 'random_state': 0, 'n_jobs': 8}\n"
     ]
    },
    {
     "name": "stderr",
     "output_type": "stream",
     "text": [
      "[Parallel(n_jobs=8)]: Done   3 out of   3 | elapsed:    1.9s finished\n"
     ]
    },
    {
     "name": "stdout",
     "output_type": "stream",
     "text": [
      "252 T: 0.00753, score: 0.527710, std: 0.007666, params: {'max_features': 14, 'min_samples_split': 60, 'n_estimators': 100, 'max_depth': 68, 'random_state': 0, 'n_jobs': 8}\n",
      "253 T: 0.00753, score: 0.527710, std: 0.007666, params: {'max_features': 14, 'min_samples_split': 60, 'n_estimators': 100, 'max_depth': 68, 'random_state': 0, 'n_jobs': 8}\n",
      "254 T: 0.00753, score: 0.527710, std: 0.007666, params: {'max_features': 14, 'min_samples_split': 60, 'n_estimators': 100, 'max_depth': 68, 'random_state': 0, 'n_jobs': 8}\n"
     ]
    },
    {
     "name": "stderr",
     "output_type": "stream",
     "text": [
      "[Parallel(n_jobs=8)]: Done   3 out of   3 | elapsed:    1.9s finished\n"
     ]
    },
    {
     "name": "stdout",
     "output_type": "stream",
     "text": [
      "255 T: 0.00753, score: 0.528623, std: 0.008207, params: {'max_features': 14, 'min_samples_split': 60, 'n_estimators': 100, 'max_depth': 42, 'random_state': 0, 'n_jobs': 8}\n"
     ]
    },
    {
     "name": "stderr",
     "output_type": "stream",
     "text": [
      "[Parallel(n_jobs=8)]: Done   3 out of   3 | elapsed:    1.9s finished\n"
     ]
    },
    {
     "name": "stdout",
     "output_type": "stream",
     "text": [
      "256 T: 0.00753, score: 0.530754, std: 0.006229, params: {'max_features': 14, 'min_samples_split': 18, 'n_estimators': 100, 'max_depth': 42, 'random_state': 0, 'n_jobs': 8}\n"
     ]
    },
    {
     "name": "stderr",
     "output_type": "stream",
     "text": [
      "[Parallel(n_jobs=8)]: Done   3 out of   3 | elapsed:    1.9s finished\n"
     ]
    },
    {
     "name": "stdout",
     "output_type": "stream",
     "text": [
      "257 T: 0.00753, score: 0.526304, std: 0.007077, params: {'max_features': 8, 'min_samples_split': 18, 'n_estimators': 100, 'max_depth': 42, 'random_state': 0, 'n_jobs': 8}\n",
      "258 T: 0.00753, score: 0.526304, std: 0.007077, params: {'max_features': 8, 'min_samples_split': 18, 'n_estimators': 100, 'max_depth': 42, 'random_state': 0, 'n_jobs': 8}\n"
     ]
    },
    {
     "name": "stderr",
     "output_type": "stream",
     "text": [
      "[Parallel(n_jobs=8)]: Done   3 out of   3 | elapsed:    1.9s finished\n"
     ]
    },
    {
     "name": "stdout",
     "output_type": "stream",
     "text": [
      "259 T: 0.00753, score: 0.528744, std: 0.006991, params: {'max_features': 8, 'min_samples_split': 18, 'n_estimators': 100, 'max_depth': 146, 'random_state': 0, 'n_jobs': 8}\n",
      "260 T: 0.00753, score: 0.528744, std: 0.006991, params: {'max_features': 8, 'min_samples_split': 18, 'n_estimators': 100, 'max_depth': 146, 'random_state': 0, 'n_jobs': 8}\n"
     ]
    },
    {
     "name": "stderr",
     "output_type": "stream",
     "text": [
      "[Parallel(n_jobs=8)]: Done   3 out of   3 | elapsed:    1.9s finished\n"
     ]
    },
    {
     "name": "stdout",
     "output_type": "stream",
     "text": [
      "261 T: 0.00753, score: 0.519746, std: 0.006763, params: {'max_features': 2, 'min_samples_split': 18, 'n_estimators': 100, 'max_depth': 146, 'random_state': 0, 'n_jobs': 8}\n",
      "262 T: 0.00564, score: 0.519746, std: 0.006763, params: {'max_features': 2, 'min_samples_split': 18, 'n_estimators': 100, 'max_depth': 146, 'random_state': 0, 'n_jobs': 8}\n",
      "263 T: 0.00564, score: 0.519746, std: 0.006763, params: {'max_features': 2, 'min_samples_split': 18, 'n_estimators': 100, 'max_depth': 146, 'random_state': 0, 'n_jobs': 8}\n",
      "264 T: 0.00564, score: 0.519746, std: 0.006763, params: {'max_features': 2, 'min_samples_split': 18, 'n_estimators': 100, 'max_depth': 146, 'random_state': 0, 'n_jobs': 8}\n"
     ]
    },
    {
     "name": "stderr",
     "output_type": "stream",
     "text": [
      "[Parallel(n_jobs=8)]: Done   3 out of   3 | elapsed:    1.9s finished\n"
     ]
    },
    {
     "name": "stdout",
     "output_type": "stream",
     "text": [
      "265 T: 0.00564, score: 0.497211, std: 0.004380, params: {'max_features': 2, 'min_samples_split': 74, 'n_estimators': 100, 'max_depth': 146, 'random_state': 0, 'n_jobs': 8}\n",
      "266 T: 0.00564, score: 0.528744, std: 0.006991, params: {'max_features': 8, 'min_samples_split': 18, 'n_estimators': 100, 'max_depth': 146, 'random_state': 0, 'n_jobs': 8}\n",
      "267 T: 0.00564, score: 0.528744, std: 0.006991, params: {'max_features': 8, 'min_samples_split': 18, 'n_estimators': 100, 'max_depth': 146, 'random_state': 0, 'n_jobs': 8}\n"
     ]
    },
    {
     "name": "stderr",
     "output_type": "stream",
     "text": [
      "[Parallel(n_jobs=8)]: Done   3 out of   3 | elapsed:    2.1s finished\n"
     ]
    },
    {
     "name": "stdout",
     "output_type": "stream",
     "text": [
      "268 T: 0.00564, score: 0.528905, std: 0.006985, params: {'max_features': 8, 'min_samples_split': 18, 'n_estimators': 100, 'max_depth': 102, 'random_state': 0, 'n_jobs': 8}\n"
     ]
    },
    {
     "name": "stderr",
     "output_type": "stream",
     "text": [
      "[Parallel(n_jobs=8)]: Done   3 out of   3 | elapsed:    1.9s finished\n"
     ]
    },
    {
     "name": "stdout",
     "output_type": "stream",
     "text": [
      "269 T: 0.00564, score: 0.528135, std: 0.006361, params: {'max_features': 8, 'min_samples_split': 18, 'n_estimators': 100, 'max_depth': 76, 'random_state': 0, 'n_jobs': 8}\n"
     ]
    },
    {
     "name": "stderr",
     "output_type": "stream",
     "text": [
      "[Parallel(n_jobs=8)]: Done   3 out of   3 | elapsed:    1.9s finished\n"
     ]
    },
    {
     "name": "stdout",
     "output_type": "stream",
     "text": [
      "270 T: 0.00564, score: 0.526319, std: 0.007002, params: {'max_features': 8, 'min_samples_split': 42, 'n_estimators': 100, 'max_depth': 76, 'random_state': 0, 'n_jobs': 8}\n"
     ]
    },
    {
     "name": "stderr",
     "output_type": "stream",
     "text": [
      "[Parallel(n_jobs=8)]: Done   3 out of   3 | elapsed:    2.1s finished\n"
     ]
    },
    {
     "name": "stdout",
     "output_type": "stream",
     "text": [
      "271 T: 0.00564, score: 0.531162, std: 0.006888, params: {'max_features': 18, 'min_samples_split': 42, 'n_estimators': 100, 'max_depth': 76, 'random_state': 0, 'n_jobs': 8}\n",
      "272 T: 0.00423, score: 0.531162, std: 0.006888, params: {'max_features': 18, 'min_samples_split': 42, 'n_estimators': 100, 'max_depth': 76, 'random_state': 0, 'n_jobs': 8}\n"
     ]
    },
    {
     "name": "stderr",
     "output_type": "stream",
     "text": [
      "[Parallel(n_jobs=8)]: Done   3 out of   3 | elapsed:    2.1s finished\n"
     ]
    },
    {
     "name": "stdout",
     "output_type": "stream",
     "text": [
      "273 T: 0.00423, score: 0.529630, std: 0.008851, params: {'max_features': 18, 'min_samples_split': 42, 'n_estimators': 100, 'max_depth': 38, 'random_state': 0, 'n_jobs': 8}\n",
      "274 T: 0.00423, score: 0.529630, std: 0.008851, params: {'max_features': 18, 'min_samples_split': 42, 'n_estimators': 100, 'max_depth': 38, 'random_state': 0, 'n_jobs': 8}\n",
      "275 T: 0.00423, score: 0.529630, std: 0.008851, params: {'max_features': 18, 'min_samples_split': 42, 'n_estimators': 100, 'max_depth': 38, 'random_state': 0, 'n_jobs': 8}\n"
     ]
    },
    {
     "name": "stderr",
     "output_type": "stream",
     "text": [
      "[Parallel(n_jobs=8)]: Done   3 out of   3 | elapsed:    1.9s finished\n"
     ]
    },
    {
     "name": "stdout",
     "output_type": "stream",
     "text": [
      "276 T: 0.00423, score: 0.486277, std: 0.006572, params: {'max_features': 4, 'min_samples_split': 42, 'n_estimators': 100, 'max_depth': 38, 'random_state': 0, 'n_jobs': 8}\n"
     ]
    },
    {
     "name": "stderr",
     "output_type": "stream",
     "text": [
      "[Parallel(n_jobs=8)]: Done   3 out of   3 | elapsed:    2.1s finished\n"
     ]
    },
    {
     "name": "stdout",
     "output_type": "stream",
     "text": [
      "277 T: 0.00423, score: 0.530818, std: 0.006792, params: {'max_features': 18, 'min_samples_split': 42, 'n_estimators': 100, 'max_depth': 188, 'random_state': 0, 'n_jobs': 8}\n",
      "278 T: 0.00423, score: 0.530818, std: 0.006792, params: {'max_features': 18, 'min_samples_split': 42, 'n_estimators': 100, 'max_depth': 188, 'random_state': 0, 'n_jobs': 8}\n"
     ]
    },
    {
     "name": "stderr",
     "output_type": "stream",
     "text": [
      "[Parallel(n_jobs=8)]: Done   3 out of   3 | elapsed:    2.1s finished\n"
     ]
    },
    {
     "name": "stdout",
     "output_type": "stream",
     "text": [
      "279 T: 0.00423, score: 0.530855, std: 0.007672, params: {'max_features': 18, 'min_samples_split': 42, 'n_estimators': 100, 'max_depth': 30, 'random_state': 0, 'n_jobs': 8}\n"
     ]
    },
    {
     "name": "stderr",
     "output_type": "stream",
     "text": [
      "[Parallel(n_jobs=8)]: Done   3 out of   3 | elapsed:    2.1s finished\n"
     ]
    },
    {
     "name": "stdout",
     "output_type": "stream",
     "text": [
      "280 T: 0.00423, score: 0.530818, std: 0.006792, params: {'max_features': 18, 'min_samples_split': 42, 'n_estimators': 100, 'max_depth': 190, 'random_state': 0, 'n_jobs': 8}\n"
     ]
    },
    {
     "name": "stderr",
     "output_type": "stream",
     "text": [
      "[Parallel(n_jobs=8)]: Done   3 out of   3 | elapsed:    2.0s finished\n"
     ]
    },
    {
     "name": "stdout",
     "output_type": "stream",
     "text": [
      "281 T: 0.00423, score: 0.526791, std: 0.004054, params: {'max_features': 10, 'min_samples_split': 42, 'n_estimators': 100, 'max_depth': 190, 'random_state': 0, 'n_jobs': 8}\n",
      "282 T: 0.00317, score: 0.530818, std: 0.006792, params: {'max_features': 18, 'min_samples_split': 42, 'n_estimators': 100, 'max_depth': 190, 'random_state': 0, 'n_jobs': 8}\n",
      "283 T: 0.00317, score: 0.530818, std: 0.006792, params: {'max_features': 18, 'min_samples_split': 42, 'n_estimators': 100, 'max_depth': 190, 'random_state': 0, 'n_jobs': 8}\n",
      "284 T: 0.00317, score: 0.530818, std: 0.006792, params: {'max_features': 18, 'min_samples_split': 42, 'n_estimators': 100, 'max_depth': 190, 'random_state': 0, 'n_jobs': 8}\n"
     ]
    },
    {
     "name": "stderr",
     "output_type": "stream",
     "text": [
      "[Parallel(n_jobs=8)]: Done   3 out of   3 | elapsed:    2.0s finished\n"
     ]
    },
    {
     "name": "stdout",
     "output_type": "stream",
     "text": [
      "285 T: 0.00317, score: 0.530881, std: 0.006761, params: {'max_features': 18, 'min_samples_split': 42, 'n_estimators': 100, 'max_depth': 80, 'random_state': 0, 'n_jobs': 8}\n"
     ]
    },
    {
     "name": "stderr",
     "output_type": "stream",
     "text": [
      "[Parallel(n_jobs=8)]: Done   3 out of   3 | elapsed:    2.2s finished\n"
     ]
    },
    {
     "name": "stdout",
     "output_type": "stream",
     "text": [
      "286 T: 0.00317, score: 0.531009, std: 0.006556, params: {'max_features': 18, 'min_samples_split': 42, 'n_estimators': 100, 'max_depth': 62, 'random_state': 0, 'n_jobs': 8}\n",
      "287 T: 0.00317, score: 0.531009, std: 0.006556, params: {'max_features': 18, 'min_samples_split': 42, 'n_estimators': 100, 'max_depth': 62, 'random_state': 0, 'n_jobs': 8}\n"
     ]
    },
    {
     "name": "stderr",
     "output_type": "stream",
     "text": [
      "[Parallel(n_jobs=8)]: Done   3 out of   3 | elapsed:    2.1s finished\n"
     ]
    },
    {
     "name": "stdout",
     "output_type": "stream",
     "text": [
      "288 T: 0.00317, score: 0.530818, std: 0.006792, params: {'max_features': 18, 'min_samples_split': 42, 'n_estimators': 100, 'max_depth': 104, 'random_state': 0, 'n_jobs': 8}\n",
      "289 T: 0.00317, score: 0.530818, std: 0.006792, params: {'max_features': 18, 'min_samples_split': 42, 'n_estimators': 100, 'max_depth': 104, 'random_state': 0, 'n_jobs': 8}\n",
      "290 T: 0.00317, score: 0.529630, std: 0.008851, params: {'max_features': 18, 'min_samples_split': 42, 'n_estimators': 100, 'max_depth': 38, 'random_state': 0, 'n_jobs': 8}\n",
      "291 T: 0.00317, score: 0.530818, std: 0.006792, params: {'max_features': 18, 'min_samples_split': 42, 'n_estimators': 100, 'max_depth': 104, 'random_state': 0, 'n_jobs': 8}\n",
      "\n",
      " BEST:\n",
      "0.5321593052495804 {'max_features': 14, 'min_samples_split': 32, 'n_estimators': 100, 'max_depth': 106, 'random_state': 0, 'n_jobs': 8}\n"
     ]
    }
   ],
   "source": [
    "rfr = RandomForestRegressor()\n",
    "\n",
    "param_grid = { \"max_features\": [i*2 for i in range(1,10)],\n",
    "                \"min_samples_split\": [i*2 for i in range(1,40)],\n",
    "                \"n_estimators\": [100],\n",
    "                \"max_depth\": [i*2 for i in range(1,101)],\n",
    "                \"random_state\": [0],\n",
    "                 \"n_jobs\": [8]}\n",
    "combs =1 \n",
    "for k,v in param_grid.items():\n",
    "    combs *= len(v)\n",
    "print(combs)\n",
    "\n",
    "print('====================================')\n",
    "\n",
    "# Initialize Simulated Annealing and fit\n",
    "sa = SimulatedAnneal(rfr, param_grid, T=10.0, T_min=0.001, alpha=0.75,\n",
    "                         verbose=True,scoring='r2',n_jobs = 8)\n",
    "sa.fit(X_train, y_train)\n",
    "\n",
    "\n",
    "print('\\n BEST:')\n",
    "print(sa.best_score_, sa.best_params_)\n",
    "optimized_rfr = sa.best_estimator_\n",
    "y_test_pred = optimized_rfr.predict(X_test)"
   ]
  },
  {
   "cell_type": "code",
   "execution_count": 42,
   "metadata": {},
   "outputs": [
    {
     "data": {
      "image/png": "[encoded data removed]",
      "text/plain": [
       "<Figure size 432x288 with 1 Axes>"
      ]
     },
     "metadata": {},
     "output_type": "display_data"
    },
    {
     "name": "stdout",
     "output_type": "stream",
     "text": [
      "0.5463545363172599\n"
     ]
    }
   ],
   "source": [
    "# plt.plot(list(range(len(y_test) )),y_test_pred,'b')\n",
    "# plt.axhline(y = np.average(y))\n",
    "plt.plot(list(range(len(y_test) )),y_test_pred,'r')\n",
    "plt.show()\n",
    "print(optimized_rfr.score(X_test,y_test))"
   ]
  },
  {
   "cell_type": "code",
   "execution_count": 20,
   "metadata": {},
   "outputs": [],
   "source": [
    "filename = '../data/optimized_rfr_nflstats.pkl'\n",
    "pickle.dump(rfr, open(filename, 'wb'))"
   ]
  },
  {
   "cell_type": "code",
   "execution_count": 23,
   "metadata": {},
   "outputs": [
    {
     "name": "stdout",
     "output_type": "stream",
     "text": [
      "\n",
      "WARNING: The value for max_iter=300 does not constrain the number of iterations for the specified cooling schedule (3).  Setting max_iter=3\n",
      "\n",
      "INFO: Number of possible iterations given cooling schedule: 3\n",
      "\n"
     ]
    },
    {
     "ename": "KeyboardInterrupt",
     "evalue": "",
     "output_type": "error",
     "traceback": [
      "\u001b[1;31m----------------------------------------------------\u001b[0m",
      "\u001b[1;31mKeyboardInterrupt\u001b[0m  Traceback (most recent call last)",
      "\u001b[1;32m<ipython-input-23-b4a334cbdcb0>\u001b[0m in \u001b[0;36m<module>\u001b[1;34m()\u001b[0m\n\u001b[0;32m      9\u001b[0m sa = SimulatedAnneal(svr, svr_params, T=10.0, T_min=9, alpha=0.75,\n\u001b[0;32m     10\u001b[0m                          verbose=True, scoring='r2',n_jobs = -1)\n\u001b[1;32m---> 11\u001b[1;33m \u001b[0msa\u001b[0m\u001b[1;33m.\u001b[0m\u001b[0mfit\u001b[0m\u001b[1;33m(\u001b[0m\u001b[0mX_train\u001b[0m\u001b[1;33m,\u001b[0m \u001b[0my_train\u001b[0m\u001b[1;33m)\u001b[0m\u001b[1;33m\u001b[0m\u001b[0m\n\u001b[0m\u001b[0;32m     12\u001b[0m \u001b[1;31m# Print the best score and the best params\u001b[0m\u001b[1;33m\u001b[0m\u001b[1;33m\u001b[0m\u001b[0m\n\u001b[0;32m     13\u001b[0m \u001b[0mprint\u001b[0m\u001b[1;33m(\u001b[0m\u001b[0msa\u001b[0m\u001b[1;33m.\u001b[0m\u001b[0mbest_score_\u001b[0m\u001b[1;33m,\u001b[0m \u001b[0msa\u001b[0m\u001b[1;33m.\u001b[0m\u001b[0mbest_params_\u001b[0m\u001b[1;33m)\u001b[0m\u001b[1;33m\u001b[0m\u001b[0m\n",
      "\u001b[1;32mc:\\users\\rayne\\appdata\\local\\programs\\python\\python36\\lib\\site-packages\\simulated_annealing\\optimize.py\u001b[0m in \u001b[0;36mfit\u001b[1;34m(self, X, y)\u001b[0m\n\u001b[0;32m    111\u001b[0m                                                   self.__verbose).fit_score(X, y)\n\u001b[0;32m    112\u001b[0m         \u001b[1;32melse\u001b[0m\u001b[1;33m:\u001b[0m\u001b[1;33m\u001b[0m\u001b[0m\n\u001b[1;32m--> 113\u001b[1;33m             \u001b[0mold_score\u001b[0m\u001b[1;33m,\u001b[0m \u001b[0mold_std\u001b[0m \u001b[1;33m=\u001b[0m \u001b[0mCVFolds\u001b[0m\u001b[1;33m(\u001b[0m\u001b[0mold_est\u001b[0m\u001b[1;33m,\u001b[0m \u001b[0mscorer\u001b[0m\u001b[1;33m=\u001b[0m\u001b[0mscore_func\u001b[0m\u001b[1;33m,\u001b[0m \u001b[0mcv\u001b[0m\u001b[1;33m=\u001b[0m\u001b[0mcv\u001b[0m\u001b[1;33m)\u001b[0m\u001b[1;33m.\u001b[0m\u001b[0mfit_score\u001b[0m\u001b[1;33m(\u001b[0m\u001b[0mX\u001b[0m\u001b[1;33m,\u001b[0m \u001b[0my\u001b[0m\u001b[1;33m)\u001b[0m\u001b[1;33m\u001b[0m\u001b[0m\n\u001b[0m\u001b[0;32m    114\u001b[0m \u001b[1;33m\u001b[0m\u001b[0m\n\u001b[0;32m    115\u001b[0m         \u001b[1;31m# Variables to hold the best params\u001b[0m\u001b[1;33m\u001b[0m\u001b[1;33m\u001b[0m\u001b[0m\n",
      "\u001b[1;32mc:\\users\\rayne\\appdata\\local\\programs\\python\\python36\\lib\\site-packages\\simulated_annealing\\optimize.py\u001b[0m in \u001b[0;36mfit_score\u001b[1;34m(self, X, y)\u001b[0m\n\u001b[0;32m    254\u001b[0m             \u001b[0my_train\u001b[0m\u001b[1;33m,\u001b[0m \u001b[0my_test\u001b[0m \u001b[1;33m=\u001b[0m \u001b[0my\u001b[0m\u001b[1;33m[\u001b[0m\u001b[0mtrain_index\u001b[0m\u001b[1;33m]\u001b[0m\u001b[1;33m,\u001b[0m \u001b[0my\u001b[0m\u001b[1;33m[\u001b[0m\u001b[0mtest_index\u001b[0m\u001b[1;33m]\u001b[0m\u001b[1;33m\u001b[0m\u001b[0m\n\u001b[0;32m    255\u001b[0m             \u001b[0mest\u001b[0m \u001b[1;33m=\u001b[0m \u001b[0mclone\u001b[0m\u001b[1;33m(\u001b[0m\u001b[0mself\u001b[0m\u001b[1;33m.\u001b[0m\u001b[0m__est\u001b[0m\u001b[1;33m)\u001b[0m\u001b[1;33m\u001b[0m\u001b[0m\n\u001b[1;32m--> 256\u001b[1;33m             \u001b[0mest\u001b[0m\u001b[1;33m.\u001b[0m\u001b[0mfit\u001b[0m\u001b[1;33m(\u001b[0m\u001b[0mX_train\u001b[0m\u001b[1;33m,\u001b[0m \u001b[0my_train\u001b[0m\u001b[1;33m)\u001b[0m\u001b[1;33m\u001b[0m\u001b[0m\n\u001b[0m\u001b[0;32m    257\u001b[0m             \u001b[0mk_score\u001b[0m \u001b[1;33m=\u001b[0m \u001b[0mscorer\u001b[0m\u001b[1;33m(\u001b[0m\u001b[0mest\u001b[0m\u001b[1;33m,\u001b[0m \u001b[0mX_test\u001b[0m\u001b[1;33m,\u001b[0m \u001b[0my_test\u001b[0m\u001b[1;33m)\u001b[0m\u001b[1;33m\u001b[0m\u001b[0m\n\u001b[0;32m    258\u001b[0m             \u001b[0mscores\u001b[0m\u001b[1;33m.\u001b[0m\u001b[0mappend\u001b[0m\u001b[1;33m(\u001b[0m\u001b[0mk_score\u001b[0m\u001b[1;33m)\u001b[0m\u001b[1;33m\u001b[0m\u001b[0m\n",
      "\u001b[1;32mc:\\users\\rayne\\appdata\\local\\programs\\python\\python36\\lib\\site-packages\\sklearn\\svm\\base.py\u001b[0m in \u001b[0;36mfit\u001b[1;34m(self, X, y, sample_weight)\u001b[0m\n\u001b[0;32m    185\u001b[0m \u001b[1;33m\u001b[0m\u001b[0m\n\u001b[0;32m    186\u001b[0m         \u001b[0mseed\u001b[0m \u001b[1;33m=\u001b[0m \u001b[0mrnd\u001b[0m\u001b[1;33m.\u001b[0m\u001b[0mrandint\u001b[0m\u001b[1;33m(\u001b[0m\u001b[0mnp\u001b[0m\u001b[1;33m.\u001b[0m\u001b[0miinfo\u001b[0m\u001b[1;33m(\u001b[0m\u001b[1;34m'i'\u001b[0m\u001b[1;33m)\u001b[0m\u001b[1;33m.\u001b[0m\u001b[0mmax\u001b[0m\u001b[1;33m)\u001b[0m\u001b[1;33m\u001b[0m\u001b[0m\n\u001b[1;32m--> 187\u001b[1;33m         \u001b[0mfit\u001b[0m\u001b[1;33m(\u001b[0m\u001b[0mX\u001b[0m\u001b[1;33m,\u001b[0m \u001b[0my\u001b[0m\u001b[1;33m,\u001b[0m \u001b[0msample_weight\u001b[0m\u001b[1;33m,\u001b[0m \u001b[0msolver_type\u001b[0m\u001b[1;33m,\u001b[0m \u001b[0mkernel\u001b[0m\u001b[1;33m,\u001b[0m \u001b[0mrandom_seed\u001b[0m\u001b[1;33m=\u001b[0m\u001b[0mseed\u001b[0m\u001b[1;33m)\u001b[0m\u001b[1;33m\u001b[0m\u001b[0m\n\u001b[0m\u001b[0;32m    188\u001b[0m         \u001b[1;31m# see comment on the other call to np.iinfo in this file\u001b[0m\u001b[1;33m\u001b[0m\u001b[1;33m\u001b[0m\u001b[0m\n\u001b[0;32m    189\u001b[0m \u001b[1;33m\u001b[0m\u001b[0m\n",
      "\u001b[1;32mc:\\users\\rayne\\appdata\\local\\programs\\python\\python36\\lib\\site-packages\\sklearn\\svm\\base.py\u001b[0m in \u001b[0;36m_dense_fit\u001b[1;34m(self, X, y, sample_weight, solver_type, kernel, random_seed)\u001b[0m\n\u001b[0;32m    252\u001b[0m                 \u001b[0mcache_size\u001b[0m\u001b[1;33m=\u001b[0m\u001b[0mself\u001b[0m\u001b[1;33m.\u001b[0m\u001b[0mcache_size\u001b[0m\u001b[1;33m,\u001b[0m \u001b[0mcoef0\u001b[0m\u001b[1;33m=\u001b[0m\u001b[0mself\u001b[0m\u001b[1;33m.\u001b[0m\u001b[0mcoef0\u001b[0m\u001b[1;33m,\u001b[0m\u001b[1;33m\u001b[0m\u001b[0m\n\u001b[0;32m    253\u001b[0m                 \u001b[0mgamma\u001b[0m\u001b[1;33m=\u001b[0m\u001b[0mself\u001b[0m\u001b[1;33m.\u001b[0m\u001b[0m_gamma\u001b[0m\u001b[1;33m,\u001b[0m \u001b[0mepsilon\u001b[0m\u001b[1;33m=\u001b[0m\u001b[0mself\u001b[0m\u001b[1;33m.\u001b[0m\u001b[0mepsilon\u001b[0m\u001b[1;33m,\u001b[0m\u001b[1;33m\u001b[0m\u001b[0m\n\u001b[1;32m--> 254\u001b[1;33m                 max_iter=self.max_iter, random_seed=random_seed)\n\u001b[0m\u001b[0;32m    255\u001b[0m \u001b[1;33m\u001b[0m\u001b[0m\n\u001b[0;32m    256\u001b[0m         \u001b[0mself\u001b[0m\u001b[1;33m.\u001b[0m\u001b[0m_warn_from_fit_status\u001b[0m\u001b[1;33m(\u001b[0m\u001b[1;33m)\u001b[0m\u001b[1;33m\u001b[0m\u001b[0m\n",
      "\u001b[1;31mKeyboardInterrupt\u001b[0m: "
     ]
    }
   ],
   "source": [
    "from sklearn.svm import SVR\n",
    "\n",
    "svr_params = {'C':np.logspace(1.0, 4.0, num=1),\n",
    "              'epsilon': np.logspace(0, 1, num=1),\n",
    "              'tol': np.logspace(-6, 1, num=1),\n",
    "             }       \n",
    "svr = SVR(kernel = 'rbf')\n",
    "\n",
    "sa = SimulatedAnneal(svr, svr_params, T=10.0, T_min=9, alpha=0.75,\n",
    "                         verbose=True, scoring='r2',n_jobs = -1)\n",
    "sa.fit(X_train, y_train)\n",
    "\n",
    "# Print the best score and the best params\n",
    "print(sa.best_score_, sa.best_params_)\n",
    "# Use the best estimator to predict classes\n",
    "optimized_clf = sa.best_estimator_\n",
    "y_test_pred = optimized_clf.predict(X_test)"
   ]
  },
  {
   "cell_type": "code",
   "execution_count": 22,
   "metadata": {
    "scrolled": true
   },
   "outputs": [
    {
     "name": "stdout",
     "output_type": "stream",
     "text": [
      "0.5075956258483366\n"
     ]
    }
   ],
   "source": [
    "plt.plot(list(range(train_n,len(y))),rfr.predict(X[train_n:]) ,'r')\n",
    "\n",
    "plt.show()\n",
    "print(rfr.score(X[train_n:],y[train_n:]))"
   ]
  },
  {
   "cell_type": "code",
   "execution_count": 36,
   "metadata": {},
   "outputs": [
    {
     "name": "stdout",
     "output_type": "stream",
     "text": [
      "0.41196251138976875\n",
      "0.13467240675208877\n",
      "87.51610350193565\n"
     ]
    }
   ],
   "source": [
    "residual = y_test_pred - y_test\n",
    "\n",
    "count = [v for v in list(residual) if np.abs(v) < 5]\n",
    "\n",
    "plot\n",
    "\n",
    "print(len(count)/len(residual))\n",
    "print(np.mean(residual))\n",
    "\n",
    "print(np.var(residual))\n",
    "\n"
   ]
  }
 ],
 "metadata": {
  "kernelspec": {
   "display_name": "Python 3",
   "language": "python",
   "name": "python3"
  },
  "language_info": {
   "codemirror_mode": {
    "name": "ipython",
    "version": 3
   },
   "file_extension": ".py",
   "mimetype": "text/x-python",
   "name": "python",
   "nbconvert_exporter": "python",
   "pygments_lexer": "ipython3",
   "version": "3.6.5"
  }
 },
 "nbformat": 4,
 "nbformat_minor": 2
}
