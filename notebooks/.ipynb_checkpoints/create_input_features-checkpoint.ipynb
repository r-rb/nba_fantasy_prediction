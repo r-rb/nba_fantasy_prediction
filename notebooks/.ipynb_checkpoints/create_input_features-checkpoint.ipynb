{
 "cells": [
  {
   "cell_type": "code",
   "execution_count": 12,
   "metadata": {},
   "outputs": [],
   "source": [
    "import matplotlib.pyplot as plt\n",
    "import pandas as pd\n",
    "import pickle\n",
    "import numpy as np\n",
    "import datetime as dt\n",
    "import pprint as pp\n",
    "import pandas as pd\n",
    "from IPython.display import display"
   ]
  },
  {
   "cell_type": "code",
   "execution_count": 13,
   "metadata": {},
   "outputs": [],
   "source": [
    "df = pd.read_pickle('../data/player_game_table.pkl')\n",
    "\n",
    "features = ['ast','blk','dreb','fg3_pct','fg3a','fg3m','fg_pct','fga','fgm','ft_pct',\n",
    "            'fta','ftm','min','oreb','pf','plus_minus','pts','reb','stl','to','days_since_injury','fantasy_points']"
   ]
  },
  {
   "cell_type": "code",
   "execution_count": 16,
   "metadata": {},
   "outputs": [],
   "source": [
    "def create_input_features(pid, n, df, feats):\n",
    "    rows = df.loc[ df['player_id'] == pid]\n",
    "    rows = rows.sort_values(\"game_date\")\n",
    "\n",
    "    X = np.zeros(( (len(rows) - (n), (len(feats)*n)) ))\n",
    "    y= np.zeros((len(rows) - (n)))\n",
    "\n",
    "    for i in range(n, (len(rows) - 1)):\n",
    "        last_n = rows.iloc[(i - n) : i]\n",
    "        #X[(i - n),0] = pid\n",
    "        for a,feat in enumerate(feats):\n",
    "            start_idx = a*n\n",
    "            end_idx = start_idx + n\n",
    "            X[(i - n),start_idx:end_idx] = last_n[feat].tolist()\n",
    "        y[(i - n)] = rows.iloc[i][\"fantasy_points\"]\n",
    "        \n",
    "    return X, y\n"
   ]
  },
  {
   "cell_type": "code",
   "execution_count": 17,
   "metadata": {},
   "outputs": [],
   "source": [
    "X, y = create_input_features('201935', 5, df, features)"
   ]
  },
  {
   "cell_type": "code",
   "execution_count": 18,
   "metadata": {},
   "outputs": [
    {
     "data": {
      "image/png": "[encoded data removed]",
      "text/plain": [
       "<Figure size 432x288 with 1 Axes>"
      ]
     },
     "metadata": {},
     "output_type": "display_data"
    }
   ],
   "source": [
    "plt.plot(y,y)\n",
    "plt.show()"
   ]
  },
  {
   "cell_type": "code",
   "execution_count": 43,
   "metadata": {},
   "outputs": [
    {
     "name": "stdout",
     "output_type": "stream",
     "text": [
      "[ 1.          5.          1.          8.          1.          0.\n",
      "  0.          1.          1.          1.          1.          3.\n",
      "  4.          5.          1.          0.          0.          0.6\n",
      "  0.          0.          0.          1.          5.          3.\n",
      "  1.          0.          0.          3.          0.          0.\n",
      "  0.667       0.4         0.429       0.375       0.5         3.\n",
      "  5.          7.          8.          6.          2.          2.\n",
      "  3.          3.          3.          0.          0.5         0.\n",
      "  0.5         0.667      10.03333333 19.21666667 19.4        23.9\n",
      " 19.95        0.          1.          0.          1.          2.\n",
      " 10.03333333 19.21666667 19.4        23.9        19.95        0.\n",
      "  1.          0.          0.          1.          1.          3.\n",
      "  3.          1.          4.         -8.          0.          1.\n",
      "  9.         -3.          4.          5.          9.          7.\n",
      "  8.          1.          4.          4.          5.          2.\n",
      "  0.          2.          1.          1.          1.          1.\n",
      "  0.          1.          2.          2.         -1.         -1.\n",
      " -1.         -1.         -1.          5.7        23.3        20.3\n",
      " 29.         15.9       ]\n"
     ]
    }
   ],
   "source": [
    "print(X[4])"
   ]
  },
  {
   "cell_type": "code",
   "execution_count": 40,
   "metadata": {},
   "outputs": [
    {
     "name": "stdout",
     "output_type": "stream",
     "text": [
      "[LibSVM]"
     ]
    },
    {
     "data": {
      "text/plain": [
       "SVR(C=1000.0, cache_size=500, coef0=1.0, degree=3, epsilon=0.001,\n",
       "  gamma='auto', kernel='rbf', max_iter=-1, shrinking=True, tol=0.001,\n",
       "  verbose=True)"
      ]
     },
     "execution_count": 40,
     "metadata": {},
     "output_type": "execute_result"
    }
   ],
   "source": [
    "from sklearn.svm import SVR\n",
    "\n",
    "clf = SVR(C=1000.0, cache_size=500, coef0=1.0, degree=3, epsilon=0.001, gamma='auto',\n",
    "  kernel='rbf', max_iter=-1, shrinking=True, tol=0.001, verbose=True)\n",
    "\n",
    "clf.fit(X[0:600],y[0:600])\n"
   ]
  },
  {
   "cell_type": "code",
   "execution_count": 41,
   "metadata": {},
   "outputs": [],
   "source": [
    "y_out = clf.predict(X[600:])"
   ]
  },
  {
   "cell_type": "code",
   "execution_count": 42,
   "metadata": {},
   "outputs": [
    {
     "data": {
      "text/plain": [
       "array([39.14638805, 39.14638805, 39.14638805, 39.14639178, 39.14638881,\n",
       "       39.14638809, 39.14638338, 39.14638858, 39.14638889, 39.14638818,\n",
       "       39.14638838, 39.14638946, 39.1463893 , 39.14638806, 39.14639219,\n",
       "       39.14639035, 39.14638968, 39.14622683, 39.14638882, 39.14629759,\n",
       "       39.14638818, 39.14638805, 39.14638805, 39.14638805, 39.14638805,\n",
       "       39.14638805, 39.14638806, 39.1463881 , 39.14638811, 39.14638817,\n",
       "       39.14638809, 39.14638807, 39.14638807, 39.14638822, 39.14638815,\n",
       "       39.14638823, 39.14638815, 39.14638827, 39.14638818, 39.14639498,\n",
       "       39.14658063, 39.14638783, 39.14638806, 39.14638806, 39.14638805,\n",
       "       39.14638805, 39.14638805, 39.1463881 , 39.14638893, 39.14638804,\n",
       "       39.14638804, 39.14638805, 39.14638805, 39.14638805, 39.14638805,\n",
       "       39.14638805, 39.14638805, 39.14638805, 39.14638805, 39.14638797,\n",
       "       39.14638805, 39.14638804, 39.14638805, 39.14638805, 39.14638805,\n",
       "       39.14638805, 39.14638805, 39.14638805, 39.14638823, 39.14638805,\n",
       "       39.14638805, 39.14638805, 39.14638805, 39.14638935, 39.14638813,\n",
       "       39.14638806, 39.14638805, 39.14638805, 39.14638805, 39.14638805,\n",
       "       39.14638805, 39.14638805])"
      ]
     },
     "execution_count": 42,
     "metadata": {},
     "output_type": "execute_result"
    }
   ],
   "source": [
    "y_out"
   ]
  },
  {
   "cell_type": "code",
   "execution_count": 37,
   "metadata": {},
   "outputs": [
    {
     "data": {
      "text/plain": [
       "array([60.5, 35.4, 68.7, 49.8, 41.8, 56.1, 51.4, 17.7, 84.1, 42.7, 59.4,\n",
       "       61.5, 63.8, 51.9, 51.3, 51. , 53.1, 44.9, 29.1, 68.3, 45.1, 43.6,\n",
       "       46.4, 44.2, 38.5, 51.5, 45.1, 37.3, 40.7, 46. , 49.5, 21.9, 41.5,\n",
       "       52.1, 43.3, 35.5, 44.1, 28.5, 40.1, 32.6, 71.4, 52. , 60. , 64.2,\n",
       "       24.6, 57.9, 74.9, 57.8, 38.8, 49.1, 61.5, 59.3, 59.5, 55. , 68. ,\n",
       "       32.8, 51.7, 70.9, 45. , 69. , 53.8, 41.6, 35.6, 42.4, 49. , 56. ,\n",
       "       47.2, 63.4, 68.4, 62.5, 53.6, 45.2, 42.8, 66.3, 41. , 45.9, 72.3,\n",
       "       41.2, 47.8, 63.9, 45.4, 43.4, 73.9, 62.7, 58.3, 53.5, 55.9, 50.7,\n",
       "       55.9, 43.9, 66.4, 56.8, 51.1, 55.7, 43.8, 59.4, 46.5, 68.5, 42.9,\n",
       "       56.1, 50.7, 47.8, 56.3, 64.1, 47.2, 57.7, 60.3, 53.5, 55. , 43.9,\n",
       "       49. , 52.5, 75.6, 89.7, 53. , 53.6, 33.2, 70.5, 69. , 61.2, 40.1,\n",
       "       48.9, 69.4, 61.2, 36.7, 60.2, 54.6, 54.2, 90.1, 34. , 28.4, 70.6,\n",
       "       73.9, 56.7, 52.2, 51.2, 69.4, 43.8, 47. , 55.4, 39.1, 58.9, 53.6,\n",
       "       51.8, 49.9, 68.5, 48.9, 75.3, 65. , 69.9, 77.9, 41. , 53.7, 42.6,\n",
       "       40.4, 62.4, 63.8, 63.7, 29.4, 68. , 50.7, 48.1, 44.1, 36. , 54.1,\n",
       "       53.5, 39.8, 52.3, 43.5, 50.1, 76.9, 80.7, 54.8, 57.5, 55.7, 64.9,\n",
       "       51.5, 37.1, 62.4, 69. , 55.6, 56.3, 40.7, 69.1, 67.7, 40.8, 49.4,\n",
       "       45.7, 46.2, 68.1, 68.8, 67.6, 54.2, 28.2, 69.9, 32.9, 42.4, 43.9,\n",
       "       55.5, 50.5, 54. , 98.5, 52.9, 38.7, 49.3, 62.8, 47.9, 47.7, 62.7,\n",
       "       55.3, 48.9, 59.1, 52.7, 44.1, 63.4, 50.5, 51. , 47.4, 41.2, 43.5,\n",
       "       61.2, 61.8, 55.7, 47.1, 43.2, 56.5, 57.6, 35.6, 66.5, 36.7, 45.3,\n",
       "        0. ])"
      ]
     },
     "execution_count": 37,
     "metadata": {},
     "output_type": "execute_result"
    }
   ],
   "source": [
    "y[450:]"
   ]
  },
  {
   "cell_type": "code",
   "execution_count": 39,
   "metadata": {},
   "outputs": [
    {
     "data": {
      "text/plain": [
       "<BarContainer object of 82 artists>"
      ]
     },
     "execution_count": 39,
     "metadata": {},
     "output_type": "execute_result"
    },
    {
     "data": {
      "image/png": "[encoded data removed]",
      "text/plain": [
       "<Figure size 432x288 with 1 Axes>"
      ]
     },
     "metadata": {},
     "output_type": "display_data"
    }
   ],
   "source": [
    "plt.bar([i for i in range(600,len(y))],y[600:]-y_out)"
   ]
  },
  {
   "cell_type": "code",
   "execution_count": null,
   "metadata": {},
   "outputs": [],
   "source": []
  }
 ],
 "metadata": {
  "kernelspec": {
   "display_name": "Python 3",
   "language": "python",
   "name": "python3"
  },
  "language_info": {
   "codemirror_mode": {
    "name": "ipython",
    "version": 3
   },
   "file_extension": ".py",
   "mimetype": "text/x-python",
   "name": "python",
   "nbconvert_exporter": "python",
   "pygments_lexer": "ipython3",
   "version": "3.6.5"
  }
 },
 "nbformat": 4,
 "nbformat_minor": 2
}
