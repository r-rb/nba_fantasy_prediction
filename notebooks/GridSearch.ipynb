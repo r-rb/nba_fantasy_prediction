{
 "cells": [
  {
   "cell_type": "code",
   "execution_count": 1,
   "metadata": {},
   "outputs": [
    {
     "name": "stderr",
     "output_type": "stream",
     "text": [
      "c:\\users\\blair\\appdata\\local\\programs\\python\\python37\\lib\\site-packages\\sklearn\\ensemble\\weight_boosting.py:29: DeprecationWarning: numpy.core.umath_tests is an internal NumPy module and should not be imported. It will be removed in a future NumPy release.\n",
      "  from numpy.core.umath_tests import inner1d\n"
     ]
    }
   ],
   "source": [
    "import matplotlib.pyplot as plt\n",
    "import pandas as pd\n",
    "import pickle\n",
    "import numpy as np\n",
    "import datetime as dt\n",
    "import pprint as pp\n",
    "import pandas as pd\n",
    "from IPython.display import display\n",
    "from sklearn import svm, datasets\n",
    "from sklearn.model_selection import GridSearchCV\n",
    "from sklearn.ensemble import RandomForestRegressor\n",
    "from sklearn.preprocessing import StandardScaler\n",
    "from sklearn.model_selection import ParameterGrid"
   ]
  },
  {
   "cell_type": "code",
   "execution_count": 2,
   "metadata": {},
   "outputs": [],
   "source": [
    "with open('lebron_2018.pkl', 'rb') as fp:\n",
    "    lebron = pickle.load(fp)"
   ]
  },
  {
   "cell_type": "code",
   "execution_count": 37,
   "metadata": {},
   "outputs": [],
   "source": [
    "def report(results, n_top=3):\n",
    "    for i in range(1, n_top + 1):\n",
    "        candidates = np.flatnonzero(results['rank_test_score'] == i)\n",
    "        for candidate in candidates:\n",
    "            print(\"Model with rank: {0}\".format(i))\n",
    "            print(\"Mean validation score: {0:.3f} (std: {1:.3f})\".format(\n",
    "                  results['mean_test_score'][candidate],\n",
    "                  results['std_test_score'][candidate]))\n",
    "            print(\"Parameters: {0}\".format(results['params'][candidate]))\n",
    "            print(\"\")"
   ]
  },
  {
   "cell_type": "code",
   "execution_count": 4,
   "metadata": {},
   "outputs": [
    {
     "name": "stdout",
     "output_type": "stream",
     "text": [
      "(153, 22)\n",
      "0.1271810237533222\n",
      "{'criterion': 'mse', 'max_features': 10, 'min_samples_split': 5, 'n_estimators': 5}\n"
     ]
    }
   ],
   "source": [
    "scaler = StandardScaler()\n",
    "X = lebron[\"X\"]\n",
    "y = lebron[\"y\"]\n",
    "\n",
    "\n",
    "X = X[:-1]\n",
    "y = y[:-1]\n",
    "X = X[1:]\n",
    "y = y[1:]\n",
    "\n",
    "X = scaler.fit_transform(X,y)\n",
    "print(np.shape(X))\n",
    "\n",
    "\n",
    "param_grid = [\n",
    "  {'C': [1, 10, 100, 1000], 'kernel': ['linear', 'rbf']}\n",
    " ]\n",
    "train_split = 3/4\n",
    "train_n = int(len(y)*train_split)\n",
    "\n",
    "rfr = RandomForestRegressor()\n",
    "\n",
    "param_grid = {\"n_estimators\": [5,10,25,50,100],\n",
    "              \"max_features\": [1, 5, 10, 15, 20],\n",
    "              \"min_samples_split\": [2, 5],\n",
    "              \"criterion\": [\"mae\", \"mse\"]}\n",
    "\n",
    "best_score = 0;\n",
    "current_score = 0\n",
    "for g in ParameterGrid(param_grid):\n",
    "    rfr.set_params(**g)\n",
    "    rfr.fit(X[:train_n],y[:train_n])\n",
    "    rfr.predict(X[train_n:])\n",
    "    current_score = rfr.score(X[train_n:],y[train_n:])\n",
    "    # save if best\n",
    "    if current_score > best_score:\n",
    "        best_score = current_score\n",
    "        best_grid = g\n",
    "\n",
    "print (best_score) \n",
    "print (best_grid)\n",
    "\n"
   ]
  },
  {
   "cell_type": "code",
   "execution_count": 17,
   "metadata": {},
   "outputs": [
    {
     "data": {
      "image/png": "[encoded data removed]",
      "text/plain": [
       "<Figure size 432x288 with 1 Axes>"
      ]
     },
     "metadata": {
      "needs_background": "light"
     },
     "output_type": "display_data"
    },
    {
     "name": "stdout",
     "output_type": "stream",
     "text": [
      "-1.1231916768748689\n",
      "Variable: ave_blk1             Importance: 0.17\n",
      "Variable: ave_fantasy_points1  Importance: 0.16\n",
      "Variable: ave_reb1             Importance: 0.14\n",
      "Variable: ave_ast1             Importance: 0.09\n",
      "Variable: mu_ast               Importance: 0.09\n",
      "Variable: ave_to1              Importance: 0.08\n",
      "Variable: ave_ftm1             Importance: 0.07\n",
      "Variable: mu_blk               Importance: 0.06\n",
      "Variable: ae_stl1              Importance: 0.05\n",
      "Variable: ave_min1             Importance: 0.03\n",
      "Variable: ave_pts1             Importance: 0.03\n",
      "Variable: mu_min               Importance: 0.0\n",
      "Variable: mu_ftm               Importance: 0.0\n",
      "Variable: mu_pts               Importance: 0.0\n",
      "Variable: mu_reb               Importance: 0.0\n",
      "Variable: mu_stl               Importance: 0.0\n",
      "Variable: mu_tov               Importance: 0.0\n",
      "Variable: mu_fantasy_points    Importance: 0.0\n"
     ]
    }
   ],
   "source": [
    "\n",
    "rfr = RandomForestRegressor()\n",
    "rfr.set_params(**best_grid)\n",
    "rfr.fit(X[:train_n],y[:train_n])\n",
    "\n",
    "plt.plot(list(range(train_n,len(y))),rfr.predict(X[train_n:]),'r')\n",
    "plt.axhline(y = np.average(y))\n",
    "plt.plot(list(range(train_n,len(y))),y[train_n:],'b')\n",
    "plt.show()\n",
    "print(rfr.score(X[train_n:],y[train_n:]))\n",
    "\n",
    "importances = list(rfr.feature_importances_)\n",
    "feature_list = ['ave_ast1','ave_blk1','ave_min1','ave_ftm1', 'ave_pts1','ave_reb1','ae_stl1','ave_to1',\n",
    "            'ave_fantasy_points1', 'mu_ast','mu_blk','mu_min', 'mu_ftm', 'mu_pts','mu_reb','mu_stl','mu_tov', 'mu_fantasy_points']\n",
    "                \n",
    "             #   'ast4','blk4','min4','ftm4','pts4','reb4','stl4','to4',\n",
    "            #'fantasy_points4', 'ast5','blk5','min5', 'pts5','reb5','stl5','to5',\n",
    "            #'fantasy_points5', 'reb_mu','ast_mu','tov_mu','stl_mu','blk_mu','pts_mu',\"fantasy_points_mu\"]\n",
    "\n",
    "feature_importances = [(feature, round(importance, 2)) for feature, importance in zip(feature_list, importances)]\n",
    "feature_importances = sorted(feature_importances, key = lambda x: x[1], reverse = True)\n",
    "for pair in feature_importances:\n",
    "    print('Variable: {:20} Importance: {}'.format(*pair)) "
   ]
  }
 ],
 "metadata": {
  "kernelspec": {
   "display_name": "Python 3",
   "language": "python",
   "name": "python3"
  },
  "language_info": {
   "codemirror_mode": {
    "name": "ipython",
    "version": 3
   },
   "file_extension": ".py",
   "mimetype": "text/x-python",
   "name": "python",
   "nbconvert_exporter": "python",
   "pygments_lexer": "ipython3",
   "version": "3.7.0"
  }
 },
 "nbformat": 4,
 "nbformat_minor": 2
}
