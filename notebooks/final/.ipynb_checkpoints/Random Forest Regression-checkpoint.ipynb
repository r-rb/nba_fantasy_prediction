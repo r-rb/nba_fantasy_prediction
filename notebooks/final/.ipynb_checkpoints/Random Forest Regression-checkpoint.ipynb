{
 "cells": [
  {
   "cell_type": "code",
   "execution_count": 1,
   "metadata": {},
   "outputs": [],
   "source": [
    "import matplotlib.pyplot as plt\n",
    "import pandas as pd\n",
    "import pickle\n",
    "import numpy as np\n",
    "import datetime as dt\n",
    "import pprint as pp\n",
    "import pandas as pd\n",
    "from sklearn.ensemble import RandomForestRegressor\n",
    "from simulated_annealing.optimize import SimulatedAnneal"
   ]
  },
  {
   "cell_type": "markdown",
   "metadata": {},
   "source": [
    "# Misc. Functions"
   ]
  },
  {
   "cell_type": "code",
   "execution_count": 2,
   "metadata": {},
   "outputs": [],
   "source": [
    "def load_in(path):\n",
    "    return pickle.load(open(path,'rb'))\n",
    "def coeff_determination(y_true, y_pred):\n",
    "    SS_res =  K.sum(K.square( y_true-y_pred ))\n",
    "    SS_tot = K.sum(K.square( y_true - K.mean(y_true) ) )\n",
    "    return ( 1 - SS_res/(SS_tot ) )\n",
    "def save_model(model):\n",
    "    model.save('../my_model.h5')"
   ]
  },
  {
   "cell_type": "markdown",
   "metadata": {},
   "source": [
    "# Load in Data\n",
    "\n",
    "Firstly the training + validation data:"
   ]
  },
  {
   "cell_type": "code",
   "execution_count": 3,
   "metadata": {},
   "outputs": [],
   "source": [
    "filename = './train_data_FINAL.pkl'\n",
    "train_data = load_in(filename)\n",
    "feature_matrix = train_data['input']\n",
    "output = train_data['output']"
   ]
  },
  {
   "cell_type": "code",
   "execution_count": 4,
   "metadata": {},
   "outputs": [],
   "source": [
    "training_ratio = 1\n",
    "n = int(len(output) * training_ratio)\n",
    "X_train,X_valid,y_train,y_valid = feature_matrix[:n],feature_matrix[n:],output[:n],output[n:]"
   ]
  },
  {
   "cell_type": "markdown",
   "metadata": {},
   "source": [
    "Next the testing:"
   ]
  },
  {
   "cell_type": "code",
   "execution_count": null,
   "metadata": {},
   "outputs": [],
   "source": []
  },
  {
   "cell_type": "markdown",
   "metadata": {},
   "source": [
    "# Random Forest Regressor"
   ]
  },
  {
   "cell_type": "code",
   "execution_count": 5,
   "metadata": {},
   "outputs": [
    {
     "name": "stdout",
     "output_type": "stream",
     "text": [
      "7980\n"
     ]
    }
   ],
   "source": [
    "rfr = RandomForestRegressor()\n",
    "\n",
    "param_grid = {\"max_features\": np.arange(20,720,50),\n",
    "                \"min_samples_split\": np.arange(500,10000,500),\n",
    "                \"n_estimators\": [100, 200, 300],\n",
    "                \"max_depth\": np.arange(50,1050,100),\n",
    "                \"random_state\": [0]}\n",
    "combs =1 \n",
    "for k,v in param_grid.items():\n",
    "    combs *= len(v)\n",
    "print(combs)"
   ]
  },
  {
   "cell_type": "code",
   "execution_count": null,
   "metadata": {},
   "outputs": [
    {
     "name": "stdout",
     "output_type": "stream",
     "text": [
      "\n",
      "INFO: Number of possible iterations given cooling schedule: 1529\n",
      "\n"
     ]
    },
    {
     "name": "stderr",
     "output_type": "stream",
     "text": [
      "[Parallel(n_jobs=4)]: Using backend LokyBackend with 4 concurrent workers.\n",
      "[Parallel(n_jobs=4)]: Done   3 out of   3 | elapsed:   57.4s finished\n",
      "[Parallel(n_jobs=4)]: Using backend LokyBackend with 4 concurrent workers.\n"
     ]
    },
    {
     "name": "stdout",
     "output_type": "stream",
     "text": [
      "2 T: 1000.00000, score: 0.410839, std: 0.005539, params: {'max_features': 670, 'min_samples_split': 9000, 'n_estimators': 200, 'max_depth': 250, 'random_state': 0, 'n_jobs': 4}\n",
      "3 T: 1000.00000, score: 0.410839, std: 0.005539, params: {'max_features': 670, 'min_samples_split': 9000, 'n_estimators': 200, 'max_depth': 250, 'random_state': 0, 'n_jobs': 4}\n"
     ]
    },
    {
     "name": "stderr",
     "output_type": "stream",
     "text": [
      "[Parallel(n_jobs=4)]: Done   3 out of   3 | elapsed:   57.3s finished\n",
      "[Parallel(n_jobs=4)]: Using backend LokyBackend with 4 concurrent workers.\n"
     ]
    },
    {
     "name": "stdout",
     "output_type": "stream",
     "text": [
      "4 T: 1000.00000, score: 0.410839, std: 0.005539, params: {'max_features': 670, 'min_samples_split': 9000, 'n_estimators': 200, 'max_depth': 150, 'random_state': 0, 'n_jobs': 4}\n",
      "5 T: 1000.00000, score: 0.410839, std: 0.005539, params: {'max_features': 670, 'min_samples_split': 9000, 'n_estimators': 200, 'max_depth': 150, 'random_state': 0, 'n_jobs': 4}\n",
      "6 T: 1000.00000, score: 0.410839, std: 0.005539, params: {'max_features': 670, 'min_samples_split': 9000, 'n_estimators': 200, 'max_depth': 150, 'random_state': 0, 'n_jobs': 4}\n"
     ]
    },
    {
     "name": "stderr",
     "output_type": "stream",
     "text": [
      "[Parallel(n_jobs=4)]: Done   3 out of   3 | elapsed:    9.3s finished\n",
      "[Parallel(n_jobs=4)]: Using backend LokyBackend with 4 concurrent workers.\n"
     ]
    },
    {
     "name": "stdout",
     "output_type": "stream",
     "text": [
      "7 T: 1000.00000, score: 0.412834, std: 0.006057, params: {'max_features': 20, 'min_samples_split': 9000, 'n_estimators': 200, 'max_depth': 150, 'random_state': 0, 'n_jobs': 4}\n",
      "8 T: 1000.00000, score: 0.412834, std: 0.006057, params: {'max_features': 20, 'min_samples_split': 9000, 'n_estimators': 200, 'max_depth': 150, 'random_state': 0, 'n_jobs': 4}\n"
     ]
    },
    {
     "name": "stderr",
     "output_type": "stream",
     "text": [
      "[Parallel(n_jobs=4)]: Done   3 out of   3 | elapsed:    9.2s finished\n",
      "[Parallel(n_jobs=4)]: Using backend LokyBackend with 4 concurrent workers.\n"
     ]
    },
    {
     "name": "stdout",
     "output_type": "stream",
     "text": [
      "9 T: 1000.00000, score: 0.412834, std: 0.006057, params: {'max_features': 20, 'min_samples_split': 9000, 'n_estimators': 200, 'max_depth': 950, 'random_state': 0, 'n_jobs': 4}\n",
      "10 T: 1000.00000, score: 0.412834, std: 0.006057, params: {'max_features': 20, 'min_samples_split': 9000, 'n_estimators': 200, 'max_depth': 950, 'random_state': 0, 'n_jobs': 4}\n"
     ]
    },
    {
     "name": "stderr",
     "output_type": "stream",
     "text": [
      "[Parallel(n_jobs=4)]: Done   3 out of   3 | elapsed:   15.2s finished\n",
      "[Parallel(n_jobs=4)]: Using backend LokyBackend with 4 concurrent workers.\n"
     ]
    },
    {
     "name": "stdout",
     "output_type": "stream",
     "text": [
      "11 T: 1000.00000, score: 0.482073, std: 0.004499, params: {'max_features': 20, 'min_samples_split': 3000, 'n_estimators': 200, 'max_depth': 950, 'random_state': 0, 'n_jobs': 4}\n",
      "12 T: 900.00000, score: 0.482073, std: 0.004499, params: {'max_features': 20, 'min_samples_split': 3000, 'n_estimators': 200, 'max_depth': 950, 'random_state': 0, 'n_jobs': 4}\n",
      "13 T: 900.00000, score: 0.482073, std: 0.004499, params: {'max_features': 20, 'min_samples_split': 3000, 'n_estimators': 200, 'max_depth': 950, 'random_state': 0, 'n_jobs': 4}\n",
      "14 T: 900.00000, score: 0.482073, std: 0.004499, params: {'max_features': 20, 'min_samples_split': 3000, 'n_estimators': 200, 'max_depth': 950, 'random_state': 0, 'n_jobs': 4}\n"
     ]
    },
    {
     "name": "stderr",
     "output_type": "stream",
     "text": [
      "[Parallel(n_jobs=4)]: Done   3 out of   3 | elapsed:    8.3s finished\n",
      "[Parallel(n_jobs=4)]: Using backend LokyBackend with 4 concurrent workers.\n"
     ]
    },
    {
     "name": "stdout",
     "output_type": "stream",
     "text": [
      "15 T: 900.00000, score: 0.480654, std: 0.005017, params: {'max_features': 20, 'min_samples_split': 3000, 'n_estimators': 100, 'max_depth': 950, 'random_state': 0, 'n_jobs': 4}\n",
      "16 T: 900.00000, score: 0.480654, std: 0.005017, params: {'max_features': 20, 'min_samples_split': 3000, 'n_estimators': 100, 'max_depth': 950, 'random_state': 0, 'n_jobs': 4}\n"
     ]
    },
    {
     "name": "stderr",
     "output_type": "stream",
     "text": [
      "[Parallel(n_jobs=4)]: Done   3 out of   3 | elapsed:    8.6s finished\n",
      "[Parallel(n_jobs=4)]: Using backend LokyBackend with 4 concurrent workers.\n"
     ]
    },
    {
     "name": "stdout",
     "output_type": "stream",
     "text": [
      "17 T: 900.00000, score: 0.480654, std: 0.005017, params: {'max_features': 20, 'min_samples_split': 3000, 'n_estimators': 100, 'max_depth': 150, 'random_state': 0, 'n_jobs': 4}\n"
     ]
    },
    {
     "name": "stderr",
     "output_type": "stream",
     "text": [
      "[Parallel(n_jobs=4)]: Done   3 out of   3 | elapsed:   25.0s finished\n",
      "[Parallel(n_jobs=4)]: Using backend LokyBackend with 4 concurrent workers.\n"
     ]
    },
    {
     "name": "stdout",
     "output_type": "stream",
     "text": [
      "18 T: 900.00000, score: 0.481919, std: 0.003834, params: {'max_features': 20, 'min_samples_split': 3000, 'n_estimators': 300, 'max_depth': 150, 'random_state': 0, 'n_jobs': 4}\n"
     ]
    },
    {
     "name": "stderr",
     "output_type": "stream",
     "text": [
      "[Parallel(n_jobs=4)]: Done   3 out of   3 | elapsed:   38.1s finished\n",
      "[Parallel(n_jobs=4)]: Using backend LokyBackend with 4 concurrent workers.\n"
     ]
    },
    {
     "name": "stdout",
     "output_type": "stream",
     "text": [
      "19 T: 900.00000, score: 0.490987, std: 0.005565, params: {'max_features': 120, 'min_samples_split': 3000, 'n_estimators': 300, 'max_depth': 150, 'random_state': 0, 'n_jobs': 4}\n"
     ]
    },
    {
     "name": "stderr",
     "output_type": "stream",
     "text": [
      "[Parallel(n_jobs=4)]: Done   3 out of   3 | elapsed:   49.8s finished\n",
      "[Parallel(n_jobs=4)]: Using backend LokyBackend with 4 concurrent workers.\n"
     ]
    },
    {
     "name": "stdout",
     "output_type": "stream",
     "text": [
      "20 T: 900.00000, score: 0.505369, std: 0.008943, params: {'max_features': 120, 'min_samples_split': 1500, 'n_estimators': 300, 'max_depth': 150, 'random_state': 0, 'n_jobs': 4}\n"
     ]
    },
    {
     "name": "stderr",
     "output_type": "stream",
     "text": [
      "[Parallel(n_jobs=4)]: Done   3 out of   3 | elapsed:  1.1min finished\n",
      "[Parallel(n_jobs=4)]: Using backend LokyBackend with 4 concurrent workers.\n"
     ]
    },
    {
     "name": "stdout",
     "output_type": "stream",
     "text": [
      "21 T: 900.00000, score: 0.507012, std: 0.010004, params: {'max_features': 170, 'min_samples_split': 1500, 'n_estimators': 300, 'max_depth': 150, 'random_state': 0, 'n_jobs': 4}\n"
     ]
    },
    {
     "name": "stderr",
     "output_type": "stream",
     "text": [
      "[Parallel(n_jobs=4)]: Done   3 out of   3 | elapsed:  1.1min finished\n",
      "[Parallel(n_jobs=4)]: Using backend LokyBackend with 4 concurrent workers.\n"
     ]
    },
    {
     "name": "stdout",
     "output_type": "stream",
     "text": [
      "22 T: 810.00000, score: 0.507012, std: 0.010004, params: {'max_features': 170, 'min_samples_split': 1500, 'n_estimators': 300, 'max_depth': 850, 'random_state': 0, 'n_jobs': 4}\n"
     ]
    },
    {
     "name": "stderr",
     "output_type": "stream",
     "text": [
      "[Parallel(n_jobs=4)]: Done   3 out of   3 | elapsed:  1.1min finished\n",
      "[Parallel(n_jobs=4)]: Using backend LokyBackend with 4 concurrent workers.\n"
     ]
    },
    {
     "name": "stdout",
     "output_type": "stream",
     "text": [
      "23 T: 810.00000, score: 0.507012, std: 0.010004, params: {'max_features': 170, 'min_samples_split': 1500, 'n_estimators': 300, 'max_depth': 450, 'random_state': 0, 'n_jobs': 4}\n"
     ]
    },
    {
     "name": "stderr",
     "output_type": "stream",
     "text": [
      "[Parallel(n_jobs=4)]: Done   3 out of   3 | elapsed:  1.0min finished\n",
      "[Parallel(n_jobs=4)]: Using backend LokyBackend with 4 concurrent workers.\n"
     ]
    },
    {
     "name": "stdout",
     "output_type": "stream",
     "text": [
      "24 T: 810.00000, score: 0.507012, std: 0.010004, params: {'max_features': 170, 'min_samples_split': 1500, 'n_estimators': 300, 'max_depth': 750, 'random_state': 0, 'n_jobs': 4}\n"
     ]
    },
    {
     "name": "stderr",
     "output_type": "stream",
     "text": [
      "[Parallel(n_jobs=4)]: Done   3 out of   3 | elapsed:  2.3min finished\n",
      "[Parallel(n_jobs=4)]: Using backend LokyBackend with 4 concurrent workers.\n"
     ]
    },
    {
     "name": "stdout",
     "output_type": "stream",
     "text": [
      "25 T: 810.00000, score: 0.509146, std: 0.012758, params: {'max_features': 420, 'min_samples_split': 1500, 'n_estimators': 300, 'max_depth': 750, 'random_state': 0, 'n_jobs': 4}\n",
      "26 T: 810.00000, score: 0.509146, std: 0.012758, params: {'max_features': 420, 'min_samples_split': 1500, 'n_estimators': 300, 'max_depth': 750, 'random_state': 0, 'n_jobs': 4}\n"
     ]
    },
    {
     "name": "stderr",
     "output_type": "stream",
     "text": [
      "[Parallel(n_jobs=4)]: Done   3 out of   3 | elapsed:  2.4min finished\n",
      "[Parallel(n_jobs=4)]: Using backend LokyBackend with 4 concurrent workers.\n"
     ]
    },
    {
     "name": "stdout",
     "output_type": "stream",
     "text": [
      "27 T: 810.00000, score: 0.509146, std: 0.012758, params: {'max_features': 420, 'min_samples_split': 1500, 'n_estimators': 300, 'max_depth': 650, 'random_state': 0, 'n_jobs': 4}\n",
      "28 T: 810.00000, score: 0.509146, std: 0.012758, params: {'max_features': 420, 'min_samples_split': 1500, 'n_estimators': 300, 'max_depth': 650, 'random_state': 0, 'n_jobs': 4}\n"
     ]
    },
    {
     "name": "stderr",
     "output_type": "stream",
     "text": [
      "[Parallel(n_jobs=4)]: Done   3 out of   3 | elapsed:   48.4s finished\n",
      "[Parallel(n_jobs=4)]: Using backend LokyBackend with 4 concurrent workers.\n"
     ]
    },
    {
     "name": "stdout",
     "output_type": "stream",
     "text": [
      "29 T: 810.00000, score: 0.508954, std: 0.012507, params: {'max_features': 420, 'min_samples_split': 1500, 'n_estimators': 100, 'max_depth': 650, 'random_state': 0, 'n_jobs': 4}\n"
     ]
    },
    {
     "name": "stderr",
     "output_type": "stream",
     "text": [
      "[Parallel(n_jobs=4)]: Done   3 out of   3 | elapsed:  1.6min finished\n",
      "[Parallel(n_jobs=4)]: Using backend LokyBackend with 4 concurrent workers.\n"
     ]
    },
    {
     "name": "stdout",
     "output_type": "stream",
     "text": [
      "30 T: 810.00000, score: 0.509103, std: 0.012653, params: {'max_features': 420, 'min_samples_split': 1500, 'n_estimators': 200, 'max_depth': 650, 'random_state': 0, 'n_jobs': 4}\n"
     ]
    }
   ],
   "source": [
    "# Initialize Simulated Annealing and fit\n",
    "# Using the entire training set\n",
    "sa = SimulatedAnneal(rfr, param_grid, T=1000.0, T_min=0.0001, alpha=0.9,\n",
    "                         verbose=True,scoring='r2',n_jobs = 4,max_runtime =10800)\n",
    "sa.fit(X_train, y_train)\n",
    "\n",
    "print('\\n Best Regressor:')\n",
    "print(sa.best_score_, sa.best_params_)\n",
    "optimized_rfr = sa.best_estimator_\n",
    "\n",
    "pickle.dump(optimized_rfr, open(\"./best/rfr_model.pkl\", 'wb'))\n",
    "pickle.dump(sa.best_params_, open(\"./best/rfr_params.pkl\", 'wb'))"
   ]
  },
  {
   "cell_type": "code",
   "execution_count": null,
   "metadata": {},
   "outputs": [],
   "source": []
  }
 ],
 "metadata": {
  "kernelspec": {
   "display_name": "Python 3",
   "language": "python",
   "name": "python3"
  },
  "language_info": {
   "codemirror_mode": {
    "name": "ipython",
    "version": 3
   },
   "file_extension": ".py",
   "mimetype": "text/x-python",
   "name": "python",
   "nbconvert_exporter": "python",
   "pygments_lexer": "ipython3",
   "version": "3.6.4"
  }
 },
 "nbformat": 4,
 "nbformat_minor": 2
}
